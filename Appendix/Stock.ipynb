{
 "cells": [
  {
   "cell_type": "code",
   "execution_count": 1,
   "metadata": {},
   "outputs": [],
   "source": [
    "##########################################################################\n",
    "# Created on Mon Jun  1 21:21:13 2020                                    #\n",
    "# Knowledge Transfer for MUMSS Project [Stock]                           #\n",
    "# @author: Meng Lipeng (FRM, CFA)                                        #\n",
    "##########################################################################"
   ]
  },
  {
   "cell_type": "markdown",
   "metadata": {},
   "source": [
    "# Stock Take ACN as an example"
   ]
  },
  {
   "cell_type": "markdown",
   "metadata": {},
   "source": [
    "## 1.FSA"
   ]
  },
  {
   "cell_type": "markdown",
   "metadata": {},
   "source": [
    "earnings-release-fy20-q3.pdf"
   ]
  },
  {
   "cell_type": "code",
   "execution_count": 4,
   "metadata": {},
   "outputs": [
    {
     "name": "stdout",
     "output_type": "stream",
     "text": [
      "Collecting package metadata (current_repodata.json): done\n",
      "Solving environment: done\n",
      "\n",
      "\n",
      "==> WARNING: A newer version of conda exists. <==\n",
      "  current version: 4.8.4\n",
      "  latest version: 4.10.3\n",
      "\n",
      "Please update conda by running\n",
      "\n",
      "    $ conda update -n base -c defaults conda\n",
      "\n",
      "\n",
      "\n",
      "## Package Plan ##\n",
      "\n",
      "  environment location: /home/ec2-user/SageMaker/custom-miniconda/miniconda/envs/custom_python\n",
      "\n",
      "  added / updated specs:\n",
      "    - scipy\n",
      "\n",
      "\n",
      "The following packages will be downloaded:\n",
      "\n",
      "    package                    |            build\n",
      "    ---------------------------|-----------------\n",
      "    scipy-1.5.3                |   py36h81d768a_1        19.1 MB  conda-forge\n",
      "    ------------------------------------------------------------\n",
      "                                           Total:        19.1 MB\n",
      "\n",
      "The following NEW packages will be INSTALLED:\n",
      "\n",
      "  scipy              conda-forge/linux-64::scipy-1.5.3-py36h81d768a_1\n",
      "\n",
      "\n",
      "\n",
      "Downloading and Extracting Packages\n",
      "scipy-1.5.3          | 19.1 MB   | ##################################### | 100% \n",
      "Preparing transaction: done\n",
      "Verifying transaction: done\n",
      "Executing transaction: done\n"
     ]
    }
   ],
   "source": [
    "#install package to /home/ec2-user/SageMaker/custom-miniconda/miniconda/envs/custom_python for persistence.\n",
    "#import sys\n",
    "#!conda install --yes --prefix {sys.prefix} -c conda-forge scipy"
   ]
  },
  {
   "cell_type": "markdown",
   "metadata": {},
   "source": [
    "## 2.Return and Volatility"
   ]
  },
  {
   "cell_type": "code",
   "execution_count": 1,
   "metadata": {},
   "outputs": [],
   "source": [
    "import numpy as np\n",
    "import matplotlib.pyplot as plt\n",
    "import pandas_datareader.data as web\n",
    "import datetime\n",
    "from matplotlib.dates import MonthLocator,DateFormatter\n",
    "from scipy.stats import norm"
   ]
  },
  {
   "cell_type": "code",
   "execution_count": 3,
   "metadata": {},
   "outputs": [],
   "source": [
    "ticker=\"ACN\" \n",
    "begdate = datetime.datetime(2020,1,2)\n",
    "enddate = datetime.datetime(2020,12,31)"
   ]
  },
  {
   "cell_type": "code",
   "execution_count": 4,
   "metadata": {},
   "outputs": [],
   "source": [
    "df = web.get_data_yahoo(ticker,begdate,enddate)"
   ]
  },
  {
   "cell_type": "code",
   "execution_count": 5,
   "metadata": {},
   "outputs": [
    {
     "data": {
      "text/html": [
       "<div>\n",
       "<style scoped>\n",
       "    .dataframe tbody tr th:only-of-type {\n",
       "        vertical-align: middle;\n",
       "    }\n",
       "\n",
       "    .dataframe tbody tr th {\n",
       "        vertical-align: top;\n",
       "    }\n",
       "\n",
       "    .dataframe thead th {\n",
       "        text-align: right;\n",
       "    }\n",
       "</style>\n",
       "<table border=\"1\" class=\"dataframe\">\n",
       "  <thead>\n",
       "    <tr style=\"text-align: right;\">\n",
       "      <th></th>\n",
       "      <th>High</th>\n",
       "      <th>Low</th>\n",
       "      <th>Open</th>\n",
       "      <th>Close</th>\n",
       "      <th>Volume</th>\n",
       "      <th>Adj Close</th>\n",
       "    </tr>\n",
       "    <tr>\n",
       "      <th>Date</th>\n",
       "      <th></th>\n",
       "      <th></th>\n",
       "      <th></th>\n",
       "      <th></th>\n",
       "      <th></th>\n",
       "      <th></th>\n",
       "    </tr>\n",
       "  </thead>\n",
       "  <tbody>\n",
       "    <tr>\n",
       "      <th>2020-01-02</th>\n",
       "      <td>211.919998</td>\n",
       "      <td>208.809998</td>\n",
       "      <td>210.860001</td>\n",
       "      <td>210.149994</td>\n",
       "      <td>2431100.0</td>\n",
       "      <td>204.304398</td>\n",
       "    </tr>\n",
       "    <tr>\n",
       "      <th>2020-01-03</th>\n",
       "      <td>210.630005</td>\n",
       "      <td>207.000000</td>\n",
       "      <td>208.500000</td>\n",
       "      <td>209.800003</td>\n",
       "      <td>1802100.0</td>\n",
       "      <td>203.964142</td>\n",
       "    </tr>\n",
       "    <tr>\n",
       "      <th>2020-01-06</th>\n",
       "      <td>208.789993</td>\n",
       "      <td>206.809998</td>\n",
       "      <td>208.270004</td>\n",
       "      <td>208.429993</td>\n",
       "      <td>2841400.0</td>\n",
       "      <td>202.632248</td>\n",
       "    </tr>\n",
       "    <tr>\n",
       "      <th>2020-01-07</th>\n",
       "      <td>206.259995</td>\n",
       "      <td>203.190002</td>\n",
       "      <td>203.199997</td>\n",
       "      <td>203.929993</td>\n",
       "      <td>3097400.0</td>\n",
       "      <td>198.257416</td>\n",
       "    </tr>\n",
       "    <tr>\n",
       "      <th>2020-01-08</th>\n",
       "      <td>205.449997</td>\n",
       "      <td>203.529999</td>\n",
       "      <td>204.000000</td>\n",
       "      <td>204.330002</td>\n",
       "      <td>2271300.0</td>\n",
       "      <td>198.646301</td>\n",
       "    </tr>\n",
       "  </tbody>\n",
       "</table>\n",
       "</div>"
      ],
      "text/plain": [
       "                  High         Low        Open       Close     Volume  \\\n",
       "Date                                                                    \n",
       "2020-01-02  211.919998  208.809998  210.860001  210.149994  2431100.0   \n",
       "2020-01-03  210.630005  207.000000  208.500000  209.800003  1802100.0   \n",
       "2020-01-06  208.789993  206.809998  208.270004  208.429993  2841400.0   \n",
       "2020-01-07  206.259995  203.190002  203.199997  203.929993  3097400.0   \n",
       "2020-01-08  205.449997  203.529999  204.000000  204.330002  2271300.0   \n",
       "\n",
       "             Adj Close  \n",
       "Date                    \n",
       "2020-01-02  204.304398  \n",
       "2020-01-03  203.964142  \n",
       "2020-01-06  202.632248  \n",
       "2020-01-07  198.257416  \n",
       "2020-01-08  198.646301  "
      ]
     },
     "execution_count": 5,
     "metadata": {},
     "output_type": "execute_result"
    }
   ],
   "source": [
    "df.head()"
   ]
  },
  {
   "cell_type": "code",
   "execution_count": 6,
   "metadata": {},
   "outputs": [
    {
     "data": {
      "text/html": [
       "<div>\n",
       "<style scoped>\n",
       "    .dataframe tbody tr th:only-of-type {\n",
       "        vertical-align: middle;\n",
       "    }\n",
       "\n",
       "    .dataframe tbody tr th {\n",
       "        vertical-align: top;\n",
       "    }\n",
       "\n",
       "    .dataframe thead th {\n",
       "        text-align: right;\n",
       "    }\n",
       "</style>\n",
       "<table border=\"1\" class=\"dataframe\">\n",
       "  <thead>\n",
       "    <tr style=\"text-align: right;\">\n",
       "      <th></th>\n",
       "      <th>High</th>\n",
       "      <th>Low</th>\n",
       "      <th>Open</th>\n",
       "      <th>Close</th>\n",
       "      <th>Volume</th>\n",
       "      <th>Adj Close</th>\n",
       "    </tr>\n",
       "    <tr>\n",
       "      <th>Date</th>\n",
       "      <th></th>\n",
       "      <th></th>\n",
       "      <th></th>\n",
       "      <th></th>\n",
       "      <th></th>\n",
       "      <th></th>\n",
       "    </tr>\n",
       "  </thead>\n",
       "  <tbody>\n",
       "    <tr>\n",
       "      <th>2020-12-24</th>\n",
       "      <td>259.779999</td>\n",
       "      <td>256.279999</td>\n",
       "      <td>258.000000</td>\n",
       "      <td>257.299988</td>\n",
       "      <td>528100.0</td>\n",
       "      <td>254.158463</td>\n",
       "    </tr>\n",
       "    <tr>\n",
       "      <th>2020-12-28</th>\n",
       "      <td>260.369995</td>\n",
       "      <td>258.390015</td>\n",
       "      <td>259.730011</td>\n",
       "      <td>259.679993</td>\n",
       "      <td>1057100.0</td>\n",
       "      <td>256.509399</td>\n",
       "    </tr>\n",
       "    <tr>\n",
       "      <th>2020-12-29</th>\n",
       "      <td>261.029999</td>\n",
       "      <td>257.230011</td>\n",
       "      <td>260.890015</td>\n",
       "      <td>257.760010</td>\n",
       "      <td>1065200.0</td>\n",
       "      <td>254.612869</td>\n",
       "    </tr>\n",
       "    <tr>\n",
       "      <th>2020-12-30</th>\n",
       "      <td>259.250000</td>\n",
       "      <td>257.190002</td>\n",
       "      <td>258.670013</td>\n",
       "      <td>257.540009</td>\n",
       "      <td>992800.0</td>\n",
       "      <td>254.395538</td>\n",
       "    </tr>\n",
       "    <tr>\n",
       "      <th>2020-12-31</th>\n",
       "      <td>261.320007</td>\n",
       "      <td>257.480011</td>\n",
       "      <td>257.600006</td>\n",
       "      <td>261.209991</td>\n",
       "      <td>1325300.0</td>\n",
       "      <td>258.020721</td>\n",
       "    </tr>\n",
       "  </tbody>\n",
       "</table>\n",
       "</div>"
      ],
      "text/plain": [
       "                  High         Low        Open       Close     Volume  \\\n",
       "Date                                                                    \n",
       "2020-12-24  259.779999  256.279999  258.000000  257.299988   528100.0   \n",
       "2020-12-28  260.369995  258.390015  259.730011  259.679993  1057100.0   \n",
       "2020-12-29  261.029999  257.230011  260.890015  257.760010  1065200.0   \n",
       "2020-12-30  259.250000  257.190002  258.670013  257.540009   992800.0   \n",
       "2020-12-31  261.320007  257.480011  257.600006  261.209991  1325300.0   \n",
       "\n",
       "             Adj Close  \n",
       "Date                    \n",
       "2020-12-24  254.158463  \n",
       "2020-12-28  256.509399  \n",
       "2020-12-29  254.612869  \n",
       "2020-12-30  254.395538  \n",
       "2020-12-31  258.020721  "
      ]
     },
     "execution_count": 6,
     "metadata": {},
     "output_type": "execute_result"
    }
   ],
   "source": [
    "df.tail()"
   ]
  },
  {
   "cell_type": "code",
   "execution_count": 7,
   "metadata": {},
   "outputs": [],
   "source": [
    "df.columns = ['High', 'Low', 'Open', 'Close', 'Volumn', 'Adj_Close']"
   ]
  },
  {
   "cell_type": "code",
   "execution_count": 8,
   "metadata": {},
   "outputs": [],
   "source": [
    "cPrice = df.Adj_Close"
   ]
  },
  {
   "cell_type": "code",
   "execution_count": 9,
   "metadata": {},
   "outputs": [
    {
     "data": {
      "text/plain": [
       "count    253.000000\n",
       "mean     209.051564\n",
       "std       27.533846\n",
       "min      140.233139\n",
       "25%      192.358200\n",
       "50%      211.182510\n",
       "75%      229.896988\n",
       "max      262.999207\n",
       "Name: Adj_Close, dtype: float64"
      ]
     },
     "execution_count": 9,
     "metadata": {},
     "output_type": "execute_result"
    }
   ],
   "source": [
    "cPrice.describe()"
   ]
  },
  {
   "cell_type": "code",
   "execution_count": 10,
   "metadata": {},
   "outputs": [],
   "source": [
    "months= MonthLocator(range(1,13), bymonthday=1, interval=3)# 3rd month\n",
    "monthsFmt = DateFormatter(\"%b '%Y\")"
   ]
  },
  {
   "cell_type": "code",
   "execution_count": 11,
   "metadata": {},
   "outputs": [],
   "source": [
    "dates = df.index"
   ]
  },
  {
   "cell_type": "markdown",
   "metadata": {},
   "source": [
    "#### Plot Price Movement"
   ]
  },
  {
   "cell_type": "code",
   "execution_count": 12,
   "metadata": {},
   "outputs": [
    {
     "data": {
      "image/png": "[encoded data removed]",
      "text/plain": [
       "<Figure size 432x288 with 1 Axes>"
      ]
     },
     "metadata": {
      "needs_background": "light"
     },
     "output_type": "display_data"
    }
   ],
   "source": [
    "fig, ax = plt.subplots()\n",
    "ax.plot_date(dates, cPrice.values, '-') \n",
    "ax.xaxis.set_major_locator(months) \n",
    "ax.xaxis.set_major_formatter(monthsFmt)\n",
    "ax.autoscale_view()\n",
    "ax.grid(True) \n",
    "fig.autofmt_xdate()\n",
    "plt.xlabel(\"Date\")\n",
    "plt.ylabel(\"Close\")\n",
    "plt.title(\"ACN price movement\")\n",
    "plt.show()"
   ]
  },
  {
   "cell_type": "markdown",
   "metadata": {},
   "source": [
    "#### Calculate Return"
   ]
  },
  {
   "cell_type": "markdown",
   "metadata": {},
   "source": [
    "$R_{it}=\\frac{P_{it}-P_{it-1}}{P_{it-1}}$"
   ]
  },
  {
   "cell_type": "code",
   "execution_count": 13,
   "metadata": {},
   "outputs": [],
   "source": [
    "ret = (cPrice.values[1:] - cPrice.values[:-1]) / cPrice.values[:-1]"
   ]
  },
  {
   "cell_type": "markdown",
   "metadata": {},
   "source": [
    "#### Plot Return Distribution"
   ]
  },
  {
   "cell_type": "code",
   "execution_count": 14,
   "metadata": {},
   "outputs": [
    {
     "data": {
      "image/png": "[encoded data removed]",
      "text/plain": [
       "<Figure size 432x288 with 1 Axes>"
      ]
     },
     "metadata": {
      "needs_background": "light"
     },
     "output_type": "display_data"
    }
   ],
   "source": [
    "[n,bins,patches] = plt.hist(ret, 100)\n",
    "mu = np.mean(ret) \n",
    "sigma = np.std(ret)\n",
    "x = norm.pdf(bins, mu, sigma) \n",
    "plt.plot(bins, x, color='red', lw=2) \n",
    "plt.title(\"ACN return distribution\") \n",
    "plt.xlabel(\"Returns\") \n",
    "plt.ylabel(\"Frequency\")\n",
    "plt.show()"
   ]
  },
  {
   "cell_type": "markdown",
   "metadata": {},
   "source": [
    "## 3.CAPM"
   ]
  },
  {
   "cell_type": "markdown",
   "metadata": {},
   "source": [
    "Systematic Risk\n",
    "    Systematic risk refers to the risk inherent to the entire market or market segment. Systematic risk, also known as “undiversifiable risk,” “volatility” or “market risk,” affects the overall market, not just a particular stock or industry. This type of risk is both unpredictable and impossible to completely avoid. It cannot be mitigated through diversification, only through hedging or by using the correct asset allocation strategy."
   ]
  },
  {
   "cell_type": "markdown",
   "metadata": {},
   "source": [
    "Nonsystematic Risk\n",
    "    While systematic risk can be thought of as the probability of a loss that is associated with the entire market or a segment thereof, unsystematic risk refers to the probability of a loss within a specific industry or security."
   ]
  },
  {
   "cell_type": "markdown",
   "metadata": {},
   "source": [
    "Captal Market Pricing Model"
   ]
  },
  {
   "cell_type": "markdown",
   "metadata": {},
   "source": [
    "$E(R_{i}) = R_{f}+\\beta_{i}\\left[E(R_{M})-R_{f}\\right]$"
   ]
  },
  {
   "cell_type": "markdown",
   "metadata": {},
   "source": [
    "#### Calculate Beta using linar regression"
   ]
  },
  {
   "cell_type": "markdown",
   "metadata": {},
   "source": [
    "$R_{it} = \\alpha_{i} + \\beta_{i}R_{Mt}$"
   ]
  },
  {
   "cell_type": "code",
   "execution_count": 6,
   "metadata": {},
   "outputs": [],
   "source": [
    "import pandas as pd\n",
    "from scipy import stats "
   ]
  },
  {
   "cell_type": "code",
   "execution_count": 16,
   "metadata": {},
   "outputs": [],
   "source": [
    "def ret_f(ticker,begdate, enddate):\n",
    "    df = web.get_data_yahoo(ticker,begdate,enddate)\n",
    "    cPrice = np.array(df['Adj Close'].to_list())\n",
    "    ret = (cPrice[1:] - cPrice[:-1])/cPrice[:-1]\n",
    "    return ret"
   ]
  },
  {
   "cell_type": "code",
   "execution_count": 28,
   "metadata": {},
   "outputs": [],
   "source": [
    "begdate = datetime.datetime(2017,1,1)\n",
    "enddate = datetime.datetime(2021,9,30)"
   ]
  },
  {
   "cell_type": "code",
   "execution_count": 29,
   "metadata": {},
   "outputs": [],
   "source": [
    "y0=pd.Series(ret_f('ACN',begdate,enddate))\n",
    "x0=pd.Series(ret_f('^GSPC',begdate,enddate))"
   ]
  },
  {
   "cell_type": "code",
   "execution_count": 30,
   "metadata": {},
   "outputs": [],
   "source": [
    "SP500Date= web.get_data_yahoo('^SP500TR',begdate,enddate).index\n",
    "d=SP500Date[0:-1]"
   ]
  },
  {
   "cell_type": "code",
   "execution_count": 31,
   "metadata": {},
   "outputs": [],
   "source": [
    "lag_year=d[0].strftime(\"%Y\")"
   ]
  },
  {
   "cell_type": "code",
   "execution_count": 32,
   "metadata": {},
   "outputs": [],
   "source": [
    "y1=[]\n",
    "x1=[]\n",
    "beta=[]"
   ]
  },
  {
   "cell_type": "code",
   "execution_count": 33,
   "metadata": {},
   "outputs": [
    {
     "name": "stdout",
     "output_type": "stream",
     "text": [
      "2018 0.00039406 0.247 0.485 3.639477731684739e-16\n",
      "2019 -0.00013386 0.6 0.818 1.2574292463772135e-61\n",
      "2020 0.00018383 0.534 0.72 2.527552306268475e-41\n",
      "2021 -8.955e-05 0.715 0.867 1.1651449756379332e-77\n"
     ]
    }
   ],
   "source": [
    "for i in np.arange(1,len(d)):\n",
    "    year=d[i].strftime(\"%Y\")\n",
    "    if(year==lag_year):\n",
    "       x1.append(x0[i])\n",
    "       y1.append(y0[i])\n",
    "    else:\n",
    "       (beta,alpha,r_value,p_value,std_err)=stats.linregress(y1,x1) \n",
    "       alpha=round(alpha,8)\n",
    "       beta=round(beta,3)\n",
    "       r_value=round(r_value,3)\n",
    "       p_vaue=round(p_value,3)\n",
    "       print(year,alpha,beta,r_value,p_value)\n",
    "       x1=[]\n",
    "       y1=[]\n",
    "       lag_year=year"
   ]
  },
  {
   "cell_type": "markdown",
   "metadata": {},
   "source": [
    "#### Another Way to Calculate Beta"
   ]
  },
  {
   "cell_type": "markdown",
   "metadata": {},
   "source": [
    "$\\beta_{i}=\\frac{Cov_{i,mkt}}{\\sigma_{mkt}^2}=\\frac{\\sigma_{i}}{\\sigma_{mkt}}\\times \\rho_{i,mkt}$"
   ]
  },
  {
   "cell_type": "markdown",
   "metadata": {},
   "source": [
    "## 4.Calculate Fair Value"
   ]
  },
  {
   "cell_type": "markdown",
   "metadata": {},
   "source": [
    "#### Discount Cashflow Model(Gordon Growth Model )"
   ]
  },
  {
   "cell_type": "markdown",
   "metadata": {},
   "source": [
    "$P_{0}=\\frac{d_{1}}{(1+r)}+\\frac{d_{2}}{(1+r)^2}+\\cdots+\\frac{d_{n}}{(1+r)^n}+\\frac{P_{n}}{(1+r)^n}$"
   ]
  },
  {
   "cell_type": "markdown",
   "metadata": {},
   "source": [
    "$P_{n}=\\frac{d_{n+1}}{r-g}$"
   ]
  },
  {
   "cell_type": "code",
   "execution_count": 7,
   "metadata": {},
   "outputs": [],
   "source": [
    "def pvValueNperiodModel(r, longTermGrowthRate, dividendNplus1):\n",
    "    '''\n",
    "    Parameters\n",
    "    ----------\n",
    "    r : float\n",
    "        discount rate.\n",
    "    longTermGrowthRate : float\n",
    "        long term dividend growth rate.\n",
    "    dividendNplus1 : array\n",
    "        a dividend vector n + 1.\n",
    "\n",
    "    Returns\n",
    "    -------\n",
    "    Stock price.\n",
    "\n",
    "    '''\n",
    "    import numpy_financial as npf\n",
    "    d = dividendNplus1\n",
    "    n = len(d) - 1\n",
    "    g = longTermGrowthRate\n",
    "    \n",
    "    pv = npf.npv(r, d[:-1]) * (1 + r)\n",
    "    sellingPrice = d[n] / (r - g)\n",
    "    pv += npf.pv(r, n, 0, -sellingPrice)\n",
    "    \n",
    "    return pv"
   ]
  },
  {
   "cell_type": "code",
   "execution_count": 8,
   "metadata": {},
   "outputs": [],
   "source": [
    "#Forward Annual Dividend Rate\n",
    "aDR = 3.2\n",
    "# Growth Rate\n",
    "g = 0.0879\n",
    "# Required ROE\n",
    "r = 0.1042\n",
    "d = [aDR, aDR * (1 + g), aDR * (1 + g)**2, aDR * (1 + g)**3, aDR * (1 + g)**4]\n",
    "fair_value_acn = pvValueNperiodModel(r, g, d) "
   ]
  },
  {
   "cell_type": "code",
   "execution_count": 36,
   "metadata": {},
   "outputs": [
    {
     "data": {
      "text/plain": [
       "198.80494811509996"
      ]
     },
     "execution_count": 36,
     "metadata": {},
     "output_type": "execute_result"
    }
   ],
   "source": [
    "fair_value_acn"
   ]
  },
  {
   "cell_type": "markdown",
   "metadata": {},
   "source": [
    "## 5.Portfilio Construction"
   ]
  },
  {
   "cell_type": "markdown",
   "metadata": {},
   "source": [
    "#### Get Data from Yahoo finance"
   ]
  },
  {
   "cell_type": "code",
   "execution_count": 38,
   "metadata": {},
   "outputs": [
    {
     "data": {
      "text/html": [
       "<div>\n",
       "<style scoped>\n",
       "    .dataframe tbody tr th:only-of-type {\n",
       "        vertical-align: middle;\n",
       "    }\n",
       "\n",
       "    .dataframe tbody tr th {\n",
       "        vertical-align: top;\n",
       "    }\n",
       "\n",
       "    .dataframe thead th {\n",
       "        text-align: right;\n",
       "    }\n",
       "</style>\n",
       "<table border=\"1\" class=\"dataframe\">\n",
       "  <thead>\n",
       "    <tr style=\"text-align: right;\">\n",
       "      <th></th>\n",
       "      <th>ACN</th>\n",
       "      <th>AAPL</th>\n",
       "      <th>WMT</th>\n",
       "      <th>GS</th>\n",
       "      <th>XOM</th>\n",
       "    </tr>\n",
       "    <tr>\n",
       "      <th>Date</th>\n",
       "      <th></th>\n",
       "      <th></th>\n",
       "      <th></th>\n",
       "      <th></th>\n",
       "      <th></th>\n",
       "    </tr>\n",
       "  </thead>\n",
       "  <tbody>\n",
       "    <tr>\n",
       "      <th>2017-01-03</th>\n",
       "      <td>107.657784</td>\n",
       "      <td>27.372362</td>\n",
       "      <td>62.291298</td>\n",
       "      <td>222.430710</td>\n",
       "      <td>70.933418</td>\n",
       "    </tr>\n",
       "    <tr>\n",
       "      <th>2017-01-04</th>\n",
       "      <td>107.916626</td>\n",
       "      <td>27.341719</td>\n",
       "      <td>62.654175</td>\n",
       "      <td>223.867096</td>\n",
       "      <td>70.152954</td>\n",
       "    </tr>\n",
       "    <tr>\n",
       "      <th>2017-01-05</th>\n",
       "      <td>106.298897</td>\n",
       "      <td>27.480766</td>\n",
       "      <td>62.790257</td>\n",
       "      <td>222.200500</td>\n",
       "      <td>69.107201</td>\n",
       "    </tr>\n",
       "    <tr>\n",
       "      <th>2017-01-06</th>\n",
       "      <td>107.509888</td>\n",
       "      <td>27.787132</td>\n",
       "      <td>61.928394</td>\n",
       "      <td>225.496857</td>\n",
       "      <td>69.068176</td>\n",
       "    </tr>\n",
       "    <tr>\n",
       "      <th>2017-01-09</th>\n",
       "      <td>106.308144</td>\n",
       "      <td>28.041645</td>\n",
       "      <td>62.336643</td>\n",
       "      <td>223.646164</td>\n",
       "      <td>67.928741</td>\n",
       "    </tr>\n",
       "  </tbody>\n",
       "</table>\n",
       "</div>"
      ],
      "text/plain": [
       "                   ACN       AAPL        WMT          GS        XOM\n",
       "Date                                                               \n",
       "2017-01-03  107.657784  27.372362  62.291298  222.430710  70.933418\n",
       "2017-01-04  107.916626  27.341719  62.654175  223.867096  70.152954\n",
       "2017-01-05  106.298897  27.480766  62.790257  222.200500  69.107201\n",
       "2017-01-06  107.509888  27.787132  61.928394  225.496857  69.068176\n",
       "2017-01-09  106.308144  28.041645  62.336643  223.646164  67.928741"
      ]
     },
     "execution_count": 38,
     "metadata": {},
     "output_type": "execute_result"
    }
   ],
   "source": [
    "ticker = [\"ACN\", \"AAPL\", \"WMT\", \"GS\", \"XOM\"]\n",
    "begdate = datetime.datetime(2017,1,1)\n",
    "enddate = datetime.datetime(2021,9,30)\n",
    "\n",
    "for i in range(len(ticker)):\n",
    "    df = web.get_data_yahoo(ticker[i],begdate,enddate)\n",
    "    df.columns = [ticker[i] + '_High', ticker[i] + '_Low', ticker[i] + '_Open', ticker[i] + '_Close', ticker[i] + '_Volumn', ticker[i]]\n",
    "    if i == 0:\n",
    "        result = df[ticker[i]]\n",
    "    else:\n",
    "        result = pd.concat([result, df[ticker[i]]], axis=1, join='inner')\n",
    "        \n",
    "result.head()"
   ]
  },
  {
   "cell_type": "code",
   "execution_count": 39,
   "metadata": {},
   "outputs": [
    {
     "data": {
      "text/plain": [
       "<AxesSubplot:xlabel='Date'>"
      ]
     },
     "execution_count": 39,
     "metadata": {},
     "output_type": "execute_result"
    },
    {
     "data": {
      "image/png": "[encoded data removed]",
      "text/plain": [
       "<Figure size 576x432 with 1 Axes>"
      ]
     },
     "metadata": {
      "needs_background": "light"
     },
     "output_type": "display_data"
    }
   ],
   "source": [
    "# Set the stock price of first day to 1 and plot\n",
    "(result / result.iloc[0]).plot(figsize = (8, 6))"
   ]
  },
  {
   "cell_type": "markdown",
   "metadata": {},
   "source": [
    "#### Calculate daily return"
   ]
  },
  {
   "cell_type": "markdown",
   "metadata": {},
   "source": [
    "$R_{it}=\\ln\\frac{P_{it}}{P_{it-1}}$"
   ]
  },
  {
   "cell_type": "code",
   "execution_count": 40,
   "metadata": {},
   "outputs": [
    {
     "data": {
      "text/html": [
       "<div>\n",
       "<style scoped>\n",
       "    .dataframe tbody tr th:only-of-type {\n",
       "        vertical-align: middle;\n",
       "    }\n",
       "\n",
       "    .dataframe tbody tr th {\n",
       "        vertical-align: top;\n",
       "    }\n",
       "\n",
       "    .dataframe thead th {\n",
       "        text-align: right;\n",
       "    }\n",
       "</style>\n",
       "<table border=\"1\" class=\"dataframe\">\n",
       "  <thead>\n",
       "    <tr style=\"text-align: right;\">\n",
       "      <th></th>\n",
       "      <th>ACN</th>\n",
       "      <th>AAPL</th>\n",
       "      <th>WMT</th>\n",
       "      <th>GS</th>\n",
       "      <th>XOM</th>\n",
       "    </tr>\n",
       "  </thead>\n",
       "  <tbody>\n",
       "    <tr>\n",
       "      <th>count</th>\n",
       "      <td>1194.000000</td>\n",
       "      <td>1194.000000</td>\n",
       "      <td>1194.000000</td>\n",
       "      <td>1194.000000</td>\n",
       "      <td>1194.000000</td>\n",
       "    </tr>\n",
       "    <tr>\n",
       "      <th>mean</th>\n",
       "      <td>0.000910</td>\n",
       "      <td>0.001376</td>\n",
       "      <td>0.000675</td>\n",
       "      <td>0.000444</td>\n",
       "      <td>-0.000157</td>\n",
       "    </tr>\n",
       "    <tr>\n",
       "      <th>std</th>\n",
       "      <td>0.015730</td>\n",
       "      <td>0.019396</td>\n",
       "      <td>0.013807</td>\n",
       "      <td>0.020088</td>\n",
       "      <td>0.019322</td>\n",
       "    </tr>\n",
       "    <tr>\n",
       "      <th>min</th>\n",
       "      <td>-0.087629</td>\n",
       "      <td>-0.137708</td>\n",
       "      <td>-0.107399</td>\n",
       "      <td>-0.135881</td>\n",
       "      <td>-0.130391</td>\n",
       "    </tr>\n",
       "    <tr>\n",
       "      <th>25%</th>\n",
       "      <td>-0.005224</td>\n",
       "      <td>-0.006542</td>\n",
       "      <td>-0.005327</td>\n",
       "      <td>-0.008460</td>\n",
       "      <td>-0.008642</td>\n",
       "    </tr>\n",
       "    <tr>\n",
       "      <th>50%</th>\n",
       "      <td>0.001705</td>\n",
       "      <td>0.001216</td>\n",
       "      <td>0.000617</td>\n",
       "      <td>0.000262</td>\n",
       "      <td>-0.000245</td>\n",
       "    </tr>\n",
       "    <tr>\n",
       "      <th>75%</th>\n",
       "      <td>0.008037</td>\n",
       "      <td>0.010835</td>\n",
       "      <td>0.006567</td>\n",
       "      <td>0.010246</td>\n",
       "      <td>0.007957</td>\n",
       "    </tr>\n",
       "    <tr>\n",
       "      <th>max</th>\n",
       "      <td>0.120954</td>\n",
       "      <td>0.113157</td>\n",
       "      <td>0.110723</td>\n",
       "      <td>0.161951</td>\n",
       "      <td>0.119442</td>\n",
       "    </tr>\n",
       "  </tbody>\n",
       "</table>\n",
       "</div>"
      ],
      "text/plain": [
       "               ACN         AAPL          WMT           GS          XOM\n",
       "count  1194.000000  1194.000000  1194.000000  1194.000000  1194.000000\n",
       "mean      0.000910     0.001376     0.000675     0.000444    -0.000157\n",
       "std       0.015730     0.019396     0.013807     0.020088     0.019322\n",
       "min      -0.087629    -0.137708    -0.107399    -0.135881    -0.130391\n",
       "25%      -0.005224    -0.006542    -0.005327    -0.008460    -0.008642\n",
       "50%       0.001705     0.001216     0.000617     0.000262    -0.000245\n",
       "75%       0.008037     0.010835     0.006567     0.010246     0.007957\n",
       "max       0.120954     0.113157     0.110723     0.161951     0.119442"
      ]
     },
     "execution_count": 40,
     "metadata": {},
     "output_type": "execute_result"
    }
   ],
   "source": [
    "R = np.log(result / result.shift(1))\n",
    "R = R.dropna() # drop the NA from result\n",
    "R.describe()"
   ]
  },
  {
   "cell_type": "code",
   "execution_count": 41,
   "metadata": {},
   "outputs": [
    {
     "data": {
      "text/plain": [
       "array([[<AxesSubplot:title={'center':'ACN'}>,\n",
       "        <AxesSubplot:title={'center':'AAPL'}>],\n",
       "       [<AxesSubplot:title={'center':'WMT'}>,\n",
       "        <AxesSubplot:title={'center':'GS'}>],\n",
       "       [<AxesSubplot:title={'center':'XOM'}>, <AxesSubplot:>]],\n",
       "      dtype=object)"
      ]
     },
     "execution_count": 41,
     "metadata": {},
     "output_type": "execute_result"
    },
    {
     "data": {
      "image/png": "[encoded data removed]",
      "text/plain": [
       "<Figure size 720x720 with 6 Axes>"
      ]
     },
     "metadata": {
      "needs_background": "light"
     },
     "output_type": "display_data"
    }
   ],
   "source": [
    "R.hist(bins = 40, figsize = (10, 10))"
   ]
  },
  {
   "cell_type": "code",
   "execution_count": 42,
   "metadata": {},
   "outputs": [
    {
     "name": "stdout",
     "output_type": "stream",
     "text": [
      "ACN     0.229237\n",
      "AAPL    0.346714\n",
      "WMT     0.169980\n",
      "GS      0.111935\n",
      "XOM    -0.039522\n",
      "dtype: float64\n"
     ]
    }
   ],
   "source": [
    "#Calculate annual mean\n",
    "R_mean = R.mean() * 252\n",
    "print(R_mean)"
   ]
  },
  {
   "cell_type": "code",
   "execution_count": 43,
   "metadata": {},
   "outputs": [
    {
     "name": "stdout",
     "output_type": "stream",
     "text": [
      "           ACN      AAPL       WMT        GS       XOM\n",
      "ACN   0.062353  0.045777  0.021208  0.047431  0.038630\n",
      "AAPL  0.045777  0.094808  0.025095  0.050100  0.034960\n",
      "WMT   0.021208  0.025095  0.048038  0.020419  0.015418\n",
      "GS    0.047431  0.050100  0.020419  0.101690  0.061963\n",
      "XOM   0.038630  0.034960  0.015418  0.061963  0.094084\n"
     ]
    }
   ],
   "source": [
    "#Calculate annual covariance assume daily returns are independent from each other\n",
    "R_cov = R.cov() * 252\n",
    "print(R_cov)"
   ]
  },
  {
   "cell_type": "code",
   "execution_count": 44,
   "metadata": {},
   "outputs": [
    {
     "name": "stdout",
     "output_type": "stream",
     "text": [
      "           ACN      AAPL       WMT        GS       XOM\n",
      "ACN   1.000000  0.595386  0.387502  0.595657  0.504359\n",
      "AAPL  0.595386  1.000000  0.371859  0.510241  0.370166\n",
      "WMT   0.387502  0.371859  1.000000  0.292152  0.229333\n",
      "GS    0.595657  0.510241  0.292152  1.000000  0.633486\n",
      "XOM   0.504359  0.370166  0.229333  0.633486  1.000000\n"
     ]
    }
   ],
   "source": [
    "#Calculate correlation matrix\n",
    "#Low correlation indicates high diversification\n",
    "R_corr = R.corr()\n",
    "print(R_corr)"
   ]
  },
  {
   "cell_type": "code",
   "execution_count": 45,
   "metadata": {},
   "outputs": [
    {
     "name": "stdout",
     "output_type": "stream",
     "text": [
      "ACN     0.249705\n",
      "AAPL    0.307909\n",
      "WMT     0.219176\n",
      "GS      0.318889\n",
      "XOM     0.306732\n",
      "dtype: float64\n"
     ]
    }
   ],
   "source": [
    "#Calculate annual volatility\n",
    "R_vol = R.std() * np.sqrt(252)\n",
    "print(R_vol)"
   ]
  },
  {
   "cell_type": "code",
   "execution_count": 46,
   "metadata": {},
   "outputs": [
    {
     "name": "stdout",
     "output_type": "stream",
     "text": [
      "[0.08497959 0.21975066 0.24550126 0.08374758 0.3660209 ]\n"
     ]
    }
   ],
   "source": [
    "#Random weight\n",
    "x = np.random.random(5) # draw five random numbers between 0~1 from uniform distribution\n",
    "weights = x / np.sum(x)\n",
    "print(weights)"
   ]
  },
  {
   "cell_type": "code",
   "execution_count": 47,
   "metadata": {},
   "outputs": [
    {
     "name": "stdout",
     "output_type": "stream",
     "text": [
      "Expected return of portfolio:  0.1323\n"
     ]
    }
   ],
   "source": [
    "#Calculate expected return of portfolio\n",
    "R_port = np.sum(weights * R_mean)\n",
    "print('Expected return of portfolio: ', round(R_port, 4))"
   ]
  },
  {
   "cell_type": "markdown",
   "metadata": {},
   "source": [
    "#### Calculate volatility of portfolio"
   ]
  },
  {
   "cell_type": "markdown",
   "metadata": {},
   "source": [
    "$\\omega=\\left[\\omega_{1},\\omega_{2},\\cdot\\cdot\\cdot,\\omega_{N}\\right]$"
   ]
  },
  {
   "cell_type": "markdown",
   "metadata": {},
   "source": [
    "$\\varSigma=\\begin{bmatrix}\\sigma_{1}^{2} & \\sigma_{12}& \\cdots&\\sigma_{1N}\\\\\\sigma_{21} & \\sigma_{2}^{2}&\\cdots&\\sigma_{2N}\\\\\\vdots&\\vdots&\\ddots&\\vdots\\\\\\sigma_{N1}&\\sigma_{N2}&\\cdots&\\sigma_{N}^{2} \\end{bmatrix}$"
   ]
  },
  {
   "cell_type": "markdown",
   "metadata": {},
   "source": [
    "$\\sigma_{ij}=Cov(R_{i},R_{j})$"
   ]
  },
  {
   "cell_type": "markdown",
   "metadata": {},
   "source": [
    "$\\sigma_{P}=\\sqrt{\\omega\\varSigma\\omega^{T}}$"
   ]
  },
  {
   "cell_type": "code",
   "execution_count": 48,
   "metadata": {},
   "outputs": [
    {
     "name": "stdout",
     "output_type": "stream",
     "text": [
      "Volatility of portfolio:  0.2109\n"
     ]
    }
   ],
   "source": [
    "Vol_port = np.sqrt(np.dot(weights, np.dot(R_cov, weights.T)))\n",
    "print('Volatility of portfolio: ', round(Vol_port, 4))"
   ]
  },
  {
   "cell_type": "markdown",
   "metadata": {},
   "source": [
    "#### Plot feasible set"
   ]
  },
  {
   "cell_type": "code",
   "execution_count": 49,
   "metadata": {},
   "outputs": [],
   "source": [
    "Rp_list = []\n",
    "Vp_list = []\n",
    "for i in np.arange(1000):\n",
    "    x = np.random.random(5)\n",
    "    weights = x / np.sum(x)\n",
    "    Rp_list.append(np.sum(weights * R_mean))\n",
    "    Vp_list.append(np.sqrt(np.dot(weights, np.dot(R_cov, weights.T))))"
   ]
  },
  {
   "cell_type": "code",
   "execution_count": 53,
   "metadata": {},
   "outputs": [
    {
     "data": {
      "image/png": "[encoded data removed]",
      "text/plain": [
       "<Figure size 576x432 with 1 Axes>"
      ]
     },
     "metadata": {
      "needs_background": "light"
     },
     "output_type": "display_data"
    }
   ],
   "source": [
    "plt.figure(figsize = (8, 6))\n",
    "plt.scatter(Vp_list, Rp_list)\n",
    "plt.xlabel('Volatility', fontsize = 13)\n",
    "plt.ylabel('Return', fontsize = 13, rotation = 0)\n",
    "plt.xticks(fontsize = 13)\n",
    "plt.yticks(fontsize = 13)\n",
    "plt.xlim(0.15, 0.30)\n",
    "plt.ylim(0, 0.35)\n",
    "plt.title('Relationship between Return and Volatility', fontsize = 13)\n",
    "plt.grid('True')\n",
    "plt.show()"
   ]
  },
  {
   "cell_type": "markdown",
   "metadata": {},
   "source": [
    "#### Construct efficient frontier"
   ]
  },
  {
   "cell_type": "markdown",
   "metadata": {},
   "source": [
    "Optimization Function"
   ]
  },
  {
   "cell_type": "markdown",
   "metadata": {},
   "source": [
    "$\\mathop{min}\\limits_{\\omega_{i}}\\sigma_{P}=\\mathop{min}\\limits_{\\omega_{i}}\\sqrt{\\sum_{i=1}^N\\sum_{j=1}^N\\omega_{i}\\omega_{j}Cov(R_{i},R_{j})}$"
   ]
  },
  {
   "cell_type": "markdown",
   "metadata": {},
   "source": [
    "Constraint Condition"
   ]
  },
  {
   "cell_type": "markdown",
   "metadata": {},
   "source": [
    "$\\sum_{i=1}^N \\omega_{i}=1$"
   ]
  },
  {
   "cell_type": "markdown",
   "metadata": {},
   "source": [
    "$\\omega_{i}>0$"
   ]
  },
  {
   "cell_type": "markdown",
   "metadata": {},
   "source": [
    "$E(R_{p})=E(\\sum_{i=1}^N\\omega_{i}R_{i})=Constant$"
   ]
  },
  {
   "cell_type": "code",
   "execution_count": 9,
   "metadata": {},
   "outputs": [],
   "source": [
    "import scipy.optimize as sco"
   ]
  },
  {
   "cell_type": "code",
   "execution_count": 55,
   "metadata": {},
   "outputs": [],
   "source": [
    "def f(w): #define optimize function\n",
    "    w = np.array(w)\n",
    "    Rp_opt = np.sum(w * R_mean)\n",
    "    Vp_opt = np.sqrt(np.dot(w, np.dot(R_cov, w.T)))\n",
    "    return np.array([Rp_opt, Vp_opt])"
   ]
  },
  {
   "cell_type": "code",
   "execution_count": 56,
   "metadata": {},
   "outputs": [],
   "source": [
    "def Vmin_f(w): #define min volatility function\n",
    "    return f(w)[1]"
   ]
  },
  {
   "cell_type": "code",
   "execution_count": 57,
   "metadata": {},
   "outputs": [],
   "source": [
    "cons = ({'type':'eq','fun':lambda x: np.sum(x) - 1}, {'type':'eq','fun':lambda x: f(x)[0] - 0.1})\n",
    "bnds = tuple((0,1) for x in range(len(R_mean)))"
   ]
  },
  {
   "cell_type": "code",
   "execution_count": 58,
   "metadata": {},
   "outputs": [
    {
     "data": {
      "text/plain": [
       "[0.2, 0.2, 0.2, 0.2, 0.2]"
      ]
     },
     "execution_count": 58,
     "metadata": {},
     "output_type": "execute_result"
    }
   ],
   "source": [
    "len(R_mean) * [1.0 / len(R_mean),] #equal weight array"
   ]
  },
  {
   "cell_type": "code",
   "execution_count": 59,
   "metadata": {},
   "outputs": [
    {
     "name": "stdout",
     "output_type": "stream",
     "text": [
      "Weight of ACN when R = 10% is:  0.0839\n",
      "Weight of APPL when R = 10% is:  0.0\n",
      "Weight of WMT when R = 10% is:  0.5583\n",
      "Weight of GS when R = 10% is:  0.0\n",
      "Weight of XOM when R = 10% is:  0.3578\n"
     ]
    }
   ],
   "source": [
    "result = sco.minimize(Vmin_f, len(R_mean) * [1.0 / len(R_mean),], method = 'SLSQP', bounds = bnds, constraints = cons)\n",
    "print('Weight of ACN when R = 10% is: ', round(result['x'][0], 4))\n",
    "print('Weight of APPL when R = 10% is: ', round(result['x'][1], 4))\n",
    "print('Weight of WMT when R = 10% is: ', round(result['x'][2], 4))\n",
    "print('Weight of GS when R = 10% is: ', round(result['x'][3], 4))\n",
    "print('Weight of XOM when R = 10% is: ', round(result['x'][4], 4))"
   ]
  },
  {
   "cell_type": "code",
   "execution_count": 60,
   "metadata": {},
   "outputs": [],
   "source": [
    "#Calculate weight when min volatility\n",
    "cons_vmin = ({'type':'eq','fun':lambda x: np.sum(x) - 1}) #Only sum of weight = 1"
   ]
  },
  {
   "cell_type": "code",
   "execution_count": 61,
   "metadata": {},
   "outputs": [
    {
     "name": "stdout",
     "output_type": "stream",
     "text": [
      "Portfolio Return when min volatility:  0.1575\n",
      "Min volatility:  0.1873\n"
     ]
    }
   ],
   "source": [
    "result_vmin = sco.minimize(Vmin_f, len(R_mean) * [1.0 / len(R_mean),], method = 'SLSQP', bounds = bnds, constraints = cons_vmin)\n",
    "Rp_vmin = np.sum(R_mean * result_vmin['x'])\n",
    "Vp_vmin = result_vmin['fun']\n",
    "print('Portfolio Return when min volatility: ', round(Rp_vmin, 4))\n",
    "print('Min volatility: ', round(Vp_vmin, 4))"
   ]
  },
  {
   "cell_type": "code",
   "execution_count": 62,
   "metadata": {},
   "outputs": [],
   "source": [
    "Rp_target = np.linspace(Rp_vmin, 0.4, 100) # target return array linspace(start, end, nums)\n",
    "Vp_target = []\n",
    "for r in Rp_target:\n",
    "    cons_new = ({'type':'eq','fun':lambda x: np.sum(x) - 1}, {'type':'eq','fun':lambda x: f(x)[0] - r})\n",
    "    result_new = sco.minimize(Vmin_f, len(R_mean) * [1.0 / len(R_mean),], method = 'SLSQP', bounds = bnds, constraints = cons_new)\n",
    "    Vp_target.append(result_new['fun'])"
   ]
  },
  {
   "cell_type": "code",
   "execution_count": 64,
   "metadata": {},
   "outputs": [
    {
     "data": {
      "image/png": "[encoded data removed]",
      "text/plain": [
       "<Figure size 576x432 with 1 Axes>"
      ]
     },
     "metadata": {
      "needs_background": "light"
     },
     "output_type": "display_data"
    }
   ],
   "source": [
    "plt.figure(figsize = (8, 6))\n",
    "plt.scatter(Vp_list, Rp_list)\n",
    "plt.plot(Vp_target, Rp_target, 'r-', label = 'Efficient Frontier', lw = 2.5)\n",
    "plt.plot(Vp_vmin, Rp_vmin, 'y*', label = 'Global Min volatility', markersize = 14)\n",
    "plt.xlabel('Volatility', fontsize = 13)\n",
    "plt.ylabel('Return', fontsize = 13, rotation = 0)\n",
    "plt.xticks(fontsize = 13)\n",
    "plt.yticks(fontsize = 13)\n",
    "plt.xlim(0.15, 0.3)\n",
    "plt.ylim(0, 0.35)\n",
    "plt.title('Portfolio Efficient Frontier', fontsize = 13)\n",
    "plt.legend(fontsize = 13)\n",
    "plt.grid('True')\n",
    "plt.show()"
   ]
  },
  {
   "cell_type": "markdown",
   "metadata": {},
   "source": [
    "#### Capital Market Line"
   ]
  },
  {
   "cell_type": "markdown",
   "metadata": {},
   "source": [
    "$E(R_{P})=R_{f}+\\left[\\frac{E(R_{M})-R_{f}}{\\sigma_{M}}\\right]\\sigma_{P}$"
   ]
  },
  {
   "cell_type": "markdown",
   "metadata": {},
   "source": [
    "Since risk free rate is always known, the optimization function is max Sharp Ratio which is showed below."
   ]
  },
  {
   "cell_type": "markdown",
   "metadata": {},
   "source": [
    "$\\mathop{max}\\limits_{\\omega_{i}}\\frac{E(R_{P})-R_{f}}{\\sigma_{P}}$"
   ]
  },
  {
   "cell_type": "markdown",
   "metadata": {},
   "source": [
    "Constraint Condition"
   ]
  },
  {
   "cell_type": "markdown",
   "metadata": {},
   "source": [
    "$\\sum_{i=1}^N \\omega_{i}=1$"
   ]
  },
  {
   "cell_type": "markdown",
   "metadata": {},
   "source": [
    "$\\omega_{i}>0$"
   ]
  },
  {
   "cell_type": "code",
   "execution_count": 65,
   "metadata": {},
   "outputs": [],
   "source": [
    "def F(w): #define a new optimize function\n",
    "    Rf = 0.02 #Risk free rate\n",
    "    w = np.array(w)\n",
    "    Rp_opt = np.sum(w * R_mean)\n",
    "    Vp_opt = np.sqrt(np.dot(w, np.dot(R_cov, w.T)))\n",
    "    SR = (Rp_opt - Rf) / Vp_opt # Sharp Ratio\n",
    "    return np.array([Rp_opt, Vp_opt, SR])"
   ]
  },
  {
   "cell_type": "code",
   "execution_count": 66,
   "metadata": {},
   "outputs": [],
   "source": [
    "def SRmin_F(w): # define a function which is min(-SR), hence max(SR)\n",
    "    return -F(w)[2]"
   ]
  },
  {
   "cell_type": "code",
   "execution_count": 67,
   "metadata": {},
   "outputs": [],
   "source": [
    "cons_SR = ({'type':'eq','fun':lambda x: np.sum(x) - 1})\n",
    "result_SR = sco.minimize(SRmin_F, len(R_mean) * [1.0 / len(R_mean),], method = 'SLSQP', bounds = bnds, constraints = cons_SR)"
   ]
  },
  {
   "cell_type": "code",
   "execution_count": 68,
   "metadata": {},
   "outputs": [
    {
     "name": "stdout",
     "output_type": "stream",
     "text": [
      "Expected return of market portfolio:  0.276\n",
      "Volatility of market portfolio:  0.2281\n"
     ]
    }
   ],
   "source": [
    "Rf = 0.02\n",
    "slope = -result_SR['fun'] #slope of CML\n",
    "Rm = np.sum(R_mean * result_SR['x']) #Expected return of market portfolio\n",
    "Vm = (Rm - Rf) / slope #Volatility of market portfolio\n",
    "print('Expected return of market portfolio: ', round(Rm, 4))\n",
    "print('Volatility of market portfolio: ', round(Vm, 4))"
   ]
  },
  {
   "cell_type": "code",
   "execution_count": 69,
   "metadata": {},
   "outputs": [],
   "source": [
    "Rp_cml = np.linspace(0.02, 0.4)\n",
    "Vp_cml = (Rp_cml - Rf) / slope"
   ]
  },
  {
   "cell_type": "code",
   "execution_count": 71,
   "metadata": {},
   "outputs": [
    {
     "data": {
      "image/png": "[encoded data removed]",
      "text/plain": [
       "<Figure size 576x432 with 1 Axes>"
      ]
     },
     "metadata": {
      "needs_background": "light"
     },
     "output_type": "display_data"
    }
   ],
   "source": [
    "plt.figure(figsize = (8, 6))\n",
    "plt.scatter(Vp_list, Rp_list)\n",
    "plt.plot(Vp_target, Rp_target, 'r-', label = 'Efficient Frontier', lw = 2.5)\n",
    "plt.plot(Vp_cml, Rp_cml, 'b--', label = 'Capital Market Line', lw = 2.5)\n",
    "plt.plot(Vm, Rm, 'g*', label = 'Market Portfolio', markersize = 14)\n",
    "plt.plot(Vp_vmin, Rp_vmin, 'y*', label = 'Global Min volatility', markersize = 14)\n",
    "plt.xlabel('Volatility', fontsize = 13)\n",
    "plt.ylabel('Return', fontsize = 13, rotation = 0)\n",
    "plt.xticks(fontsize = 13)\n",
    "plt.yticks(fontsize = 13)\n",
    "plt.xlim(0.15, 0.3)\n",
    "plt.ylim(0, 0.35)\n",
    "plt.title('Portfolio Theory', fontsize = 13)\n",
    "plt.legend(fontsize = 13)\n",
    "plt.grid('True')\n",
    "plt.show()"
   ]
  },
  {
   "cell_type": "code",
   "execution_count": null,
   "metadata": {},
   "outputs": [],
   "source": []
  }
 ],
 "metadata": {
  "kernelspec": {
   "display_name": "Custom (custom_python)",
   "language": "python",
   "name": "custom_python"
  },
  "language_info": {
   "codemirror_mode": {
    "name": "ipython",
    "version": 3
   },
   "file_extension": ".py",
   "mimetype": "text/x-python",
   "name": "python",
   "nbconvert_exporter": "python",
   "pygments_lexer": "ipython3",
   "version": "3.6.13"
  }
 },
 "nbformat": 4,
 "nbformat_minor": 4
}
