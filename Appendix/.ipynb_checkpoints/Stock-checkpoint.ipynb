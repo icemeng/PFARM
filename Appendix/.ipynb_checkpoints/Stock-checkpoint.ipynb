{
 "cells": [
  {
   "cell_type": "code",
   "execution_count": 1,
   "metadata": {},
   "outputs": [],
   "source": [
    "##########################################################################\n",
    "# Created on Mon Jun  1 21:21:13 2020                                    #\n",
    "# Knowledge Transfer for MUMSS Project [Stock]                           #\n",
    "# @author: Meng Lipeng (FRM, CFA Level3 Candidate)                       #\n",
    "##########################################################################"
   ]
  },
  {
   "cell_type": "markdown",
   "metadata": {},
   "source": [
    "# Stock Take ACN as an example"
   ]
  },
  {
   "cell_type": "markdown",
   "metadata": {},
   "source": [
    "## 1.FSA"
   ]
  },
  {
   "cell_type": "markdown",
   "metadata": {},
   "source": [
    "earnings-release-fy20-q3.pdf"
   ]
  },
  {
   "cell_type": "code",
   "execution_count": null,
   "metadata": {},
   "outputs": [],
   "source": [
    "#conda install -c anaconda pandas-datareader"
   ]
  },
  {
   "cell_type": "markdown",
   "metadata": {},
   "source": [
    "## 2.Return and Volatility"
   ]
  },
  {
   "cell_type": "code",
   "execution_count": 2,
   "metadata": {},
   "outputs": [
    {
     "ename": "ModuleNotFoundError",
     "evalue": "No module named 'pandas_datareader'",
     "output_type": "error",
     "traceback": [
      "\u001b[0;31m---------------------------------------------------------------------------\u001b[0m",
      "\u001b[0;31mModuleNotFoundError\u001b[0m                       Traceback (most recent call last)",
      "\u001b[0;32m<ipython-input-2-d0e2dcba202a>\u001b[0m in \u001b[0;36m<module>\u001b[0;34m\u001b[0m\n\u001b[1;32m      1\u001b[0m \u001b[0;32mimport\u001b[0m \u001b[0mnumpy\u001b[0m \u001b[0;32mas\u001b[0m \u001b[0mnp\u001b[0m\u001b[0;34m\u001b[0m\u001b[0;34m\u001b[0m\u001b[0m\n\u001b[1;32m      2\u001b[0m \u001b[0;32mimport\u001b[0m \u001b[0mmatplotlib\u001b[0m\u001b[0;34m.\u001b[0m\u001b[0mpyplot\u001b[0m \u001b[0;32mas\u001b[0m \u001b[0mplt\u001b[0m\u001b[0;34m\u001b[0m\u001b[0;34m\u001b[0m\u001b[0m\n\u001b[0;32m----> 3\u001b[0;31m \u001b[0;32mimport\u001b[0m \u001b[0mpandas_datareader\u001b[0m\u001b[0;34m.\u001b[0m\u001b[0mdata\u001b[0m \u001b[0;32mas\u001b[0m \u001b[0mweb\u001b[0m\u001b[0;34m\u001b[0m\u001b[0;34m\u001b[0m\u001b[0m\n\u001b[0m\u001b[1;32m      4\u001b[0m \u001b[0;32mimport\u001b[0m \u001b[0mdatetime\u001b[0m\u001b[0;34m\u001b[0m\u001b[0;34m\u001b[0m\u001b[0m\n\u001b[1;32m      5\u001b[0m \u001b[0;32mfrom\u001b[0m \u001b[0mmatplotlib\u001b[0m\u001b[0;34m.\u001b[0m\u001b[0mdates\u001b[0m \u001b[0;32mimport\u001b[0m \u001b[0mMonthLocator\u001b[0m\u001b[0;34m,\u001b[0m\u001b[0mDateFormatter\u001b[0m\u001b[0;34m\u001b[0m\u001b[0;34m\u001b[0m\u001b[0m\n",
      "\u001b[0;31mModuleNotFoundError\u001b[0m: No module named 'pandas_datareader'"
     ]
    }
   ],
   "source": [
    "import numpy as np\n",
    "import matplotlib.pyplot as plt\n",
    "import pandas_datareader.data as web\n",
    "import datetime\n",
    "from matplotlib.dates import MonthLocator,DateFormatter\n",
    "from scipy.stats import norm"
   ]
  },
  {
   "cell_type": "code",
   "execution_count": 3,
   "metadata": {},
   "outputs": [],
   "source": [
    "ticker=\"ACN\" \n",
    "begdate = datetime.datetime(2019,1,2)\n",
    "enddate = datetime.datetime(2019,12,31)"
   ]
  },
  {
   "cell_type": "code",
   "execution_count": 4,
   "metadata": {},
   "outputs": [],
   "source": [
    "df = web.get_data_yahoo(ticker,begdate,enddate)"
   ]
  },
  {
   "cell_type": "code",
   "execution_count": 5,
   "metadata": {},
   "outputs": [
    {
     "data": {
      "text/html": [
       "<div>\n",
       "<style scoped>\n",
       "    .dataframe tbody tr th:only-of-type {\n",
       "        vertical-align: middle;\n",
       "    }\n",
       "\n",
       "    .dataframe tbody tr th {\n",
       "        vertical-align: top;\n",
       "    }\n",
       "\n",
       "    .dataframe thead th {\n",
       "        text-align: right;\n",
       "    }\n",
       "</style>\n",
       "<table border=\"1\" class=\"dataframe\">\n",
       "  <thead>\n",
       "    <tr style=\"text-align: right;\">\n",
       "      <th></th>\n",
       "      <th>High</th>\n",
       "      <th>Low</th>\n",
       "      <th>Open</th>\n",
       "      <th>Close</th>\n",
       "      <th>Volume</th>\n",
       "      <th>Adj Close</th>\n",
       "    </tr>\n",
       "    <tr>\n",
       "      <th>Date</th>\n",
       "      <th></th>\n",
       "      <th></th>\n",
       "      <th></th>\n",
       "      <th></th>\n",
       "      <th></th>\n",
       "      <th></th>\n",
       "    </tr>\n",
       "  </thead>\n",
       "  <tbody>\n",
       "    <tr>\n",
       "      <th>2019-01-02</th>\n",
       "      <td>141.190002</td>\n",
       "      <td>138.279999</td>\n",
       "      <td>138.929993</td>\n",
       "      <td>140.589996</td>\n",
       "      <td>2059300.0</td>\n",
       "      <td>137.682632</td>\n",
       "    </tr>\n",
       "    <tr>\n",
       "      <th>2019-01-03</th>\n",
       "      <td>139.570007</td>\n",
       "      <td>135.580002</td>\n",
       "      <td>139.130005</td>\n",
       "      <td>135.789993</td>\n",
       "      <td>2801300.0</td>\n",
       "      <td>132.981903</td>\n",
       "    </tr>\n",
       "    <tr>\n",
       "      <th>2019-01-04</th>\n",
       "      <td>141.339996</td>\n",
       "      <td>137.500000</td>\n",
       "      <td>138.119995</td>\n",
       "      <td>141.070007</td>\n",
       "      <td>2296400.0</td>\n",
       "      <td>138.152725</td>\n",
       "    </tr>\n",
       "    <tr>\n",
       "      <th>2019-01-07</th>\n",
       "      <td>142.369995</td>\n",
       "      <td>139.850006</td>\n",
       "      <td>140.830002</td>\n",
       "      <td>141.559998</td>\n",
       "      <td>2315600.0</td>\n",
       "      <td>138.632599</td>\n",
       "    </tr>\n",
       "    <tr>\n",
       "      <th>2019-01-08</th>\n",
       "      <td>146.809998</td>\n",
       "      <td>142.690002</td>\n",
       "      <td>144.630005</td>\n",
       "      <td>145.139999</td>\n",
       "      <td>2647800.0</td>\n",
       "      <td>142.138565</td>\n",
       "    </tr>\n",
       "  </tbody>\n",
       "</table>\n",
       "</div>"
      ],
      "text/plain": [
       "                  High         Low        Open       Close     Volume  \\\n",
       "Date                                                                    \n",
       "2019-01-02  141.190002  138.279999  138.929993  140.589996  2059300.0   \n",
       "2019-01-03  139.570007  135.580002  139.130005  135.789993  2801300.0   \n",
       "2019-01-04  141.339996  137.500000  138.119995  141.070007  2296400.0   \n",
       "2019-01-07  142.369995  139.850006  140.830002  141.559998  2315600.0   \n",
       "2019-01-08  146.809998  142.690002  144.630005  145.139999  2647800.0   \n",
       "\n",
       "             Adj Close  \n",
       "Date                    \n",
       "2019-01-02  137.682632  \n",
       "2019-01-03  132.981903  \n",
       "2019-01-04  138.152725  \n",
       "2019-01-07  138.632599  \n",
       "2019-01-08  142.138565  "
      ]
     },
     "execution_count": 5,
     "metadata": {},
     "output_type": "execute_result"
    }
   ],
   "source": [
    "df.head()"
   ]
  },
  {
   "cell_type": "code",
   "execution_count": 6,
   "metadata": {},
   "outputs": [
    {
     "data": {
      "text/html": [
       "<div>\n",
       "<style scoped>\n",
       "    .dataframe tbody tr th:only-of-type {\n",
       "        vertical-align: middle;\n",
       "    }\n",
       "\n",
       "    .dataframe tbody tr th {\n",
       "        vertical-align: top;\n",
       "    }\n",
       "\n",
       "    .dataframe thead th {\n",
       "        text-align: right;\n",
       "    }\n",
       "</style>\n",
       "<table border=\"1\" class=\"dataframe\">\n",
       "  <thead>\n",
       "    <tr style=\"text-align: right;\">\n",
       "      <th></th>\n",
       "      <th>High</th>\n",
       "      <th>Low</th>\n",
       "      <th>Open</th>\n",
       "      <th>Close</th>\n",
       "      <th>Volume</th>\n",
       "      <th>Adj Close</th>\n",
       "    </tr>\n",
       "    <tr>\n",
       "      <th>Date</th>\n",
       "      <th></th>\n",
       "      <th></th>\n",
       "      <th></th>\n",
       "      <th></th>\n",
       "      <th></th>\n",
       "      <th></th>\n",
       "    </tr>\n",
       "  </thead>\n",
       "  <tbody>\n",
       "    <tr>\n",
       "      <th>2019-12-24</th>\n",
       "      <td>211.669998</td>\n",
       "      <td>210.559998</td>\n",
       "      <td>210.710007</td>\n",
       "      <td>211.610001</td>\n",
       "      <td>998500.0</td>\n",
       "      <td>209.848190</td>\n",
       "    </tr>\n",
       "    <tr>\n",
       "      <th>2019-12-26</th>\n",
       "      <td>212.119995</td>\n",
       "      <td>211.259995</td>\n",
       "      <td>211.610001</td>\n",
       "      <td>212.050003</td>\n",
       "      <td>1059800.0</td>\n",
       "      <td>210.284531</td>\n",
       "    </tr>\n",
       "    <tr>\n",
       "      <th>2019-12-27</th>\n",
       "      <td>212.630005</td>\n",
       "      <td>211.610001</td>\n",
       "      <td>212.449997</td>\n",
       "      <td>212.220001</td>\n",
       "      <td>1292200.0</td>\n",
       "      <td>210.453110</td>\n",
       "    </tr>\n",
       "    <tr>\n",
       "      <th>2019-12-30</th>\n",
       "      <td>212.240005</td>\n",
       "      <td>209.050003</td>\n",
       "      <td>212.240005</td>\n",
       "      <td>210.639999</td>\n",
       "      <td>1193900.0</td>\n",
       "      <td>208.886261</td>\n",
       "    </tr>\n",
       "    <tr>\n",
       "      <th>2019-12-31</th>\n",
       "      <td>211.059998</td>\n",
       "      <td>209.440002</td>\n",
       "      <td>209.979996</td>\n",
       "      <td>210.570007</td>\n",
       "      <td>1371000.0</td>\n",
       "      <td>208.816864</td>\n",
       "    </tr>\n",
       "  </tbody>\n",
       "</table>\n",
       "</div>"
      ],
      "text/plain": [
       "                  High         Low        Open       Close     Volume  \\\n",
       "Date                                                                    \n",
       "2019-12-24  211.669998  210.559998  210.710007  211.610001   998500.0   \n",
       "2019-12-26  212.119995  211.259995  211.610001  212.050003  1059800.0   \n",
       "2019-12-27  212.630005  211.610001  212.449997  212.220001  1292200.0   \n",
       "2019-12-30  212.240005  209.050003  212.240005  210.639999  1193900.0   \n",
       "2019-12-31  211.059998  209.440002  209.979996  210.570007  1371000.0   \n",
       "\n",
       "             Adj Close  \n",
       "Date                    \n",
       "2019-12-24  209.848190  \n",
       "2019-12-26  210.284531  \n",
       "2019-12-27  210.453110  \n",
       "2019-12-30  208.886261  \n",
       "2019-12-31  208.816864  "
      ]
     },
     "execution_count": 6,
     "metadata": {},
     "output_type": "execute_result"
    }
   ],
   "source": [
    "df.tail()"
   ]
  },
  {
   "cell_type": "code",
   "execution_count": 7,
   "metadata": {},
   "outputs": [],
   "source": [
    "df.columns = ['High', 'Low', 'Open', 'Close', 'Volumn', 'Adj_Close']"
   ]
  },
  {
   "cell_type": "code",
   "execution_count": 8,
   "metadata": {},
   "outputs": [],
   "source": [
    "cPrice = df.Adj_Close"
   ]
  },
  {
   "cell_type": "code",
   "execution_count": 9,
   "metadata": {},
   "outputs": [
    {
     "data": {
      "text/plain": [
       "count    252.000000\n",
       "mean     179.126015\n",
       "std       16.942400\n",
       "min      132.981903\n",
       "25%      171.716408\n",
       "50%      182.556816\n",
       "75%      191.744453\n",
       "max      210.453110\n",
       "Name: Adj_Close, dtype: float64"
      ]
     },
     "execution_count": 9,
     "metadata": {},
     "output_type": "execute_result"
    }
   ],
   "source": [
    "cPrice.describe()"
   ]
  },
  {
   "cell_type": "code",
   "execution_count": 10,
   "metadata": {},
   "outputs": [],
   "source": [
    "months= MonthLocator(range(1,13), bymonthday=1, interval=3)# 3rd month\n",
    "monthsFmt = DateFormatter(\"%b '%Y\")"
   ]
  },
  {
   "cell_type": "code",
   "execution_count": 11,
   "metadata": {},
   "outputs": [],
   "source": [
    "dates = df.index"
   ]
  },
  {
   "cell_type": "markdown",
   "metadata": {},
   "source": [
    "#### Plot Price Movement"
   ]
  },
  {
   "cell_type": "code",
   "execution_count": 12,
   "metadata": {},
   "outputs": [
    {
     "data": {
      "image/png": "[encoded data removed]",
      "text/plain": [
       "<Figure size 432x288 with 1 Axes>"
      ]
     },
     "metadata": {
      "needs_background": "light"
     },
     "output_type": "display_data"
    }
   ],
   "source": [
    "fig, ax = plt.subplots()\n",
    "ax.plot_date(dates, cPrice.values, '-') \n",
    "ax.xaxis.set_major_locator(months) \n",
    "ax.xaxis.set_major_formatter(monthsFmt)\n",
    "ax.autoscale_view()\n",
    "ax.grid(True) \n",
    "fig.autofmt_xdate()\n",
    "plt.xlabel(\"Date\")\n",
    "plt.ylabel(\"Close\")\n",
    "plt.title(\"ACN price movement\")\n",
    "plt.show()"
   ]
  },
  {
   "cell_type": "markdown",
   "metadata": {},
   "source": [
    "#### Calculate Return"
   ]
  },
  {
   "cell_type": "markdown",
   "metadata": {},
   "source": [
    "$R_{it}=\\frac{P_{it}-P_{it-1}}{P_{it-1}}$"
   ]
  },
  {
   "cell_type": "code",
   "execution_count": 13,
   "metadata": {},
   "outputs": [],
   "source": [
    "ret = (cPrice.values[1:] - cPrice.values[:-1]) / cPrice.values[:-1]"
   ]
  },
  {
   "cell_type": "markdown",
   "metadata": {},
   "source": [
    "#### Plot Return Distribution"
   ]
  },
  {
   "cell_type": "code",
   "execution_count": 14,
   "metadata": {},
   "outputs": [
    {
     "data": {
      "image/png": "[encoded data removed]",
      "text/plain": [
       "<Figure size 432x288 with 1 Axes>"
      ]
     },
     "metadata": {
      "needs_background": "light"
     },
     "output_type": "display_data"
    }
   ],
   "source": [
    "[n,bins,patches] = plt.hist(ret, 100)\n",
    "mu = np.mean(ret) \n",
    "sigma = np.std(ret)\n",
    "x = norm.pdf(bins, mu, sigma) \n",
    "plt.plot(bins, x, color='red', lw=2) \n",
    "plt.title(\"ACN return distribution\") \n",
    "plt.xlabel(\"Returns\") \n",
    "plt.ylabel(\"Frequency\")\n",
    "plt.show()"
   ]
  },
  {
   "cell_type": "markdown",
   "metadata": {},
   "source": [
    "## 3.CAPM"
   ]
  },
  {
   "cell_type": "markdown",
   "metadata": {},
   "source": [
    "Systematic Risk\n",
    "    Systematic risk refers to the risk inherent to the entire market or market segment. Systematic risk, also known as “undiversifiable risk,” “volatility” or “market risk,” affects the overall market, not just a particular stock or industry. This type of risk is both unpredictable and impossible to completely avoid. It cannot be mitigated through diversification, only through hedging or by using the correct asset allocation strategy."
   ]
  },
  {
   "cell_type": "markdown",
   "metadata": {},
   "source": [
    "Nonsystematic Risk\n",
    "    While systematic risk can be thought of as the probability of a loss that is associated with the entire market or a segment thereof, unsystematic risk refers to the probability of a loss within a specific industry or security."
   ]
  },
  {
   "cell_type": "markdown",
   "metadata": {},
   "source": [
    "Captal Market Pricing Model"
   ]
  },
  {
   "cell_type": "markdown",
   "metadata": {},
   "source": [
    "$E(R_{i}) = R_{f}+\\beta_{i}\\left[E(R_{M})-R_{f}\\right]$"
   ]
  },
  {
   "cell_type": "markdown",
   "metadata": {},
   "source": [
    "#### Calculate Beta using linar regression"
   ]
  },
  {
   "cell_type": "markdown",
   "metadata": {},
   "source": [
    "$R_{it} = \\alpha_{i} + \\beta_{i}R_{Mt}$"
   ]
  },
  {
   "cell_type": "code",
   "execution_count": 15,
   "metadata": {},
   "outputs": [],
   "source": [
    "import pandas as pd\n",
    "from scipy import stats "
   ]
  },
  {
   "cell_type": "code",
   "execution_count": 16,
   "metadata": {},
   "outputs": [],
   "source": [
    "def ret_f(ticker,begdate, enddate):\n",
    "    df = web.get_data_yahoo(ticker,begdate,enddate)\n",
    "    cPrice = np.array(df['Adj Close'].to_list())\n",
    "    ret = (cPrice[1:] - cPrice[:-1])/cPrice[:-1]\n",
    "    return ret"
   ]
  },
  {
   "cell_type": "code",
   "execution_count": 17,
   "metadata": {},
   "outputs": [],
   "source": [
    "begdate = datetime.datetime(2015,6,1)\n",
    "enddate = datetime.datetime(2020,5,31)"
   ]
  },
  {
   "cell_type": "code",
   "execution_count": 18,
   "metadata": {},
   "outputs": [],
   "source": [
    "y0=pd.Series(ret_f('ACN',begdate,enddate))\n",
    "x0=pd.Series(ret_f('^GSPC',begdate,enddate))"
   ]
  },
  {
   "cell_type": "code",
   "execution_count": 19,
   "metadata": {},
   "outputs": [],
   "source": [
    "SP500Date= web.get_data_yahoo('^SP500TR',begdate,enddate).index\n",
    "d=SP500Date[0:-1]"
   ]
  },
  {
   "cell_type": "code",
   "execution_count": 20,
   "metadata": {},
   "outputs": [],
   "source": [
    "lag_year=d[0].strftime(\"%Y\")"
   ]
  },
  {
   "cell_type": "code",
   "execution_count": 21,
   "metadata": {},
   "outputs": [],
   "source": [
    "y1=[]\n",
    "x1=[]\n",
    "beta=[]"
   ]
  },
  {
   "cell_type": "code",
   "execution_count": 22,
   "metadata": {},
   "outputs": [
    {
     "name": "stdout",
     "output_type": "stream",
     "text": [
      "2016 -0.00062748 0.698 0.844 1.1122011058096066e-41\n",
      "2017 0.00020588 0.407 0.66 9.408154066752205e-33\n",
      "2018 0.00039406 0.247 0.485 3.639755740961869e-16\n",
      "2019 -0.00013386 0.6 0.818 1.2572342843008818e-61\n",
      "2020 0.00018382 0.534 0.72 2.526263395295681e-41\n"
     ]
    }
   ],
   "source": [
    "for i in np.arange(1,len(d)):\n",
    "    year=d[i].strftime(\"%Y\")\n",
    "    if(year==lag_year):\n",
    "       x1.append(x0[i])\n",
    "       y1.append(y0[i])\n",
    "    else:\n",
    "       (beta,alpha,r_value,p_value,std_err)=stats.linregress(y1,x1) \n",
    "       alpha=round(alpha,8)\n",
    "       beta=round(beta,3)\n",
    "       r_value=round(r_value,3)\n",
    "       p_vaue=round(p_value,3)\n",
    "       print(year,alpha,beta,r_value,p_value)\n",
    "       x1=[]\n",
    "       y1=[]\n",
    "       lag_year=year"
   ]
  },
  {
   "cell_type": "markdown",
   "metadata": {},
   "source": [
    "#### Another Way to Calculate Beta"
   ]
  },
  {
   "cell_type": "markdown",
   "metadata": {},
   "source": [
    "$\\beta_{i}=\\frac{Cov_{i,mkt}}{\\sigma_{mkt}^2}=\\frac{\\sigma_{i}}{\\sigma_{mkt}}\\times \\rho_{i,mkt}$"
   ]
  },
  {
   "cell_type": "markdown",
   "metadata": {},
   "source": [
    "## 4.Calculate Fair Value"
   ]
  },
  {
   "cell_type": "markdown",
   "metadata": {},
   "source": [
    "#### Discount Cashflow Model(Gordon Growth Model )"
   ]
  },
  {
   "cell_type": "markdown",
   "metadata": {},
   "source": [
    "$P_{0}=\\frac{d_{1}}{(1+r)}+\\frac{d_{2}}{(1+r)^2}+\\cdots+\\frac{d_{n}}{(1+r)^n}+\\frac{P_{n}}{(1+r)^n}$"
   ]
  },
  {
   "cell_type": "markdown",
   "metadata": {},
   "source": [
    "$P_{n}=\\frac{d_{n+1}}{r-g}$"
   ]
  },
  {
   "cell_type": "code",
   "execution_count": 23,
   "metadata": {},
   "outputs": [],
   "source": [
    "def pvValueNperiodModel(r, longTermGrowthRate, dividendNplus1):\n",
    "    '''\n",
    "    Parameters\n",
    "    ----------\n",
    "    r : float\n",
    "        discount rate.\n",
    "    longTermGrowthRate : float\n",
    "        long term dividend growth rate.\n",
    "    dividendNplus1 : array\n",
    "        a dividend vector n + 1.\n",
    "\n",
    "    Returns\n",
    "    -------\n",
    "    Stock price.\n",
    "\n",
    "    '''\n",
    "    import numpy_financial as npf\n",
    "    d = dividendNplus1\n",
    "    n = len(d) - 1\n",
    "    g = longTermGrowthRate\n",
    "    \n",
    "    pv = npf.npv(r, d[:-1]) * (1 + r)\n",
    "    sellingPrice = d[n] / (r - g)\n",
    "    pv += npf.pv(r, n, 0, -sellingPrice)\n",
    "    \n",
    "    return pv"
   ]
  },
  {
   "cell_type": "code",
   "execution_count": 24,
   "metadata": {},
   "outputs": [],
   "source": [
    "#Forward Annual Dividend Rate\n",
    "aDR = 3.2\n",
    "# Growth Rate\n",
    "g = 0.0879\n",
    "# Required ROE\n",
    "r = 0.1042\n",
    "d = [aDR, aDR * (1 + g), aDR * (1 + g)**2, aDR * (1 + g)**3, aDR * (1 + g)**4]\n",
    "fair_value_acn = pvValueNperiodModel(r, g, d) "
   ]
  },
  {
   "cell_type": "code",
   "execution_count": 25,
   "metadata": {},
   "outputs": [
    {
     "data": {
      "text/plain": [
       "198.80494811509996"
      ]
     },
     "execution_count": 25,
     "metadata": {},
     "output_type": "execute_result"
    }
   ],
   "source": [
    "fair_value_acn"
   ]
  },
  {
   "cell_type": "markdown",
   "metadata": {},
   "source": [
    "## 5.Portfilio Construction"
   ]
  },
  {
   "cell_type": "markdown",
   "metadata": {},
   "source": [
    "#### Get Data from Yahoo finance"
   ]
  },
  {
   "cell_type": "code",
   "execution_count": 26,
   "metadata": {},
   "outputs": [
    {
     "data": {
      "text/html": [
       "<div>\n",
       "<style scoped>\n",
       "    .dataframe tbody tr th:only-of-type {\n",
       "        vertical-align: middle;\n",
       "    }\n",
       "\n",
       "    .dataframe tbody tr th {\n",
       "        vertical-align: top;\n",
       "    }\n",
       "\n",
       "    .dataframe thead th {\n",
       "        text-align: right;\n",
       "    }\n",
       "</style>\n",
       "<table border=\"1\" class=\"dataframe\">\n",
       "  <thead>\n",
       "    <tr style=\"text-align: right;\">\n",
       "      <th></th>\n",
       "      <th>ACN</th>\n",
       "      <th>AAPL</th>\n",
       "      <th>WMT</th>\n",
       "      <th>GS</th>\n",
       "      <th>XOM</th>\n",
       "    </tr>\n",
       "    <tr>\n",
       "      <th>Date</th>\n",
       "      <th></th>\n",
       "      <th></th>\n",
       "      <th></th>\n",
       "      <th></th>\n",
       "      <th></th>\n",
       "    </tr>\n",
       "  </thead>\n",
       "  <tbody>\n",
       "    <tr>\n",
       "      <th>2017-01-03</th>\n",
       "      <td>109.816139</td>\n",
       "      <td>110.392334</td>\n",
       "      <td>63.187412</td>\n",
       "      <td>227.745087</td>\n",
       "      <td>77.590286</td>\n",
       "    </tr>\n",
       "    <tr>\n",
       "      <th>2017-01-04</th>\n",
       "      <td>110.080170</td>\n",
       "      <td>110.268791</td>\n",
       "      <td>63.555534</td>\n",
       "      <td>229.215790</td>\n",
       "      <td>76.736603</td>\n",
       "    </tr>\n",
       "    <tr>\n",
       "      <th>2017-01-05</th>\n",
       "      <td>108.430000</td>\n",
       "      <td>110.829552</td>\n",
       "      <td>63.693573</td>\n",
       "      <td>227.509384</td>\n",
       "      <td>75.592690</td>\n",
       "    </tr>\n",
       "    <tr>\n",
       "      <th>2017-01-06</th>\n",
       "      <td>109.665268</td>\n",
       "      <td>112.065109</td>\n",
       "      <td>62.819294</td>\n",
       "      <td>230.884491</td>\n",
       "      <td>75.550018</td>\n",
       "    </tr>\n",
       "    <tr>\n",
       "      <th>2017-01-09</th>\n",
       "      <td>108.439430</td>\n",
       "      <td>113.091560</td>\n",
       "      <td>63.233440</td>\n",
       "      <td>228.989517</td>\n",
       "      <td>74.303650</td>\n",
       "    </tr>\n",
       "  </tbody>\n",
       "</table>\n",
       "</div>"
      ],
      "text/plain": [
       "                   ACN        AAPL        WMT          GS        XOM\n",
       "Date                                                                \n",
       "2017-01-03  109.816139  110.392334  63.187412  227.745087  77.590286\n",
       "2017-01-04  110.080170  110.268791  63.555534  229.215790  76.736603\n",
       "2017-01-05  108.430000  110.829552  63.693573  227.509384  75.592690\n",
       "2017-01-06  109.665268  112.065109  62.819294  230.884491  75.550018\n",
       "2017-01-09  108.439430  113.091560  63.233440  228.989517  74.303650"
      ]
     },
     "execution_count": 26,
     "metadata": {},
     "output_type": "execute_result"
    }
   ],
   "source": [
    "ticker = [\"ACN\", \"AAPL\", \"WMT\", \"GS\", \"XOM\"]\n",
    "begdate = datetime.datetime(2017,1,2)\n",
    "enddate = datetime.datetime(2019,12,31)\n",
    "\n",
    "for i in range(len(ticker)):\n",
    "    df = web.get_data_yahoo(ticker[i],begdate,enddate)\n",
    "    df.columns = [ticker[i] + '_High', ticker[i] + '_Low', ticker[i] + '_Open', ticker[i] + '_Close', ticker[i] + '_Volumn', ticker[i]]\n",
    "    if i == 0:\n",
    "        result = df[ticker[i]]\n",
    "    else:\n",
    "        result = pd.concat([result, df[ticker[i]]], axis=1, join='inner')\n",
    "        \n",
    "result.head()"
   ]
  },
  {
   "cell_type": "code",
   "execution_count": 27,
   "metadata": {},
   "outputs": [
    {
     "data": {
      "text/plain": [
       "<matplotlib.axes._subplots.AxesSubplot at 0x1a2305ba90>"
      ]
     },
     "execution_count": 27,
     "metadata": {},
     "output_type": "execute_result"
    },
    {
     "data": {
      "image/png": "[encoded data removed]",
      "text/plain": [
       "<Figure size 576x432 with 1 Axes>"
      ]
     },
     "metadata": {
      "needs_background": "light"
     },
     "output_type": "display_data"
    }
   ],
   "source": [
    "# Set the stock price of first day to 1 and plot\n",
    "(result / result.iloc[0]).plot(figsize = (8, 6))"
   ]
  },
  {
   "cell_type": "markdown",
   "metadata": {},
   "source": [
    "#### Calculate daily return"
   ]
  },
  {
   "cell_type": "markdown",
   "metadata": {},
   "source": [
    "$R_{it}=\\ln\\frac{P_{it}}{P_{it-1}}$"
   ]
  },
  {
   "cell_type": "code",
   "execution_count": 28,
   "metadata": {},
   "outputs": [
    {
     "data": {
      "text/html": [
       "<div>\n",
       "<style scoped>\n",
       "    .dataframe tbody tr th:only-of-type {\n",
       "        vertical-align: middle;\n",
       "    }\n",
       "\n",
       "    .dataframe tbody tr th {\n",
       "        vertical-align: top;\n",
       "    }\n",
       "\n",
       "    .dataframe thead th {\n",
       "        text-align: right;\n",
       "    }\n",
       "</style>\n",
       "<table border=\"1\" class=\"dataframe\">\n",
       "  <thead>\n",
       "    <tr style=\"text-align: right;\">\n",
       "      <th></th>\n",
       "      <th>ACN</th>\n",
       "      <th>AAPL</th>\n",
       "      <th>WMT</th>\n",
       "      <th>GS</th>\n",
       "      <th>XOM</th>\n",
       "    </tr>\n",
       "  </thead>\n",
       "  <tbody>\n",
       "    <tr>\n",
       "      <th>count</th>\n",
       "      <td>753.000000</td>\n",
       "      <td>753.000000</td>\n",
       "      <td>753.000000</td>\n",
       "      <td>753.000000</td>\n",
       "      <td>753.000000</td>\n",
       "    </tr>\n",
       "    <tr>\n",
       "      <th>mean</th>\n",
       "      <td>0.000853</td>\n",
       "      <td>0.001293</td>\n",
       "      <td>0.000827</td>\n",
       "      <td>-0.000004</td>\n",
       "      <td>-0.000185</td>\n",
       "    </tr>\n",
       "    <tr>\n",
       "      <th>std</th>\n",
       "      <td>0.011529</td>\n",
       "      <td>0.015577</td>\n",
       "      <td>0.012092</td>\n",
       "      <td>0.014628</td>\n",
       "      <td>0.011171</td>\n",
       "    </tr>\n",
       "    <tr>\n",
       "      <th>min</th>\n",
       "      <td>-0.075614</td>\n",
       "      <td>-0.104924</td>\n",
       "      <td>-0.107399</td>\n",
       "      <td>-0.077482</td>\n",
       "      <td>-0.058586</td>\n",
       "    </tr>\n",
       "    <tr>\n",
       "      <th>25%</th>\n",
       "      <td>-0.004236</td>\n",
       "      <td>-0.005095</td>\n",
       "      <td>-0.004718</td>\n",
       "      <td>-0.007432</td>\n",
       "      <td>-0.006499</td>\n",
       "    </tr>\n",
       "    <tr>\n",
       "      <th>50%</th>\n",
       "      <td>0.001641</td>\n",
       "      <td>0.001176</td>\n",
       "      <td>0.001115</td>\n",
       "      <td>0.000041</td>\n",
       "      <td>0.000243</td>\n",
       "    </tr>\n",
       "    <tr>\n",
       "      <th>75%</th>\n",
       "      <td>0.007446</td>\n",
       "      <td>0.009330</td>\n",
       "      <td>0.006587</td>\n",
       "      <td>0.007973</td>\n",
       "      <td>0.006130</td>\n",
       "    </tr>\n",
       "    <tr>\n",
       "      <th>max</th>\n",
       "      <td>0.057294</td>\n",
       "      <td>0.068052</td>\n",
       "      <td>0.103444</td>\n",
       "      <td>0.091153</td>\n",
       "      <td>0.046673</td>\n",
       "    </tr>\n",
       "  </tbody>\n",
       "</table>\n",
       "</div>"
      ],
      "text/plain": [
       "              ACN        AAPL         WMT          GS         XOM\n",
       "count  753.000000  753.000000  753.000000  753.000000  753.000000\n",
       "mean     0.000853    0.001293    0.000827   -0.000004   -0.000185\n",
       "std      0.011529    0.015577    0.012092    0.014628    0.011171\n",
       "min     -0.075614   -0.104924   -0.107399   -0.077482   -0.058586\n",
       "25%     -0.004236   -0.005095   -0.004718   -0.007432   -0.006499\n",
       "50%      0.001641    0.001176    0.001115    0.000041    0.000243\n",
       "75%      0.007446    0.009330    0.006587    0.007973    0.006130\n",
       "max      0.057294    0.068052    0.103444    0.091153    0.046673"
      ]
     },
     "execution_count": 28,
     "metadata": {},
     "output_type": "execute_result"
    }
   ],
   "source": [
    "R = np.log(result / result.shift(1))\n",
    "R = R.dropna() # drop the NA from result\n",
    "R.describe()"
   ]
  },
  {
   "cell_type": "code",
   "execution_count": 29,
   "metadata": {},
   "outputs": [
    {
     "data": {
      "text/plain": [
       "array([[<matplotlib.axes._subplots.AxesSubplot object at 0x1a23002190>,\n",
       "        <matplotlib.axes._subplots.AxesSubplot object at 0x1a2311e990>],\n",
       "       [<matplotlib.axes._subplots.AxesSubplot object at 0x1a22f54fd0>,\n",
       "        <matplotlib.axes._subplots.AxesSubplot object at 0x1a22fcd6d0>],\n",
       "       [<matplotlib.axes._subplots.AxesSubplot object at 0x1a22f05d50>,\n",
       "        <matplotlib.axes._subplots.AxesSubplot object at 0x1a23146410>]],\n",
       "      dtype=object)"
      ]
     },
     "execution_count": 29,
     "metadata": {},
     "output_type": "execute_result"
    },
    {
     "data": {
      "image/png": "[encoded data removed]",
      "text/plain": [
       "<Figure size 720x720 with 6 Axes>"
      ]
     },
     "metadata": {
      "needs_background": "light"
     },
     "output_type": "display_data"
    }
   ],
   "source": [
    "R.hist(bins = 40, figsize = (10, 10))"
   ]
  },
  {
   "cell_type": "code",
   "execution_count": 30,
   "metadata": {},
   "outputs": [
    {
     "name": "stdout",
     "output_type": "stream",
     "text": [
      "ACN     0.215070\n",
      "AAPL    0.325717\n",
      "WMT     0.208450\n",
      "GS     -0.000930\n",
      "XOM    -0.046703\n",
      "dtype: float64\n"
     ]
    }
   ],
   "source": [
    "#Calculate annual mean\n",
    "R_mean = R.mean() * 252\n",
    "print(R_mean)"
   ]
  },
  {
   "cell_type": "code",
   "execution_count": 31,
   "metadata": {},
   "outputs": [
    {
     "name": "stdout",
     "output_type": "stream",
     "text": [
      "           ACN      AAPL       WMT        GS       XOM\n",
      "ACN   0.033496  0.022930  0.011793  0.019285  0.014419\n",
      "AAPL  0.022930  0.061148  0.010411  0.027064  0.016294\n",
      "WMT   0.011793  0.010411  0.036848  0.011178  0.008811\n",
      "GS    0.019285  0.027064  0.011178  0.053923  0.018744\n",
      "XOM   0.014419  0.016294  0.008811  0.018744  0.031449\n"
     ]
    }
   ],
   "source": [
    "#Calculate annual covariance assume daily returns are independent from each other\n",
    "R_cov = R.cov() * 252\n",
    "print(R_cov)"
   ]
  },
  {
   "cell_type": "code",
   "execution_count": 32,
   "metadata": {},
   "outputs": [
    {
     "name": "stdout",
     "output_type": "stream",
     "text": [
      "           ACN      AAPL       WMT        GS       XOM\n",
      "ACN   1.000000  0.506649  0.335666  0.453778  0.444259\n",
      "AAPL  0.506649  1.000000  0.219326  0.471321  0.371556\n",
      "WMT   0.335666  0.219326  1.000000  0.250777  0.258841\n",
      "GS    0.453778  0.471321  0.250777  1.000000  0.455156\n",
      "XOM   0.444259  0.371556  0.258841  0.455156  1.000000\n"
     ]
    }
   ],
   "source": [
    "#Calculate correlation matrix\n",
    "#Low correlation indicates high diversification\n",
    "R_corr = R.corr()\n",
    "print(R_corr)"
   ]
  },
  {
   "cell_type": "code",
   "execution_count": 33,
   "metadata": {},
   "outputs": [
    {
     "name": "stdout",
     "output_type": "stream",
     "text": [
      "ACN     0.183019\n",
      "AAPL    0.247282\n",
      "WMT     0.191959\n",
      "GS      0.232212\n",
      "XOM     0.177340\n",
      "dtype: float64\n"
     ]
    }
   ],
   "source": [
    "#Calculate annual volatility\n",
    "R_vol = R.std() * np.sqrt(252)\n",
    "print(R_vol)"
   ]
  },
  {
   "cell_type": "code",
   "execution_count": 34,
   "metadata": {},
   "outputs": [
    {
     "name": "stdout",
     "output_type": "stream",
     "text": [
      "[0.33761982 0.15937753 0.26003425 0.22103702 0.02193138]\n"
     ]
    }
   ],
   "source": [
    "#Random weight\n",
    "x = np.random.random(5) # draw five random numbers between 0~1 from uniform distribution\n",
    "weights = x / np.sum(x)\n",
    "print(weights)"
   ]
  },
  {
   "cell_type": "code",
   "execution_count": 35,
   "metadata": {},
   "outputs": [
    {
     "name": "stdout",
     "output_type": "stream",
     "text": [
      "Expected return of portfolio:  0.1775\n"
     ]
    }
   ],
   "source": [
    "#Calculate expected return of portfolio\n",
    "R_port = np.sum(weights * R_mean)\n",
    "print('Expected return of portfolio: ', round(R_port, 4))"
   ]
  },
  {
   "cell_type": "markdown",
   "metadata": {},
   "source": [
    "#### Calculate volatility of portfolio"
   ]
  },
  {
   "cell_type": "markdown",
   "metadata": {},
   "source": [
    "$\\omega=\\left[\\omega_{1},\\omega_{2},\\cdot\\cdot\\cdot,\\omega_{N}\\right]$"
   ]
  },
  {
   "cell_type": "markdown",
   "metadata": {},
   "source": [
    "$\\varSigma=\\begin{bmatrix}\\sigma_{1}^{2} & \\sigma_{12}& \\cdots&\\sigma_{1N}\\\\\\sigma_{21} & \\sigma_{2}^{2}&\\cdots&\\sigma_{2N}\\\\\\vdots&\\vdots&\\ddots&\\vdots\\\\\\sigma_{N1}&\\sigma_{N2}&\\cdots&\\sigma_{N}^{2} \\end{bmatrix}$"
   ]
  },
  {
   "cell_type": "markdown",
   "metadata": {},
   "source": [
    "$\\sigma_{ij}=Cov(R_{i},R_{j})$"
   ]
  },
  {
   "cell_type": "markdown",
   "metadata": {},
   "source": [
    "$\\sigma_{P}=\\sqrt{\\omega\\varSigma\\omega^{T}}$"
   ]
  },
  {
   "cell_type": "code",
   "execution_count": 36,
   "metadata": {},
   "outputs": [
    {
     "name": "stdout",
     "output_type": "stream",
     "text": [
      "Volatility of portfolio:  0.1503\n"
     ]
    }
   ],
   "source": [
    "Vol_port = np.sqrt(np.dot(weights, np.dot(R_cov, weights.T)))\n",
    "print('Volatility of portfolio: ', round(Vol_port, 4))"
   ]
  },
  {
   "cell_type": "markdown",
   "metadata": {},
   "source": [
    "#### Plot feasible set"
   ]
  },
  {
   "cell_type": "code",
   "execution_count": 37,
   "metadata": {},
   "outputs": [],
   "source": [
    "Rp_list = []\n",
    "Vp_list = []\n",
    "for i in np.arange(1000):\n",
    "    x = np.random.random(5)\n",
    "    weights = x / np.sum(x)\n",
    "    Rp_list.append(np.sum(weights * R_mean))\n",
    "    Vp_list.append(np.sqrt(np.dot(weights, np.dot(R_cov, weights.T))))"
   ]
  },
  {
   "cell_type": "code",
   "execution_count": 38,
   "metadata": {},
   "outputs": [
    {
     "data": {
      "image/png": "[encoded data removed]",
      "text/plain": [
       "<Figure size 576x432 with 1 Axes>"
      ]
     },
     "metadata": {
      "needs_background": "light"
     },
     "output_type": "display_data"
    }
   ],
   "source": [
    "plt.figure(figsize = (8, 6))\n",
    "plt.scatter(Vp_list, Rp_list)\n",
    "plt.xlabel('Volatility', fontsize = 13)\n",
    "plt.ylabel('Return', fontsize = 13, rotation = 0)\n",
    "plt.xticks(fontsize = 13)\n",
    "plt.yticks(fontsize = 13)\n",
    "plt.xlim(0.1, 0.25)\n",
    "plt.ylim(-0.1, 0.3)\n",
    "plt.title('Relationship between Return and Volatility', fontsize = 13)\n",
    "plt.grid('True')\n",
    "plt.show()"
   ]
  },
  {
   "cell_type": "markdown",
   "metadata": {},
   "source": [
    "#### Construct efficient frontier"
   ]
  },
  {
   "cell_type": "markdown",
   "metadata": {},
   "source": [
    "Optimization Function"
   ]
  },
  {
   "cell_type": "markdown",
   "metadata": {},
   "source": [
    "$\\mathop{min}\\limits_{\\omega_{i}}\\sigma_{P}=\\mathop{min}\\limits_{\\omega_{i}}\\sqrt{\\sum_{i=1}^N\\sum_{j=1}^N\\omega_{i}\\omega_{j}Cov(R_{i},R_{j})}$"
   ]
  },
  {
   "cell_type": "markdown",
   "metadata": {},
   "source": [
    "Constraint Condition"
   ]
  },
  {
   "cell_type": "markdown",
   "metadata": {},
   "source": [
    "$\\sum_{i=1}^N \\omega_{i}=1$"
   ]
  },
  {
   "cell_type": "markdown",
   "metadata": {},
   "source": [
    "$\\omega_{i}>0$"
   ]
  },
  {
   "cell_type": "markdown",
   "metadata": {},
   "source": [
    "$E(R_{p})=E(\\sum_{i=1}^N\\omega_{i}R_{i})=Constant$"
   ]
  },
  {
   "cell_type": "code",
   "execution_count": 39,
   "metadata": {},
   "outputs": [],
   "source": [
    "import scipy.optimize as sco"
   ]
  },
  {
   "cell_type": "code",
   "execution_count": 40,
   "metadata": {},
   "outputs": [],
   "source": [
    "def f(w): #define optimize function\n",
    "    w = np.array(w)\n",
    "    Rp_opt = np.sum(w * R_mean)\n",
    "    Vp_opt = np.sqrt(np.dot(w, np.dot(R_cov, w.T)))\n",
    "    return np.array([Rp_opt, Vp_opt])"
   ]
  },
  {
   "cell_type": "code",
   "execution_count": 41,
   "metadata": {},
   "outputs": [],
   "source": [
    "def Vmin_f(w): #define min volatility function\n",
    "    return f(w)[1]"
   ]
  },
  {
   "cell_type": "code",
   "execution_count": 42,
   "metadata": {},
   "outputs": [],
   "source": [
    "cons = ({'type':'eq','fun':lambda x: np.sum(x) - 1}, {'type':'eq','fun':lambda x: f(x)[0] - 0.1})\n",
    "bnds = tuple((0,1) for x in range(len(R_mean)))"
   ]
  },
  {
   "cell_type": "code",
   "execution_count": 43,
   "metadata": {},
   "outputs": [
    {
     "data": {
      "text/plain": [
       "[0.2, 0.2, 0.2, 0.2, 0.2]"
      ]
     },
     "execution_count": 43,
     "metadata": {},
     "output_type": "execute_result"
    }
   ],
   "source": [
    "len(R_mean) * [1.0 / len(R_mean),] #equal weight array"
   ]
  },
  {
   "cell_type": "code",
   "execution_count": 44,
   "metadata": {},
   "outputs": [
    {
     "name": "stdout",
     "output_type": "stream",
     "text": [
      "Weight of ACN when R = 10% is:  0.2154\n",
      "Weight of APPL when R = 10% is:  0.0228\n",
      "Weight of WMT when R = 10% is:  0.3074\n",
      "Weight of GS when R = 10% is:  0.0739\n",
      "Weight of XOM when R = 10% is:  0.3805\n"
     ]
    }
   ],
   "source": [
    "result = sco.minimize(Vmin_f, len(R_mean) * [1.0 / len(R_mean),], method = 'SLSQP', bounds = bnds, constraints = cons)\n",
    "print('Weight of ACN when R = 10% is: ', round(result['x'][0], 4))\n",
    "print('Weight of APPL when R = 10% is: ', round(result['x'][1], 4))\n",
    "print('Weight of WMT when R = 10% is: ', round(result['x'][2], 4))\n",
    "print('Weight of GS when R = 10% is: ', round(result['x'][3], 4))\n",
    "print('Weight of XOM when R = 10% is: ', round(result['x'][4], 4))"
   ]
  },
  {
   "cell_type": "code",
   "execution_count": 45,
   "metadata": {},
   "outputs": [],
   "source": [
    "#Calculate weight when min volatility\n",
    "cons_vmin = ({'type':'eq','fun':lambda x: np.sum(x) - 1}) #Only sum of weight = 1"
   ]
  },
  {
   "cell_type": "code",
   "execution_count": 46,
   "metadata": {},
   "outputs": [
    {
     "name": "stdout",
     "output_type": "stream",
     "text": [
      "Portfolio Return when min volatility:  0.1181\n",
      "Min volatility:  0.1369\n"
     ]
    }
   ],
   "source": [
    "result_vmin = sco.minimize(Vmin_f, len(R_mean) * [1.0 / len(R_mean),], method = 'SLSQP', bounds = bnds, constraints = cons_vmin)\n",
    "Rp_vmin = np.sum(R_mean * result_vmin['x'])\n",
    "Vp_vmin = result_vmin['fun']\n",
    "print('Portfolio Return when min volatility: ', round(Rp_vmin, 4))\n",
    "print('Min volatility: ', round(Vp_vmin, 4))"
   ]
  },
  {
   "cell_type": "code",
   "execution_count": 47,
   "metadata": {},
   "outputs": [],
   "source": [
    "Rp_target = np.linspace(Rp_vmin, 0.4, 100) # target return array linspace(start, end, nums)\n",
    "Vp_target = []\n",
    "for r in Rp_target:\n",
    "    cons_new = ({'type':'eq','fun':lambda x: np.sum(x) - 1}, {'type':'eq','fun':lambda x: f(x)[0] - r})\n",
    "    result_new = sco.minimize(Vmin_f, len(R_mean) * [1.0 / len(R_mean),], method = 'SLSQP', bounds = bnds, constraints = cons_new)\n",
    "    Vp_target.append(result_new['fun'])"
   ]
  },
  {
   "cell_type": "code",
   "execution_count": 48,
   "metadata": {},
   "outputs": [
    {
     "data": {
      "image/png": "[encoded data removed]",
      "text/plain": [
       "<Figure size 576x432 with 1 Axes>"
      ]
     },
     "metadata": {
      "needs_background": "light"
     },
     "output_type": "display_data"
    }
   ],
   "source": [
    "plt.figure(figsize = (8, 6))\n",
    "plt.scatter(Vp_list, Rp_list)\n",
    "plt.plot(Vp_target, Rp_target, 'r-', label = 'Efficient Frontier', lw = 2.5)\n",
    "plt.plot(Vp_vmin, Rp_vmin, 'y*', label = 'Global Min volatility', markersize = 14)\n",
    "plt.xlabel('Volatility', fontsize = 13)\n",
    "plt.ylabel('Return', fontsize = 13, rotation = 0)\n",
    "plt.xticks(fontsize = 13)\n",
    "plt.yticks(fontsize = 13)\n",
    "plt.xlim(0.1, 0.24)\n",
    "plt.ylim(-0.1, 0.35)\n",
    "plt.title('Portfolio Efficient Frontier', fontsize = 13)\n",
    "plt.legend(fontsize = 13)\n",
    "plt.grid('True')\n",
    "plt.show()"
   ]
  },
  {
   "cell_type": "markdown",
   "metadata": {},
   "source": [
    "#### Capital Market Line"
   ]
  },
  {
   "cell_type": "markdown",
   "metadata": {},
   "source": [
    "$E(R_{P})=R_{f}+\\left[\\frac{E(R_{M})-R_{f}}{\\sigma_{M}}\\right]\\sigma_{P}$"
   ]
  },
  {
   "cell_type": "markdown",
   "metadata": {},
   "source": [
    "Since risk free rate is always known, the optimization function is max Sharp Ratio which is showed below."
   ]
  },
  {
   "cell_type": "markdown",
   "metadata": {},
   "source": [
    "$\\mathop{max}\\limits_{\\omega_{i}}\\frac{E(R_{P})-R_{f}}{\\sigma_{P}}$"
   ]
  },
  {
   "cell_type": "markdown",
   "metadata": {},
   "source": [
    "Constraint Condition"
   ]
  },
  {
   "cell_type": "markdown",
   "metadata": {},
   "source": [
    "$\\sum_{i=1}^N \\omega_{i}=1$"
   ]
  },
  {
   "cell_type": "markdown",
   "metadata": {},
   "source": [
    "$\\omega_{i}>0$"
   ]
  },
  {
   "cell_type": "code",
   "execution_count": 49,
   "metadata": {},
   "outputs": [],
   "source": [
    "def F(w): #define a new optimize function\n",
    "    Rf = 0.02 #Risk free rate\n",
    "    w = np.array(w)\n",
    "    Rp_opt = np.sum(w * R_mean)\n",
    "    Vp_opt = np.sqrt(np.dot(w, np.dot(R_cov, w.T)))\n",
    "    SR = (Rp_opt - Rf) / Vp_opt # Sharp Ratio\n",
    "    return np.array([Rp_opt, Vp_opt, SR])"
   ]
  },
  {
   "cell_type": "code",
   "execution_count": 50,
   "metadata": {},
   "outputs": [],
   "source": [
    "def SRmin_F(w): # define a function which is min(-SR), hence max(SR)\n",
    "    return -F(w)[2]"
   ]
  },
  {
   "cell_type": "code",
   "execution_count": 51,
   "metadata": {},
   "outputs": [],
   "source": [
    "cons_SR = ({'type':'eq','fun':lambda x: np.sum(x) - 1})\n",
    "result_SR = sco.minimize(SRmin_F, len(R_mean) * [1.0 / len(R_mean),], method = 'SLSQP', bounds = bnds, constraints = cons_SR)"
   ]
  },
  {
   "cell_type": "code",
   "execution_count": 52,
   "metadata": {},
   "outputs": [
    {
     "name": "stdout",
     "output_type": "stream",
     "text": [
      "Expected return of market portfolio:  0.2562\n",
      "Volatility of market portfolio:  0.1605\n"
     ]
    }
   ],
   "source": [
    "Rf = 0.02\n",
    "slope = -result_SR['fun'] #slope of CML\n",
    "Rm = np.sum(R_mean * result_SR['x']) #Expected return of market portfolio\n",
    "Vm = (Rm - Rf) / slope #Volatility of market portfolio\n",
    "print('Expected return of market portfolio: ', round(Rm, 4))\n",
    "print('Volatility of market portfolio: ', round(Vm, 4))"
   ]
  },
  {
   "cell_type": "code",
   "execution_count": 53,
   "metadata": {},
   "outputs": [],
   "source": [
    "Rp_cml = np.linspace(0.02, 0.4)\n",
    "Vp_cml = (Rp_cml - Rf) / slope"
   ]
  },
  {
   "cell_type": "code",
   "execution_count": 54,
   "metadata": {},
   "outputs": [
    {
     "data": {
      "image/png": "[encoded data removed]",
      "text/plain": [
       "<Figure size 576x432 with 1 Axes>"
      ]
     },
     "metadata": {
      "needs_background": "light"
     },
     "output_type": "display_data"
    }
   ],
   "source": [
    "plt.figure(figsize = (8, 6))\n",
    "plt.scatter(Vp_list, Rp_list)\n",
    "plt.plot(Vp_target, Rp_target, 'r-', label = 'Efficient Frontier', lw = 2.5)\n",
    "plt.plot(Vp_cml, Rp_cml, 'b--', label = 'Capital Market Line', lw = 2.5)\n",
    "plt.plot(Vm, Rm, 'g*', label = 'Market Portfolio', markersize = 14)\n",
    "plt.plot(Vp_vmin, Rp_vmin, 'y*', label = 'Global Min volatility', markersize = 14)\n",
    "plt.xlabel('Volatility', fontsize = 13)\n",
    "plt.ylabel('Return', fontsize = 13, rotation = 0)\n",
    "plt.xticks(fontsize = 13)\n",
    "plt.yticks(fontsize = 13)\n",
    "plt.xlim(0.0, 0.24)\n",
    "plt.ylim(-0.1, 0.35)\n",
    "plt.title('Portfolio Theory', fontsize = 13)\n",
    "plt.legend(fontsize = 13)\n",
    "plt.grid('True')\n",
    "plt.show()"
   ]
  },
  {
   "cell_type": "code",
   "execution_count": null,
   "metadata": {},
   "outputs": [],
   "source": []
  }
 ],
 "metadata": {
  "kernelspec": {
   "display_name": "conda_python3",
   "language": "python",
   "name": "conda_python3"
  },
  "language_info": {
   "codemirror_mode": {
    "name": "ipython",
    "version": 3
   },
   "file_extension": ".py",
   "mimetype": "text/x-python",
   "name": "python",
   "nbconvert_exporter": "python",
   "pygments_lexer": "ipython3",
   "version": "3.6.13"
  }
 },
 "nbformat": 4,
 "nbformat_minor": 4
}
