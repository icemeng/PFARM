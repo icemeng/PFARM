{
 "cells": [
  {
   "cell_type": "code",
   "execution_count": 1,
   "id": "8ed5d58b",
   "metadata": {},
   "outputs": [],
   "source": [
    "##########################################################################\n",
    "# Created on Sat Otc 31 21:04:45 2021                                    #\n",
    "# Python for Financial Analysis and Risk Management                      #\n",
    "# @author: Meng Lipeng (FRM, CFA)                                        #\n",
    "##########################################################################"
   ]
  },
  {
   "cell_type": "markdown",
   "id": "c7e04ea8",
   "metadata": {},
   "source": [
    "# 6.4.1.Forward rate measurement"
   ]
  },
  {
   "cell_type": "markdown",
   "id": "88944794",
   "metadata": {},
   "source": [
    "Item                 | Interest  | Rate     | and      | Forward  | Value\n",
    ":------:             | :----:    | :----:   | :----:   | :----:   | :----:\n",
    "Tenor                | 1y        | 2y       | 3y       | 4y       | 5y\n",
    "Zero Rate(Continuous)| 2.0%      | 2.2%     | 2.5%     | 2.8%     | 3.0%\n",
    "FV(Initial 100)      | 102.0201  | 104.4982 | 107.7884 | 111.8513 | 116.1834"
   ]
  },
  {
   "cell_type": "code",
   "execution_count": 2,
   "id": "0cca013b",
   "metadata": {},
   "outputs": [],
   "source": [
    "import numpy as np\n",
    "\n",
    "par=100\n",
    "zero_rate=np.array([0.02,0.022,0.025,0.028,0.03])\n",
    "T_list=np.array([1,2,3,4,5])\n",
    "\n",
    "def f(Rf):\n",
    "    from numpy import exp\n",
    "    R2,R3,R4,R5=Rf\n",
    "    year2=par*exp(zero_rate[0]*T_list[0])*exp(R2*T_list[0])-par*exp(zero_rate[1]*T_list[1])\n",
    "    year3=par*exp(zero_rate[1]*T_list[1])*exp(R3*T_list[0])-par*exp(zero_rate[2]*T_list[2])\n",
    "    year4=par*exp(zero_rate[2]*T_list[2])*exp(R4*T_list[0])-par*exp(zero_rate[3]*T_list[3])\n",
    "    year5=par*exp(zero_rate[3]*T_list[3])*exp(R5*T_list[0])-par*exp(zero_rate[-1]*T_list[-1])\n",
    "    return np.array([year2,year3,year4,year5])"
   ]
  },
  {
   "cell_type": "code",
   "execution_count": 3,
   "id": "13387784",
   "metadata": {},
   "outputs": [
    {
     "name": "stdout",
     "output_type": "stream",
     "text": [
      "Forward rate of year2  0.024\n",
      "Forward rate of year3  0.031\n",
      "Forward rate of year4  0.037\n",
      "Forward rate of year5  0.038\n"
     ]
    }
   ],
   "source": [
    "import scipy.optimize as sco\n",
    "\n",
    "R0=[0.1,0.1,0.1,0.1]\n",
    "forward_rates=sco.fsolve(func=f,x0=R0)\n",
    "\n",
    "print('Forward rate of year2 ',round(forward_rates[0],6))\n",
    "print('Forward rate of year3 ',round(forward_rates[1],6))\n",
    "print('Forward rate of year4 ',round(forward_rates[2],6))\n",
    "print('Forward rate of year5 ',round(forward_rates[3],6))"
   ]
  },
  {
   "cell_type": "markdown",
   "id": "7f1d67f3",
   "metadata": {},
   "source": [
    "## Generalization"
   ]
  },
  {
   "cell_type": "markdown",
   "id": "1d844873",
   "metadata": {},
   "source": [
    "$e^{R_1 T_1} e^{R_F(T_2-T_1)}=e^{R_2 T_2}$"
   ]
  },
  {
   "cell_type": "markdown",
   "id": "aa41da04",
   "metadata": {},
   "source": [
    "$\\Rightarrow \\\n",
    "R_F=R_2+(R_2-R_1)T_1 /(T_2-T_1)\n",
    "$"
   ]
  },
  {
   "cell_type": "code",
   "execution_count": 4,
   "id": "e175fc5c",
   "metadata": {},
   "outputs": [],
   "source": [
    "def Rf(R1,R2,T1,T2):\n",
    "    '''Define a function for calculating forward rate\n",
    "    R1: Zero rate of tenor T1 (Continuous compound)\n",
    "    R2: Zero rate of tenor T2 (Continuous compound)\n",
    "    T1: Tenor1 (year)\n",
    "    T2: Tenor2 (year)'''\n",
    "    forward_rate=R2+(R2-R1)*T1/(T2-T1)\n",
    "    return forward_rate"
   ]
  },
  {
   "cell_type": "code",
   "execution_count": 5,
   "id": "02caf3d8",
   "metadata": {},
   "outputs": [
    {
     "name": "stdout",
     "output_type": "stream",
     "text": [
      "Forward rate of year2  0.024\n",
      "Forward rate of year3  0.031\n",
      "Forward rate of year4  0.037\n",
      "Forward rate of year5  0.038\n"
     ]
    }
   ],
   "source": [
    "Rf_result=Rf(R1=zero_rate[:4],R2=zero_rate[1:],T1=T_list[:4],T2=T_list[1:])\n",
    "\n",
    "print('Forward rate of year2 ',round(Rf_result[0],6))\n",
    "print('Forward rate of year3 ',round(Rf_result[1],6))\n",
    "print('Forward rate of year4 ',round(Rf_result[2],6))\n",
    "print('Forward rate of year5 ',round(Rf_result[3],6))"
   ]
  },
  {
   "cell_type": "markdown",
   "id": "e190e3fd",
   "metadata": {},
   "source": [
    "# 6.4.2.Cashflow of FRA and FRA valuation"
   ]
  },
  {
   "cell_type": "markdown",
   "id": "b74c250f",
   "metadata": {},
   "source": [
    "## Cashflow of FRA"
   ]
  },
  {
   "cell_type": "code",
   "execution_count": 6,
   "id": "fff93f7b",
   "metadata": {},
   "outputs": [],
   "source": [
    "def Cashflow_FRA(Rk,Rm,L,T1,T2,position,when):\n",
    "    '''Define a function for calculating cashflow of FRA\n",
    "    Rk: Fixing rate of FRA\n",
    "    Rm: Reference rate on T1 for [T1,T2]\n",
    "    L:  Notional amount\n",
    "    T1: Tenor\n",
    "    T2: Tenor, T2>T1\n",
    "    postion: 'long' or 'short'\n",
    "    when: when cashflow occured. 'begin' indicates occured on T1, otherwise T2'''\n",
    "    if position=='long':\n",
    "        if when=='begin':\n",
    "            cashflow=((Rm-Rk)*(T2-T1)*L)/(1+(T2-T1)*Rm)\n",
    "        else:\n",
    "            cashflow=(Rm-Rk)*(T2-T1)*L\n",
    "    else:\n",
    "        if when=='begin':\n",
    "            cashflow=((Rk-Rm)*(T2-T1)*L)/(1+(T2-T1)*Rm)\n",
    "        else:\n",
    "            cashflow=(Rk-Rm)*(T2-T1)*L\n",
    "    return cashflow"
   ]
  },
  {
   "cell_type": "code",
   "execution_count": 7,
   "id": "b6d75f18",
   "metadata": {},
   "outputs": [
    {
     "name": "stdout",
     "output_type": "stream",
     "text": [
      "Cashflow occured after 1.25yrs for long  189000.0\n",
      "Cashflow occured after 1.25yrs for short  -189000.0\n",
      "Cashflow occured after 1yrs for long  187706.7\n",
      "Cashflow occured after 1yrs for short  -187706.7\n"
     ]
    }
   ],
   "source": [
    "# 12X15 FRA(3months loan,1year from now)\n",
    "par_FRA=1e8\n",
    "R_fix=0.02\n",
    "Shibor_3M=0.02756 #3M Shibor when FRA expiration(after one year)\n",
    "tenor1=1\n",
    "tenor2=1.25\n",
    "\n",
    "FRA_long_end=Cashflow_FRA(Rk=R_fix,Rm=Shibor_3M,L=par_FRA,T1=tenor1,T2=tenor2,position='long',when='end')\n",
    "FRA_short_end=Cashflow_FRA(Rk=R_fix,Rm=Shibor_3M,L=par_FRA,T1=tenor1,T2=tenor2,position='short',when='end')\n",
    "FRA_long_begin=Cashflow_FRA(Rk=R_fix,Rm=Shibor_3M,L=par_FRA,T1=tenor1,T2=tenor2,position='long',when='begin')\n",
    "FRA_short_begin=Cashflow_FRA(Rk=R_fix,Rm=Shibor_3M,L=par_FRA,T1=tenor1,T2=tenor2,position='short',when='begin')\n",
    "\n",
    "print('Cashflow occured after 1.25yrs for long ',round(FRA_long_end,2))\n",
    "print('Cashflow occured after 1.25yrs for short ',round(FRA_short_end,2))\n",
    "print('Cashflow occured after 1yrs for long ',round(FRA_long_begin,2))\n",
    "print('Cashflow occured after 1yrs for short ',round(FRA_short_begin,2))"
   ]
  },
  {
   "cell_type": "markdown",
   "id": "add922e0",
   "metadata": {},
   "source": [
    "`CFA Level2 Example:Calculating value of an FRA at maturity(i.e.,cash payment at settlement)`\n",
    "* 1X4 FRA(3month loan,1month from now)\n",
    "* Notional principle $1 million\n",
    "* Libor_3M when FRA expiration is 6%\n",
    "* Contract rate is 5.32%"
   ]
  },
  {
   "cell_type": "code",
   "execution_count": 8,
   "id": "f665c4f5",
   "metadata": {},
   "outputs": [
    {
     "name": "stdout",
     "output_type": "stream",
     "text": [
      "Cashflow for long at settlement  1674.88\n"
     ]
    }
   ],
   "source": [
    "cash_settlement=Cashflow_FRA(Rk=0.0532,Rm=0.06,L=1e6,T1=1/12,T2=4/12,position='long',when='begin')\n",
    "print('Cashflow for long at settlement ',round(cash_settlement,2))"
   ]
  },
  {
   "cell_type": "markdown",
   "id": "77f0c725",
   "metadata": {},
   "source": [
    "## FRA valuation"
   ]
  },
  {
   "cell_type": "code",
   "execution_count": 9,
   "id": "52ef32b7",
   "metadata": {},
   "outputs": [],
   "source": [
    "def Value_FRA(Rk,Rf,R,L,T1,T2,position):\n",
    "    '''Define a function for FRA valuation\n",
    "    Rk: Fixing rate of FRA\n",
    "    Rf: Forward Reference rate on T1 for [T1,T2]\n",
    "    R: Risk free rate for tenor of T2, continuous compound\n",
    "    L:  Notional amount\n",
    "    T1: Tenor\n",
    "    T2: Tenor, T2>T1\n",
    "    postion: 'long' or 'short' '''\n",
    "    if position=='long':\n",
    "        value=L*(Rf-Rk)*(T2-T1)*np.exp(-R*T2)\n",
    "    else:\n",
    "        value=L*(Rk-Rf)*(T2-T1)*np.exp(-R*T2)\n",
    "    return value"
   ]
  },
  {
   "cell_type": "code",
   "execution_count": 10,
   "id": "f5454f35",
   "metadata": {},
   "outputs": [
    {
     "name": "stdout",
     "output_type": "stream",
     "text": [
      "Forward Reference rate on T1 for [T1,T2] is  0.03141\n"
     ]
    }
   ],
   "source": [
    "Shibor_6M=0.02838\n",
    "Shibor_9M=0.02939\n",
    "Tenor1=0.5\n",
    "Tenor2=0.75\n",
    "\n",
    "FR_Shibor=Rf(R1=Shibor_6M,R2=Shibor_9M,T1=Tenor1,T2=Tenor2)\n",
    "print('Forward Reference rate on T1 for [T1,T2] is ',round(FR_Shibor,6))"
   ]
  },
  {
   "cell_type": "code",
   "execution_count": 11,
   "id": "9294d740",
   "metadata": {},
   "outputs": [
    {
     "name": "stdout",
     "output_type": "stream",
     "text": [
      "FRA value for short postion is  -69217.59\n",
      "FRA value for long postion is  69217.59\n"
     ]
    }
   ],
   "source": [
    "Par_FRA=2e8\n",
    "R_fix=0.03\n",
    "R_riskfree=0.024477\n",
    "\n",
    "FRA_short=Value_FRA(Rk=R_fix,Rf=FR_Shibor,R=R_riskfree,L=Par_FRA,T1=Tenor1,T2=Tenor2,position='short')\n",
    "FRA_long=Value_FRA(Rk=R_fix,Rf=FR_Shibor,R=R_riskfree,L=Par_FRA,T1=Tenor1,T2=Tenor2,position='long')\n",
    "\n",
    "print('FRA value for short postion is ',round(FRA_short,2))\n",
    "print('FRA value for long postion is ',round(FRA_long,2))"
   ]
  },
  {
   "cell_type": "markdown",
   "id": "cb502ac7",
   "metadata": {},
   "source": [
    "`CFA Level2 Example:Calculating value of an FRA before settlement`\n",
    "* 1X4 FRA \n",
    "* Notional principle $1 million\n",
    "* T1 is 20d whereas T2 is 110d\n",
    "* Libor_20d is 5.7% where as Libor_110d is 5.9%\n",
    "* Contract rate is 5.32%"
   ]
  },
  {
   "cell_type": "code",
   "execution_count": 12,
   "id": "552ee33c",
   "metadata": {},
   "outputs": [
    {
     "name": "stdout",
     "output_type": "stream",
     "text": [
      "Forward Reference rate on T1 for [T1,T2] is  0.059444\n"
     ]
    }
   ],
   "source": [
    "Libor_20d=0.057\n",
    "Libor_110d=0.059\n",
    "Tenor1=20/360\n",
    "Tenor2=110/360\n",
    "\n",
    "FR_Libor=Rf(R1=Libor_20d,R2=Libor_110d,T1=Tenor1,T2=Tenor2)\n",
    "print('Forward Reference rate on T1 for [T1,T2] is ',round(FR_Libor,6))"
   ]
  },
  {
   "cell_type": "code",
   "execution_count": 14,
   "id": "a51ab938",
   "metadata": {},
   "outputs": [
    {
     "name": "stdout",
     "output_type": "stream",
     "text": [
      "FRA value for long postion is  1533.22\n"
     ]
    }
   ],
   "source": [
    "value_long=Value_FRA(Rk=0.0532,Rf=FR_Libor,R=Libor_110d,L=1e6,T1=Tenor1,T2=Tenor2,position='long')\n",
    "\n",
    "print('FRA value for long postion is ',round(value_long,2))"
   ]
  },
  {
   "cell_type": "code",
   "execution_count": null,
   "id": "12571489",
   "metadata": {},
   "outputs": [],
   "source": []
  }
 ],
 "metadata": {
  "kernelspec": {
   "display_name": "Custom (custom_python)",
   "language": "python",
   "name": "custom_python"
  },
  "language_info": {
   "codemirror_mode": {
    "name": "ipython",
    "version": 3
   },
   "file_extension": ".py",
   "mimetype": "text/x-python",
   "name": "python",
   "nbconvert_exporter": "python",
   "pygments_lexer": "ipython3",
   "version": "3.6.12"
  }
 },
 "nbformat": 4,
 "nbformat_minor": 5
}
