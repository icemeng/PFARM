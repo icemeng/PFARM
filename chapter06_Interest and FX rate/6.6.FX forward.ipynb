{
 "cells": [
  {
   "cell_type": "code",
   "execution_count": 1,
   "id": "2a293e1c",
   "metadata": {},
   "outputs": [],
   "source": [
    "##########################################################################\n",
    "# Created on Sat Nov 01 23:21:45 2021                                    #\n",
    "# Python for Financial Analysis and Risk Management                      #\n",
    "# @author: Meng Lipeng (FRM, CFA)                                        #\n",
    "##########################################################################"
   ]
  },
  {
   "cell_type": "markdown",
   "id": "7084166d",
   "metadata": {},
   "source": [
    "# 6.6.1.Measure FX forward rate"
   ]
  },
  {
   "cell_type": "code",
   "execution_count": 12,
   "id": "3421249b",
   "metadata": {},
   "outputs": [],
   "source": [
    "def FX_forward(spot,r_A,r_B,T):\n",
    "    '''Define a function for FX forward calculation.\n",
    "    spot: spot FX rate. A/B\n",
    "    r_A: risk free rate for currency A. annual compound\n",
    "    r_B: risk free rate for currency B. annual compound\n",
    "    T: Tenor for FX forward in year'''\n",
    "    forward=spot*(1+r_A*T)/(1+r_B*T)\n",
    "    return forward"
   ]
  },
  {
   "cell_type": "markdown",
   "id": "2e10adab",
   "metadata": {},
   "source": [
    "IR      | 1M       | 3M      | 6M       | 1Y  \n",
    ":------:| :----:   | :----:  | :----:   | :----:  \n",
    "Shibor  | 1.5820%  | 1.5940% | 1.6680%  | 1.9030% \n",
    "Libor   | 0.1801%  | 0.3129% | 0.4813%  | 0.6340% "
   ]
  },
  {
   "cell_type": "code",
   "execution_count": 13,
   "id": "127041af",
   "metadata": {},
   "outputs": [
    {
     "name": "stdout",
     "output_type": "stream",
     "text": [
      "one month FX forward rate(CNY/USD)  7.1048\n",
      "three month FX forward rate(CNY/USD)  7.1192\n",
      "six month FX forward rate(CNY/USD)  7.1385\n",
      "one year FX forward rate(CNY/USD)  7.186\n"
     ]
    }
   ],
   "source": [
    "import numpy as np\n",
    "\n",
    "FX_spot=7.0965\n",
    "Tenor=np.array([1/12,3/12,6/12,1.0])\n",
    "Shibor=np.array([0.015820,0.015940,0.016680,0.019030])\n",
    "Libor=np.array([0.001801,0.003129,0.004813,0.006340])\n",
    "\n",
    "FX_forward_list=np.zeros_like(Tenor)\n",
    "for i in range(len(Tenor)):\n",
    "    FX_forward_list[i]=FX_forward(spot=FX_spot,r_A=Shibor[i],r_B=Libor[i],T=Tenor[i])\n",
    "   \n",
    "print('one month FX forward rate(CNY/USD) ',round(FX_forward_list[0],4))\n",
    "print('three month FX forward rate(CNY/USD) ',round(FX_forward_list[1],4))\n",
    "print('six month FX forward rate(CNY/USD) ',round(FX_forward_list[2],4))\n",
    "print('one year FX forward rate(CNY/USD) ',round(FX_forward_list[3],4))"
   ]
  },
  {
   "cell_type": "markdown",
   "id": "f6b5f4c8",
   "metadata": {},
   "source": [
    "# 6.6.2.Covered interst arbitrage"
   ]
  },
  {
   "cell_type": "code",
   "execution_count": 14,
   "id": "d93caa8b",
   "metadata": {},
   "outputs": [],
   "source": [
    "def cov_arbitrage(S,F,M_A,M_B,r_A,r_B,T,A,B):\n",
    "    '''Define a function for calculating covered interest arbitrage profit and show the sequence for arbitrage\n",
    "    S: spot FX rate. A/B\n",
    "    F: forward FX rate in market.\n",
    "    M_A: notional amount of A. 'Na' indicates not known yet\n",
    "    M_B: notional amount of B. 'Na' indicates not known yet\n",
    "    r_A: risk free rate of A. annual compound\n",
    "    r_B: risk free rate of B. annual compound\n",
    "    T: Tenor for FX forward in year\n",
    "    A: currency name of A\n",
    "    B: currency name of B'''\n",
    "    F_new=S*(1+r_A*T)/(1+r_B*T)\n",
    "    if F_new<F:\n",
    "        if M_B=='Na':\n",
    "            profit=M_A*(1+T*r_B)*F/S-M_A*(1+T*r_A)\n",
    "            if profit>0:\n",
    "                sequence=['arbitrage sequence: ',\n",
    "                         '(1)Name of currency borrowed at the initial time ',A,\n",
    "                         '(2)Name of currency converted and invested at spot exchange rate ',B,\n",
    "                         '(3)Name of currency converted at the end of the investment at the forward exchange rate',A,\n",
    "                         '(4)Repayment of borrowed funds at the initial time.']\n",
    "            else:\n",
    "                sequence=['No arbitrage opportunity exists.']\n",
    "        else:\n",
    "            profit=M_B*S*(1+T*r_A)/F-M_B*(1+T*r_B)\n",
    "            if profit>0:\n",
    "                sequence=['arbitrage sequence: ',\n",
    "                         '(1)Name of currency borrowed at the initial time ',B,\n",
    "                         '(2)Name of currency converted and invested at spot exchange rate ',A,\n",
    "                         '(3)Name of currency converted at the end of the investment at the forward exchange rate',B,\n",
    "                         '(4)Repayment of borrowed funds at the initial time.']\n",
    "            else:\n",
    "                sequence=['No arbitrage opportunity exists.']\n",
    "    elif F_new>F:\n",
    "        if M_B=='Na':\n",
    "            profit=M_A*(1+T*r_B)*F/S-M_A*(1+T*r_A)\n",
    "            if profit>0:\n",
    "                sequence=['arbitrage sequence: ',\n",
    "                         '(1)Name of currency borrowed at the initial time ',A,\n",
    "                         '(2)Name of currency converted and invested at spot exchange rate ',B,\n",
    "                         '(3)Name of currency converted at the end of the investment at the forward exchange rate',A,\n",
    "                         '(4)Repayment of borrowed funds at the initial time.']\n",
    "            else:\n",
    "                sequence=['No arbitrage opportunity exists.']\n",
    "        else:\n",
    "            profit=M_B*S*(1+T*r_A)/F-M_B*(1+T*r_B)\n",
    "            if profit>0:\n",
    "                sequence=['arbitrage sequence: ',\n",
    "                         '(1)Name of currency borrowed at the initial time ',B,\n",
    "                         '(2)Name of currency converted and invested at spot exchange rate ',A,\n",
    "                         '(3)Name of currency converted at the end of the investment at the forward exchange rate',B,\n",
    "                         '(4)Repayment of borrowed funds at the initial time.']\n",
    "            else:\n",
    "                sequence=['No arbitrage opportunity exists.']\n",
    "    else:\n",
    "        if M_B=='Na':\n",
    "            profit=0\n",
    "            sequence=['No arbitrage opportunity exists.']\n",
    "        else:\n",
    "            profit=0\n",
    "            sequence=['No arbitrage opportunity exists.']\n",
    "    return[profit,sequence]"
   ]
  },
  {
   "cell_type": "code",
   "execution_count": 15,
   "id": "4364fcbb",
   "metadata": {},
   "outputs": [
    {
     "name": "stdout",
     "output_type": "stream",
     "text": [
      "Income from borrowing CNY 100 million for covered interest arbitrage  -138353.05\n",
      "['No arbitrage opportunity exists.']\n",
      "Income from borrowing USD 14 million for covered interest arbitrage  19334.28\n",
      "['arbitrage sequence: ', '(1)Name of currency borrowed at the initial time ', 'USD', '(2)Name of currency converted and invested at spot exchange rate ', 'CNY', '(3)Name of currency converted at the end of the investment at the forward exchange rate', 'USD', '(4)Repayment of borrowed funds at the initial time.']\n"
     ]
    }
   ],
   "source": [
    "value_CNY=1e8\n",
    "value_USD=1.4e7\n",
    "Shibor_3M=0.01594\n",
    "Libor_3M=0.003129\n",
    "tenor=3/12\n",
    "FX_spot=7.0965\n",
    "FX_forward_Jun05=7.1094\n",
    "\n",
    "arbitrage_CNY=cov_arbitrage(S=FX_spot,F=FX_forward_Jun05,M_A=value_CNY,M_B='Na',r_A=Shibor_3M,r_B=Libor_3M,T=tenor,A='CNY',B='USD')\n",
    "print('Income from borrowing CNY 100 million for covered interest arbitrage ',round(arbitrage_CNY[0],2))\n",
    "print(arbitrage_CNY[1])\n",
    "\n",
    "arbitrage_USD=cov_arbitrage(S=FX_spot,F=FX_forward_Jun05,M_A='Na',M_B=value_USD,r_A=Shibor_3M,r_B=Libor_3M,T=tenor,A='CNY',B='USD')\n",
    "print('Income from borrowing USD 14 million for covered interest arbitrage ',round(arbitrage_USD[0],2))\n",
    "print(arbitrage_USD[1])"
   ]
  },
  {
   "cell_type": "markdown",
   "id": "17dbcead",
   "metadata": {},
   "source": [
    "# 6.6.3.FX forward valuation"
   ]
  },
  {
   "cell_type": "code",
   "execution_count": 24,
   "id": "1b410df0",
   "metadata": {},
   "outputs": [],
   "source": [
    "def Value_FX_Forward(F1,F2,S,par,R,t,pc,vc,position):\n",
    "    '''Define a function for FX forward valuation\n",
    "    F1: Forward FX rate agreed on the initial date of the contract. A/B\n",
    "    F2: Forward FX rate at valuation date\n",
    "    S:  Spot FX rate at valuation date\n",
    "    par:Notional amount at currency pc\n",
    "    R: Rf(continuous compound)of currency which is different from notional currency\n",
    "    t: Remaining tenor of contract in year\n",
    "    pc: par currency. 'A'indicates currency A, otherwise currency B\n",
    "    vc: valuation currency. 'A'indicates currency A, otherwise currency B\n",
    "    position: 'long' indicates long position, otherwise short position\n",
    "    '''\n",
    "    from numpy import exp\n",
    "    if pc=='A':\n",
    "        if position=='long':\n",
    "            if vc=='A':\n",
    "                value=S*(par/F2-par/F1)*exp(-R*t)\n",
    "            else:\n",
    "                value=(par/F2-par/F1)*exp(-R*t)\n",
    "        else:\n",
    "            if vc=='A':\n",
    "                value=S*(par/F1-par/F2)*exp(-R*t)\n",
    "            else:\n",
    "                value=(par/F1-par/F2)*exp(-R*t)\n",
    "    else:\n",
    "        if position=='long':\n",
    "            if vc=='A':\n",
    "                value=(par*F2-par*F1)*exp(-R*t)\n",
    "            else:\n",
    "                value=(par*F2-par*F1)*exp(-R*t)/S\n",
    "        else:\n",
    "            if vc=='A':\n",
    "                value=(par*F1-par*F2)*exp(-R*t)\n",
    "            else:\n",
    "                value=(par*F1-par*F2)*exp(-R*t)/S\n",
    "    return value"
   ]
  },
  {
   "cell_type": "markdown",
   "id": "5a80bf10",
   "metadata": {},
   "source": [
    "Date       | Spot rate | 6M Shibor | 6M Libor | 3M Shibor | 3M Libor  \n",
    ":------:   | :----:    | :----:    | :----:   | :----:    | :----:\n",
    "2020/02/28 | 7.0066    | 2.5600%   | 1.3973%  | -         | - \n",
    "2020/05/28 | 7.1277    | -         | -        | 1.4300%   | 0.3500%"
   ]
  },
  {
   "cell_type": "code",
   "execution_count": 25,
   "id": "84ce2ed0",
   "metadata": {},
   "outputs": [
    {
     "name": "stdout",
     "output_type": "stream",
     "text": [
      "6M FX forward of CNY/USD at 2020/02/28  7.047050263335208\n"
     ]
    }
   ],
   "source": [
    "par_CNY=1e8\n",
    "FX_spot_Feb28=7.0066\n",
    "Shibor_6M_Feb28=0.0256\n",
    "Libor_6M_Feb28=0.013973\n",
    "T1=6/12\n",
    "\n",
    "FX_forward_Feb28=FX_forward(spot=FX_spot_Feb28,r_A=Shibor_6M_Feb28,r_B=Libor_6M_Feb28,T=T1)\n",
    "print('6M FX forward of CNY/USD at 2020/02/28 ',FX_forward_Feb28)"
   ]
  },
  {
   "cell_type": "code",
   "execution_count": 29,
   "id": "f92e1586",
   "metadata": {},
   "outputs": [
    {
     "name": "stdout",
     "output_type": "stream",
     "text": [
      "3M FX forward of CNY/USD at 2020/05/28  7.146927965530162\n"
     ]
    }
   ],
   "source": [
    "FX_spot_May28=7.1277\n",
    "Shibor_3M_May28=0.0143\n",
    "Libor_3M_May28=0.0035\n",
    "rate_USD=np.log(1+Libor_3M_May28) #3M libor annual compound->continuous compound\n",
    "T2=3/12\n",
    "\n",
    "FX_forward_May28=FX_forward(spot=FX_spot_May28,r_A=Shibor_3M_May28,r_B=Libor_3M_May28,T=T2)\n",
    "print('3M FX forward of CNY/USD at 2020/05/28 ',FX_forward_May28)"
   ]
  },
  {
   "cell_type": "code",
   "execution_count": 30,
   "id": "33d16c2a",
   "metadata": {},
   "outputs": [
    {
     "name": "stdout",
     "output_type": "stream",
     "text": [
      "Value of contract for short position at 2020/05/28 1412250.82\n",
      "Value of contract for long position at 2020/05/28 -198135.56\n"
     ]
    }
   ],
   "source": [
    "value_short=Value_FX_Forward(F1=FX_forward_Feb28,F2=FX_forward_May28,S=FX_spot_May28,par=par_CNY,R=rate_USD,t=T2,pc='A',vc='A',position='short')\n",
    "value_long=Value_FX_Forward(F1=FX_forward_Feb28,F2=FX_forward_May28,S=FX_spot_May28,par=par_CNY,R=rate_USD,t=T2,pc='A',vc='B',position='long')\n",
    "print('Value of contract for short position at 2020/05/28', round(value_short,2))\n",
    "print('Value of contract for long position at 2020/05/28', round(value_long,2))"
   ]
  },
  {
   "cell_type": "code",
   "execution_count": null,
   "id": "7b96cc08",
   "metadata": {},
   "outputs": [],
   "source": []
  }
 ],
 "metadata": {
  "kernelspec": {
   "display_name": "Custom (custom_python)",
   "language": "python",
   "name": "custom_python"
  },
  "language_info": {
   "codemirror_mode": {
    "name": "ipython",
    "version": 3
   },
   "file_extension": ".py",
   "mimetype": "text/x-python",
   "name": "python",
   "nbconvert_exporter": "python",
   "pygments_lexer": "ipython3",
   "version": "3.6.12"
  }
 },
 "nbformat": 4,
 "nbformat_minor": 5
}
