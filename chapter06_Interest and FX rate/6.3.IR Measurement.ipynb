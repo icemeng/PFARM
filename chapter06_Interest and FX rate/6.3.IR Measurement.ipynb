{
 "cells": [
  {
   "cell_type": "code",
   "execution_count": 1,
   "id": "3d1eefc6",
   "metadata": {},
   "outputs": [],
   "source": [
    "##########################################################################\n",
    "# Created on Sat Otc 31 16:19:45 2021                                    #\n",
    "# Python for Financial Analysis and Risk Management                      #\n",
    "# @author: Meng Lipeng (FRM, CFA)                                        #\n",
    "##########################################################################"
   ]
  },
  {
   "cell_type": "markdown",
   "id": "047df12c",
   "metadata": {},
   "source": [
    "# 6.3.1.Relativity of IR"
   ]
  },
  {
   "cell_type": "code",
   "execution_count": 4,
   "id": "8189ca34",
   "metadata": {},
   "outputs": [
    {
     "name": "stdout",
     "output_type": "stream",
     "text": [
      "once per year FV 10200.0\n",
      "once per semi-year FV 10201.0\n",
      "once per quarter FV 10201.51\n",
      "once per month FV 10201.84\n",
      "once per week FV 10201.97\n",
      "once per day FV 10202.01\n"
     ]
    }
   ],
   "source": [
    "par=1e4\n",
    "r=0.02\n",
    "M=[1,2,4,12,52,365] #Compound frequency\n",
    "name=['once per year','once per semi-year','once per quarter','once per month','once per week','once per day']\n",
    "\n",
    "value=[]\n",
    "i=0\n",
    "\n",
    "for m in M:\n",
    "    value.append(par*(1+r/m)**m)\n",
    "    print(name[i],'FV',round(value[i],2))\n",
    "    i=i+1"
   ]
  },
  {
   "cell_type": "markdown",
   "id": "21dc838a",
   "metadata": {},
   "source": [
    "$FV = A(1+\\frac{R}{m})^{mn}$"
   ]
  },
  {
   "cell_type": "code",
   "execution_count": 5,
   "id": "e1ec6484",
   "metadata": {},
   "outputs": [],
   "source": [
    "def FV(A,n,R,m):\n",
    "    '''Define a function used for calculate FV under different compound frequency\n",
    "    A: Initial amount\n",
    "    n: Investment tenor(year)\n",
    "    R: Yield(year)\n",
    "    m: Compound frequency(\n",
    "       'Y':once per year\n",
    "       'S':once per semi-year\n",
    "       'Q':once per quarter\n",
    "       'M':once per month\n",
    "       'W':once per week\n",
    "       'D':once per day)'''\n",
    "    if m=='Y':\n",
    "        value=A*pow(1+R,n)\n",
    "    elif m=='S':\n",
    "        value=A*pow(1+R/2,n*2)\n",
    "    elif m=='Q':\n",
    "        value=A*pow(1+R/4,n*4)\n",
    "    elif m=='M':\n",
    "        value=A*pow(1+R/12,n*12)\n",
    "    elif m=='W':\n",
    "        value=A*pow(1+R/52,n*52)\n",
    "    else:\n",
    "        value=A*pow(1+R/365,n*365)\n",
    "    return value"
   ]
  },
  {
   "cell_type": "code",
   "execution_count": 6,
   "id": "6333b83d",
   "metadata": {},
   "outputs": [
    {
     "name": "stdout",
     "output_type": "stream",
     "text": [
      "FV(once per week)  10201.97\n"
     ]
    }
   ],
   "source": [
    "N=1\n",
    "FV_week=FV(A=par,n=N,R=r,m='W')\n",
    "print('FV(once per week) ',round(FV_week,2))"
   ]
  },
  {
   "cell_type": "code",
   "execution_count": 8,
   "id": "7c60fabc",
   "metadata": {},
   "outputs": [
    {
     "data": {
      "image/png": "[encoded data removed]",
      "text/plain": [
       "<Figure size 648x432 with 1 Axes>"
      ]
     },
     "metadata": {
      "needs_background": "light"
     },
     "output_type": "display_data"
    }
   ],
   "source": [
    "import numpy as np\n",
    "import matplotlib.pyplot as plt\n",
    "\n",
    "par_new=100\n",
    "M_list=np.arange(1,201)\n",
    "Value_list=par_new*pow(1+r/M_list,M_list)\n",
    "\n",
    "plt.figure(figsize=(9,6))\n",
    "plt.plot(M_list,Value_list,'r-',lw=2.5)\n",
    "plt.xticks(fontsize=13)\n",
    "plt.xlim(0,200)\n",
    "plt.xlabel('Compound Frequency',fontsize=13)\n",
    "plt.yticks(fontsize=13)\n",
    "plt.ylabel('FV',fontsize=13)\n",
    "plt.title('Relationship between FV and Compound Frequency',fontsize=14)\n",
    "plt.grid()\n",
    "plt.show()"
   ]
  },
  {
   "cell_type": "markdown",
   "id": "4faef90b",
   "metadata": {},
   "source": [
    "## Continuous compounding"
   ]
  },
  {
   "cell_type": "markdown",
   "id": "babe18e5",
   "metadata": {},
   "source": [
    "$$\n",
    "FV = \\lim_{m\\to+\\infty}A(1+\\frac{R}{m})^{mn}=Ae^{Rn}\n",
    "$$"
   ]
  },
  {
   "cell_type": "markdown",
   "id": "9d5509f3",
   "metadata": {},
   "source": [
    "# 6.3.2.Equivalence of IR"
   ]
  },
  {
   "cell_type": "markdown",
   "id": "6da77607",
   "metadata": {},
   "source": [
    "## Relationship 1"
   ]
  },
  {
   "cell_type": "markdown",
   "id": "1df106c7",
   "metadata": {},
   "source": [
    "$R_2=m_2[(1+\\frac{R_1}{m_1})^{\\frac{m_1}{m_2}}-1]$"
   ]
  },
  {
   "cell_type": "code",
   "execution_count": 14,
   "id": "941dd156",
   "metadata": {},
   "outputs": [],
   "source": [
    "def R_m2(R_m1,m1,m2):\n",
    "    '''Define a function that when Rm1 and m1 frequency are known, calculate IR of m2 frequency\n",
    "    R_m1: IR of m1 frequency\n",
    "    m1: Compound frequency of R_m1\n",
    "    m2: Compound frequency of R_m2'''\n",
    "    r=m2*(pow(1+R_m1/m1,m1/m2)-1)\n",
    "    return r"
   ]
  },
  {
   "cell_type": "code",
   "execution_count": 15,
   "id": "045ca952",
   "metadata": {},
   "outputs": [
    {
     "name": "stdout",
     "output_type": "stream",
     "text": [
      "Monthly compound IR is  0.029814\n"
     ]
    }
   ],
   "source": [
    "R_semiannual=0.03\n",
    "m_semiannual=2\n",
    "m_month=12\n",
    "\n",
    "R_month=R_m2(R_m1=R_semiannual,m1=m_semiannual,m2=m_month)\n",
    "print('Monthly compound IR is ',round(R_month,6))"
   ]
  },
  {
   "cell_type": "markdown",
   "id": "71d141da",
   "metadata": {},
   "source": [
    "## Relationship 2"
   ]
  },
  {
   "cell_type": "markdown",
   "id": "878e1ef6",
   "metadata": {},
   "source": [
    "$R_c=m\\times \\ln(1+\\frac{R_m}{m})$"
   ]
  },
  {
   "cell_type": "markdown",
   "id": "58e8248e",
   "metadata": {},
   "source": [
    "$R_m=m(e^\\frac{R_c}{m}-1)$"
   ]
  },
  {
   "cell_type": "code",
   "execution_count": 17,
   "id": "f25c4ff5",
   "metadata": {},
   "outputs": [],
   "source": [
    "def Rc(Rm,m):\n",
    "    '''Define a function that when Rm and m frequency are known, calculate continuous IR\n",
    "    Rm: IR of m frequency\n",
    "    m: Compound frequency'''\n",
    "    r=m*np.log(1+Rm/m)\n",
    "    return r"
   ]
  },
  {
   "cell_type": "code",
   "execution_count": 18,
   "id": "897a96a3",
   "metadata": {},
   "outputs": [],
   "source": [
    "def Rm(Rc,m):\n",
    "    '''Define a function that when continuous IR is known, calculate IR of m frequency\n",
    "    Rc: Continuous compound IR\n",
    "    m: Compound frequency'''\n",
    "    r=m*(np.exp(Rc/m)-1)\n",
    "    return r"
   ]
  },
  {
   "cell_type": "code",
   "execution_count": 19,
   "id": "19a87325",
   "metadata": {},
   "outputs": [
    {
     "name": "stdout",
     "output_type": "stream",
     "text": [
      "Continuous IR  0.039801\n"
     ]
    }
   ],
   "source": [
    "R1=0.04\n",
    "M1=4\n",
    "\n",
    "R_c=Rc(R1,M1)\n",
    "print('Continuous IR ',round(R_c,6))"
   ]
  },
  {
   "cell_type": "code",
   "execution_count": 20,
   "id": "7e8181c2",
   "metadata": {},
   "outputs": [
    {
     "name": "stdout",
     "output_type": "stream",
     "text": [
      "Monthly compound IR  0.050104\n"
     ]
    }
   ],
   "source": [
    "R2=0.05\n",
    "M2=12\n",
    "\n",
    "R_m=Rm(R2,M2)\n",
    "print('Monthly compound IR ', round(R_m,6))"
   ]
  },
  {
   "cell_type": "markdown",
   "id": "8a456530",
   "metadata": {},
   "source": [
    "# 6.3.3.Zero rate"
   ]
  },
  {
   "cell_type": "code",
   "execution_count": 21,
   "id": "937328e0",
   "metadata": {},
   "outputs": [
    {
     "name": "stdout",
     "output_type": "stream",
     "text": [
      "FV(after 3y)  10927.27\n"
     ]
    }
   ],
   "source": [
    "R3=0.03\n",
    "T=3\n",
    "\n",
    "value_3y=FV(par,T,R3,'Y')\n",
    "print('FV(after 3y) ',round(value_3y,2))"
   ]
  },
  {
   "cell_type": "code",
   "execution_count": null,
   "id": "92ef85ef",
   "metadata": {},
   "outputs": [],
   "source": []
  }
 ],
 "metadata": {
  "kernelspec": {
   "display_name": "Custom (custom_python)",
   "language": "python",
   "name": "custom_python"
  },
  "language_info": {
   "codemirror_mode": {
    "name": "ipython",
    "version": 3
   },
   "file_extension": ".py",
   "mimetype": "text/x-python",
   "name": "python",
   "nbconvert_exporter": "python",
   "pygments_lexer": "ipython3",
   "version": "3.6.12"
  }
 },
 "nbformat": 4,
 "nbformat_minor": 5
}
