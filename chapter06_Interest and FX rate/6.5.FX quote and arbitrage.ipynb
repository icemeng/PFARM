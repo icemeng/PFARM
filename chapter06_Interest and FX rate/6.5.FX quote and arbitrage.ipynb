{
 "cells": [
  {
   "cell_type": "code",
   "execution_count": 1,
   "id": "673b2bfe",
   "metadata": {},
   "outputs": [],
   "source": [
    "##########################################################################\n",
    "# Created on Sat Nov 01 22:16:45 2021                                    #\n",
    "# Python for Financial Analysis and Risk Management                      #\n",
    "# @author: Meng Lipeng (FRM, CFA)                                        #\n",
    "##########################################################################"
   ]
  },
  {
   "cell_type": "markdown",
   "id": "ef6a0f05",
   "metadata": {},
   "source": [
    "# 6.5.1.FX quote"
   ]
  },
  {
   "cell_type": "markdown",
   "id": "62d52fc3",
   "metadata": {},
   "source": [
    "Company | Country       | FX Postion  | FX       | Rate  | Quote\n",
    ":------:| :----:        | :----:      | :----:   | :----:| :----:\n",
    "P       | China         | 6million USD| CNY/USD  | 7.1277| Direct quotation\n",
    "Q       | Great Britain | 8million EUR| EUR/GBP  | 1.1135| Indirect quotation"
   ]
  },
  {
   "cell_type": "code",
   "execution_count": 5,
   "id": "15dc35fb",
   "metadata": {},
   "outputs": [],
   "source": [
    "def exchange(E,LC,FC,quote):\n",
    "    '''Define a function for calculating local currency given FX rate\n",
    "    E: FX rate\n",
    "    LC:LC amount. 'Na' indicates not known yet\n",
    "    FC:FC amount. 'Na' indicates not known yet\n",
    "    quote:quote method. 'direct' indicates direct quotation whereas other indicates indirect quotation'''\n",
    "    if LC=='Na':\n",
    "        if quote=='direct':\n",
    "            value=FC*E\n",
    "        else:\n",
    "            value=FC/E\n",
    "    else:\n",
    "        if quote=='direct':\n",
    "            value=LC/E\n",
    "        else:\n",
    "            value=LC*E\n",
    "    return value"
   ]
  },
  {
   "cell_type": "code",
   "execution_count": 7,
   "id": "e32eba5b",
   "metadata": {},
   "outputs": [
    {
     "name": "stdout",
     "output_type": "stream",
     "text": [
      "LC(RMB) for company P is  42766200.0\n",
      "LC(GBP) for company Q is  7184553.21\n"
     ]
    }
   ],
   "source": [
    "USD_RMB=7.1277\n",
    "GBP_EUR=1.1135\n",
    "Amount_USD=6e6\n",
    "Amount_EUR=8e6\n",
    "\n",
    "Amount_RMB=exchange(E=USD_RMB,LC='Na',FC=Amount_USD,quote='direct')\n",
    "Amount_GBP=exchange(E=GBP_EUR,LC='Na',FC=Amount_EUR,quote='indirect')\n",
    "\n",
    "print('LC(RMB) for company P is ',round(Amount_RMB,2))\n",
    "print('LC(GBP) for company Q is ',round(Amount_GBP,2))"
   ]
  },
  {
   "cell_type": "markdown",
   "id": "b042a7f5",
   "metadata": {},
   "source": [
    "# 6.5.2.Triangular arbitrage"
   ]
  },
  {
   "cell_type": "markdown",
   "id": "0307e5b4",
   "metadata": {},
   "source": [
    "Items   | FX       | Rate  | Quotation      \n",
    ":------:| :----:        | :----:      | :----:   \n",
    "FX      | CNY/USD | RUB/USD  | RUB/CNY  \n",
    "FX rate | 7.0965  | 68.4562  | 9.7150  \n",
    "Bank    | S(China)| T(Russia)| S(China)  \n",
    "Quote   | Direct  | Direct   | Indirect  "
   ]
  },
  {
   "cell_type": "code",
   "execution_count": 11,
   "id": "35490ded",
   "metadata": {},
   "outputs": [],
   "source": [
    "def tri_arbitrage(E1,E2,E3,M,A,B,C):\n",
    "    '''Define a function for calculating triangular arbitrage profit and show the sequence for arbitrage\n",
    "    E1: A/B\n",
    "    E2: B/C\n",
    "    E3: A/C\n",
    "    M:  Initial amount(A)\n",
    "    A:  Currency name for A\n",
    "    B:  Currency name for B\n",
    "    C:  Currency name for C'''\n",
    "    E3_new=E1*E2\n",
    "    if E3_new>E3:\n",
    "        profit=M*(E3_new/E3-1)\n",
    "        sequence=['Sequence for arbitrage: ',A,'->',C,'->',B,'->',A]\n",
    "    elif E3_new<E3:\n",
    "        profit=M*(E3/E3_new-1)\n",
    "        sequence=['Sequence for arbitrage: ',A,'->',B,'->',C,'->',A]\n",
    "    else:\n",
    "        profit=0\n",
    "        sequence=['Sequence for arbitrage: ','not exist']\n",
    "    return[profit,sequence]"
   ]
  },
  {
   "cell_type": "code",
   "execution_count": 12,
   "id": "4bcf45b7",
   "metadata": {},
   "outputs": [
    {
     "name": "stdout",
     "output_type": "stream",
     "text": [
      "Profit of aribitrage:  710377.58\n",
      "Sequence of aribitrage:  ['Sequence for arbitrage: ', 'CNY', '->', 'RUB', '->', 'USD', '->', 'CNY']\n"
     ]
    }
   ],
   "source": [
    "CNY_USD=7.0965 #CNY/USD\n",
    "USD_RUB=1/68.4562 #USD/RUB\n",
    "CNY_RUB=1/9.7150 #CNY/RUB\n",
    "value_CNY=1e8\n",
    "\n",
    "aribitrage=tri_arbitrage(E1=CNY_USD,E2=USD_RUB,E3=CNY_RUB,M=value_CNY,A='CNY',B='USD',C='RUB')\n",
    "\n",
    "print('Profit of aribitrage: ',round(aribitrage[0],2))\n",
    "print('Sequence of aribitrage: ',aribitrage[1])"
   ]
  },
  {
   "cell_type": "code",
   "execution_count": null,
   "id": "80ae91a3",
   "metadata": {},
   "outputs": [],
   "source": []
  }
 ],
 "metadata": {
  "kernelspec": {
   "display_name": "Custom (custom_python)",
   "language": "python",
   "name": "custom_python"
  },
  "language_info": {
   "codemirror_mode": {
    "name": "ipython",
    "version": 3
   },
   "file_extension": ".py",
   "mimetype": "text/x-python",
   "name": "python",
   "nbconvert_exporter": "python",
   "pygments_lexer": "ipython3",
   "version": "3.6.12"
  }
 },
 "nbformat": 4,
 "nbformat_minor": 5
}
