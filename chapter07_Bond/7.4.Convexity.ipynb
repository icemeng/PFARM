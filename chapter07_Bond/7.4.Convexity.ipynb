{
 "cells": [
  {
   "cell_type": "code",
   "execution_count": 1,
   "id": "f732969b",
   "metadata": {},
   "outputs": [],
   "source": [
    "##########################################################################\n",
    "# Created on Sat Nov 06 16:12:45 2021                                    #\n",
    "# Python for Financial Analysis and Risk Management                      #\n",
    "# @author: Meng Lipeng (FRM, CFA)                                        #\n",
    "##########################################################################"
   ]
  },
  {
   "cell_type": "markdown",
   "id": "0654c8a3",
   "metadata": {},
   "source": [
    "# 7.4.1.Expression"
   ]
  },
  {
   "cell_type": "code",
   "execution_count": 16,
   "id": "1fc38191",
   "metadata": {},
   "outputs": [
    {
     "name": "stdout",
     "output_type": "stream",
     "text": [
      "new price of 0911(approximate) is  100.8916\n",
      "new price of 0911(accurate) is  100.9676\n",
      "difference between approximate and accurate is  -0.076\n"
     ]
    }
   ],
   "source": [
    "import numpy as np\n",
    "import utils\n",
    "\n",
    "C_TB0911=0.0369\n",
    "m_TB0911=2\n",
    "y_TB0911=0.024\n",
    "T_TB0911=4\n",
    "par=100\n",
    "\n",
    "Tlist_TB0911=np.arange(1,m_TB0911*T_TB0911+1)/m_TB0911\n",
    "D1_TB0911=utils.Mac_Duration(C=C_TB0911,M=par,m=m_TB0911,y=y_TB0911,t=Tlist_TB0911)\n",
    "\n",
    "price_before=utils.Bondprice_onediscount(C=C_TB0911,M=par,m=m_TB0911,y=y_TB0911,t=Tlist_TB0911)\n",
    "\n",
    "y_newchange=0.01 #suppose a big change of YTM\n",
    "price_change1=-D1_TB0911*price_before*y_newchange #approximate \n",
    "price_new1=price_before+price_change1\n",
    "print('new price of 0911(approximate) is ',round(price_new1,4))\n",
    "\n",
    "y_new=y_TB0911+y_newchange\n",
    "price_new5=utils.Bondprice_onediscount(C=C_TB0911,M=par,m=m_TB0911,y=y_new,t=Tlist_TB0911)\n",
    "print('new price of 0911(accurate) is ',round(price_new5,4))\n",
    "\n",
    "print('difference between approximate and accurate is ',round(price_new1-price_new5,4))"
   ]
  },
  {
   "cell_type": "markdown",
   "id": "1af8c296",
   "metadata": {},
   "source": [
    "Expression of convexity is \\\n",
    "$$C=\\frac{1}{B}\\frac{d^2B}{dy^2}=\\frac{\\sum_{i=1}^{N}c_i{t_i}^2e^{-yt_i}}{B}=\\sum_{i=1}^{N}{t_i}^2(\\frac{c_ie^{-yt_i}}{B})$$"
   ]
  },
  {
   "cell_type": "code",
   "execution_count": 7,
   "id": "d0e8b310",
   "metadata": {},
   "outputs": [],
   "source": [
    "def Convexity(C,M,m,y,t):\n",
    "    '''Define a function for calculating Macaulay duraion of a bond\n",
    "    C:coupon\n",
    "    M:par of bond\n",
    "    m:coupon payment frequency per year\n",
    "    y:YTM(continuous compound) \n",
    "    t:array of time to coupon payment date. Single number indicates zero rate bond'''\n",
    "    if C==0:\n",
    "        convexity=pow(t,2)\n",
    "    else:\n",
    "        coupon=np.ones_like(t)*M*C/m\n",
    "        NPV_coupon=np.sum(coupon*np.exp(-y*t))\n",
    "        NPV_par=M*np.exp(-y*t[-1])\n",
    "        Bond_value=NPV_coupon+NPV_par\n",
    "        cashflow=coupon\n",
    "        cashflow[-1]=M*(1+C/m)\n",
    "        weight=cashflow*np.exp(-y*t)/Bond_value\n",
    "        convexity=np.sum(pow(t,2)*weight)\n",
    "    return convexity"
   ]
  },
  {
   "cell_type": "code",
   "execution_count": 9,
   "id": "0e765ecd",
   "metadata": {},
   "outputs": [
    {
     "name": "stdout",
     "output_type": "stream",
     "text": [
      "Convexity of 0911 is  14.6968\n"
     ]
    }
   ],
   "source": [
    "Convexity_TB0911=Convexity(C=C_TB0911,M=par,m=m_TB0911,y=y_TB0911,t=Tlist_TB0911)\n",
    "print('Convexity of 0911 is ',round(Convexity_TB0911,4))"
   ]
  },
  {
   "cell_type": "markdown",
   "id": "6f09ea6c",
   "metadata": {},
   "source": [
    "# 7.4.2.Role of convexity"
   ]
  },
  {
   "cell_type": "markdown",
   "id": "7464c7d6",
   "metadata": {},
   "source": [
    "Use Taylor expansion and ignore the third-order and higher-order terms in the expansion\\\n",
    "We have\n",
    "$$\\Delta B\\approx\\frac{dB}{dy}\\Delta y+\\frac{1}{2}\\frac{d^2B}{dy^2}(\\Delta y)^2\\implies\\frac{\\Delta B}{B}\\approx-D\\Delta y+\\frac{1}{2}C(\\Delta y)^2\\implies \\Delta B\\approx-DB\\Delta y+\\frac{1}{2}CB(\\Delta y)^2$$"
   ]
  },
  {
   "cell_type": "code",
   "execution_count": 10,
   "id": "8936722b",
   "metadata": {},
   "outputs": [],
   "source": [
    "def Bondprice_change(B,D,C,y_chg):\n",
    "    '''Define a function to calculate change of bond price using Macaulay duration and convexity\n",
    "    B:bond price before change\n",
    "    D:Macauley duration\n",
    "    C:Convexity\n",
    "    y_chg:change of YTM'''\n",
    "    price_change1=-D*B*y_chg\n",
    "    price_change2=0.5*C*B*pow(y_chg,2)\n",
    "    price_change=price_change1+price_change2\n",
    "    return price_change"
   ]
  },
  {
   "cell_type": "code",
   "execution_count": 11,
   "id": "f76a7a7c",
   "metadata": {},
   "outputs": [
    {
     "name": "stdout",
     "output_type": "stream",
     "text": [
      "change of bond price after considering convexity is  -3.8672\n"
     ]
    }
   ],
   "source": [
    "price_change3=Bondprice_change(B=price_before,D=D1_TB0911,C=Convexity_TB0911,y_chg=y_newchange)\n",
    "print('change of bond price after considering convexity is ',round(price_change3,4))"
   ]
  },
  {
   "cell_type": "code",
   "execution_count": 12,
   "id": "6d6827b7",
   "metadata": {},
   "outputs": [
    {
     "name": "stdout",
     "output_type": "stream",
     "text": [
      "new price of bond after considersing convexity is  100.9686\n"
     ]
    }
   ],
   "source": [
    "price_new6=price_before+price_change3\n",
    "print('new price of bond after considersing convexity is ',round(price_new6,4))"
   ]
  },
  {
   "cell_type": "code",
   "execution_count": 15,
   "id": "f60c3691",
   "metadata": {},
   "outputs": [
    {
     "name": "stdout",
     "output_type": "stream",
     "text": [
      "difference between approximate and accurate is  0.001\n"
     ]
    }
   ],
   "source": [
    "print('difference between approximate and accurate is ',round(price_new6-price_new5,4))"
   ]
  },
  {
   "cell_type": "code",
   "execution_count": 17,
   "id": "b50611fc",
   "metadata": {},
   "outputs": [],
   "source": [
    "y_change_list=np.linspace(-0.015,0.015,200)\n",
    "y_new_list=y_TB0911+y_change_list\n",
    "\n",
    "price_change_list1=-D1_TB0911*price_before*y_change_list #Only considering Macaulay duration\n",
    "price_new_list1=price_change_list1+price_before\n",
    "\n",
    "price_change_list2=Bondprice_change(B=price_before,D=D1_TB0911,C=Convexity_TB0911,y_chg=y_change_list)#Consider Macaulay duration and convexity\n",
    "price_new_list2=price_change_list2+price_before\n",
    "\n",
    "price_new_list3=np.ones_like(y_new_list) #Use bond price model\n",
    "for i in range(len(y_new_list)):\n",
    "    price_new_list3[i]=utils.Bondprice_onediscount(C=C_TB0911,M=par,m=m_TB0911,y=y_new_list[i],t=Tlist_TB0911)\n"
   ]
  },
  {
   "cell_type": "code",
   "execution_count": 18,
   "id": "9800a437",
   "metadata": {},
   "outputs": [
    {
     "data": {
      "image/png": "[encoded data removed]",
      "text/plain": [
       "<Figure size 648x432 with 1 Axes>"
      ]
     },
     "metadata": {
      "needs_background": "light"
     },
     "output_type": "display_data"
    }
   ],
   "source": [
    "price_diff_list1=price_new_list1-price_new_list3\n",
    "price_diff_list2=price_new_list2-price_new_list3\n",
    "\n",
    "import matplotlib.pyplot as plt\n",
    "\n",
    "plt.figure(figsize=(9,6))\n",
    "plt.plot(y_change_list,price_diff_list1,'b-',label='Only consider MD',lw=2.5)\n",
    "plt.plot(y_change_list,price_diff_list2,'m-',label='Consider MD and Convexity',lw=2.5)\n",
    "plt.xlabel('Change of YTM',fontsize=13)\n",
    "plt.xticks(fontsize=13)\n",
    "plt.ylabel('Difference between bond price model and approximate',fontsize=13)\n",
    "plt.yticks(fontsize=13)\n",
    "plt.title('Correction effect of convexity on bond price',fontsize=13)\n",
    "plt.legend(fontsize=13)\n",
    "plt.grid()\n",
    "plt.show()"
   ]
  },
  {
   "cell_type": "code",
   "execution_count": null,
   "id": "9bb88649",
   "metadata": {},
   "outputs": [],
   "source": []
  }
 ],
 "metadata": {
  "kernelspec": {
   "display_name": "Custom (custom_python)",
   "language": "python",
   "name": "custom_python"
  },
  "language_info": {
   "codemirror_mode": {
    "name": "ipython",
    "version": 3
   },
   "file_extension": ".py",
   "mimetype": "text/x-python",
   "name": "python",
   "nbconvert_exporter": "python",
   "pygments_lexer": "ipython3",
   "version": "3.6.12"
  }
 },
 "nbformat": 4,
 "nbformat_minor": 5
}
