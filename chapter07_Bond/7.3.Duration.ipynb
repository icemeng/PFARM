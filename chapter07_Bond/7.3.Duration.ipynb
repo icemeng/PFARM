{
 "cells": [
  {
   "cell_type": "code",
   "execution_count": 1,
   "id": "7ad7106a",
   "metadata": {},
   "outputs": [],
   "source": [
    "##########################################################################\n",
    "# Created on Sat Nov 05 23:06:45 2021                                    #\n",
    "# Python for Financial Analysis and Risk Management                      #\n",
    "# @author: Meng Lipeng (FRM, CFA)                                        #\n",
    "##########################################################################"
   ]
  },
  {
   "cell_type": "markdown",
   "id": "34cc646e",
   "metadata": {},
   "source": [
    "# 7.3.1.Macaulay duration"
   ]
  },
  {
   "cell_type": "markdown",
   "id": "585ecba9",
   "metadata": {},
   "source": [
    "$$B=\\sum_{i=1}^{N}c_ie^{-yt_i}$$\n",
    "where,\\\n",
    "B:bond price\\\n",
    "$c_i$:cashflow\\\n",
    "y:YTM\\\n",
    "$t_i$:term"
   ]
  },
  {
   "cell_type": "markdown",
   "id": "ab95cb61",
   "metadata": {},
   "source": [
    "$$D=-\\frac{1}{B}\\frac{dB}{dy}=\\frac{\\sum_{i=1}^{N}t_ic_ie^{-yt_i}}{B}=\\sum_{i=1}^{N}t_i(\\frac{c_ie^{-yt_i}}{B})$$\n",
    "$c_ie^{-yt_i}/B$ is PV of cashflow in $t_i$ divided by bond price B, which is also the weight of $t_i$."
   ]
  },
  {
   "cell_type": "code",
   "execution_count": 2,
   "id": "9fece592",
   "metadata": {},
   "outputs": [],
   "source": [
    "import numpy as np\n",
    "def Mac_Duration(C,M,m,y,t):\n",
    "    '''Define a function for calculating Macaulay duraion of a bond\n",
    "    C:coupon\n",
    "    M:par of bond\n",
    "    m:coupon payment frequency per year\n",
    "    y:YTM(continuous compound) \n",
    "    t:array of time to coupon payment date. Single number indicates zero rate bond'''\n",
    "    if C==0:\n",
    "        duration=t\n",
    "    else:\n",
    "        coupon=np.ones_like(t)*M*C/m\n",
    "        NPV_coupon=np.sum(coupon*np.exp(-y*t))\n",
    "        NPV_par=M*np.exp(-y*t[-1])\n",
    "        Bond_value=NPV_coupon+NPV_par\n",
    "        cashflow=coupon\n",
    "        cashflow[-1]=M*(1+C/m)\n",
    "        weight=cashflow*np.exp(-y*t)/Bond_value\n",
    "        duration=np.sum(t*weight)\n",
    "    return duration"
   ]
  },
  {
   "cell_type": "code",
   "execution_count": 3,
   "id": "c757c9b6",
   "metadata": {},
   "outputs": [
    {
     "name": "stdout",
     "output_type": "stream",
     "text": [
      "Macaulay duration of 0911 at 2020/06/12 is  3.7623\n"
     ]
    }
   ],
   "source": [
    "C_TB0911=0.0369\n",
    "m_TB0911=2\n",
    "y_TB0911=0.024\n",
    "T_TB0911=4\n",
    "par=100\n",
    "\n",
    "Tlist_TB0911=np.arange(1,m_TB0911*T_TB0911+1)/m_TB0911\n",
    "D1_TB0911=Mac_Duration(C=C_TB0911,M=par,m=m_TB0911,y=y_TB0911,t=Tlist_TB0911)\n",
    "print('Macaulay duration of 0911 at 2020/06/12 is ',round(D1_TB0911,4))"
   ]
  },
  {
   "cell_type": "markdown",
   "id": "1418a65a",
   "metadata": {},
   "source": [
    "$$\\Delta B\\approx\\frac{dB}{dy}\\Delta y=-BD\\Delta y\\implies\\Delta B/B\\approx-D\\Delta y$$\n",
    "where,\\\n",
    "$\\Delta B$:change of bond price\\\n",
    "$\\frac{dB}{dy}$:First derivative of bond price B to yield to maturity y\\\n",
    "$\\Delta y$:small change of YTM"
   ]
  },
  {
   "cell_type": "code",
   "execution_count": 4,
   "id": "65479b95",
   "metadata": {},
   "outputs": [
    {
     "name": "stdout",
     "output_type": "stream",
     "text": [
      "Price of 0911 at 2020/06/12 is  104.8358\n"
     ]
    }
   ],
   "source": [
    "import utils\n",
    "\n",
    "price_before=utils.Bondprice_onediscount(C=C_TB0911,M=par,m=m_TB0911,y=y_TB0911,t=Tlist_TB0911)\n",
    "print('Price of 0911 at 2020/06/12 is ',round(price_before,4))"
   ]
  },
  {
   "cell_type": "code",
   "execution_count": 5,
   "id": "e52c0e94",
   "metadata": {},
   "outputs": [
    {
     "name": "stdout",
     "output_type": "stream",
     "text": [
      "price change of 0911 used Macaulay duration is  -0.1972\n"
     ]
    }
   ],
   "source": [
    "y_change=0.0005\n",
    "price_change1=-D1_TB0911*price_before*y_change\n",
    "print('price change of 0911 used Macaulay duration is ',round(price_change1,4))"
   ]
  },
  {
   "cell_type": "code",
   "execution_count": 6,
   "id": "592df345",
   "metadata": {},
   "outputs": [
    {
     "name": "stdout",
     "output_type": "stream",
     "text": [
      "new price of 0911(approximate) is  104.6386\n"
     ]
    }
   ],
   "source": [
    "price_new1=price_before+price_change1\n",
    "print('new price of 0911(approximate) is ',round(price_new1,4))"
   ]
  },
  {
   "cell_type": "code",
   "execution_count": 7,
   "id": "00127929",
   "metadata": {},
   "outputs": [
    {
     "name": "stdout",
     "output_type": "stream",
     "text": [
      "new price of 0911(accurate) is  104.6388\n"
     ]
    }
   ],
   "source": [
    "price_new2=utils.Bondprice_onediscount(C=C_TB0911,M=par,m=m_TB0911,y=y_TB0911+y_change,t=Tlist_TB0911)\n",
    "print('new price of 0911(accurate) is ',round(price_new2,4))"
   ]
  },
  {
   "cell_type": "markdown",
   "id": "592d4035",
   "metadata": {},
   "source": [
    "## Relationship between coupon,YTM and Macaulay duration"
   ]
  },
  {
   "cell_type": "code",
   "execution_count": 8,
   "id": "da26ab77",
   "metadata": {},
   "outputs": [],
   "source": [
    "C_list=np.linspace(0.02,0.06,200)\n",
    "y_list=np.linspace(0.01,0.05,200)\n",
    "\n",
    "D_list1=np.ones_like(C_list)\n",
    "D_list2=np.ones_like(y_list)\n",
    "\n",
    "for i in range(len(C_list)):\n",
    "    D_list1[i]=Mac_Duration(C=C_list[i],M=par,m=m_TB0911,y=y_TB0911,t=Tlist_TB0911)\n",
    "for i in range(len(y_list)):\n",
    "    D_list2[i]=Mac_Duration(C=C_TB0911,M=par,m=m_TB0911,y=y_list[i],t=Tlist_TB0911)"
   ]
  },
  {
   "cell_type": "code",
   "execution_count": 9,
   "id": "6dbad919",
   "metadata": {},
   "outputs": [
    {
     "name": "stderr",
     "output_type": "stream",
     "text": [
      "/home/ec2-user/SageMaker/custom-miniconda/miniconda/envs/custom_python/lib/python3.6/site-packages/ipykernel_launcher.py:13: MatplotlibDeprecationWarning: Adding an axes using the same arguments as a previous axes currently reuses the earlier instance.  In a future version, a new instance will always be created and returned.  Meanwhile, this warning can be suppressed, and the future behavior ensured, by passing a unique label to each axes instance.\n",
      "  del sys.path[0]\n"
     ]
    },
    {
     "data": {
      "image/png": "[encoded data removed]",
      "text/plain": [
       "<Figure size 1080x432 with 2 Axes>"
      ]
     },
     "metadata": {
      "needs_background": "light"
     },
     "output_type": "display_data"
    }
   ],
   "source": [
    "import matplotlib.pyplot as plt\n",
    "\n",
    "plt.figure(figsize=(15,6))\n",
    "plt.subplot(1,2,1)\n",
    "plt.plot(C_list,D_list1,'r-',lw=2.5)\n",
    "plt.xlabel('Coupon',fontsize=13)\n",
    "plt.xticks(fontsize=13)\n",
    "plt.ylabel('Macaulay duration',fontsize=13)\n",
    "plt.yticks(fontsize=13)\n",
    "plt.title('Relationship between coupon and MD',fontsize=13)\n",
    "plt.grid()\n",
    "\n",
    "plt.subplot(1,2,2,sharey=plt.subplot(1,2,1))\n",
    "plt.plot(y_list,D_list2,'b-',lw=2.5)\n",
    "plt.xlabel('YTM',fontsize=13)\n",
    "plt.xticks(fontsize=13)\n",
    "plt.yticks(fontsize=13)\n",
    "plt.title('Relationship between YTM and MD',fontsize=13)\n",
    "plt.grid()\n",
    "plt.show()"
   ]
  },
  {
   "cell_type": "markdown",
   "id": "09c61e06",
   "metadata": {},
   "source": [
    "# 7.3.2.Modified duration"
   ]
  },
  {
   "cell_type": "markdown",
   "id": "4af62eab",
   "metadata": {},
   "source": [
    "Suppose YTM is not continuous compound but annual compound,\\\n",
    "$$\\Delta B\\approx-\\frac{BD\\Delta y}{1+y}$$\\\n",
    "Further,suppose YTM's compound frequency is m per year,\\\n",
    "$$\\Delta B\\approx-\\frac{BD\\Delta y}{1+y/m}$$\\\n",
    "Define a new variable called $D^*$, and\\\n",
    "$$D^*=\\frac{D}{1+y/m}$$\\\n",
    "where,\\\n",
    "D: Macaulay duration\\\n",
    "y: YTM(compound m times per year)\\\n",
    "then $D^*$ is called modified duration and we have\n",
    "$$\\Delta B\\approx-BD^*\\Delta y$$"
   ]
  },
  {
   "cell_type": "code",
   "execution_count": 10,
   "id": "21981d3f",
   "metadata": {},
   "outputs": [],
   "source": [
    "def Mod_Duration(C,M,m1,m2,y,t):\n",
    "    '''Define a function for calculating Modified duraion of a bond\n",
    "    C:coupon\n",
    "    M:par of bond\n",
    "    m1:coupon payment frequency per year\n",
    "    m2:compound frequency per year of YTM, ordinary m2=m1\n",
    "    y:YTM(compound m2 times per year) \n",
    "    t:array of time to coupon payment date. Single number indicates zero rate bond'''\n",
    "    if C==0:\n",
    "        Macaulay_duration=t\n",
    "    else:\n",
    "        r=m2*np.log(1+y/m2) #continuous compound\n",
    "        coupon=np.ones_like(t)*M*C/m1\n",
    "        NPV_coupon=np.sum(coupon*np.exp(-r*t))\n",
    "        NPV_par=M*np.exp(-r*t[-1])\n",
    "        price=NPV_coupon+NPV_par\n",
    "        cashflow=coupon\n",
    "        cashflow[-1]=M*(1+C/m1)\n",
    "        weight=cashflow*np.exp(-r*t)/price\n",
    "        Macaulay_duration=np.sum(t*weight)\n",
    "    Modified_duration=Macaulay_duration/(1+y/m2)\n",
    "    return Modified_duration"
   ]
  },
  {
   "cell_type": "code",
   "execution_count": 11,
   "id": "6468c15f",
   "metadata": {},
   "outputs": [
    {
     "name": "stdout",
     "output_type": "stream",
     "text": [
      "YTM(compound twice per year) of 0911 is  0.024145\n"
     ]
    }
   ],
   "source": [
    "y1_TB0911=utils.Rm(Rc=y_TB0911,m=m_TB0911)\n",
    "print('YTM(compound twice per year) of 0911 is ',round(y1_TB0911,6))"
   ]
  },
  {
   "cell_type": "code",
   "execution_count": 13,
   "id": "09643153",
   "metadata": {},
   "outputs": [
    {
     "name": "stdout",
     "output_type": "stream",
     "text": [
      "Modified duration of 0911 is  3.7174\n"
     ]
    }
   ],
   "source": [
    "D2_TB0911=Mod_Duration(C=C_TB0911,M=par,m1=m_TB0911,m2=m_TB0911,y=y1_TB0911,t=Tlist_TB0911)\n",
    "print('Modified duration of 0911 is ',round(D2_TB0911,4))"
   ]
  },
  {
   "cell_type": "code",
   "execution_count": 14,
   "id": "c9b1bd11",
   "metadata": {},
   "outputs": [
    {
     "name": "stdout",
     "output_type": "stream",
     "text": [
      "price change of 0911 used Modified duration is  -0.1949\n"
     ]
    }
   ],
   "source": [
    "price_change2=-D2_TB0911*price_before*y_change\n",
    "print('price change of 0911 used Modified duration is ',round(price_change2,4))"
   ]
  },
  {
   "cell_type": "code",
   "execution_count": 15,
   "id": "c92c7a1d",
   "metadata": {},
   "outputs": [
    {
     "name": "stdout",
     "output_type": "stream",
     "text": [
      "new price of 0911(approximate) is  104.6409\n"
     ]
    }
   ],
   "source": [
    "price_new3=price_before+price_change2\n",
    "print('new price of 0911(approximate) is ',round(price_new3,4))"
   ]
  },
  {
   "cell_type": "code",
   "execution_count": 17,
   "id": "6ee6620a",
   "metadata": {},
   "outputs": [
    {
     "name": "stdout",
     "output_type": "stream",
     "text": [
      "new YTM(continuous compound) of 0911 is  0.024494\n"
     ]
    }
   ],
   "source": [
    "yc_TB0911=utils.Rc(Rm=y1_TB0911+y_change,m=m_TB0911)\n",
    "print('new YTM(continuous compound) of 0911 is ',round(yc_TB0911,6))"
   ]
  },
  {
   "cell_type": "code",
   "execution_count": 18,
   "id": "5a0bbca4",
   "metadata": {},
   "outputs": [
    {
     "name": "stdout",
     "output_type": "stream",
     "text": [
      "new price of 0911(accurate) is  104.6411\n"
     ]
    }
   ],
   "source": [
    "price_new4=utils.Bondprice_onediscount(C=C_TB0911,M=par,m=m_TB0911,y=yc_TB0911,t=Tlist_TB0911)\n",
    "print('new price of 0911(accurate) is ',round(price_new4,4))"
   ]
  },
  {
   "cell_type": "markdown",
   "id": "f7c4b000",
   "metadata": {},
   "source": [
    "# 7.3.3.Dollar duration"
   ]
  },
  {
   "cell_type": "markdown",
   "id": "85638479",
   "metadata": {},
   "source": [
    "Dollar duration(absolute value duration) is defined as \\\n",
    "$$D_s=BD^*$$\n",
    "thus,we have\n",
    "$$\\Delta B\\approx -D_s\\Delta y$$"
   ]
  },
  {
   "cell_type": "code",
   "execution_count": 19,
   "id": "18f3661b",
   "metadata": {},
   "outputs": [],
   "source": [
    "def Dollar_Duration(C,M,m1,m2,y,t):\n",
    "    '''Define a function for calculating Modified duraion of a bond\n",
    "    C:coupon\n",
    "    M:par of bond\n",
    "    m1:coupon payment frequency per year\n",
    "    m2:compound frequency per year of YTM, ordinary m2=m1\n",
    "    y:YTM(compound m2 times per year) \n",
    "    t:array of time to coupon payment date. Single number indicates zero rate bond'''\n",
    "    r=m2*np.log(1+y/m2)\n",
    "    if C==0:\n",
    "        price=M*np.exp(-r*t)\n",
    "        Macaulay_D=t\n",
    "    else:\n",
    "        coupon=np.ones_like(t)*M*C/m1\n",
    "        NPV_coupon=np.sum(coupon*np.exp(-r*t))\n",
    "        NPV_par=M*np.exp(-r*t[-1])\n",
    "        price=NPV_coupon+NPV_par\n",
    "        cashflow=coupon\n",
    "        cashflow[-1]=M*(1+C/m1)\n",
    "        weight=cashflow*np.exp(-r*t)/price\n",
    "        Macaulay_D=np.sum(t*weight)\n",
    "    Modified_D=Macaulay_D/(1+y/m2)\n",
    "    Dollar_D=price*Modified_D\n",
    "    return Dollar_D"
   ]
  },
  {
   "cell_type": "code",
   "execution_count": 20,
   "id": "a31c0408",
   "metadata": {},
   "outputs": [
    {
     "name": "stdout",
     "output_type": "stream",
     "text": [
      "Dollar duration of 0911 is  389.72\n"
     ]
    }
   ],
   "source": [
    "D3_TB0911=Dollar_Duration(C=C_TB0911,M=par,m1=m_TB0911,m2=m_TB0911,y=y1_TB0911,t=Tlist_TB0911)\n",
    "print('Dollar duration of 0911 is ',round(D3_TB0911,2))"
   ]
  },
  {
   "cell_type": "code",
   "execution_count": null,
   "id": "6327827a",
   "metadata": {},
   "outputs": [],
   "source": []
  }
 ],
 "metadata": {
  "kernelspec": {
   "display_name": "Custom (custom_python)",
   "language": "python",
   "name": "custom_python"
  },
  "language_info": {
   "codemirror_mode": {
    "name": "ipython",
    "version": 3
   },
   "file_extension": ".py",
   "mimetype": "text/x-python",
   "name": "python",
   "nbconvert_exporter": "python",
   "pygments_lexer": "ipython3",
   "version": "3.6.12"
  }
 },
 "nbformat": 4,
 "nbformat_minor": 5
}
