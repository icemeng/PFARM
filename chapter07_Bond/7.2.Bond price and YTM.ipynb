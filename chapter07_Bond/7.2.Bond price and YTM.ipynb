{
 "cells": [
  {
   "cell_type": "code",
   "execution_count": 1,
   "id": "7ea0d1bc",
   "metadata": {},
   "outputs": [],
   "source": [
    "##########################################################################\n",
    "# Created on Sat Nov 03 23:17:45 2021                                    #\n",
    "# Python for Financial Analysis and Risk Management                      #\n",
    "# @author: Meng Lipeng (FRM, CFA)                                        #\n",
    "##########################################################################"
   ]
  },
  {
   "cell_type": "markdown",
   "id": "2bf973d1",
   "metadata": {},
   "source": [
    "# 7.2.2.Bond price based on single discount"
   ]
  },
  {
   "cell_type": "markdown",
   "id": "ff3bcf13",
   "metadata": {},
   "source": [
    "## 1.Price model of zero coupon bond"
   ]
  },
  {
   "cell_type": "markdown",
   "id": "cd4808e0",
   "metadata": {},
   "source": [
    "$$B=Me^{-yT}$$\\\n",
    "where, \n",
    "B:bond price\\\n",
    "M:face value\\\n",
    "y:discount rate(continuous compound)\\\n",
    "T:time to maturity"
   ]
  },
  {
   "cell_type": "markdown",
   "id": "38dc49f0",
   "metadata": {},
   "source": [
    "## 2.Price model of coupon bond"
   ]
  },
  {
   "cell_type": "markdown",
   "id": "a2054ab9",
   "metadata": {},
   "source": [
    "$$B=\\frac{C}{m}\\times M\\times \\sum_{i=1}^{N}e^{-yt_i}+Me^{-yt_N}=(\\frac{C}{m}\\sum_{i=1}^{N}e^{-yt_i}+e^{-yt_N})M$$\n",
    "where, B:bond price\\\n",
    "C:coupon rate\\\n",
    "m:payment frequency per year(m>=1)\\\n",
    "M:face value\\\n",
    "y:discount rate(continuous compound)\\\n",
    "$t_i$:time to coupon payment date(i=1,2,....,N)\\\n",
    "$t_N$:time to maturity\n"
   ]
  },
  {
   "cell_type": "code",
   "execution_count": 1,
   "id": "8e4fcca1",
   "metadata": {},
   "outputs": [],
   "source": [
    "import numpy as np\n",
    "def Bondprice_onediscount(C,M,m,y,t):\n",
    "    '''Define a function to calculating bond price based on single discount rate\n",
    "    C:coupon rate. 0 indicates zero coupon\n",
    "    M:face value of bond\n",
    "    m:payment frequency per year\n",
    "    y:discount rate\n",
    "    t:array of time to coupon payment. Single number indicates zero coupon'''\n",
    "    if C==0:\n",
    "        price=np.exp(-y*t)*M\n",
    "    else:\n",
    "        coupon=np.ones_like(t)*M*C/m\n",
    "        NPV_coupon=np.sum(coupon*np.exp(-y*t))\n",
    "        NPV_par=M*np.exp(-y*t[-1])\n",
    "        price=NPV_coupon+NPV_par\n",
    "    return price"
   ]
  },
  {
   "cell_type": "code",
   "execution_count": 2,
   "id": "e3b650ff",
   "metadata": {},
   "outputs": [
    {
     "name": "stdout",
     "output_type": "stream",
     "text": [
      "Bond price of 2027 on 2020/06/08 is  99.0278\n"
     ]
    }
   ],
   "source": [
    "C_TB2027=0\n",
    "par=100\n",
    "T_TB2027=0.5\n",
    "m_TB2027=0\n",
    "y_TB2027=0.01954\n",
    "\n",
    "value_TB2027=Bondprice_onediscount(C=C_TB2027,M=par,m=m_TB2027,y=y_TB2027,t=T_TB2027)\n",
    "print('Bond price of 2027 on 2020/06/08 is ',round(value_TB2027,4))"
   ]
  },
  {
   "cell_type": "code",
   "execution_count": 3,
   "id": "b0d57d2e",
   "metadata": {},
   "outputs": [
    {
     "name": "stdout",
     "output_type": "stream",
     "text": [
      "Bond price of 2006 on 2020/05/21 is  100.2496\n"
     ]
    }
   ],
   "source": [
    "C_TB2006=0.0268\n",
    "T_TB2006=10\n",
    "m_TB2006=2\n",
    "y_TB2006=0.02634\n",
    "\n",
    "Tlist_TB2006=np.arange(1,m_TB2006*T_TB2006+1)/m_TB2006\n",
    "\n",
    "value_TB2006=Bondprice_onediscount(C=C_TB2006,M=par,m=m_TB2006,y=y_TB2006,t=Tlist_TB2006)\n",
    "print('Bond price of 2006 on 2020/05/21 is ',round(value_TB2006,4))"
   ]
  },
  {
   "cell_type": "markdown",
   "id": "d3ad6483",
   "metadata": {},
   "source": [
    "# 7.2.3.Bond YTM"
   ]
  },
  {
   "cell_type": "markdown",
   "id": "4714b5a8",
   "metadata": {},
   "source": [
    "Zero coupon bond YTM\\\n",
    "$y=\\frac{1}{T}\\ln{\\frac{M}{B}}$\\\n",
    "whereas for coupon bond, we use fsolve function of optimize which is a sub module of Scipy "
   ]
  },
  {
   "cell_type": "code",
   "execution_count": 4,
   "id": "e9e46a86",
   "metadata": {},
   "outputs": [],
   "source": [
    "def YTM(P,C,M,m,t):\n",
    "    '''Define a function for calculating bond YTM\n",
    "    P:bond price observed in market\n",
    "    C:coupon rate. 0 indicates zero coupon\n",
    "    M:face value of bond\n",
    "    m:payment frequency per year\n",
    "    t:array of time to coupon payment. Single number indicates zero coupon'''\n",
    "    import scipy.optimize as so\n",
    "    def f(y):\n",
    "        coupon=np.ones_like(t)*M*C/m\n",
    "        NPV_coupon=np.sum(coupon*np.exp(-y*t))\n",
    "        NPV_par=M*np.exp(-y*t[-1])\n",
    "        value=NPV_coupon+NPV_par\n",
    "        return value-P\n",
    "    if C==0:\n",
    "        y=(np.log(M/P))/t\n",
    "    else:\n",
    "        y=so.fsolve(func=f,x0=0.1)#the second parameter is initial value\n",
    "    return y"
   ]
  },
  {
   "cell_type": "code",
   "execution_count": 5,
   "id": "7f20ee99",
   "metadata": {},
   "outputs": [
    {
     "name": "stdout",
     "output_type": "stream",
     "text": [
      "YTM of 0911 at 2020/06/11 is  0.024086\n"
     ]
    }
   ],
   "source": [
    "P_TB0911=104.802\n",
    "C_TB0911=0.0369\n",
    "m_TB0911=2\n",
    "T_TB0911=4\n",
    "\n",
    "Tlist_TB0911=np.arange(1,m_TB0911*T_TB0911+1)/m_TB0911\n",
    "\n",
    "Bond_yield=YTM(P=P_TB0911,C=C_TB0911,M=par,m=m_TB0911,t=Tlist_TB0911)\n",
    "Bond_yield=float(Bond_yield)\n",
    "print('YTM of 0911 at 2020/06/11 is ',round(Bond_yield,6))"
   ]
  },
  {
   "cell_type": "code",
   "execution_count": 6,
   "id": "e067eb22",
   "metadata": {},
   "outputs": [
    {
     "name": "stdout",
     "output_type": "stream",
     "text": [
      "Price of 0911 at 2020/06/11 is  104.802\n"
     ]
    }
   ],
   "source": [
    "#Calibration\n",
    "price=Bondprice_onediscount(C=C_TB0911,M=par,m=m_TB0911,y=Bond_yield,t=Tlist_TB0911)\n",
    "print('Price of 0911 at 2020/06/11 is ',round(price,4))"
   ]
  },
  {
   "cell_type": "markdown",
   "id": "322c6f41",
   "metadata": {},
   "source": [
    "# 7.2.4.Bond price based on multiple term discount"
   ]
  },
  {
   "cell_type": "markdown",
   "id": "3711a0b4",
   "metadata": {},
   "source": [
    "## 1.Price model of zero coupon bond"
   ]
  },
  {
   "cell_type": "markdown",
   "id": "491a5d3e",
   "metadata": {},
   "source": [
    "$$B=Me^{-y_TT}$$\\\n",
    "where, \n",
    "B:bond price\\\n",
    "M:face value\\\n",
    "$y_T$:discount rate of term T(continuous compound)\\\n",
    "T:time to maturity"
   ]
  },
  {
   "cell_type": "markdown",
   "id": "715c927c",
   "metadata": {},
   "source": [
    "## 2.Price model of coupon bond"
   ]
  },
  {
   "cell_type": "markdown",
   "id": "c6247ee1",
   "metadata": {},
   "source": [
    "$$B=(\\frac{C}{m}\\sum_{i=1}^{N}e^{-y_it_i}+e^{-y_Nt_N})M$$\n",
    "where, B:bond price\\\n",
    "C:coupon rate\\\n",
    "m:payment frequency per year(m>=1)\\\n",
    "M:face value\\\n",
    "$y_i$:discount rate of term $t_i$(continuous compound)\\\n",
    "$t_i$:time to coupon payment date(i=1,2,....,N)\\\n",
    "$t_N$:time to maturity\n"
   ]
  },
  {
   "cell_type": "code",
   "execution_count": 7,
   "id": "d45ef4c2",
   "metadata": {},
   "outputs": [],
   "source": [
    "def Bondprice_deffdiscount(C,M,m,y,t):\n",
    "    '''Define a function to calculating bond price based on multiple term discount rate\n",
    "    C:coupon rate. 0 indicates zero coupon\n",
    "    M:face value of bond\n",
    "    m:payment frequency per year\n",
    "    y:array of discount rate in different term. Single number indicates zero coupon\n",
    "    t:array of time to coupon payment. Single number indicates zero coupon'''\n",
    "    if C==0:\n",
    "        price=np.exp(-y*t)*M\n",
    "    else:\n",
    "        coupon=np.ones_like(y)*M*C/m\n",
    "        NPV_coupon=np.sum(coupon*np.exp(-y*t))\n",
    "        NPV_par=M*np.exp(-y[-1]*t[-1])\n",
    "        price=NPV_coupon+NPV_par\n",
    "    return price"
   ]
  },
  {
   "cell_type": "markdown",
   "id": "86135209",
   "metadata": {},
   "source": [
    "# 7.2.5.Bootstrap method to calculate zero rate"
   ]
  },
  {
   "cell_type": "markdown",
   "id": "d6e99044",
   "metadata": {},
   "source": [
    "Bond | Term/Year | Coupon        | Price   | Par  \n",
    ":---:| :----:    | :----:        | :----:  | :----:  \n",
    "1    | 0.25      | 0             | 99.5508 | 100 \n",
    "2    | 0.5       | 0             | 99.0276 | 100\n",
    "3    | 1.0       | 2.58%(Once/y) | 100.8104| 100\n",
    "4    | 1.5       | 3.57%(Twice/y)| 102.1440| 100\n",
    "5    | 2         | 3.36%(Twice/y) | 102.2541| 100"
   ]
  },
  {
   "cell_type": "code",
   "execution_count": 9,
   "id": "24f080ed",
   "metadata": {},
   "outputs": [
    {
     "name": "stdout",
     "output_type": "stream",
     "text": [
      "zero rate(continuous compound) of 0.25y is  0.018008\n",
      "zero rate(continuous compound) of 0.5y is  0.019543\n",
      "zero rate(continuous compound) of 1y is  0.017401\n",
      "zero rate(continuous compound) of 1.5y is  0.021045\n",
      "zero rate(continuous compound) of 2y is  0.021956\n"
     ]
    }
   ],
   "source": [
    "P=np.array([99.5508,99.0276,100.8104,102.1440,102.2541])\n",
    "T=np.array([0.25,0.5,1.0,1.5,2.0])\n",
    "C=np.array([0,0,0.0258,0.0357,0.0336])\n",
    "m=2\n",
    "\n",
    "def f(R):\n",
    "    from numpy import exp\n",
    "    R1,R2,R3,R4,R5=R\n",
    "    B1=P[0]*exp(R1*T[0])-par\n",
    "    B2=P[1]*exp(R2*T[1])-par\n",
    "    B3=P[2]*exp(R3*T[2])-par*(1+C[2])\n",
    "    B4=par*(C[3]*exp(-R2*T[1])/m+C[3]*exp(-R3*T[2])/m+(1+C[3]/m)*exp(-R4*T[3]))-P[3]\n",
    "    B5=par*(C[-1]*exp(-R2*T[1])/m+C[-1]*exp(-R3*T[2])/m+C[-1]*exp(-R4*T[3])/m+(1+C[-1]/m)*exp(-R5*T[-1]))-P[-1]\n",
    "    return np.array([B1,B2,B3,B4,B5])\n",
    "\n",
    "import scipy.optimize as so\n",
    "\n",
    "r0=[0.1,0.1,0.1,0.1,0.1]\n",
    "rates=so.fsolve(func=f,x0=r0)\n",
    "\n",
    "print('zero rate(continuous compound) of 0.25y is ',round(rates[0],6))\n",
    "print('zero rate(continuous compound) of 0.5y is ',round(rates[1],6))\n",
    "print('zero rate(continuous compound) of 1y is ',round(rates[2],6))\n",
    "print('zero rate(continuous compound) of 1.5y is ',round(rates[3],6))\n",
    "print('zero rate(continuous compound) of 2y is ',round(rates[4],6))"
   ]
  },
  {
   "cell_type": "code",
   "execution_count": 11,
   "id": "a929aaba",
   "metadata": {},
   "outputs": [
    {
     "data": {
      "image/png": "[encoded data removed]",
      "text/plain": [
       "<Figure size 648x432 with 1 Axes>"
      ]
     },
     "metadata": {
      "needs_background": "light"
     },
     "output_type": "display_data"
    }
   ],
   "source": [
    "import matplotlib.pyplot as plt\n",
    "\n",
    "plt.figure(figsize=(9,6))\n",
    "plt.plot(T,rates,'b-')\n",
    "plt.plot(T,rates,'ro')\n",
    "plt.xlabel('Term(year)',fontsize=13)\n",
    "plt.xticks(fontsize=13)\n",
    "plt.ylabel('IR',fontsize=13)\n",
    "plt.yticks(fontsize=13)\n",
    "plt.title('Zero rate curve based on bootstrap method',fontsize=13)\n",
    "plt.grid()\n",
    "plt.show()"
   ]
  },
  {
   "cell_type": "markdown",
   "id": "e7c5eda7",
   "metadata": {},
   "source": [
    "## Interpolation"
   ]
  },
  {
   "cell_type": "code",
   "execution_count": 15,
   "id": "aa7fc40f",
   "metadata": {},
   "outputs": [
    {
     "name": "stdout",
     "output_type": "stream",
     "text": [
      "0.25 y's zero rate is  0.018008\n",
      "0.5 y's zero rate is  0.019543\n",
      "0.75 y's zero rate is  0.018391\n",
      "1.0 y's zero rate is  0.017401\n",
      "1.25 y's zero rate is  0.018641\n",
      "1.5 y's zero rate is  0.021045\n",
      "1.75 y's zero rate is  0.022765\n",
      "2.0 y's zero rate is  0.021956\n"
     ]
    }
   ],
   "source": [
    "import scipy.interpolate as si\n",
    "\n",
    "func=si.interp1d(x=T,y=rates,kind='cubic')\n",
    "T_new=np.array([0.25,0.5,0.75,1.0,1.25,1.5,1.75,2.0])\n",
    "\n",
    "rates_new=func(T_new)\n",
    "\n",
    "for i in range(len(T_new)):\n",
    "    print(T_new[i], 'y\\'s zero rate is ',round(rates_new[i],6))"
   ]
  },
  {
   "cell_type": "code",
   "execution_count": 16,
   "id": "5d423a23",
   "metadata": {},
   "outputs": [
    {
     "data": {
      "image/png": "[encoded data removed]",
      "text/plain": [
       "<Figure size 648x432 with 1 Axes>"
      ]
     },
     "metadata": {
      "needs_background": "light"
     },
     "output_type": "display_data"
    }
   ],
   "source": [
    "plt.figure(figsize=(9,6))\n",
    "plt.plot(T_new,rates_new,'o')\n",
    "plt.plot(T_new,rates_new,'-')\n",
    "plt.xlabel('Term(year)',fontsize=13)\n",
    "plt.xticks(fontsize=13)\n",
    "plt.ylabel('IR',fontsize=13)\n",
    "plt.yticks(fontsize=13)\n",
    "plt.title('Zero rate curve based on cubic interpolation',fontsize=13)\n",
    "plt.grid()\n",
    "plt.show()"
   ]
  },
  {
   "cell_type": "markdown",
   "id": "4e791c36",
   "metadata": {},
   "source": [
    "# 7.2.6.Bond price based on zero rate"
   ]
  },
  {
   "cell_type": "code",
   "execution_count": 17,
   "id": "59a0a7ac",
   "metadata": {},
   "outputs": [
    {
     "name": "stdout",
     "output_type": "stream",
     "text": [
      "Bond price based on different term zero rate is  102.7406\n"
     ]
    }
   ],
   "source": [
    "C_new=0.036\n",
    "m_new=4\n",
    "\n",
    "price_new=Bondprice_deffdiscount(C=C_new,M=par,m=m_new,y=rates_new,t=T_new)\n",
    "print('Bond price based on different term zero rate is ',round(price_new,4))"
   ]
  },
  {
   "cell_type": "code",
   "execution_count": null,
   "id": "01243103",
   "metadata": {},
   "outputs": [],
   "source": []
  }
 ],
 "metadata": {
  "kernelspec": {
   "display_name": "Custom (custom_python)",
   "language": "python",
   "name": "custom_python"
  },
  "language_info": {
   "codemirror_mode": {
    "name": "ipython",
    "version": 3
   },
   "file_extension": ".py",
   "mimetype": "text/x-python",
   "name": "python",
   "nbconvert_exporter": "python",
   "pygments_lexer": "ipython3",
   "version": "3.6.12"
  }
 },
 "nbformat": 4,
 "nbformat_minor": 5
}
