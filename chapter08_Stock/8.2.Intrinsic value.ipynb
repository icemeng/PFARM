{
 "cells": [
  {
   "cell_type": "code",
   "execution_count": 1,
   "id": "30ff84e5",
   "metadata": {},
   "outputs": [],
   "source": [
    "##########################################################################\n",
    "# Created on Sat Nov 06 23:49:45 2021                                    #\n",
    "# Python for Financial Analysis and Risk Management                      #\n",
    "# @author: Meng Lipeng (FRM, CFA)                                        #\n",
    "##########################################################################"
   ]
  },
  {
   "cell_type": "markdown",
   "id": "ffd61a04",
   "metadata": {},
   "source": [
    "# 8.2.1.Dividend Discount Model"
   ]
  },
  {
   "cell_type": "markdown",
   "id": "f2d571d1",
   "metadata": {},
   "source": [
    "$$V=\\frac{D_1}{1+r}+\\frac{D_2}{(1+r)^2}+\\frac{D_3}{(1+r)^3}+\\cdots=\\sum_{t=1}^\\infty \\frac{D_t}{(1+r)^t} \\tag{8-1}$$\\\n",
    "where,\\\n",
    "V:intrinsic value\\\n",
    "$D_t$:dividend paid at time t\\\n",
    "r:required rate of return(annual compound)"
   ]
  },
  {
   "cell_type": "markdown",
   "id": "538c8982",
   "metadata": {},
   "source": [
    "Suppose $g_t$ is growth rate of dividend from t-1 to t,\\\n",
    "$$D_{t-1}(1+g_t)=D_t\\tag{8-2}$$ or \\\n",
    "$$g_t=\\frac{D_t-D_{t-1}}{D_{t-1}}\\tag{8-3}$$"
   ]
  },
  {
   "cell_type": "markdown",
   "id": "fd501d66",
   "metadata": {},
   "source": [
    "# 8.2.2.Zero Growth Model"
   ]
  },
  {
   "cell_type": "markdown",
   "id": "0fc63685",
   "metadata": {},
   "source": [
    "Suppose $D_0$ indicates amount of dividend per share paid by the enterprise in the latest period, \\\n",
    "and the dividend of each period of the future is also equal to $D_0$.\\\n",
    "$$D_0=D_1=D_2=D_3=\\cdots=D_\\infty\\tag{8-4}$$\\\n",
    "Substitute formula(8-4) into formula(8-1), we have\\\n",
    "$$V=\\sum_{t=1}^\\infty \\frac{D_t}{(1+r)^t}=D_0\\sum_{t=1}^\\infty \\frac{1}{(1+r)^t}=\\frac{D_0}{r}\\tag{8-5}$$"
   ]
  },
  {
   "cell_type": "code",
   "execution_count": 4,
   "id": "7fdd7ab5",
   "metadata": {},
   "outputs": [],
   "source": [
    "def value_ZGM(D,r):\n",
    "    '''Define a function to calculate intrinisic value of a stock using Zero Growth Model\n",
    "    D:amount of dividend per share paid by the enterprise in the latest period\n",
    "    r:discount interest rate matched with enterprise risk(annual compound)'''\n",
    "    value=D/r\n",
    "    return value"
   ]
  },
  {
   "cell_type": "code",
   "execution_count": 5,
   "id": "5b65f4bb",
   "metadata": {},
   "outputs": [
    {
     "name": "stdout",
     "output_type": "stream",
     "text": [
      "Intrinisic value of CMB using Zero Growth Model is  10.7335\n"
     ]
    }
   ],
   "source": [
    "Div=1.2\n",
    "rate=0.1118\n",
    "\n",
    "value=value_ZGM(D=Div,r=rate)\n",
    "print('Intrinisic value of CMB using Zero Growth Model is ',round(value,4))"
   ]
  },
  {
   "cell_type": "markdown",
   "id": "01b4aed2",
   "metadata": {},
   "source": [
    "# 8.2.3.Constant Growth Model"
   ]
  },
  {
   "cell_type": "markdown",
   "id": "3f8459e8",
   "metadata": {},
   "source": [
    "Suppose the dividend per share will maintain a fixed and positive growth rate in the future, thus $g_t=g>0$\\\n",
    "$$D_1=D_0(1+g)\\tag{8-6}$$\\\n",
    "$$D_2=D_1(1+g)=D_0(1+g)^2\\tag{8-7}$$\\\n",
    "$$\\cdots$$\\\n",
    "$$D_t=D_{t-1}(1+g)=D_0(1+g)^t\\tag{8-8}$$\\\n",
    "Substitute above formula into formula(8-1), we have\\\n",
    "$$V=\\sum_{t=1}^\\infty \\frac{D_0(1+g)^t}{(1+r)^t}=D_0\\sum_{t=1}^\\infty \\frac{(1+g)^t}{(1+r)^t}=D_0\\frac{1+g}{r-g}\\tag{8-9}$$"
   ]
  },
  {
   "cell_type": "code",
   "execution_count": 6,
   "id": "a6cf8fb3",
   "metadata": {},
   "outputs": [],
   "source": [
    "def value_CGM(D,g,r):\n",
    "    '''Define a function to calculate intrinisic value of a stock using Constant Growth Model\n",
    "    D:amount of dividend per share paid by the enterprise in the latest period\n",
    "    g:growth rate of dividend and g<r\n",
    "    r:discount interest rate matched with enterprise risk(annual compound)'''\n",
    "    if r>g:\n",
    "        value=D*(1+g)/(r-g)\n",
    "    else:\n",
    "        value='Na'\n",
    "    return value"
   ]
  },
  {
   "cell_type": "code",
   "execution_count": 7,
   "id": "ec237b5f",
   "metadata": {},
   "outputs": [
    {
     "name": "stdout",
     "output_type": "stream",
     "text": [
      "Intrinisic value of CMB using Constant Growth Model is  111.8644\n"
     ]
    }
   ],
   "source": [
    "growth=0.1\n",
    "value_new=value_CGM(D=Div,g=growth,r=rate)\n",
    "print('Intrinisic value of CMB using Constant Growth Model is ',round(value_new,4))"
   ]
  },
  {
   "cell_type": "markdown",
   "id": "347c1815",
   "metadata": {},
   "source": [
    "# 8.2.4.Two Stage Growth Model"
   ]
  },
  {
   "cell_type": "markdown",
   "id": "45834b65",
   "metadata": {},
   "source": [
    "Assuming that the first stage of the enterprise is in the future [0,T], the dividend growth rate of this stage is expressed in $g_1$,\\\n",
    "the second stage of the enterprise is in the future [T,$\\infty$], the dividend growth rate of this stage is expressed in $g_2$ and $g_1>g_2$"
   ]
  },
  {
   "cell_type": "markdown",
   "id": "c8b4c6aa",
   "metadata": {},
   "source": [
    "$$\n",
    "  First\\hspace{ 2pt } stage\\left\\{\n",
    "    \\begin{array}{l}\n",
    "      D_1=D_0(1+g_1)\\tag{8-10~8-12} \\\\\n",
    "      D_2=D_1(1+g_1)=D_0(1+g_1)^2 \\\\\n",
    "      \\cdots \\\\\n",
    "      D_T=D_{T-1}(1+g_1)=D_0(1+g_1)^T\n",
    "    \\end{array}\n",
    "  \\right.\n",
    "$$"
   ]
  },
  {
   "cell_type": "markdown",
   "id": "f39e3b6b",
   "metadata": {},
   "source": [
    "$$\n",
    "  Second\\hspace{ 2pt } stage\\left\\{\n",
    "    \\begin{array}{l}\n",
    "      D_{T+1}=D_T(1+g_2)=D_0(1+g_1)^T(1+g_2)\\tag{8-13~8-15} \\\\\n",
    "      D_{T+2}=D_{T+1}(1+g_2)=D_0(1+g_1)^T(1+g_2)^2 \\\\\n",
    "      \\cdots \\\\\n",
    "      D_{T+N}=D_{T+N-1}(1+g_2)=D_0(1+g_1)^T(1+g_2)^N \\\\\n",
    "      \\cdots\n",
    "    \\end{array}\n",
    "  \\right.\n",
    "$$"
   ]
  },
  {
   "cell_type": "markdown",
   "id": "695c4fb7",
   "metadata": {},
   "source": [
    "Substitute (8-10~8-12) into formula(8-1), we have\\\n",
    "$$V_1=D_0\\sum_{t=1}^T\\frac{(1+g_1)^t}{(1+r)^t}\\tag{8-16}$$"
   ]
  },
  {
   "cell_type": "markdown",
   "id": "30718906",
   "metadata": {},
   "source": [
    "Substitute (8-13~8-15) into formula(8-1), we have\\\n",
    "$$V_2=\\frac{D_0(1+g_1)^T}{(1+r)^T}\\sum_{t=1}^\\infty\\frac{(1+g_2)^t}{(1+r)^t}=\\frac{D_0(1+g_1)^T}{(1+r)^T}\\left(\\frac{1+g_2}{r-g_2}\\right)\\tag{8-17}$$"
   ]
  },
  {
   "cell_type": "markdown",
   "id": "0e0991c1",
   "metadata": {},
   "source": [
    "Combine (8-16) and (8-17),the expression of two stage growth model is \\\n",
    "$$V=V_1+V_2=D_0\\left[\\sum_{t=1}^T\\frac{(1+g_1)^t}{(1+r)^t}+\\frac{(1+g_1)^T}{(1+r)^T}\\left(\\frac{1+g_2}{r-g_2}\\right)\\right]\\tag{8-18}$$"
   ]
  },
  {
   "cell_type": "code",
   "execution_count": 10,
   "id": "36e11afa",
   "metadata": {},
   "outputs": [],
   "source": [
    "import numpy as np\n",
    "def value_2SGM(D,g1,g2,T,r):\n",
    "    '''Define a function to calculate intrinisic value of a stock using 2Stage Growth Model\n",
    "    D:amount of dividend per share paid by the enterprise in the latest period\n",
    "    g1:growth rate of dividend at the first stage\n",
    "    g2:growth rate of dividend at the second stage,g2<r\n",
    "    T:term of the first stage in year\n",
    "    r:discount interest rate matched with enterprise risk(annual compound)'''\n",
    "    if r>g2:\n",
    "        T_list=np.arange(1,T+1)\n",
    "        V1=D*np.sum(pow(1+g1,T_list)/pow(1+r,T_list))\n",
    "        V2=D*pow(1+g1,T)*(1+g2)/(pow(1+r,T)*(r-g2))\n",
    "        value=V1+V2\n",
    "    else:\n",
    "        value='Na'\n",
    "    return value"
   ]
  },
  {
   "cell_type": "code",
   "execution_count": 11,
   "id": "92a9e370",
   "metadata": {},
   "outputs": [
    {
     "name": "stdout",
     "output_type": "stream",
     "text": [
      "Intrinisic value of CMB using 2Stage Growth Model is  51.9933\n"
     ]
    }
   ],
   "source": [
    "g_stage1=0.11\n",
    "g_stage2=0.08\n",
    "T_stage1=10\n",
    "\n",
    "value_2stages=value_2SGM(D=Div,g1=g_stage1,g2=g_stage2,T=T_stage1,r=rate)\n",
    "print('Intrinisic value of CMB using 2Stage Growth Model is ',round(value_2stages,4))"
   ]
  },
  {
   "cell_type": "code",
   "execution_count": 15,
   "id": "d52abeeb",
   "metadata": {},
   "outputs": [
    {
     "name": "stderr",
     "output_type": "stream",
     "text": [
      "/home/ec2-user/SageMaker/custom-miniconda/miniconda/envs/custom_python/lib/python3.6/site-packages/ipykernel_launcher.py:24: MatplotlibDeprecationWarning: Adding an axes using the same arguments as a previous axes currently reuses the earlier instance.  In a future version, a new instance will always be created and returned.  Meanwhile, this warning can be suppressed, and the future behavior ensured, by passing a unique label to each axes instance.\n"
     ]
    },
    {
     "data": {
      "image/png": "[encoded data removed]",
      "text/plain": [
       "<Figure size 792x432 with 2 Axes>"
      ]
     },
     "metadata": {
      "needs_background": "light"
     },
     "output_type": "display_data"
    }
   ],
   "source": [
    "g1_list=np.linspace(0.06,0.11,100)\n",
    "g2_list=np.linspace(0.03,0.08,100)\n",
    "\n",
    "value_list1=np.zeros_like(g1_list)\n",
    "for i in range(len(g1_list)):\n",
    "    value_list1[i]=value_2SGM(D=Div,g1=g1_list[i],g2=g_stage2,T=T_stage1,r=rate)\n",
    "\n",
    "value_list2=np.zeros_like(g2_list)\n",
    "for i in range(len(g2_list)):\n",
    "    value_list2[i]=value_2SGM(D=Div,g1=g_stage1,g2=g2_list[i],T=T_stage1,r=rate)\n",
    "    \n",
    "import matplotlib.pyplot as plt\n",
    "\n",
    "plt.figure(figsize=(11,6))\n",
    "plt.subplot(1,2,1)\n",
    "plt.plot(g1_list,value_list1,'r-',lw=2.5)\n",
    "plt.xlabel('First stage dividend growth rate',fontsize=13)\n",
    "plt.xticks(fontsize=13)\n",
    "plt.ylabel('Intrisnic value',fontsize=13,rotation=90)\n",
    "plt.yticks(fontsize=13)\n",
    "plt.title('Relationship between first stage DGR and IV',fontsize=14)\n",
    "plt.grid()\n",
    "\n",
    "plt.subplot(1,2,2,sharey=plt.subplot(1,2,1))\n",
    "plt.plot(g2_list,value_list2,'b-',lw=2.5)\n",
    "plt.xlabel('Second stage dividend growth rate',fontsize=13)\n",
    "plt.xticks(fontsize=13)\n",
    "plt.yticks(fontsize=13)\n",
    "plt.title('Relationship between second stage DGR and IV',fontsize=14)\n",
    "plt.grid()\n",
    "plt.show()"
   ]
  },
  {
   "cell_type": "markdown",
   "id": "f4ac7907",
   "metadata": {},
   "source": [
    "# 8.2.5.Three Stage Growth Model"
   ]
  },
  {
   "cell_type": "markdown",
   "id": "41537753",
   "metadata": {},
   "source": [
    "Assuming that the first stage of the enterprise is in the future [0,$T_a$], the dividend growth rate of this stage is expressed in $g_a$,\\\n",
    "the second stage of the enterprise is in the future[$T_a,T_b$], the dividend growth rate of this stage is expressed in $g_t$, and t=$T_a+1,T_a+2,\\cdots,T_b$\\\n",
    "the third stage of the enterprise is in the future [$T_b,\\infty$], the dividend growth rate of this stage is expressed in $g_b$ \\\n",
    "and assuming in the second stage, $g_t$ decreases linearly from $g_a$ to $g_b$, expression is as below\\\n",
    "$$g_t=g_a-(g_a-g_b)\\frac{t-T_a}{T_b-T_a}\\tag{8-19}$$"
   ]
  },
  {
   "cell_type": "markdown",
   "id": "0f90f354",
   "metadata": {},
   "source": [
    "$$\n",
    "  First\\hspace{ 2pt } stage\\left\\{\n",
    "    \\begin{array}{l}\n",
    "      D_1=D_0(1+g_a)\\tag{8-20~8-22} \\\\\n",
    "      D_2=D_0(1+g_a)^2 \\\\\n",
    "      \\cdots \\\\\n",
    "      D_{T_a}=D_0(1+g_a)^{T_a}\n",
    "    \\end{array}\n",
    "  \\right.\n",
    "$$"
   ]
  },
  {
   "cell_type": "markdown",
   "id": "240657ce",
   "metadata": {},
   "source": [
    "$$\n",
    "  Second\\hspace{ 2pt } stage\\left\\{\n",
    "    \\begin{array}{l}\n",
    "      D_{T_a+1}=D_{T_a}(1+g_{T_a+1})\\tag{8-23~8-25} \\\\\n",
    "      D_{T_a+2}=D_{T_a}(1+g_{T_a+1})(1+g_{T_a+2}) \\\\\n",
    "      \\cdots \\\\\n",
    "      D_{T_b}=D_{T_a}(1+g_{T_a+1})(1+g_{T_a+2})\\cdots(1+g_{T_b}) \\\\\n",
    "    \\end{array}\n",
    "  \\right.\n",
    "$$"
   ]
  },
  {
   "cell_type": "markdown",
   "id": "b4b4b7ad",
   "metadata": {},
   "source": [
    "$$\n",
    "  Third\\hspace{ 2pt } stage\\left\\{\n",
    "    \\begin{array}{l}\n",
    "      D_{T_b+1}=D_{T_b}(1+g_b)\\tag{8-26~8-28} \\\\\n",
    "      D_{T_b+2}=D_{T_b}(1+g_b)^2 \\\\\n",
    "      \\cdots \\\\\n",
    "      D_{T_b+N}=D_{T_b}(1+g_b)^N \\\\\n",
    "    \\end{array}\n",
    "  \\right.\n",
    "$$"
   ]
  },
  {
   "cell_type": "markdown",
   "id": "0589a48b",
   "metadata": {},
   "source": [
    "Based on(8-20~8-22), we have\\\n",
    "$$V_1=D_0\\sum_{t=1}^{T_a}\\frac{(1+g_a)^t}{(1+r)^t}\\tag{8-29}$$"
   ]
  },
  {
   "cell_type": "markdown",
   "id": "c66734eb",
   "metadata": {},
   "source": [
    "Based on(8-23~8-25), we have\\\n",
    "$$V_2=\\sum_{t=T_a+1}^{T_b}\\frac{D_{t-1}(1+g_t)}{(1+r)^t}\\tag{8-30}$$"
   ]
  },
  {
   "cell_type": "markdown",
   "id": "b68fd966",
   "metadata": {},
   "source": [
    "Based on(8-26~8-28), we have\\\n",
    "$$V_3=\\frac{D_{T_b}(1+g_b)}{(1+r)^{T_b}(r-g_b)}\\tag{8-31}$$"
   ]
  },
  {
   "cell_type": "markdown",
   "id": "e9d78597",
   "metadata": {},
   "source": [
    "Combine (8-29) to (8-31),the expression of three stage growth model is \\\n",
    "$$V=V_1+V_2+V_3=D_0\\sum_{t=1}^{T_a}\\frac{(1+g_a)^t}{(1+r)^t}+\\sum_{t=T_a+1}^{T_b}\\frac{D_{t-1}(1+g_t)}{(1+r)^t}+\\frac{D_{T_b}(1+g_b)}{(1+r)^{T_b}(r-g_b)}\\tag{8-32}$$"
   ]
  },
  {
   "cell_type": "code",
   "execution_count": 23,
   "id": "6d0522d7",
   "metadata": {},
   "outputs": [],
   "source": [
    "def value_3SGM(D,ga,gb,Ta,Tb,r):\n",
    "    '''Define a function to calculate intrinisic value of a stock using 3Stage Growth Model\n",
    "    D:amount of dividend per share paid by the enterprise in the latest period\n",
    "    ga:growth rate of dividend at the first stage\n",
    "    gb:growth rate of dividend at the third stage,gb<r\n",
    "    Ta:term of the first stage in year\n",
    "    Tb:term of the first and second stage in year\n",
    "    r:discount interest rate matched with enterprise risk(annual compound)'''\n",
    "    if r>gb:\n",
    "        #First stage\n",
    "        Ta_list=np.arange(1,Ta+1)\n",
    "        D_stage1=D*pow(1+ga,Ta_list)\n",
    "        V1=np.sum(D_stage1/pow(1+r,Ta_list))\n",
    "        \n",
    "        #Second stage\n",
    "        Tb_list=np.arange(Ta+1,Tb+1)\n",
    "        D_t=D_stage1[-1]\n",
    "        D_stage2=[]\n",
    "        for i in range(len(Tb_list)):\n",
    "            gt=ga-(ga-gb)*(Tb_list[i]-Ta)/(Tb-Ta)\n",
    "            D_t=D_t*(1+gt)\n",
    "            D_stage2.append(D_t)\n",
    "        D_stage2=np.array(D_stage2)\n",
    "        V2=np.sum(D_stage2/pow(1+r,Tb_list))\n",
    "        \n",
    "        #Third stage\n",
    "        D_Tb=D_stage2[-1]\n",
    "        V3=D_Tb*(1+gb)/(pow(1+r,Tb)*(r-gb))\n",
    "        \n",
    "        value=V1+V2+V3\n",
    "    else:\n",
    "        value='Na'\n",
    "    return value"
   ]
  },
  {
   "cell_type": "code",
   "execution_count": 24,
   "id": "ca03f630",
   "metadata": {},
   "outputs": [
    {
     "name": "stdout",
     "output_type": "stream",
     "text": [
      "Intrinisic value of CMB using 3Stage Growth Model is  43.557\n"
     ]
    }
   ],
   "source": [
    "g_stage1=0.11\n",
    "g_stage3=0.075\n",
    "T_stage1=6\n",
    "T_stage2=4\n",
    "\n",
    "value_3stages=value_3SGM(D=Div,ga=g_stage1,gb=g_stage3,Ta=T_stage1,Tb=T_stage1+T_stage2,r=rate)\n",
    "print('Intrinisic value of CMB using 3Stage Growth Model is ',round(value_3stages,4))"
   ]
  },
  {
   "cell_type": "code",
   "execution_count": 26,
   "id": "82560fd3",
   "metadata": {},
   "outputs": [
    {
     "data": {
      "image/png": "[encoded data removed]",
      "text/plain": [
       "<Figure size 720x792 with 4 Axes>"
      ]
     },
     "metadata": {
      "needs_background": "light"
     },
     "output_type": "display_data"
    }
   ],
   "source": [
    "Div_list=np.linspace(0.8,1.6,100)\n",
    "rate_list=np.linspace(0.08,0.12,100)\n",
    "ga_list=np.linspace(0.07,0.11,100)\n",
    "gb_list=np.linspace(0.04,0.08,100)\n",
    "\n",
    "value_list1=np.zeros_like(Div_list)\n",
    "for i in range(len(Div_list)):\n",
    "    value_list1[i]=value_3SGM(D=Div_list[i],ga=g_stage1,gb=g_stage3,Ta=T_stage1,Tb=T_stage1+T_stage2,r=rate)\n",
    "\n",
    "value_list2=np.zeros_like(rate_list)\n",
    "for i in range(len(rate_list)):\n",
    "    value_list2[i]=value_3SGM(D=Div,ga=g_stage1,gb=g_stage3,Ta=T_stage1,Tb=T_stage1+T_stage2,r=rate_list[i])\n",
    "\n",
    "value_list3=np.zeros_like(ga_list)\n",
    "for i in range(len(ga_list)):\n",
    "    value_list3[i]=value_3SGM(D=Div,ga=ga_list[i],gb=g_stage3,Ta=T_stage1,Tb=T_stage1+T_stage2,r=rate)\n",
    "\n",
    "value_list4=np.zeros_like(gb_list)\n",
    "for i in range(len(gb_list)):\n",
    "    value_list4[i]=value_3SGM(D=Div,ga=g_stage1,gb=gb_list[i],Ta=T_stage1,Tb=T_stage1+T_stage2,r=rate)\n",
    "\n",
    "plt.figure(figsize=(10,11))\n",
    "plt.subplot(2,2,1)\n",
    "plt.plot(Div_list,value_list1,'r-',lw=2.5)\n",
    "plt.xlabel('Latest dividend per share',fontsize=13)\n",
    "plt.xticks(fontsize=13)\n",
    "plt.ylabel('Intrisnic value',fontsize=13,rotation=90)\n",
    "plt.yticks(fontsize=13)\n",
    "plt.grid()\n",
    "\n",
    "plt.subplot(2,2,2)\n",
    "plt.plot(rate_list,value_list2,'b-',lw=2.5)\n",
    "plt.xlabel('Discount rate',fontsize=13)\n",
    "plt.xticks(fontsize=13)\n",
    "plt.yticks(fontsize=13)\n",
    "plt.grid()\n",
    "\n",
    "plt.subplot(2,2,3)\n",
    "plt.plot(ga_list,value_list3,'r-',lw=2.5)\n",
    "plt.xlabel('First stage dividend growth rate',fontsize=13)\n",
    "plt.xticks(fontsize=13)\n",
    "plt.ylabel('Intrisnic value',fontsize=13,rotation=90)\n",
    "plt.yticks(fontsize=13)\n",
    "plt.grid()\n",
    "\n",
    "plt.subplot(2,2,4)\n",
    "plt.plot(gb_list,value_list4,'b-',lw=2.5)\n",
    "plt.xlabel('Third stage dividend growth rate',fontsize=13)\n",
    "plt.xticks(fontsize=13)\n",
    "plt.yticks(fontsize=13)\n",
    "plt.grid()\n",
    "\n",
    "plt.show()"
   ]
  },
  {
   "cell_type": "code",
   "execution_count": null,
   "id": "734615c3",
   "metadata": {},
   "outputs": [],
   "source": []
  }
 ],
 "metadata": {
  "kernelspec": {
   "display_name": "Custom (custom_python)",
   "language": "python",
   "name": "custom_python"
  },
  "language_info": {
   "codemirror_mode": {
    "name": "ipython",
    "version": 3
   },
   "file_extension": ".py",
   "mimetype": "text/x-python",
   "name": "python",
   "nbconvert_exporter": "python",
   "pygments_lexer": "ipython3",
   "version": "3.6.12"
  }
 },
 "nbformat": 4,
 "nbformat_minor": 5
}
