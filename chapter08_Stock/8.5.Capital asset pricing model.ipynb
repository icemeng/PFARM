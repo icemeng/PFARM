{
 "cells": [
  {
   "cell_type": "code",
   "execution_count": 1,
   "id": "9d1d9382",
   "metadata": {},
   "outputs": [],
   "source": [
    "##########################################################################\n",
    "# Created on Sat Nov 07 19:04:45 2021                                    #\n",
    "# Python for Financial Analysis and Risk Management                      #\n",
    "# @author: Meng Lipeng (FRM, CFA)                                        #\n",
    "##########################################################################"
   ]
  },
  {
   "cell_type": "markdown",
   "id": "df8b827e",
   "metadata": {},
   "source": [
    "# 8.5.1.Systematic and nonsystematic risk"
   ]
  },
  {
   "cell_type": "code",
   "execution_count": 1,
   "id": "2185ac0d",
   "metadata": {},
   "outputs": [
    {
     "data": {
      "text/plain": [
       "Index(['王府井', '中国软件', '大智慧', '中航沈飞', '闻泰科技', '北京银行', '中国建筑', '大秦铁路', '长江电力',\n",
       "       '万华化学',\n",
       "       ...\n",
       "       '中国核电', '工商银行', '陕西煤业', '保利地产', '招商银行', '光大证券', '南京银行', '国投电力', '中国中冶',\n",
       "       '中国神华'],\n",
       "      dtype='object', length=160)"
      ]
     },
     "execution_count": 1,
     "metadata": {},
     "output_type": "execute_result"
    }
   ],
   "source": [
    "import pandas as pd\n",
    "\n",
    "price_stocks=pd.read_excel('Close price of SZ180(2018-2020).xlsx',engine='openpyxl',sheet_name=\"Sheet1\",header=0,index_col=0)\n",
    "price_stocks.columns"
   ]
  },
  {
   "cell_type": "code",
   "execution_count": 2,
   "id": "02a2475c",
   "metadata": {},
   "outputs": [
    {
     "data": {
      "text/plain": [
       "Index(['2018-01-02', '2018-01-03', '2018-01-04', '2018-01-05', '2018-01-08',\n",
       "       '2018-01-09', '2018-01-10', '2018-01-11', '2018-01-12', '2018-01-15',\n",
       "       ...\n",
       "       '2020-12-18', '2020-12-21', '2020-12-22', '2020-12-23', '2020-12-24',\n",
       "       '2020-12-25', '2020-12-28', '2020-12-29', '2020-12-30', '2020-12-31'],\n",
       "      dtype='object', name='日期', length=730)"
      ]
     },
     "execution_count": 2,
     "metadata": {},
     "output_type": "execute_result"
    }
   ],
   "source": [
    "price_stocks.index"
   ]
  },
  {
   "cell_type": "code",
   "execution_count": 4,
   "id": "1396d354",
   "metadata": {},
   "outputs": [
    {
     "data": {
      "image/png": "[encoded data removed]",
      "text/plain": [
       "<Figure size 648x432 with 1 Axes>"
      ]
     },
     "metadata": {
      "needs_background": "light"
     },
     "output_type": "display_data"
    }
   ],
   "source": [
    "import numpy as np\n",
    "\n",
    "return_stocks=np.log(price_stocks/price_stocks.shift(1))\n",
    "\n",
    "n=len(return_stocks.columns)\n",
    "vol_port=np.zeros(n)\n",
    "\n",
    "for i in range(1,n+1):\n",
    "    w=np.ones(i)/i\n",
    "    cov=252*return_stocks.iloc[:,:i].cov()\n",
    "    vol_port[i-1]=np.sqrt(np.dot(w,np.dot(cov,w.T)))\n",
    "\n",
    "N_list=np.arange(n)+1\n",
    "\n",
    "import matplotlib.pyplot as plt\n",
    "\n",
    "plt.figure(figsize=(9,6))\n",
    "plt.plot(N_list,vol_port,'r-',lw=2.0)\n",
    "plt.xlabel('Stock number in portfolio',fontsize=13)\n",
    "plt.ylabel('Volatility of portfolio',fontsize=13)\n",
    "plt.xticks(fontsize=13)\n",
    "plt.yticks(fontsize=13)\n",
    "plt.title('Relationship between volatility and stock number in portfolio',fontsize=13)\n",
    "plt.grid()\n",
    "plt.show()"
   ]
  },
  {
   "cell_type": "markdown",
   "id": "252bba44",
   "metadata": {},
   "source": [
    "# 8.5.2.CAPM"
   ]
  },
  {
   "cell_type": "markdown",
   "id": "1b98021a",
   "metadata": {},
   "source": [
    "## 1.Expression of CAPM model"
   ]
  },
  {
   "cell_type": "markdown",
   "id": "f20b321f",
   "metadata": {},
   "source": [
    "$$E(R_i)=R_F+\\beta_i[E(R_M)-R_F]\\tag{8-56}$$\n",
    "or $$E(R_i)-R_F=\\beta_i[E(R_M)-R_F]\\tag{8-57}$$\\\n",
    "where,\\\n",
    "$E(R_i)$:expected return of the ith stock\\\n",
    "$R_F$:risk free rate\\\n",
    "$E(R_M)$:return on the market, representing price of systematic risk \\\n",
    "$E(R_M)-R_F$:market premium\\\n",
    "$E(R_i)-R_F$:risk premium\\\n",
    "$\\beta_i$:measure the sensitivity of the expected return of the stock to the market return"
   ]
  },
  {
   "cell_type": "code",
   "execution_count": 5,
   "id": "e7ac1231",
   "metadata": {},
   "outputs": [],
   "source": [
    "def Ri_CAPM(beta,Rm,Rf):\n",
    "    '''Define a function to calculate the expected return of the stock using CAPM\n",
    "    beta:beta of the stock\n",
    "    Rm:return on the market\n",
    "    Rf:risk free rate'''\n",
    "    Ri=Rf+beta*(Rm-Rf)\n",
    "    return Ri"
   ]
  },
  {
   "cell_type": "markdown",
   "id": "305957ff",
   "metadata": {},
   "source": [
    "## 2.Calculate beta and expected return"
   ]
  },
  {
   "cell_type": "markdown",
   "id": "32d659c7",
   "metadata": {},
   "source": [
    "Linear regression equation:\\\n",
    "$$R_{it}=\\alpha_i+\\beta_iR_{Mt}\\tag{8-58}$$\\\n",
    "where,\\\n",
    "$R_{it}$:return of the ith stock in the past t\\\n",
    "$R_{Mt}$:return of the market in the past t"
   ]
  },
  {
   "cell_type": "code",
   "execution_count": 7,
   "id": "dd1fe3e8",
   "metadata": {},
   "outputs": [
    {
     "data": {
      "text/html": [
       "<div>\n",
       "<style scoped>\n",
       "    .dataframe tbody tr th:only-of-type {\n",
       "        vertical-align: middle;\n",
       "    }\n",
       "\n",
       "    .dataframe tbody tr th {\n",
       "        vertical-align: top;\n",
       "    }\n",
       "\n",
       "    .dataframe thead th {\n",
       "        text-align: right;\n",
       "    }\n",
       "</style>\n",
       "<table border=\"1\" class=\"dataframe\">\n",
       "  <thead>\n",
       "    <tr style=\"text-align: right;\">\n",
       "      <th></th>\n",
       "      <th>CMB</th>\n",
       "      <th>HS300</th>\n",
       "    </tr>\n",
       "  </thead>\n",
       "  <tbody>\n",
       "    <tr>\n",
       "      <th>count</th>\n",
       "      <td>973.000000</td>\n",
       "      <td>973.000000</td>\n",
       "    </tr>\n",
       "    <tr>\n",
       "      <th>mean</th>\n",
       "      <td>0.000920</td>\n",
       "      <td>0.000457</td>\n",
       "    </tr>\n",
       "    <tr>\n",
       "      <th>std</th>\n",
       "      <td>0.017569</td>\n",
       "      <td>0.012141</td>\n",
       "    </tr>\n",
       "    <tr>\n",
       "      <th>min</th>\n",
       "      <td>-0.068975</td>\n",
       "      <td>-0.082088</td>\n",
       "    </tr>\n",
       "    <tr>\n",
       "      <th>25%</th>\n",
       "      <td>-0.009076</td>\n",
       "      <td>-0.005306</td>\n",
       "    </tr>\n",
       "    <tr>\n",
       "      <th>50%</th>\n",
       "      <td>0.000000</td>\n",
       "      <td>0.000446</td>\n",
       "    </tr>\n",
       "    <tr>\n",
       "      <th>75%</th>\n",
       "      <td>0.010596</td>\n",
       "      <td>0.006646</td>\n",
       "    </tr>\n",
       "    <tr>\n",
       "      <th>max</th>\n",
       "      <td>0.095211</td>\n",
       "      <td>0.057775</td>\n",
       "    </tr>\n",
       "  </tbody>\n",
       "</table>\n",
       "</div>"
      ],
      "text/plain": [
       "              CMB       HS300\n",
       "count  973.000000  973.000000\n",
       "mean     0.000920    0.000457\n",
       "std      0.017569    0.012141\n",
       "min     -0.068975   -0.082088\n",
       "25%     -0.009076   -0.005306\n",
       "50%      0.000000    0.000446\n",
       "75%      0.010596    0.006646\n",
       "max      0.095211    0.057775"
      ]
     },
     "execution_count": 7,
     "metadata": {},
     "output_type": "execute_result"
    }
   ],
   "source": [
    "P_bank_index=pd.read_excel('Close price of CMB and HS300(2017-2020).xlsx',engine='openpyxl',sheet_name=\"Sheet1\",header=0,index_col=0)\n",
    "R_bank_index=np.log(P_bank_index/P_bank_index.shift(1))\n",
    "R_bank_index=R_bank_index.dropna()\n",
    "R_bank_index.describe()"
   ]
  },
  {
   "cell_type": "code",
   "execution_count": 14,
   "id": "4cc446c3",
   "metadata": {},
   "outputs": [
    {
     "data": {
      "text/html": [
       "<table class=\"simpletable\">\n",
       "<caption>OLS Regression Results</caption>\n",
       "<tr>\n",
       "  <th>Dep. Variable:</th>           <td>CMB</td>       <th>  R-squared:         </th> <td>   0.438</td> \n",
       "</tr>\n",
       "<tr>\n",
       "  <th>Model:</th>                   <td>OLS</td>       <th>  Adj. R-squared:    </th> <td>   0.438</td> \n",
       "</tr>\n",
       "<tr>\n",
       "  <th>Method:</th>             <td>Least Squares</td>  <th>  F-statistic:       </th> <td>   757.7</td> \n",
       "</tr>\n",
       "<tr>\n",
       "  <th>Date:</th>             <td>Sun, 07 Nov 2021</td> <th>  Prob (F-statistic):</th> <td>9.39e-124</td>\n",
       "</tr>\n",
       "<tr>\n",
       "  <th>Time:</th>                 <td>14:07:46</td>     <th>  Log-Likelihood:    </th> <td>  2832.9</td> \n",
       "</tr>\n",
       "<tr>\n",
       "  <th>No. Observations:</th>      <td>   973</td>      <th>  AIC:               </th> <td>  -5662.</td> \n",
       "</tr>\n",
       "<tr>\n",
       "  <th>Df Residuals:</th>          <td>   971</td>      <th>  BIC:               </th> <td>  -5652.</td> \n",
       "</tr>\n",
       "<tr>\n",
       "  <th>Df Model:</th>              <td>     1</td>      <th>                     </th>     <td> </td>    \n",
       "</tr>\n",
       "<tr>\n",
       "  <th>Covariance Type:</th>      <td>nonrobust</td>    <th>                     </th>     <td> </td>    \n",
       "</tr>\n",
       "</table>\n",
       "<table class=\"simpletable\">\n",
       "<tr>\n",
       "    <td></td>       <th>coef</th>     <th>std err</th>      <th>t</th>      <th>P>|t|</th>  <th>[0.025</th>    <th>0.975]</th>  \n",
       "</tr>\n",
       "<tr>\n",
       "  <th>const</th> <td>    0.0005</td> <td>    0.000</td> <td>    1.141</td> <td> 0.254</td> <td>   -0.000</td> <td>    0.001</td>\n",
       "</tr>\n",
       "<tr>\n",
       "  <th>HS300</th> <td>    0.9580</td> <td>    0.035</td> <td>   27.526</td> <td> 0.000</td> <td>    0.890</td> <td>    1.026</td>\n",
       "</tr>\n",
       "</table>\n",
       "<table class=\"simpletable\">\n",
       "<tr>\n",
       "  <th>Omnibus:</th>       <td>64.762</td> <th>  Durbin-Watson:     </th> <td>   1.979</td>\n",
       "</tr>\n",
       "<tr>\n",
       "  <th>Prob(Omnibus):</th> <td> 0.000</td> <th>  Jarque-Bera (JB):  </th> <td> 157.725</td>\n",
       "</tr>\n",
       "<tr>\n",
       "  <th>Skew:</th>          <td> 0.367</td> <th>  Prob(JB):          </th> <td>5.63e-35</td>\n",
       "</tr>\n",
       "<tr>\n",
       "  <th>Kurtosis:</th>      <td> 4.830</td> <th>  Cond. No.          </th> <td>    82.4</td>\n",
       "</tr>\n",
       "</table><br/><br/>Notes:<br/>[1] Standard Errors assume that the covariance matrix of the errors is correctly specified."
      ],
      "text/plain": [
       "<class 'statsmodels.iolib.summary.Summary'>\n",
       "\"\"\"\n",
       "                            OLS Regression Results                            \n",
       "==============================================================================\n",
       "Dep. Variable:                    CMB   R-squared:                       0.438\n",
       "Model:                            OLS   Adj. R-squared:                  0.438\n",
       "Method:                 Least Squares   F-statistic:                     757.7\n",
       "Date:                Sun, 07 Nov 2021   Prob (F-statistic):          9.39e-124\n",
       "Time:                        14:07:46   Log-Likelihood:                 2832.9\n",
       "No. Observations:                 973   AIC:                            -5662.\n",
       "Df Residuals:                     971   BIC:                            -5652.\n",
       "Df Model:                           1                                         \n",
       "Covariance Type:            nonrobust                                         \n",
       "==============================================================================\n",
       "                 coef    std err          t      P>|t|      [0.025      0.975]\n",
       "------------------------------------------------------------------------------\n",
       "const          0.0005      0.000      1.141      0.254      -0.000       0.001\n",
       "HS300          0.9580      0.035     27.526      0.000       0.890       1.026\n",
       "==============================================================================\n",
       "Omnibus:                       64.762   Durbin-Watson:                   1.979\n",
       "Prob(Omnibus):                  0.000   Jarque-Bera (JB):              157.725\n",
       "Skew:                           0.367   Prob(JB):                     5.63e-35\n",
       "Kurtosis:                       4.830   Cond. No.                         82.4\n",
       "==============================================================================\n",
       "\n",
       "Notes:\n",
       "[1] Standard Errors assume that the covariance matrix of the errors is correctly specified.\n",
       "\"\"\""
      ]
     },
     "execution_count": 14,
     "metadata": {},
     "output_type": "execute_result"
    }
   ],
   "source": [
    "import statsmodels.api as sm\n",
    "\n",
    "R_bank=R_bank_index['CMB']\n",
    "R_index=R_bank_index['HS300']\n",
    "\n",
    "R_index_addcons=sm.add_constant(R_index)\n",
    "model=sm.OLS(endog=R_bank,exog=R_index_addcons)\n",
    "result=model.fit()\n",
    "result.summary()"
   ]
  },
  {
   "cell_type": "code",
   "execution_count": 10,
   "id": "c6fd14e3",
   "metadata": {},
   "outputs": [
    {
     "data": {
      "text/plain": [
       "const    0.000482\n",
       "HS300    0.958032\n",
       "dtype: float64"
      ]
     },
     "execution_count": 10,
     "metadata": {},
     "output_type": "execute_result"
    }
   ],
   "source": [
    "result.params"
   ]
  },
  {
   "cell_type": "code",
   "execution_count": 11,
   "id": "dc1bd024",
   "metadata": {},
   "outputs": [
    {
     "name": "stdout",
     "output_type": "stream",
     "text": [
      "Annualized expected return of CMB is  0.11183\n"
     ]
    }
   ],
   "source": [
    "LPR_1Y=0.0385\n",
    "R_market=252*R_index.mean()\n",
    "R_stock=Ri_CAPM(beta=result.params[-1],Rm=R_market,Rf=LPR_1Y)\n",
    "print('Annualized expected return of CMB is ',round(R_stock,6))"
   ]
  },
  {
   "cell_type": "markdown",
   "id": "3bc70d8a",
   "metadata": {},
   "source": [
    "# 8.5.3.Security market line"
   ]
  },
  {
   "cell_type": "code",
   "execution_count": 15,
   "id": "ceec7036",
   "metadata": {},
   "outputs": [
    {
     "data": {
      "image/png": "[encoded data removed]",
      "text/plain": [
       "<Figure size 648x432 with 1 Axes>"
      ]
     },
     "metadata": {
      "needs_background": "light"
     },
     "output_type": "display_data"
    }
   ],
   "source": [
    "beta_list=np.linspace(0,2.0,100)\n",
    "\n",
    "R_stock_list=Ri_CAPM(beta=beta_list,Rm=R_market,Rf=LPR_1Y)\n",
    "\n",
    "plt.figure(figsize=(9,6))\n",
    "plt.plot(beta_list,R_stock_list,'r-',label='Security market line',lw=2.0)\n",
    "plt.plot(result.params[-1],R_stock,'o',lw=2.5)\n",
    "plt.axis('tight')\n",
    "plt.xlabel('Beta',fontsize=13)\n",
    "plt.xlim(0,2.0)\n",
    "plt.ylabel('Expected return',fontsize=13)\n",
    "plt.ylim(0,0.2)\n",
    "plt.xticks(fontsize=13)\n",
    "plt.yticks(fontsize=13)\n",
    "plt.title('CAPM(CMB as an example)',fontsize=13)\n",
    "plt.annotate('Return when beta=0.958',fontsize=14,xy=(0.96,0.1115),xytext=(1.0,0.06),arrowprops=dict(facecolor='b',shrink=0.05))\n",
    "plt.legend(fontsize=13)\n",
    "plt.grid()\n",
    "plt.show()"
   ]
  },
  {
   "cell_type": "code",
   "execution_count": null,
   "id": "a05bea46",
   "metadata": {},
   "outputs": [],
   "source": []
  }
 ],
 "metadata": {
  "kernelspec": {
   "display_name": "Custom (custom_python)",
   "language": "python",
   "name": "custom_python"
  },
  "language_info": {
   "codemirror_mode": {
    "name": "ipython",
    "version": 3
   },
   "file_extension": ".py",
   "mimetype": "text/x-python",
   "name": "python",
   "nbconvert_exporter": "python",
   "pygments_lexer": "ipython3",
   "version": "3.6.12"
  }
 },
 "nbformat": 4,
 "nbformat_minor": 5
}
