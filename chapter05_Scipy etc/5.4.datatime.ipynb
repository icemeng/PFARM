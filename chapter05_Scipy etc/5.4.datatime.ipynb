{
 "cells": [
  {
   "cell_type": "code",
   "execution_count": 1,
   "id": "d36baf1a",
   "metadata": {},
   "outputs": [],
   "source": [
    "##########################################################################\n",
    "# Created on Sat Otc 31 13:34:45 2021                                    #\n",
    "# Python for Financial Analysis and Risk Management                      #\n",
    "# @author: Meng Lipeng (FRM, CFA)                                        #\n",
    "##########################################################################"
   ]
  },
  {
   "cell_type": "code",
   "execution_count": 2,
   "id": "ac0b3030",
   "metadata": {},
   "outputs": [],
   "source": [
    "import datetime as dt"
   ]
  },
  {
   "cell_type": "markdown",
   "id": "8c7cc53a",
   "metadata": {},
   "source": [
    "# 5.4.1.Create datatime"
   ]
  },
  {
   "cell_type": "code",
   "execution_count": 6,
   "id": "6149a3f1",
   "metadata": {},
   "outputs": [
    {
     "data": {
      "text/plain": [
       "datetime.datetime(2020, 5, 28, 0, 0)"
      ]
     },
     "execution_count": 6,
     "metadata": {},
     "output_type": "execute_result"
    }
   ],
   "source": [
    "T1=dt.datetime(2020,5,28) #2020/05/28\n",
    "T1"
   ]
  },
  {
   "cell_type": "code",
   "execution_count": 7,
   "id": "7bbc2217",
   "metadata": {},
   "outputs": [
    {
     "data": {
      "text/plain": [
       "datetime.datetime(2020, 4, 18, 17, 28, 58, 678)"
      ]
     },
     "execution_count": 7,
     "metadata": {},
     "output_type": "execute_result"
    }
   ],
   "source": [
    "T2=dt.datetime(2020,4,18,17,28,58,678) #2020/04/18 17:28:58.578\n",
    "T2"
   ]
  },
  {
   "cell_type": "code",
   "execution_count": 8,
   "id": "32d916ba",
   "metadata": {},
   "outputs": [
    {
     "data": {
      "text/plain": [
       "datetime.datetime(2021, 10, 31, 5, 41, 46, 398689)"
      ]
     },
     "execution_count": 8,
     "metadata": {},
     "output_type": "execute_result"
    }
   ],
   "source": [
    "now=dt.datetime.now()\n",
    "now"
   ]
  },
  {
   "cell_type": "code",
   "execution_count": 9,
   "id": "f986896f",
   "metadata": {},
   "outputs": [
    {
     "data": {
      "text/plain": [
       "datetime.datetime(2021, 10, 31, 5, 42, 53, 532480)"
      ]
     },
     "execution_count": 9,
     "metadata": {},
     "output_type": "execute_result"
    }
   ],
   "source": [
    "today=dt.datetime.today()\n",
    "today"
   ]
  },
  {
   "cell_type": "markdown",
   "id": "602eb61c",
   "metadata": {},
   "source": [
    "# 5.4.2.Attributes"
   ]
  },
  {
   "cell_type": "code",
   "execution_count": 10,
   "id": "55f04cda",
   "metadata": {},
   "outputs": [
    {
     "data": {
      "text/plain": [
       "2020"
      ]
     },
     "execution_count": 10,
     "metadata": {},
     "output_type": "execute_result"
    }
   ],
   "source": [
    "T2.year"
   ]
  },
  {
   "cell_type": "code",
   "execution_count": 11,
   "id": "0fc59ef0",
   "metadata": {},
   "outputs": [
    {
     "data": {
      "text/plain": [
       "4"
      ]
     },
     "execution_count": 11,
     "metadata": {},
     "output_type": "execute_result"
    }
   ],
   "source": [
    "T2.month"
   ]
  },
  {
   "cell_type": "code",
   "execution_count": 12,
   "id": "97a2d4bc",
   "metadata": {},
   "outputs": [
    {
     "data": {
      "text/plain": [
       "5"
      ]
     },
     "execution_count": 12,
     "metadata": {},
     "output_type": "execute_result"
    }
   ],
   "source": [
    "T2.weekday() #5 indicates Saturday"
   ]
  },
  {
   "cell_type": "code",
   "execution_count": 14,
   "id": "3f639a0c",
   "metadata": {},
   "outputs": [
    {
     "data": {
      "text/plain": [
       "18"
      ]
     },
     "execution_count": 14,
     "metadata": {},
     "output_type": "execute_result"
    }
   ],
   "source": [
    "T2.day"
   ]
  },
  {
   "cell_type": "code",
   "execution_count": 15,
   "id": "7f19d2da",
   "metadata": {},
   "outputs": [
    {
     "data": {
      "text/plain": [
       "(2020, 16, 6)"
      ]
     },
     "execution_count": 15,
     "metadata": {},
     "output_type": "execute_result"
    }
   ],
   "source": [
    "T2.isocalendar() #Saturday of Week 16 "
   ]
  },
  {
   "cell_type": "code",
   "execution_count": 16,
   "id": "0cc1d90d",
   "metadata": {},
   "outputs": [
    {
     "data": {
      "text/plain": [
       "datetime.date(2020, 4, 18)"
      ]
     },
     "execution_count": 16,
     "metadata": {},
     "output_type": "execute_result"
    }
   ],
   "source": [
    "T2.date()"
   ]
  },
  {
   "cell_type": "code",
   "execution_count": 17,
   "id": "6f6c59e0",
   "metadata": {},
   "outputs": [
    {
     "data": {
      "text/plain": [
       "17"
      ]
     },
     "execution_count": 17,
     "metadata": {},
     "output_type": "execute_result"
    }
   ],
   "source": [
    "T2.hour"
   ]
  },
  {
   "cell_type": "code",
   "execution_count": 18,
   "id": "85256828",
   "metadata": {},
   "outputs": [
    {
     "data": {
      "text/plain": [
       "28"
      ]
     },
     "execution_count": 18,
     "metadata": {},
     "output_type": "execute_result"
    }
   ],
   "source": [
    "T2.minute"
   ]
  },
  {
   "cell_type": "code",
   "execution_count": 19,
   "id": "bef7a2be",
   "metadata": {},
   "outputs": [
    {
     "data": {
      "text/plain": [
       "58"
      ]
     },
     "execution_count": 19,
     "metadata": {},
     "output_type": "execute_result"
    }
   ],
   "source": [
    "T2.second"
   ]
  },
  {
   "cell_type": "code",
   "execution_count": 20,
   "id": "a9d8b6b1",
   "metadata": {},
   "outputs": [
    {
     "data": {
      "text/plain": [
       "678"
      ]
     },
     "execution_count": 20,
     "metadata": {},
     "output_type": "execute_result"
    }
   ],
   "source": [
    "T2.microsecond"
   ]
  },
  {
   "cell_type": "code",
   "execution_count": 21,
   "id": "1d0a4b98",
   "metadata": {},
   "outputs": [
    {
     "data": {
      "text/plain": [
       "'Sat Apr 18 17:28:58 2020'"
      ]
     },
     "execution_count": 21,
     "metadata": {},
     "output_type": "execute_result"
    }
   ],
   "source": [
    "T2.ctime()"
   ]
  },
  {
   "cell_type": "code",
   "execution_count": 22,
   "id": "cb41c96e",
   "metadata": {},
   "outputs": [
    {
     "data": {
      "text/plain": [
       "'Sun Oct 31 05:41:46 2021'"
      ]
     },
     "execution_count": 22,
     "metadata": {},
     "output_type": "execute_result"
    }
   ],
   "source": [
    "now.ctime()"
   ]
  },
  {
   "cell_type": "markdown",
   "id": "e48fbcbd",
   "metadata": {},
   "source": [
    "# 5.4.3.Operations"
   ]
  },
  {
   "cell_type": "markdown",
   "id": "a8a1334e",
   "metadata": {},
   "source": [
    "## 1.Compare"
   ]
  },
  {
   "cell_type": "code",
   "execution_count": 28,
   "id": "77c4d3ec",
   "metadata": {},
   "outputs": [
    {
     "data": {
      "text/plain": [
       "False"
      ]
     },
     "execution_count": 28,
     "metadata": {},
     "output_type": "execute_result"
    }
   ],
   "source": [
    "T1.__eq__(T2)"
   ]
  },
  {
   "cell_type": "code",
   "execution_count": 29,
   "id": "bc6ccdea",
   "metadata": {},
   "outputs": [
    {
     "data": {
      "text/plain": [
       "False"
      ]
     },
     "execution_count": 29,
     "metadata": {},
     "output_type": "execute_result"
    }
   ],
   "source": [
    "T1==T2"
   ]
  },
  {
   "cell_type": "code",
   "execution_count": 30,
   "id": "bb746ed6",
   "metadata": {},
   "outputs": [
    {
     "data": {
      "text/plain": [
       "True"
      ]
     },
     "execution_count": 30,
     "metadata": {},
     "output_type": "execute_result"
    }
   ],
   "source": [
    "T1.__ge__(T2)"
   ]
  },
  {
   "cell_type": "code",
   "execution_count": 31,
   "id": "3246c251",
   "metadata": {},
   "outputs": [
    {
     "data": {
      "text/plain": [
       "True"
      ]
     },
     "execution_count": 31,
     "metadata": {},
     "output_type": "execute_result"
    }
   ],
   "source": [
    "T1>=T2"
   ]
  },
  {
   "cell_type": "code",
   "execution_count": 32,
   "id": "dbf542e9",
   "metadata": {},
   "outputs": [
    {
     "data": {
      "text/plain": [
       "True"
      ]
     },
     "execution_count": 32,
     "metadata": {},
     "output_type": "execute_result"
    }
   ],
   "source": [
    "T1.__gt__(T2)"
   ]
  },
  {
   "cell_type": "code",
   "execution_count": 33,
   "id": "76c62361",
   "metadata": {},
   "outputs": [
    {
     "data": {
      "text/plain": [
       "True"
      ]
     },
     "execution_count": 33,
     "metadata": {},
     "output_type": "execute_result"
    }
   ],
   "source": [
    "T1>T2"
   ]
  },
  {
   "cell_type": "code",
   "execution_count": 35,
   "id": "f815d416",
   "metadata": {},
   "outputs": [
    {
     "data": {
      "text/plain": [
       "True"
      ]
     },
     "execution_count": 35,
     "metadata": {},
     "output_type": "execute_result"
    }
   ],
   "source": [
    "T2.__le__(today)"
   ]
  },
  {
   "cell_type": "code",
   "execution_count": 36,
   "id": "daed1634",
   "metadata": {},
   "outputs": [
    {
     "data": {
      "text/plain": [
       "True"
      ]
     },
     "execution_count": 36,
     "metadata": {},
     "output_type": "execute_result"
    }
   ],
   "source": [
    "T2<=today"
   ]
  },
  {
   "cell_type": "code",
   "execution_count": 37,
   "id": "69730b3b",
   "metadata": {},
   "outputs": [
    {
     "data": {
      "text/plain": [
       "True"
      ]
     },
     "execution_count": 37,
     "metadata": {},
     "output_type": "execute_result"
    }
   ],
   "source": [
    "T2.__lt__(today)"
   ]
  },
  {
   "cell_type": "code",
   "execution_count": 38,
   "id": "576ca0b5",
   "metadata": {},
   "outputs": [
    {
     "data": {
      "text/plain": [
       "True"
      ]
     },
     "execution_count": 38,
     "metadata": {},
     "output_type": "execute_result"
    }
   ],
   "source": [
    "T2<today"
   ]
  },
  {
   "cell_type": "code",
   "execution_count": 39,
   "id": "abf1c88b",
   "metadata": {},
   "outputs": [
    {
     "data": {
      "text/plain": [
       "True"
      ]
     },
     "execution_count": 39,
     "metadata": {},
     "output_type": "execute_result"
    }
   ],
   "source": [
    "T2.__ne__(today)"
   ]
  },
  {
   "cell_type": "code",
   "execution_count": 40,
   "id": "5c1a7f6b",
   "metadata": {},
   "outputs": [
    {
     "data": {
      "text/plain": [
       "True"
      ]
     },
     "execution_count": 40,
     "metadata": {},
     "output_type": "execute_result"
    }
   ],
   "source": [
    "T2!=today"
   ]
  },
  {
   "cell_type": "markdown",
   "id": "864bb214",
   "metadata": {},
   "source": [
    "## 2.Time interval"
   ]
  },
  {
   "cell_type": "code",
   "execution_count": 41,
   "id": "d18ceaf7",
   "metadata": {},
   "outputs": [
    {
     "data": {
      "text/plain": [
       "39"
      ]
     },
     "execution_count": 41,
     "metadata": {},
     "output_type": "execute_result"
    }
   ],
   "source": [
    "T_delta1=T1-T2\n",
    "T_delta1.days"
   ]
  },
  {
   "cell_type": "code",
   "execution_count": 42,
   "id": "445903ca",
   "metadata": {},
   "outputs": [
    {
     "data": {
      "text/plain": [
       "44035"
      ]
     },
     "execution_count": 42,
     "metadata": {},
     "output_type": "execute_result"
    }
   ],
   "source": [
    "T_delta2=today-T2\n",
    "T_delta2.seconds"
   ]
  },
  {
   "cell_type": "code",
   "execution_count": 43,
   "id": "d01b7278",
   "metadata": {},
   "outputs": [
    {
     "data": {
      "text/plain": [
       "531802"
      ]
     },
     "execution_count": 43,
     "metadata": {},
     "output_type": "execute_result"
    }
   ],
   "source": [
    "T_delta2.microseconds"
   ]
  },
  {
   "cell_type": "code",
   "execution_count": null,
   "id": "b5c1498d",
   "metadata": {},
   "outputs": [],
   "source": []
  }
 ],
 "metadata": {
  "kernelspec": {
   "display_name": "Custom (custom_python)",
   "language": "python",
   "name": "custom_python"
  },
  "language_info": {
   "codemirror_mode": {
    "name": "ipython",
    "version": 3
   },
   "file_extension": ".py",
   "mimetype": "text/x-python",
   "name": "python",
   "nbconvert_exporter": "python",
   "pygments_lexer": "ipython3",
   "version": "3.6.12"
  }
 },
 "nbformat": 4,
 "nbformat_minor": 5
}
