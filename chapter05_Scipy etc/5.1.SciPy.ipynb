{
 "cells": [
  {
   "cell_type": "code",
   "execution_count": 1,
   "id": "523ac719",
   "metadata": {},
   "outputs": [],
   "source": [
    "##########################################################################\n",
    "# Created on Sat Otc 30 14:42:45 2021                                    #\n",
    "# Python for Financial Analysis and Risk Management                      #\n",
    "# @author: Meng Lipeng (FRM, CFA)                                        #\n",
    "##########################################################################"
   ]
  },
  {
   "cell_type": "code",
   "execution_count": 2,
   "id": "82674633",
   "metadata": {},
   "outputs": [
    {
     "name": "stdout",
     "output_type": "stream",
     "text": [
      "Collecting package metadata (current_repodata.json): done\n",
      "Solving environment: done\n",
      "\n",
      "\n",
      "==> WARNING: A newer version of conda exists. <==\n",
      "  current version: 4.8.4\n",
      "  latest version: 4.10.3\n",
      "\n",
      "Please update conda by running\n",
      "\n",
      "    $ conda update -n base -c defaults conda\n",
      "\n",
      "\n",
      "\n",
      "## Package Plan ##\n",
      "\n",
      "  environment location: /home/ec2-user/SageMaker/custom-miniconda/miniconda/envs/custom_python\n",
      "\n",
      "  added / updated specs:\n",
      "    - scipy\n",
      "\n",
      "\n",
      "The following packages will be downloaded:\n",
      "\n",
      "    package                    |            build\n",
      "    ---------------------------|-----------------\n",
      "    libgfortran-ng-7.3.0       |       hdf63c60_0         1.3 MB  anaconda\n",
      "    scipy-1.5.2                |   py36h0b6359f_0        18.5 MB  anaconda\n",
      "    ------------------------------------------------------------\n",
      "                                           Total:        19.8 MB\n",
      "\n",
      "The following NEW packages will be INSTALLED:\n",
      "\n",
      "  libgfortran-ng     anaconda/linux-64::libgfortran-ng-7.3.0-hdf63c60_0\n",
      "  scipy              anaconda/linux-64::scipy-1.5.2-py36h0b6359f_0\n",
      "\n",
      "\n",
      "\n",
      "Downloading and Extracting Packages\n",
      "libgfortran-ng-7.3.0 | 1.3 MB    | ##################################### | 100% \n",
      "scipy-1.5.2          | 18.5 MB   | ##################################### | 100% \n",
      "Preparing transaction: done\n",
      "Verifying transaction: done\n",
      "Executing transaction: done\n"
     ]
    }
   ],
   "source": [
    "#import sys\n",
    "#!conda install --yes --prefix {sys.prefix} -c anaconda scipy"
   ]
  },
  {
   "cell_type": "code",
   "execution_count": 3,
   "id": "1044c665",
   "metadata": {},
   "outputs": [
    {
     "data": {
      "text/plain": [
       "'1.5.2'"
      ]
     },
     "execution_count": 3,
     "metadata": {},
     "output_type": "execute_result"
    }
   ],
   "source": [
    "import scipy\n",
    "scipy.__version__"
   ]
  },
  {
   "cell_type": "markdown",
   "id": "bba8f20c",
   "metadata": {},
   "source": [
    "# 5.1.1.Integrate"
   ]
  },
  {
   "cell_type": "markdown",
   "id": "41218f2d",
   "metadata": {},
   "source": [
    "#### PDF of standard normal distribution\n",
    "$f(x)=\\frac{1}{\\sqrt{2\\pi}}e^{-\\frac{x^2}{2}}$"
   ]
  },
  {
   "cell_type": "markdown",
   "id": "8ca99cc1",
   "metadata": {},
   "source": [
    "#### Probability that the variable x is in the interval [a, b]\n",
    "$\\int_{a}^{b} f(x)dx = \\int_{a}^{b}\\frac{1}{\\sqrt{2\\pi}}e^{-\\frac{x^2}{2}}dx$"
   ]
  },
  {
   "cell_type": "code",
   "execution_count": 11,
   "id": "92dec9e7",
   "metadata": {},
   "outputs": [],
   "source": [
    "import scipy.integrate as sci\n",
    "import numpy as np\n",
    "\n",
    "def f(x):\n",
    "    equation=np.exp(-0.5*x**2)/pow(2*np.pi,0.5)\n",
    "    return equation"
   ]
  },
  {
   "cell_type": "code",
   "execution_count": 13,
   "id": "1b59ba9a",
   "metadata": {},
   "outputs": [
    {
     "data": {
      "text/plain": [
       "(0.9544997361036417, 1.8403548653972355e-11)"
      ]
     },
     "execution_count": 13,
     "metadata": {},
     "output_type": "execute_result"
    }
   ],
   "source": [
    "sci.quad(func=f,a=-2.0,b=2.0) #Adaptive integral"
   ]
  },
  {
   "cell_type": "code",
   "execution_count": 14,
   "id": "94f25b07",
   "metadata": {},
   "outputs": [
    {
     "data": {
      "text/plain": [
       "(0.9547606259052617, None)"
      ]
     },
     "execution_count": 14,
     "metadata": {},
     "output_type": "execute_result"
    }
   ],
   "source": [
    "sci.fixed_quad(func=f,a=-2.0,b=2.0) #Fixed Gauss integral"
   ]
  },
  {
   "cell_type": "code",
   "execution_count": 15,
   "id": "f1e1ba8a",
   "metadata": {},
   "outputs": [
    {
     "data": {
      "text/plain": [
       "(0.954499735843967, 5.476700204454232e-09)"
      ]
     },
     "execution_count": 15,
     "metadata": {},
     "output_type": "execute_result"
    }
   ],
   "source": [
    "sci.quadrature(func=f,a=-2.0,b=2.0) #Adaptive Gauss integral"
   ]
  },
  {
   "cell_type": "code",
   "execution_count": 16,
   "id": "092322ea",
   "metadata": {},
   "outputs": [
    {
     "data": {
      "text/plain": [
       "0.9544997361036476"
      ]
     },
     "execution_count": 16,
     "metadata": {},
     "output_type": "execute_result"
    }
   ],
   "source": [
    "sci.romberg(function=f,a=-2.0,b=2.0) #Adaptive Romberg integral"
   ]
  },
  {
   "cell_type": "markdown",
   "id": "d6d9561d",
   "metadata": {},
   "source": [
    "# 5.1.2.Interpolate"
   ]
  },
  {
   "cell_type": "markdown",
   "id": "9e9febe5",
   "metadata": {},
   "source": [
    "#### Spot yield of treasury bonds"
   ]
  },
  {
   "cell_type": "markdown",
   "id": "fb90ee72",
   "metadata": {},
   "source": [
    "Tenor/Year | Spot Yield \n",
    ":-----: | :----: \n",
    "0.25 | 1.1032% \n",
    "0.5  | 1.2465%\n",
    "0.75 | 1.3460%\n",
    "1   | 1.3328%\n",
    "2   | 1.6431%\n",
    "3   | 1.6716%\n",
    "5   | 2.1576%"
   ]
  },
  {
   "cell_type": "code",
   "execution_count": 18,
   "id": "66e6ff9b",
   "metadata": {},
   "outputs": [
    {
     "name": "stdout",
     "output_type": "stream",
     "text": [
      "nearest 4y treasury bonds yield 0.016716\n",
      "zero 4y treasury bonds yield 0.016716\n",
      "slinear 4y treasury bonds yield 0.019146000000000003\n",
      "quadratic 4y treasury bonds yield 0.018095917912822147\n",
      "cubic 4y treasury bonds yield 0.016151964941569282\n"
     ]
    },
    {
     "data": {
      "image/png": "[encoded data removed]",
      "text/plain": [
       "<Figure size 648x432 with 1 Axes>"
      ]
     },
     "metadata": {
      "needs_background": "light"
     },
     "output_type": "display_data"
    }
   ],
   "source": [
    "from scipy import interpolate\n",
    "import matplotlib.pyplot as plt\n",
    "\n",
    "rates=np.array([0.011032,0.012465,0.013460,0.013328,0.016431,0.016716,0.021576])\n",
    "t=np.array([0.25,0.5,0.75,1.0,2.0,3.0,5.0])\n",
    "t_new=np.array([0.25,0.5,0.75,1.0,2.0,3.0,4.0,5.0])\n",
    "\n",
    "types=[\"nearest\",\"zero\",\"slinear\",\"quadratic\",\"cubic\"]\n",
    "\n",
    "plt.figure(figsize=(9,6))\n",
    "for i in types:\n",
    "    f=interpolate.interp1d(x=t,y=rates,kind=i)\n",
    "    rates_new=f(t_new)\n",
    "    print(i,'4y treasury bonds yield',rates_new[-2])\n",
    "    plt.plot(t_new,rates_new,'o')\n",
    "    plt.plot(t_new,rates_new,'-',label=i)\n",
    "    plt.xticks(fontsize=13)\n",
    "    plt.xlabel('Tenor',fontsize=13)\n",
    "    plt.yticks(fontsize=13)\n",
    "    plt.ylabel('Yield',fontsize=13)\n",
    "    plt.legend(loc=0,fontsize=13)\n",
    "    plt.grid()\n",
    "plt.title('Yield of Treasury Bonds After Using Interpolating',fontsize=13)\n",
    "plt.show()"
   ]
  },
  {
   "cell_type": "markdown",
   "id": "27df5c0e",
   "metadata": {},
   "source": [
    "# 5.1.3.Solving equations"
   ]
  },
  {
   "cell_type": "markdown",
   "id": "08fa1d4e",
   "metadata": {},
   "source": [
    "#### Stock and Portofolio Return"
   ]
  },
  {
   "cell_type": "markdown",
   "id": "64df01f2",
   "metadata": {},
   "source": [
    "Date      | CAST    | CSS | BOC | SAIC | Portfolio Return\n",
    ":------:  | :----:  | :----: | :----: | :----: | :----:\n",
    "2020-05-25   | -3.5099% | -1.3892% | 0.5848%  | 2.1242% | 0.191555%\n",
    "2020-05-26   | 1.7230%  | 2.4334% | -0.2907% | 0.2133% | 0.757775%\n",
    "2020-05-27   | -0.3450% | -3.3758% | 0.5831%  | -2.9803% | -1.773255%\n",
    "2020-05-28   | -2.4551% | 1.4622% | 0.5797%  | -0.2743% | -0.040620%"
   ]
  },
  {
   "cell_type": "markdown",
   "id": "cb626d06",
   "metadata": {},
   "source": [
    "#### Calculate weight of stock "
   ]
  },
  {
   "cell_type": "markdown",
   "id": "e7b54495",
   "metadata": {},
   "source": [
    "$\\begin{bmatrix}{-3.5099\\%}&{-1.3892\\%}&{0.5848\\%}&{2.1242\\%}\\\\\n",
    "    {1.7230\\%}&{2.4334\\%}&{-0.2907\\%}&{0.2133\\%}\\\\\n",
    "    {-0.3450\\%}&{-3.3758\\%}&{0.5831\\%}&{-2.9803\\%}\\\\\n",
    "    {-2.4551\\%}&{1.4622\\%}&{0.5797\\%}&{-0.2743\\%}\\end{bmatrix}  \n",
    "\\begin{bmatrix}w_{1}\\\\w_{2}\\\\w_{3}\\\\w_{4}\\end{bmatrix} \n",
    "= \\begin{bmatrix}{0.191555\\%}\\\\{0.757775\\%}\\\\{-1.773255\\%}\\\\{-0.040620\\%}\\end{bmatrix}$"
   ]
  },
  {
   "cell_type": "markdown",
   "id": "1fd98eeb",
   "metadata": {},
   "source": [
    "### 1.Using solve function"
   ]
  },
  {
   "cell_type": "code",
   "execution_count": 23,
   "id": "b8313cc0",
   "metadata": {},
   "outputs": [
    {
     "name": "stdout",
     "output_type": "stream",
     "text": [
      "[[-0.035099 -0.013892  0.005848  0.021242]\n",
      " [ 0.01723   0.024334 -0.002907  0.002133]\n",
      " [-0.00345  -0.033758  0.005831 -0.029803]\n",
      " [-0.024551  0.014622  0.005797 -0.002743]]\n",
      "CAST 0.15\n",
      "CSS 0.2\n",
      "BOC 0.25\n",
      "SAIC 0.4\n"
     ]
    }
   ],
   "source": [
    "from scipy import linalg\n",
    "\n",
    "R_stock=np.array([[-0.035099,0.017230,-0.003450,-0.024551],\n",
    "                        [-0.013892,0.024334,-0.033758,0.014622],\n",
    "                        [0.005848,-0.002907,0.005831,0.005797],\n",
    "                        [0.021242,0.002133,-0.029803,-0.002743]]).T\n",
    "print(R_stock)\n",
    "R_portfolio=np.array([0.00191555,0.00757775,-0.01773255,-0.00040620])\n",
    "name=np.array(['CAST','CSS','BOC','SAIC'])\n",
    "\n",
    "weight=linalg.solve(a=R_stock,b=R_portfolio)\n",
    "for i in range(len(name)):\n",
    "    print(name[i],round(weight[i],4))"
   ]
  },
  {
   "cell_type": "markdown",
   "id": "f5889a4b",
   "metadata": {},
   "source": [
    "### 2.Using fsolve function"
   ]
  },
  {
   "cell_type": "code",
   "execution_count": 24,
   "id": "dadf7c6f",
   "metadata": {},
   "outputs": [
    {
     "name": "stdout",
     "output_type": "stream",
     "text": [
      "CAST 0.15\n",
      "CSS 0.2\n",
      "BOC 0.25\n",
      "SAIC 0.4\n"
     ]
    }
   ],
   "source": [
    "import scipy.optimize as sco\n",
    "\n",
    "def g(w):\n",
    "    w1,w2,w3,w4=w\n",
    "    eq1=-0.035099*w1 -0.013892*w2  +0.005848*w3  +0.021242*w4 -0.00191555\n",
    "    eq2=0.01723*w1 +0.024334*w2  -0.002907*w3  +0.002133*w4 -0.00757775\n",
    "    eq3=-0.00345*w1 -0.033758*w2 +0.005831*w3  -0.029803*w4 +0.01773255\n",
    "    eq4=-0.024551*w1 +0.014622*w2 +0.005797*w3  -0.002743*w4 +0.00040620\n",
    "    return[eq1,eq2,eq3,eq4]\n",
    "\n",
    "w0=[0.1,0.1,0.1,0.1] #initial weight\n",
    "result=sco.fsolve(func=g,x0=w0)\n",
    "\n",
    "for i in range(len(name)):\n",
    "    print(name[i],round(result[i],4))"
   ]
  },
  {
   "cell_type": "markdown",
   "id": "dba9fe02",
   "metadata": {},
   "source": [
    "# 5.1.4.Optimize"
   ]
  },
  {
   "cell_type": "markdown",
   "id": "b0f06084",
   "metadata": {},
   "source": [
    "#### Stock Info 2020/12/31"
   ]
  },
  {
   "cell_type": "markdown",
   "id": "5c92552b",
   "metadata": {},
   "source": [
    "Code     | Name      | Average Yearly Return(2019~2020) | Close Price(2020/12/31) | PE ratio \n",
    ":------: | :------:  | :----: | :----: | :----:\n",
    "601398   | ICBC      | 5.4703% | 4.99  | 5.6961\n",
    "601111   | Air China | 5.3580% | 7.49  | 16.9758\n",
    "600900   | Yangtze Power | 21.6717% | 19.16  | 20.2258 \n",
    "601607   | Shanghai Pharmaceutical | 4.9761% | 19.20  | 13.3713\n",
    "601933   | Yonghui Supermarket | 8.6041%  | 7.18  | 43.6949"
   ]
  },
  {
   "cell_type": "markdown",
   "id": "04997c43",
   "metadata": {},
   "source": [
    "Initial capital is 100million \\\n",
    "Average PE can't be greater than 15 \\\n",
    "Can't short sale \\\n",
    "In order to maximum portfolio return, calculate weight of stock \n"
   ]
  },
  {
   "cell_type": "markdown",
   "id": "b97ec12e",
   "metadata": {},
   "source": [
    "$$Target function: \\max_{w_i}f(w_i)= \\max_{w_i}(\\sum\\nolimits_{i=1}^{5} R_i w_i )$$"
   ]
  },
  {
   "cell_type": "markdown",
   "id": "bdfbe6c0",
   "metadata": {},
   "source": [
    "$Constraint: \\\\\n",
    "  \\sum\\nolimits_{i=1}^{5} w_i=1\\\\\n",
    "  \\sum\\nolimits_{i=1}^{5}  \\gamma_i w_i \\leq 15\\\\\n",
    "  w_i  \\geq 0$"
   ]
  },
  {
   "cell_type": "code",
   "execution_count": 25,
   "id": "662034cd",
   "metadata": {},
   "outputs": [],
   "source": [
    "R=np.array([0.054703,0.053580,0.216717,0.049761,0.086041])\n",
    "P=np.array([4.99,7.49,19.16,19.20,7.18])\n",
    "PE=np.array([5.6961,16.9758,20.2258,13.3713,43.6949])"
   ]
  },
  {
   "cell_type": "code",
   "execution_count": 26,
   "id": "93ae2b2c",
   "metadata": {},
   "outputs": [],
   "source": [
    "def f(w):\n",
    "    w=np.array(w)\n",
    "    return -np.sum(R*w) #only minimize function in submodule optimize, when get maximum, need to add minus in front of target function"
   ]
  },
  {
   "cell_type": "code",
   "execution_count": 28,
   "id": "f5edd86a",
   "metadata": {},
   "outputs": [
    {
     "data": {
      "text/plain": [
       "     fun: -0.15844650841821595\n",
       "     jac: array([-0.054703, -0.05358 , -0.216717, -0.049761, -0.086041])\n",
       " message: 'Optimization terminated successfully'\n",
       "    nfev: 30\n",
       "     nit: 5\n",
       "    njev: 5\n",
       "  status: 0\n",
       " success: True\n",
       "       x: array([3.59663310e-01, 1.42247325e-16, 6.40336690e-01, 3.46944695e-17,\n",
       "       0.00000000e+00])"
      ]
     },
     "execution_count": 28,
     "metadata": {},
     "output_type": "execute_result"
    }
   ],
   "source": [
    "cons=({'type':'eq','fun':lambda w: np.sum(w)-1},{'type':'ineq','fun':lambda w: 15-np.sum(w*PE)})\n",
    "bnds=((0,1),(0,1),(0,1),(0,1),(0,1))\n",
    "w0=[0.25,0.25,0.25,0.25,0.25]\n",
    "result=sco.minimize(fun=f,x0=w0,method='SLSQP',bounds=bnds,constraints=cons) #sequential Least squares programming\n",
    "result"
   ]
  },
  {
   "cell_type": "code",
   "execution_count": 31,
   "id": "8faefe5e",
   "metadata": {},
   "outputs": [
    {
     "data": {
      "text/plain": [
       "array([0.3597, 0.    , 0.6403, 0.    , 0.    ])"
      ]
     },
     "execution_count": 31,
     "metadata": {},
     "output_type": "execute_result"
    }
   ],
   "source": [
    "result['x'].round(4)"
   ]
  },
  {
   "cell_type": "code",
   "execution_count": 32,
   "id": "42c2501f",
   "metadata": {},
   "outputs": [
    {
     "data": {
      "text/plain": [
       "0.1584"
      ]
     },
     "execution_count": 32,
     "metadata": {},
     "output_type": "execute_result"
    }
   ],
   "source": [
    "-f(result['x']).round(4) #max portfolio return"
   ]
  },
  {
   "cell_type": "code",
   "execution_count": 33,
   "id": "5761e258",
   "metadata": {},
   "outputs": [
    {
     "name": "stdout",
     "output_type": "stream",
     "text": [
      "Shares of ICBC(Round down) 720768\n",
      "Shares of Air China(Round down) 0\n",
      "Shares of Yangtze Power(Round down) 334204\n",
      "Shares of Shanghai Pharmaceutical(Round down) 0\n",
      "Shares of Yonghui Supermarket(Round down) 0\n"
     ]
    }
   ],
   "source": [
    "fund=1e7\n",
    "shares=fund*result['x']/P #shares amount\n",
    "print('Shares of ICBC(Round down)',int(shares[0]))\n",
    "print('Shares of Air China(Round down)',int(shares[1]))\n",
    "print('Shares of Yangtze Power(Round down)',int(shares[2]))\n",
    "print('Shares of Shanghai Pharmaceutical(Round down)',int(shares[3]))\n",
    "print('Shares of Yonghui Supermarket(Round down)',int(shares[4]))"
   ]
  },
  {
   "cell_type": "code",
   "execution_count": 35,
   "id": "ec105310",
   "metadata": {},
   "outputs": [
    {
     "data": {
      "text/plain": [
       "0.2142"
      ]
     },
     "execution_count": 35,
     "metadata": {},
     "output_type": "execute_result"
    }
   ],
   "source": [
    "#change the constraint of sum(PE*w)<=15 to <=20\n",
    "cons_new=({'type':'eq','fun':lambda w: np.sum(w)-1},{'type':'ineq','fun':lambda w: 20-np.sum(w*PE)})\n",
    "result_new=sco.minimize(fun=f,x0=w0,method='SLSQP',bounds=bnds,constraints=cons_new)\n",
    "result_new['x'].round(4)\n",
    "-f(result_new['x']).round(4)"
   ]
  },
  {
   "cell_type": "code",
   "execution_count": 36,
   "id": "305972f6",
   "metadata": {},
   "outputs": [
    {
     "name": "stdout",
     "output_type": "stream",
     "text": [
      "Shares of ICBC(Round down) 31143\n",
      "Shares of Air China(Round down) 0\n",
      "Shares of Yangtze Power(Round down) 513809\n",
      "Shares of Shanghai Pharmaceutical(Round down) 0\n",
      "Shares of Yonghui Supermarket(Round down) 0\n"
     ]
    }
   ],
   "source": [
    "shares_new=fund*result_new['x']/P #shares amount\n",
    "print('Shares of ICBC(Round down)',int(shares_new[0]))\n",
    "print('Shares of Air China(Round down)',int(shares_new[1]))\n",
    "print('Shares of Yangtze Power(Round down)',int(shares_new[2]))\n",
    "print('Shares of Shanghai Pharmaceutical(Round down)',int(shares_new[3]))\n",
    "print('Shares of Yonghui Supermarket(Round down)',int(shares_new[4]))"
   ]
  },
  {
   "cell_type": "markdown",
   "id": "5ec519f2",
   "metadata": {},
   "source": [
    "# 5.1.5.Statistic"
   ]
  },
  {
   "cell_type": "markdown",
   "id": "3427b542",
   "metadata": {},
   "source": [
    "## 1.Descriptional statistic"
   ]
  },
  {
   "cell_type": "code",
   "execution_count": 40,
   "id": "b5518705",
   "metadata": {},
   "outputs": [
    {
     "data": {
      "text/html": [
       "<div>\n",
       "<style scoped>\n",
       "    .dataframe tbody tr th:only-of-type {\n",
       "        vertical-align: middle;\n",
       "    }\n",
       "\n",
       "    .dataframe tbody tr th {\n",
       "        vertical-align: top;\n",
       "    }\n",
       "\n",
       "    .dataframe thead th {\n",
       "        text-align: right;\n",
       "    }\n",
       "</style>\n",
       "<table border=\"1\" class=\"dataframe\">\n",
       "  <thead>\n",
       "    <tr style=\"text-align: right;\">\n",
       "      <th></th>\n",
       "      <th>SME Index</th>\n",
       "      <th>GEM Index</th>\n",
       "    </tr>\n",
       "  </thead>\n",
       "  <tbody>\n",
       "    <tr>\n",
       "      <th>count</th>\n",
       "      <td>730.000000</td>\n",
       "      <td>730.000000</td>\n",
       "    </tr>\n",
       "    <tr>\n",
       "      <th>mean</th>\n",
       "      <td>0.000454</td>\n",
       "      <td>0.000883</td>\n",
       "    </tr>\n",
       "    <tr>\n",
       "      <th>std</th>\n",
       "      <td>0.016304</td>\n",
       "      <td>0.017965</td>\n",
       "    </tr>\n",
       "    <tr>\n",
       "      <th>min</th>\n",
       "      <td>-0.086207</td>\n",
       "      <td>-0.079380</td>\n",
       "    </tr>\n",
       "    <tr>\n",
       "      <th>25%</th>\n",
       "      <td>-0.008929</td>\n",
       "      <td>-0.009473</td>\n",
       "    </tr>\n",
       "    <tr>\n",
       "      <th>50%</th>\n",
       "      <td>0.000252</td>\n",
       "      <td>0.000976</td>\n",
       "    </tr>\n",
       "    <tr>\n",
       "      <th>75%</th>\n",
       "      <td>0.009582</td>\n",
       "      <td>0.011471</td>\n",
       "    </tr>\n",
       "    <tr>\n",
       "      <th>max</th>\n",
       "      <td>0.052106</td>\n",
       "      <td>0.054983</td>\n",
       "    </tr>\n",
       "  </tbody>\n",
       "</table>\n",
       "</div>"
      ],
      "text/plain": [
       "        SME Index   GEM Index\n",
       "count  730.000000  730.000000\n",
       "mean     0.000454    0.000883\n",
       "std      0.016304    0.017965\n",
       "min     -0.086207   -0.079380\n",
       "25%     -0.008929   -0.009473\n",
       "50%      0.000252    0.000976\n",
       "75%      0.009582    0.011471\n",
       "max      0.052106    0.054983"
      ]
     },
     "execution_count": 40,
     "metadata": {},
     "output_type": "execute_result"
    }
   ],
   "source": [
    "import scipy.stats as st\n",
    "import pandas as pd\n",
    "\n",
    "index=pd.read_excel('SME_GEM daily(2018-2020).xlsx',engine='openpyxl',sheet_name=\"Sheet1\",header=0,index_col=0)\n",
    "index.describe()"
   ]
  },
  {
   "cell_type": "code",
   "execution_count": 41,
   "id": "979ec199",
   "metadata": {},
   "outputs": [
    {
     "data": {
      "text/plain": [
       "DescribeResult(nobs=730, minmax=(array([-0.086207, -0.07938 ]), array([0.052106, 0.054983])), mean=array([0.00045371, 0.00088273]), variance=array([0.00026581, 0.00032275]), skewness=array([-0.4085689 , -0.30464443]), kurtosis=array([2.2975402, 1.4567604]))"
      ]
     },
     "execution_count": 41,
     "metadata": {},
     "output_type": "execute_result"
    }
   ],
   "source": [
    "st.describe(index)"
   ]
  },
  {
   "cell_type": "code",
   "execution_count": 43,
   "id": "e9b2bc07",
   "metadata": {},
   "outputs": [
    {
     "data": {
      "text/plain": [
       "array([2.2975402, 1.4567604])"
      ]
     },
     "execution_count": 43,
     "metadata": {},
     "output_type": "execute_result"
    }
   ],
   "source": [
    "st.kurtosis(index)"
   ]
  },
  {
   "cell_type": "code",
   "execution_count": 44,
   "id": "d6ddd266",
   "metadata": {},
   "outputs": [
    {
     "data": {
      "text/plain": [
       "array([-1.76696493e-06, -1.76281270e-06])"
      ]
     },
     "execution_count": 44,
     "metadata": {},
     "output_type": "execute_result"
    }
   ],
   "source": [
    "st.moment(index,moment=3)"
   ]
  },
  {
   "cell_type": "code",
   "execution_count": 45,
   "id": "07b2e2dc",
   "metadata": {},
   "outputs": [
    {
     "data": {
      "text/plain": [
       "ModeResult(mode=array([[-0.02041 , -0.005323]]), count=array([[2, 2]]))"
      ]
     },
     "execution_count": 45,
     "metadata": {},
     "output_type": "execute_result"
    }
   ],
   "source": [
    "st.mode(index)"
   ]
  },
  {
   "cell_type": "code",
   "execution_count": 47,
   "id": "72581c07",
   "metadata": {},
   "outputs": [
    {
     "data": {
      "text/plain": [
       "array([-0.4085689 , -0.30464443])"
      ]
     },
     "execution_count": 47,
     "metadata": {},
     "output_type": "execute_result"
    }
   ],
   "source": [
    "st.skew(index)"
   ]
  },
  {
   "cell_type": "markdown",
   "id": "54ca6b0d",
   "metadata": {},
   "source": [
    "## 2.Probability analysis"
   ]
  },
  {
   "cell_type": "code",
   "execution_count": 48,
   "id": "22b18168",
   "metadata": {},
   "outputs": [],
   "source": [
    "I=100000\n",
    "r_mean=0.04\n",
    "r_std=0.01\n",
    "\n",
    "rand_norm=st.norm.rvs(loc=r_mean,scale=r_std,size=I) #ramdom sampling"
   ]
  },
  {
   "cell_type": "code",
   "execution_count": 49,
   "id": "65aedb68",
   "metadata": {},
   "outputs": [
    {
     "data": {
      "image/png": "[encoded data removed]",
      "text/plain": [
       "<Figure size 648x432 with 1 Axes>"
      ]
     },
     "metadata": {
      "needs_background": "light"
     },
     "output_type": "display_data"
    }
   ],
   "source": [
    "plt.figure(figsize=(9,6))\n",
    "plt.hist(rand_norm,bins=30,facecolor='y',edgecolor='k')\n",
    "plt.xticks(fontsize=13)\n",
    "plt.xlabel('Sample value',fontsize=13)\n",
    "plt.yticks(fontsize=13)\n",
    "plt.ylabel('Frequency',fontsize=13)\n",
    "plt.title('Normal Distribution Sampling',fontsize=13)\n",
    "plt.grid()\n",
    "plt.show()"
   ]
  },
  {
   "cell_type": "code",
   "execution_count": 51,
   "id": "addb18b8",
   "metadata": {},
   "outputs": [
    {
     "name": "stdout",
     "output_type": "stream",
     "text": [
      "probability when r<3% is 0.158655\n"
     ]
    }
   ],
   "source": [
    "# probability when r<3%\n",
    "r1=0.03\n",
    "prob=st.norm.cdf(x=r1,loc=r_mean,scale=r_std)\n",
    "print('probability when r<3% is',round(prob,6))"
   ]
  },
  {
   "cell_type": "code",
   "execution_count": 52,
   "id": "af2004ea",
   "metadata": {},
   "outputs": [
    {
     "name": "stdout",
     "output_type": "stream",
     "text": [
      "pdf when r=5% is 24.197072\n"
     ]
    }
   ],
   "source": [
    "r2=0.05\n",
    "value_pdf=st.norm.pdf(x=r2,loc=r_mean,scale=r_std)\n",
    "print('pdf when r=5% is',round(value_pdf,6))"
   ]
  },
  {
   "cell_type": "code",
   "execution_count": 53,
   "id": "5d0bfaca",
   "metadata": {},
   "outputs": [
    {
     "name": "stdout",
     "output_type": "stream",
     "text": [
      "r when probability=90% is 0.052816\n"
     ]
    }
   ],
   "source": [
    "prob=0.9\n",
    "value_ppf=st.norm.ppf(q=prob,loc=r_mean,scale=r_std) #ppf is inverse function of cdf\n",
    "print('r when probability=90% is',round(value_ppf,6))"
   ]
  },
  {
   "cell_type": "markdown",
   "id": "39caba39",
   "metadata": {},
   "source": [
    "## 3.Statistical test"
   ]
  },
  {
   "cell_type": "code",
   "execution_count": 55,
   "id": "abd95930",
   "metadata": {},
   "outputs": [
    {
     "data": {
      "text/plain": [
       "KstestResult(statistic=0.06557472211410709, pvalue=0.003578599840387124)"
      ]
     },
     "execution_count": 55,
     "metadata": {},
     "output_type": "execute_result"
    }
   ],
   "source": [
    "#Kolmogorov-Smirnov Test\n",
    "#pvalue < 5% indicates reject H0:Normal distribution\n",
    "st.kstest(rvs=index.iloc[:,0],cdf='norm',args=(0,0.017)) #SME index N~(0,0.017) test "
   ]
  },
  {
   "cell_type": "code",
   "execution_count": 56,
   "id": "90a4ee7f",
   "metadata": {},
   "outputs": [
    {
     "data": {
      "text/plain": [
       "KstestResult(statistic=0.051210519958520856, pvalue=0.04196299572232809)"
      ]
     },
     "execution_count": 56,
     "metadata": {},
     "output_type": "execute_result"
    }
   ],
   "source": [
    "st.kstest(rvs=index.iloc[:,-1],cdf='norm',args=(0,0.017)) #GEM index N~(0,0.017) test "
   ]
  },
  {
   "cell_type": "code",
   "execution_count": 57,
   "id": "f6deae46",
   "metadata": {},
   "outputs": [
    {
     "data": {
      "text/plain": [
       "AndersonResult(statistic=2.8108208330825164, critical_values=array([0.573, 0.652, 0.783, 0.913, 1.086]), significance_level=array([15. , 10. ,  5. ,  2.5,  1. ]))"
      ]
     },
     "execution_count": 57,
     "metadata": {},
     "output_type": "execute_result"
    }
   ],
   "source": [
    "#Anderson-Darling Test\n",
    "st.anderson(x=index.iloc[:,0],dist='norm')"
   ]
  },
  {
   "cell_type": "code",
   "execution_count": 58,
   "id": "33e15c33",
   "metadata": {},
   "outputs": [
    {
     "data": {
      "text/plain": [
       "AndersonResult(statistic=2.589462384982653, critical_values=array([0.573, 0.652, 0.783, 0.913, 1.086]), significance_level=array([15. , 10. ,  5. ,  2.5,  1. ]))"
      ]
     },
     "execution_count": 58,
     "metadata": {},
     "output_type": "execute_result"
    }
   ],
   "source": [
    "st.anderson(x=index.iloc[:,-1],dist='norm')"
   ]
  },
  {
   "cell_type": "code",
   "execution_count": 59,
   "id": "c632f7b0",
   "metadata": {},
   "outputs": [
    {
     "data": {
      "text/plain": [
       "ShapiroResult(statistic=0.9740028977394104, pvalue=4.213443483003232e-10)"
      ]
     },
     "execution_count": 59,
     "metadata": {},
     "output_type": "execute_result"
    }
   ],
   "source": [
    "#Shapiro-Wilk Test\n",
    "st.shapiro(index.iloc[:,0])"
   ]
  },
  {
   "cell_type": "code",
   "execution_count": 60,
   "id": "4eefeb91",
   "metadata": {},
   "outputs": [
    {
     "data": {
      "text/plain": [
       "ShapiroResult(statistic=0.9800363779067993, pvalue=1.9954674357336444e-08)"
      ]
     },
     "execution_count": 60,
     "metadata": {},
     "output_type": "execute_result"
    }
   ],
   "source": [
    "st.shapiro(index.iloc[:,-1])"
   ]
  },
  {
   "cell_type": "code",
   "execution_count": 61,
   "id": "be3e34de",
   "metadata": {},
   "outputs": [
    {
     "data": {
      "text/plain": [
       "NormaltestResult(statistic=array([62.51131179, 36.75872221]), pvalue=array([2.66588319e-14, 1.04218517e-08]))"
      ]
     },
     "execution_count": 61,
     "metadata": {},
     "output_type": "execute_result"
    }
   ],
   "source": [
    "#normaltest\n",
    "st.normaltest(index,axis=0)"
   ]
  },
  {
   "cell_type": "code",
   "execution_count": null,
   "id": "8ed9cd55",
   "metadata": {},
   "outputs": [],
   "source": []
  }
 ],
 "metadata": {
  "kernelspec": {
   "display_name": "Custom (custom_python)",
   "language": "python",
   "name": "custom_python"
  },
  "language_info": {
   "codemirror_mode": {
    "name": "ipython",
    "version": 3
   },
   "file_extension": ".py",
   "mimetype": "text/x-python",
   "name": "python",
   "nbconvert_exporter": "python",
   "pygments_lexer": "ipython3",
   "version": "3.6.12"
  }
 },
 "nbformat": 4,
 "nbformat_minor": 5
}
