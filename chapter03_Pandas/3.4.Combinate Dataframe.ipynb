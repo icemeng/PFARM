{
 "cells": [
  {
   "cell_type": "code",
   "execution_count": 1,
   "id": "e49ec77a",
   "metadata": {},
   "outputs": [],
   "source": [
    "##########################################################################\n",
    "# Created on Sat Otc 27 22:57:45 2021                                    #\n",
    "# Python for Financial Analysis and Risk Management                      #\n",
    "# @author: Meng Lipeng (FRM, CFA)                                        #\n",
    "##########################################################################"
   ]
  },
  {
   "cell_type": "markdown",
   "id": "f13e95b6",
   "metadata": {},
   "source": [
    "# 3.4.1.Create two new dataframe"
   ]
  },
  {
   "cell_type": "code",
   "execution_count": 16,
   "id": "6f78f476",
   "metadata": {},
   "outputs": [],
   "source": [
    "import pandas as pd\n",
    "SH_Index=pd.read_excel('SHIndex_2020.xlsx',engine='openpyxl',sheet_name=\"Sheet1\",header=0,index_col=0)"
   ]
  },
  {
   "cell_type": "code",
   "execution_count": 17,
   "id": "c4528d59",
   "metadata": {},
   "outputs": [],
   "source": [
    "SH_Index_2019=pd.read_excel('SHIndex_2019.xlsx',engine='openpyxl',sheet_name=\"Sheet1\",header=0,index_col=0)"
   ]
  },
  {
   "cell_type": "code",
   "execution_count": 18,
   "id": "c24cbf80",
   "metadata": {},
   "outputs": [
    {
     "data": {
      "text/html": [
       "<div>\n",
       "<style scoped>\n",
       "    .dataframe tbody tr th:only-of-type {\n",
       "        vertical-align: middle;\n",
       "    }\n",
       "\n",
       "    .dataframe tbody tr th {\n",
       "        vertical-align: top;\n",
       "    }\n",
       "\n",
       "    .dataframe thead th {\n",
       "        text-align: right;\n",
       "    }\n",
       "</style>\n",
       "<table border=\"1\" class=\"dataframe\">\n",
       "  <thead>\n",
       "    <tr style=\"text-align: right;\">\n",
       "      <th></th>\n",
       "      <th>Open</th>\n",
       "      <th>High</th>\n",
       "      <th>Low</th>\n",
       "      <th>Close</th>\n",
       "    </tr>\n",
       "    <tr>\n",
       "      <th>Date</th>\n",
       "      <th></th>\n",
       "      <th></th>\n",
       "      <th></th>\n",
       "      <th></th>\n",
       "    </tr>\n",
       "  </thead>\n",
       "  <tbody>\n",
       "    <tr>\n",
       "      <th>2019-01-02</th>\n",
       "      <td>2497.8805</td>\n",
       "      <td>2500.2783</td>\n",
       "      <td>2456.4233</td>\n",
       "      <td>2465.2910</td>\n",
       "    </tr>\n",
       "    <tr>\n",
       "      <th>2019-01-03</th>\n",
       "      <td>2461.7829</td>\n",
       "      <td>2488.4790</td>\n",
       "      <td>2455.9256</td>\n",
       "      <td>2464.3628</td>\n",
       "    </tr>\n",
       "    <tr>\n",
       "      <th>2019-01-04</th>\n",
       "      <td>2446.0193</td>\n",
       "      <td>2515.3160</td>\n",
       "      <td>2440.9066</td>\n",
       "      <td>2514.8682</td>\n",
       "    </tr>\n",
       "    <tr>\n",
       "      <th>2019-01-07</th>\n",
       "      <td>2528.6987</td>\n",
       "      <td>2536.9775</td>\n",
       "      <td>2515.5083</td>\n",
       "      <td>2533.0887</td>\n",
       "    </tr>\n",
       "    <tr>\n",
       "      <th>2019-01-08</th>\n",
       "      <td>2530.3001</td>\n",
       "      <td>2531.3450</td>\n",
       "      <td>2520.1648</td>\n",
       "      <td>2526.4622</td>\n",
       "    </tr>\n",
       "  </tbody>\n",
       "</table>\n",
       "</div>"
      ],
      "text/plain": [
       "                 Open       High        Low      Close\n",
       "Date                                                  \n",
       "2019-01-02  2497.8805  2500.2783  2456.4233  2465.2910\n",
       "2019-01-03  2461.7829  2488.4790  2455.9256  2464.3628\n",
       "2019-01-04  2446.0193  2515.3160  2440.9066  2514.8682\n",
       "2019-01-07  2528.6987  2536.9775  2515.5083  2533.0887\n",
       "2019-01-08  2530.3001  2531.3450  2520.1648  2526.4622"
      ]
     },
     "execution_count": 18,
     "metadata": {},
     "output_type": "execute_result"
    }
   ],
   "source": [
    "SH_Index_2019.head()"
   ]
  },
  {
   "cell_type": "code",
   "execution_count": 19,
   "id": "87f735b8",
   "metadata": {},
   "outputs": [
    {
     "data": {
      "text/html": [
       "<div>\n",
       "<style scoped>\n",
       "    .dataframe tbody tr th:only-of-type {\n",
       "        vertical-align: middle;\n",
       "    }\n",
       "\n",
       "    .dataframe tbody tr th {\n",
       "        vertical-align: top;\n",
       "    }\n",
       "\n",
       "    .dataframe thead th {\n",
       "        text-align: right;\n",
       "    }\n",
       "</style>\n",
       "<table border=\"1\" class=\"dataframe\">\n",
       "  <thead>\n",
       "    <tr style=\"text-align: right;\">\n",
       "      <th></th>\n",
       "      <th>Open</th>\n",
       "      <th>High</th>\n",
       "      <th>Low</th>\n",
       "      <th>Close</th>\n",
       "    </tr>\n",
       "    <tr>\n",
       "      <th>Date</th>\n",
       "      <th></th>\n",
       "      <th></th>\n",
       "      <th></th>\n",
       "      <th></th>\n",
       "    </tr>\n",
       "  </thead>\n",
       "  <tbody>\n",
       "    <tr>\n",
       "      <th>2019-12-25</th>\n",
       "      <td>2980.4276</td>\n",
       "      <td>2988.2924</td>\n",
       "      <td>2970.6572</td>\n",
       "      <td>2981.8805</td>\n",
       "    </tr>\n",
       "    <tr>\n",
       "      <th>2019-12-26</th>\n",
       "      <td>2981.2485</td>\n",
       "      <td>3007.3546</td>\n",
       "      <td>2980.3966</td>\n",
       "      <td>3007.3546</td>\n",
       "    </tr>\n",
       "    <tr>\n",
       "      <th>2019-12-27</th>\n",
       "      <td>3006.8517</td>\n",
       "      <td>3036.1127</td>\n",
       "      <td>3003.6309</td>\n",
       "      <td>3005.0355</td>\n",
       "    </tr>\n",
       "    <tr>\n",
       "      <th>2019-12-30</th>\n",
       "      <td>2998.1689</td>\n",
       "      <td>3041.3969</td>\n",
       "      <td>2983.3436</td>\n",
       "      <td>3040.0239</td>\n",
       "    </tr>\n",
       "    <tr>\n",
       "      <th>2019-12-31</th>\n",
       "      <td>3036.3858</td>\n",
       "      <td>3051.6770</td>\n",
       "      <td>3030.5122</td>\n",
       "      <td>3050.1240</td>\n",
       "    </tr>\n",
       "  </tbody>\n",
       "</table>\n",
       "</div>"
      ],
      "text/plain": [
       "                 Open       High        Low      Close\n",
       "Date                                                  \n",
       "2019-12-25  2980.4276  2988.2924  2970.6572  2981.8805\n",
       "2019-12-26  2981.2485  3007.3546  2980.3966  3007.3546\n",
       "2019-12-27  3006.8517  3036.1127  3003.6309  3005.0355\n",
       "2019-12-30  2998.1689  3041.3969  2983.3436  3040.0239\n",
       "2019-12-31  3036.3858  3051.6770  3030.5122  3050.1240"
      ]
     },
     "execution_count": 19,
     "metadata": {},
     "output_type": "execute_result"
    }
   ],
   "source": [
    "SH_Index_2019.tail()"
   ]
  },
  {
   "cell_type": "code",
   "execution_count": 20,
   "id": "c202ef8c",
   "metadata": {},
   "outputs": [],
   "source": [
    "SH_Index_volume=pd.read_excel('SHIndexVolume_2020.xlsx',engine='openpyxl',sheet_name=\"Sheet1\",header=0,index_col=0)"
   ]
  },
  {
   "cell_type": "code",
   "execution_count": 21,
   "id": "2ca43cdb",
   "metadata": {},
   "outputs": [
    {
     "data": {
      "text/html": [
       "<div>\n",
       "<style scoped>\n",
       "    .dataframe tbody tr th:only-of-type {\n",
       "        vertical-align: middle;\n",
       "    }\n",
       "\n",
       "    .dataframe tbody tr th {\n",
       "        vertical-align: top;\n",
       "    }\n",
       "\n",
       "    .dataframe thead th {\n",
       "        text-align: right;\n",
       "    }\n",
       "</style>\n",
       "<table border=\"1\" class=\"dataframe\">\n",
       "  <thead>\n",
       "    <tr style=\"text-align: right;\">\n",
       "      <th></th>\n",
       "      <th>Volume(100Million)</th>\n",
       "      <th>TotalCapital(Trillion)</th>\n",
       "    </tr>\n",
       "    <tr>\n",
       "      <th>Date</th>\n",
       "      <th></th>\n",
       "      <th></th>\n",
       "    </tr>\n",
       "  </thead>\n",
       "  <tbody>\n",
       "    <tr>\n",
       "      <th>2020-01-02</th>\n",
       "      <td>3271.97</td>\n",
       "      <td>41.30</td>\n",
       "    </tr>\n",
       "    <tr>\n",
       "      <th>2020-01-03</th>\n",
       "      <td>2899.92</td>\n",
       "      <td>41.30</td>\n",
       "    </tr>\n",
       "    <tr>\n",
       "      <th>2020-01-06</th>\n",
       "      <td>3311.83</td>\n",
       "      <td>41.28</td>\n",
       "    </tr>\n",
       "    <tr>\n",
       "      <th>2020-01-07</th>\n",
       "      <td>2881.59</td>\n",
       "      <td>41.54</td>\n",
       "    </tr>\n",
       "    <tr>\n",
       "      <th>2020-01-08</th>\n",
       "      <td>3065.17</td>\n",
       "      <td>41.04</td>\n",
       "    </tr>\n",
       "  </tbody>\n",
       "</table>\n",
       "</div>"
      ],
      "text/plain": [
       "            Volume(100Million)  TotalCapital(Trillion)\n",
       "Date                                                  \n",
       "2020-01-02             3271.97                   41.30\n",
       "2020-01-03             2899.92                   41.30\n",
       "2020-01-06             3311.83                   41.28\n",
       "2020-01-07             2881.59                   41.54\n",
       "2020-01-08             3065.17                   41.04"
      ]
     },
     "execution_count": 21,
     "metadata": {},
     "output_type": "execute_result"
    }
   ],
   "source": [
    "SH_Index_volume.head()"
   ]
  },
  {
   "cell_type": "code",
   "execution_count": 22,
   "id": "f65ee4be",
   "metadata": {},
   "outputs": [
    {
     "data": {
      "text/html": [
       "<div>\n",
       "<style scoped>\n",
       "    .dataframe tbody tr th:only-of-type {\n",
       "        vertical-align: middle;\n",
       "    }\n",
       "\n",
       "    .dataframe tbody tr th {\n",
       "        vertical-align: top;\n",
       "    }\n",
       "\n",
       "    .dataframe thead th {\n",
       "        text-align: right;\n",
       "    }\n",
       "</style>\n",
       "<table border=\"1\" class=\"dataframe\">\n",
       "  <thead>\n",
       "    <tr style=\"text-align: right;\">\n",
       "      <th></th>\n",
       "      <th>Volume(100Million)</th>\n",
       "      <th>TotalCapital(Trillion)</th>\n",
       "    </tr>\n",
       "    <tr>\n",
       "      <th>Date</th>\n",
       "      <th></th>\n",
       "      <th></th>\n",
       "    </tr>\n",
       "  </thead>\n",
       "  <tbody>\n",
       "    <tr>\n",
       "      <th>2020-12-25</th>\n",
       "      <td>3590.94</td>\n",
       "      <td>47.58</td>\n",
       "    </tr>\n",
       "    <tr>\n",
       "      <th>2020-12-28</th>\n",
       "      <td>3981.60</td>\n",
       "      <td>47.60</td>\n",
       "    </tr>\n",
       "    <tr>\n",
       "      <th>2020-12-29</th>\n",
       "      <td>3821.03</td>\n",
       "      <td>47.38</td>\n",
       "    </tr>\n",
       "    <tr>\n",
       "      <th>2020-12-30</th>\n",
       "      <td>3775.42</td>\n",
       "      <td>47.83</td>\n",
       "    </tr>\n",
       "    <tr>\n",
       "      <th>2020-12-31</th>\n",
       "      <td>4504.82</td>\n",
       "      <td>48.63</td>\n",
       "    </tr>\n",
       "  </tbody>\n",
       "</table>\n",
       "</div>"
      ],
      "text/plain": [
       "            Volume(100Million)  TotalCapital(Trillion)\n",
       "Date                                                  \n",
       "2020-12-25             3590.94                   47.58\n",
       "2020-12-28             3981.60                   47.60\n",
       "2020-12-29             3821.03                   47.38\n",
       "2020-12-30             3775.42                   47.83\n",
       "2020-12-31             4504.82                   48.63"
      ]
     },
     "execution_count": 22,
     "metadata": {},
     "output_type": "execute_result"
    }
   ],
   "source": [
    "SH_Index_volume.tail()"
   ]
  },
  {
   "cell_type": "markdown",
   "id": "3c70a5f8",
   "metadata": {},
   "source": [
    "# 3.4.2.concat()"
   ]
  },
  {
   "cell_type": "code",
   "execution_count": null,
   "id": "fee2da64",
   "metadata": {},
   "outputs": [],
   "source": []
  },
  {
   "cell_type": "code",
   "execution_count": null,
   "id": "ef5b10ca",
   "metadata": {},
   "outputs": [],
   "source": []
  },
  {
   "cell_type": "markdown",
   "id": "26823488",
   "metadata": {},
   "source": [
    "# 3.4.3.merge()"
   ]
  },
  {
   "cell_type": "markdown",
   "id": "ae698372",
   "metadata": {},
   "source": [
    "# 3.4.4.join()"
   ]
  },
  {
   "cell_type": "code",
   "execution_count": null,
   "id": "6d5bccd8",
   "metadata": {},
   "outputs": [],
   "source": []
  },
  {
   "cell_type": "code",
   "execution_count": null,
   "id": "0660302f",
   "metadata": {},
   "outputs": [],
   "source": []
  }
 ],
 "metadata": {
  "kernelspec": {
   "display_name": "Custom (custom_python)",
   "language": "python",
   "name": "custom_python"
  },
  "language_info": {
   "codemirror_mode": {
    "name": "ipython",
    "version": 3
   },
   "file_extension": ".py",
   "mimetype": "text/x-python",
   "name": "python",
   "nbconvert_exporter": "python",
   "pygments_lexer": "ipython3",
   "version": "3.6.13"
  }
 },
 "nbformat": 4,
 "nbformat_minor": 5
}
