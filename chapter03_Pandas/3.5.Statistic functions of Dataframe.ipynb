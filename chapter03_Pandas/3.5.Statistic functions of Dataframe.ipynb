{
 "cells": [
  {
   "cell_type": "code",
   "execution_count": 1,
   "id": "a1c3894a",
   "metadata": {},
   "outputs": [],
   "source": [
    "##########################################################################\n",
    "# Created on Sat Otc 28 21:55:45 2021                                    #\n",
    "# Python for Financial Analysis and Risk Management                      #\n",
    "# @author: Meng Lipeng (FRM, CFA)                                        #\n",
    "##########################################################################"
   ]
  },
  {
   "cell_type": "markdown",
   "id": "51b66082",
   "metadata": {},
   "source": [
    "# 3.5.1.Static statistic functions"
   ]
  },
  {
   "cell_type": "code",
   "execution_count": 4,
   "id": "8352c8ca",
   "metadata": {},
   "outputs": [],
   "source": [
    "import pandas as pd\n",
    "SH_Index=pd.read_excel('SHIndex_2020.xlsx',engine='openpyxl',sheet_name=\"Sheet1\",header=0,index_col=0)\n",
    "SH_Index_2019=pd.read_excel('SHIndex_2019.xlsx',engine='openpyxl',sheet_name=\"Sheet1\",header=0,index_col=0)\n",
    "SH_Index_new1=pd.concat([SH_Index_2019,SH_Index],axis=0)"
   ]
  },
  {
   "cell_type": "code",
   "execution_count": 5,
   "id": "71a19b02",
   "metadata": {},
   "outputs": [
    {
     "data": {
      "text/plain": [
       "Open     2446.0193\n",
       "High     2488.4790\n",
       "Low      2440.9066\n",
       "Close    2464.3628\n",
       "dtype: float64"
      ]
     },
     "execution_count": 5,
     "metadata": {},
     "output_type": "execute_result"
    }
   ],
   "source": [
    "SH_Index_new1.min()"
   ]
  },
  {
   "cell_type": "code",
   "execution_count": 6,
   "id": "28644d28",
   "metadata": {},
   "outputs": [
    {
     "data": {
      "text/plain": [
       "Open     2019-01-04\n",
       "High     2019-01-03\n",
       "Low      2019-01-04\n",
       "Close    2019-01-03\n",
       "dtype: object"
      ]
     },
     "execution_count": 6,
     "metadata": {},
     "output_type": "execute_result"
    }
   ],
   "source": [
    "SH_Index_new1.idxmin()"
   ]
  },
  {
   "cell_type": "code",
   "execution_count": 7,
   "id": "0e0f7b24",
   "metadata": {},
   "outputs": [
    {
     "data": {
      "text/plain": [
       "Open     3453.5181\n",
       "High     3474.9182\n",
       "Low      3435.8712\n",
       "Close    3473.0693\n",
       "dtype: float64"
      ]
     },
     "execution_count": 7,
     "metadata": {},
     "output_type": "execute_result"
    }
   ],
   "source": [
    "SH_Index_new1.max()"
   ]
  },
  {
   "cell_type": "code",
   "execution_count": 8,
   "id": "b95b98c7",
   "metadata": {},
   "outputs": [
    {
     "data": {
      "text/plain": [
       "Open     2020-12-02\n",
       "High     2020-12-31\n",
       "Low      2020-12-02\n",
       "Close    2020-12-31\n",
       "dtype: object"
      ]
     },
     "execution_count": 8,
     "metadata": {},
     "output_type": "execute_result"
    }
   ],
   "source": [
    "SH_Index_new1.idxmax()"
   ]
  },
  {
   "cell_type": "code",
   "execution_count": 9,
   "id": "b9ba6012",
   "metadata": {},
   "outputs": [
    {
     "data": {
      "text/plain": [
       "Open     2972.6619\n",
       "High     2988.2924\n",
       "Low      2955.3460\n",
       "Close    2975.4019\n",
       "dtype: float64"
      ]
     },
     "execution_count": 9,
     "metadata": {},
     "output_type": "execute_result"
    }
   ],
   "source": [
    "SH_Index_new1.median()"
   ]
  },
  {
   "cell_type": "code",
   "execution_count": 10,
   "id": "295a8fcf",
   "metadata": {},
   "outputs": [
    {
     "data": {
      "text/plain": [
       "Open     2660.18037\n",
       "High     2683.13331\n",
       "Low      2647.41221\n",
       "Close    2663.68529\n",
       "Name: 0.05, dtype: float64"
      ]
     },
     "execution_count": 10,
     "metadata": {},
     "output_type": "execute_result"
    }
   ],
   "source": [
    "SH_Index_new1.quantile(q=0.05)"
   ]
  },
  {
   "cell_type": "code",
   "execution_count": 11,
   "id": "39468ad9",
   "metadata": {},
   "outputs": [
    {
     "data": {
      "text/plain": [
       "Open     2972.6619\n",
       "High     2988.2924\n",
       "Low      2955.3460\n",
       "Close    2975.4019\n",
       "Name: 0.5, dtype: float64"
      ]
     },
     "execution_count": 11,
     "metadata": {},
     "output_type": "execute_result"
    }
   ],
   "source": [
    "SH_Index_new1.quantile(q=0.5)"
   ]
  },
  {
   "cell_type": "code",
   "execution_count": 12,
   "id": "5a945bc9",
   "metadata": {},
   "outputs": [
    {
     "data": {
      "text/plain": [
       "Open     3020.698824\n",
       "High     3041.504863\n",
       "Low      3001.388096\n",
       "Close    3023.763759\n",
       "dtype: float64"
      ]
     },
     "execution_count": 12,
     "metadata": {},
     "output_type": "execute_result"
    }
   ],
   "source": [
    "SH_Index_new1.mean()"
   ]
  },
  {
   "cell_type": "code",
   "execution_count": 13,
   "id": "33aba2ec",
   "metadata": {},
   "outputs": [
    {
     "data": {
      "text/plain": [
       "Open     50812.240197\n",
       "High     51293.254132\n",
       "Low      49154.692788\n",
       "Close    50295.116108\n",
       "dtype: float64"
      ]
     },
     "execution_count": 13,
     "metadata": {},
     "output_type": "execute_result"
    }
   ],
   "source": [
    "SH_Index_new1.var()"
   ]
  },
  {
   "cell_type": "code",
   "execution_count": 14,
   "id": "e03c608e",
   "metadata": {},
   "outputs": [
    {
     "data": {
      "text/plain": [
       "Open     225.415705\n",
       "High     226.480141\n",
       "Low      221.708576\n",
       "Close    224.265727\n",
       "dtype: float64"
      ]
     },
     "execution_count": 14,
     "metadata": {},
     "output_type": "execute_result"
    }
   ],
   "source": [
    "SH_Index_new1.std()"
   ]
  },
  {
   "cell_type": "code",
   "execution_count": 15,
   "id": "2bdf722a",
   "metadata": {},
   "outputs": [
    {
     "data": {
      "text/plain": [
       "Open     0.170734\n",
       "High     0.183417\n",
       "Low      0.163176\n",
       "Close    0.178648\n",
       "dtype: float64"
      ]
     },
     "execution_count": 15,
     "metadata": {},
     "output_type": "execute_result"
    }
   ],
   "source": [
    "SH_Index_new1.skew()"
   ]
  },
  {
   "cell_type": "code",
   "execution_count": 16,
   "id": "0cda5321",
   "metadata": {},
   "outputs": [
    {
     "data": {
      "text/plain": [
       "Open    -0.586700\n",
       "High    -0.607334\n",
       "Low     -0.564876\n",
       "Close   -0.578805\n",
       "dtype: float64"
      ]
     },
     "execution_count": 16,
     "metadata": {},
     "output_type": "execute_result"
    }
   ],
   "source": [
    "SH_Index_new1.kurt()"
   ]
  },
  {
   "cell_type": "code",
   "execution_count": 18,
   "id": "519b8363",
   "metadata": {},
   "outputs": [
    {
     "data": {
      "text/html": [
       "<div>\n",
       "<style scoped>\n",
       "    .dataframe tbody tr th:only-of-type {\n",
       "        vertical-align: middle;\n",
       "    }\n",
       "\n",
       "    .dataframe tbody tr th {\n",
       "        vertical-align: top;\n",
       "    }\n",
       "\n",
       "    .dataframe thead th {\n",
       "        text-align: right;\n",
       "    }\n",
       "</style>\n",
       "<table border=\"1\" class=\"dataframe\">\n",
       "  <thead>\n",
       "    <tr style=\"text-align: right;\">\n",
       "      <th></th>\n",
       "      <th>Open</th>\n",
       "      <th>High</th>\n",
       "      <th>Low</th>\n",
       "      <th>Close</th>\n",
       "    </tr>\n",
       "    <tr>\n",
       "      <th>Date</th>\n",
       "      <th></th>\n",
       "      <th></th>\n",
       "      <th></th>\n",
       "      <th></th>\n",
       "    </tr>\n",
       "  </thead>\n",
       "  <tbody>\n",
       "    <tr>\n",
       "      <th>2019-01-02</th>\n",
       "      <td>NaN</td>\n",
       "      <td>NaN</td>\n",
       "      <td>NaN</td>\n",
       "      <td>NaN</td>\n",
       "    </tr>\n",
       "    <tr>\n",
       "      <th>2019-01-03</th>\n",
       "      <td>2497.8805</td>\n",
       "      <td>2500.2783</td>\n",
       "      <td>2456.4233</td>\n",
       "      <td>2465.2910</td>\n",
       "    </tr>\n",
       "    <tr>\n",
       "      <th>2019-01-04</th>\n",
       "      <td>2461.7829</td>\n",
       "      <td>2488.4790</td>\n",
       "      <td>2455.9256</td>\n",
       "      <td>2464.3628</td>\n",
       "    </tr>\n",
       "    <tr>\n",
       "      <th>2019-01-07</th>\n",
       "      <td>2446.0193</td>\n",
       "      <td>2515.3160</td>\n",
       "      <td>2440.9066</td>\n",
       "      <td>2514.8682</td>\n",
       "    </tr>\n",
       "    <tr>\n",
       "      <th>2019-01-08</th>\n",
       "      <td>2528.6987</td>\n",
       "      <td>2536.9775</td>\n",
       "      <td>2515.5083</td>\n",
       "      <td>2533.0887</td>\n",
       "    </tr>\n",
       "  </tbody>\n",
       "</table>\n",
       "</div>"
      ],
      "text/plain": [
       "                 Open       High        Low      Close\n",
       "Date                                                  \n",
       "2019-01-02        NaN        NaN        NaN        NaN\n",
       "2019-01-03  2497.8805  2500.2783  2456.4233  2465.2910\n",
       "2019-01-04  2461.7829  2488.4790  2455.9256  2464.3628\n",
       "2019-01-07  2446.0193  2515.3160  2440.9066  2514.8682\n",
       "2019-01-08  2528.6987  2536.9775  2515.5083  2533.0887"
      ]
     },
     "execution_count": 18,
     "metadata": {},
     "output_type": "execute_result"
    }
   ],
   "source": [
    "SH_Index_shift1=SH_Index_new1.shift(1) #Shift downward\n",
    "SH_Index_shift1.head()"
   ]
  },
  {
   "cell_type": "code",
   "execution_count": 19,
   "id": "cae67ad1",
   "metadata": {},
   "outputs": [
    {
     "data": {
      "text/html": [
       "<div>\n",
       "<style scoped>\n",
       "    .dataframe tbody tr th:only-of-type {\n",
       "        vertical-align: middle;\n",
       "    }\n",
       "\n",
       "    .dataframe tbody tr th {\n",
       "        vertical-align: top;\n",
       "    }\n",
       "\n",
       "    .dataframe thead th {\n",
       "        text-align: right;\n",
       "    }\n",
       "</style>\n",
       "<table border=\"1\" class=\"dataframe\">\n",
       "  <thead>\n",
       "    <tr style=\"text-align: right;\">\n",
       "      <th></th>\n",
       "      <th>Open</th>\n",
       "      <th>High</th>\n",
       "      <th>Low</th>\n",
       "      <th>Close</th>\n",
       "    </tr>\n",
       "    <tr>\n",
       "      <th>Date</th>\n",
       "      <th></th>\n",
       "      <th></th>\n",
       "      <th></th>\n",
       "      <th></th>\n",
       "    </tr>\n",
       "  </thead>\n",
       "  <tbody>\n",
       "    <tr>\n",
       "      <th>2019-01-02</th>\n",
       "      <td>NaN</td>\n",
       "      <td>NaN</td>\n",
       "      <td>NaN</td>\n",
       "      <td>NaN</td>\n",
       "    </tr>\n",
       "    <tr>\n",
       "      <th>2019-01-03</th>\n",
       "      <td>-36.0976</td>\n",
       "      <td>-11.7993</td>\n",
       "      <td>-0.4977</td>\n",
       "      <td>-0.9282</td>\n",
       "    </tr>\n",
       "    <tr>\n",
       "      <th>2019-01-04</th>\n",
       "      <td>-15.7636</td>\n",
       "      <td>26.8370</td>\n",
       "      <td>-15.0190</td>\n",
       "      <td>50.5054</td>\n",
       "    </tr>\n",
       "    <tr>\n",
       "      <th>2019-01-07</th>\n",
       "      <td>82.6794</td>\n",
       "      <td>21.6615</td>\n",
       "      <td>74.6017</td>\n",
       "      <td>18.2205</td>\n",
       "    </tr>\n",
       "    <tr>\n",
       "      <th>2019-01-08</th>\n",
       "      <td>1.6014</td>\n",
       "      <td>-5.6325</td>\n",
       "      <td>4.6565</td>\n",
       "      <td>-6.6265</td>\n",
       "    </tr>\n",
       "  </tbody>\n",
       "</table>\n",
       "</div>"
      ],
      "text/plain": [
       "               Open     High      Low    Close\n",
       "Date                                          \n",
       "2019-01-02      NaN      NaN      NaN      NaN\n",
       "2019-01-03 -36.0976 -11.7993  -0.4977  -0.9282\n",
       "2019-01-04 -15.7636  26.8370 -15.0190  50.5054\n",
       "2019-01-07  82.6794  21.6615  74.6017  18.2205\n",
       "2019-01-08   1.6014  -5.6325   4.6565  -6.6265"
      ]
     },
     "execution_count": 19,
     "metadata": {},
     "output_type": "execute_result"
    }
   ],
   "source": [
    "SH_Index_diff=SH_Index_new1.diff() #row(n)-row(n-1)\n",
    "SH_Index_diff.head()"
   ]
  },
  {
   "cell_type": "code",
   "execution_count": 20,
   "id": "340aaf4f",
   "metadata": {},
   "outputs": [
    {
     "data": {
      "text/html": [
       "<div>\n",
       "<style scoped>\n",
       "    .dataframe tbody tr th:only-of-type {\n",
       "        vertical-align: middle;\n",
       "    }\n",
       "\n",
       "    .dataframe tbody tr th {\n",
       "        vertical-align: top;\n",
       "    }\n",
       "\n",
       "    .dataframe thead th {\n",
       "        text-align: right;\n",
       "    }\n",
       "</style>\n",
       "<table border=\"1\" class=\"dataframe\">\n",
       "  <thead>\n",
       "    <tr style=\"text-align: right;\">\n",
       "      <th></th>\n",
       "      <th>Open</th>\n",
       "      <th>High</th>\n",
       "      <th>Low</th>\n",
       "      <th>Close</th>\n",
       "    </tr>\n",
       "    <tr>\n",
       "      <th>Date</th>\n",
       "      <th></th>\n",
       "      <th></th>\n",
       "      <th></th>\n",
       "      <th></th>\n",
       "    </tr>\n",
       "  </thead>\n",
       "  <tbody>\n",
       "    <tr>\n",
       "      <th>2019-01-02</th>\n",
       "      <td>NaN</td>\n",
       "      <td>NaN</td>\n",
       "      <td>NaN</td>\n",
       "      <td>NaN</td>\n",
       "    </tr>\n",
       "    <tr>\n",
       "      <th>2019-01-03</th>\n",
       "      <td>-0.014451</td>\n",
       "      <td>-0.004719</td>\n",
       "      <td>-0.000203</td>\n",
       "      <td>-0.000377</td>\n",
       "    </tr>\n",
       "    <tr>\n",
       "      <th>2019-01-04</th>\n",
       "      <td>-0.006403</td>\n",
       "      <td>0.010784</td>\n",
       "      <td>-0.006115</td>\n",
       "      <td>0.020494</td>\n",
       "    </tr>\n",
       "    <tr>\n",
       "      <th>2019-01-07</th>\n",
       "      <td>0.033802</td>\n",
       "      <td>0.008612</td>\n",
       "      <td>0.030563</td>\n",
       "      <td>0.007245</td>\n",
       "    </tr>\n",
       "    <tr>\n",
       "      <th>2019-01-08</th>\n",
       "      <td>0.000633</td>\n",
       "      <td>-0.002220</td>\n",
       "      <td>0.001851</td>\n",
       "      <td>-0.002616</td>\n",
       "    </tr>\n",
       "  </tbody>\n",
       "</table>\n",
       "</div>"
      ],
      "text/plain": [
       "                Open      High       Low     Close\n",
       "Date                                              \n",
       "2019-01-02       NaN       NaN       NaN       NaN\n",
       "2019-01-03 -0.014451 -0.004719 -0.000203 -0.000377\n",
       "2019-01-04 -0.006403  0.010784 -0.006115  0.020494\n",
       "2019-01-07  0.033802  0.008612  0.030563  0.007245\n",
       "2019-01-08  0.000633 -0.002220  0.001851 -0.002616"
      ]
     },
     "execution_count": 20,
     "metadata": {},
     "output_type": "execute_result"
    }
   ],
   "source": [
    "SH_Index_perc=SH_Index_new1.pct_change() #[row(n)-row(n-1)]/row(n-1)\n",
    "SH_Index_perc.head()"
   ]
  },
  {
   "cell_type": "code",
   "execution_count": 22,
   "id": "bbe7204a",
   "metadata": {},
   "outputs": [
    {
     "data": {
      "text/plain": [
       "Open     0.354764\n",
       "High     0.358177\n",
       "Low      0.364909\n",
       "Close    0.379434\n",
       "dtype: float64"
      ]
     },
     "execution_count": 22,
     "metadata": {},
     "output_type": "execute_result"
    }
   ],
   "source": [
    "SH_Index_perc=SH_Index_perc.dropna() #remove NA\n",
    "SH_Index_perc.sum()"
   ]
  },
  {
   "cell_type": "code",
   "execution_count": 23,
   "id": "8d44f28a",
   "metadata": {},
   "outputs": [
    {
     "data": {
      "text/html": [
       "<div>\n",
       "<style scoped>\n",
       "    .dataframe tbody tr th:only-of-type {\n",
       "        vertical-align: middle;\n",
       "    }\n",
       "\n",
       "    .dataframe tbody tr th {\n",
       "        vertical-align: top;\n",
       "    }\n",
       "\n",
       "    .dataframe thead th {\n",
       "        text-align: right;\n",
       "    }\n",
       "</style>\n",
       "<table border=\"1\" class=\"dataframe\">\n",
       "  <thead>\n",
       "    <tr style=\"text-align: right;\">\n",
       "      <th></th>\n",
       "      <th>Open</th>\n",
       "      <th>High</th>\n",
       "      <th>Low</th>\n",
       "      <th>Close</th>\n",
       "    </tr>\n",
       "    <tr>\n",
       "      <th>Date</th>\n",
       "      <th></th>\n",
       "      <th></th>\n",
       "      <th></th>\n",
       "      <th></th>\n",
       "    </tr>\n",
       "  </thead>\n",
       "  <tbody>\n",
       "    <tr>\n",
       "      <th>2019-01-03</th>\n",
       "      <td>-0.014451</td>\n",
       "      <td>-0.004719</td>\n",
       "      <td>-0.000203</td>\n",
       "      <td>-0.000377</td>\n",
       "    </tr>\n",
       "    <tr>\n",
       "      <th>2019-01-04</th>\n",
       "      <td>-0.020855</td>\n",
       "      <td>0.006065</td>\n",
       "      <td>-0.006318</td>\n",
       "      <td>0.020118</td>\n",
       "    </tr>\n",
       "    <tr>\n",
       "      <th>2019-01-07</th>\n",
       "      <td>0.012947</td>\n",
       "      <td>0.014677</td>\n",
       "      <td>0.024245</td>\n",
       "      <td>0.027363</td>\n",
       "    </tr>\n",
       "    <tr>\n",
       "      <th>2019-01-08</th>\n",
       "      <td>0.013580</td>\n",
       "      <td>0.012457</td>\n",
       "      <td>0.026096</td>\n",
       "      <td>0.024747</td>\n",
       "    </tr>\n",
       "    <tr>\n",
       "      <th>2019-01-09</th>\n",
       "      <td>0.015998</td>\n",
       "      <td>0.029469</td>\n",
       "      <td>0.032442</td>\n",
       "      <td>0.031825</td>\n",
       "    </tr>\n",
       "  </tbody>\n",
       "</table>\n",
       "</div>"
      ],
      "text/plain": [
       "                Open      High       Low     Close\n",
       "Date                                              \n",
       "2019-01-03 -0.014451 -0.004719 -0.000203 -0.000377\n",
       "2019-01-04 -0.020855  0.006065 -0.006318  0.020118\n",
       "2019-01-07  0.012947  0.014677  0.024245  0.027363\n",
       "2019-01-08  0.013580  0.012457  0.026096  0.024747\n",
       "2019-01-09  0.015998  0.029469  0.032442  0.031825"
      ]
     },
     "execution_count": 23,
     "metadata": {},
     "output_type": "execute_result"
    }
   ],
   "source": [
    "SH_Index_cumsum=SH_Index_perc.cumsum()\n",
    "SH_Index_cumsum.head()"
   ]
  },
  {
   "cell_type": "code",
   "execution_count": 24,
   "id": "b6ef8f7a",
   "metadata": {},
   "outputs": [
    {
     "data": {
      "text/html": [
       "<div>\n",
       "<style scoped>\n",
       "    .dataframe tbody tr th:only-of-type {\n",
       "        vertical-align: middle;\n",
       "    }\n",
       "\n",
       "    .dataframe tbody tr th {\n",
       "        vertical-align: top;\n",
       "    }\n",
       "\n",
       "    .dataframe thead th {\n",
       "        text-align: right;\n",
       "    }\n",
       "</style>\n",
       "<table border=\"1\" class=\"dataframe\">\n",
       "  <thead>\n",
       "    <tr style=\"text-align: right;\">\n",
       "      <th></th>\n",
       "      <th>Open</th>\n",
       "      <th>High</th>\n",
       "      <th>Low</th>\n",
       "      <th>Close</th>\n",
       "    </tr>\n",
       "    <tr>\n",
       "      <th>Date</th>\n",
       "      <th></th>\n",
       "      <th></th>\n",
       "      <th></th>\n",
       "      <th></th>\n",
       "    </tr>\n",
       "  </thead>\n",
       "  <tbody>\n",
       "    <tr>\n",
       "      <th>2019-01-03</th>\n",
       "      <td>0.985549</td>\n",
       "      <td>0.995281</td>\n",
       "      <td>0.999797</td>\n",
       "      <td>0.999623</td>\n",
       "    </tr>\n",
       "    <tr>\n",
       "      <th>2019-01-04</th>\n",
       "      <td>0.979238</td>\n",
       "      <td>1.006014</td>\n",
       "      <td>0.993683</td>\n",
       "      <td>1.020110</td>\n",
       "    </tr>\n",
       "    <tr>\n",
       "      <th>2019-01-07</th>\n",
       "      <td>1.012338</td>\n",
       "      <td>1.014678</td>\n",
       "      <td>1.024053</td>\n",
       "      <td>1.027501</td>\n",
       "    </tr>\n",
       "    <tr>\n",
       "      <th>2019-01-08</th>\n",
       "      <td>1.012979</td>\n",
       "      <td>1.012425</td>\n",
       "      <td>1.025949</td>\n",
       "      <td>1.024813</td>\n",
       "    </tr>\n",
       "    <tr>\n",
       "      <th>2019-01-09</th>\n",
       "      <td>1.015428</td>\n",
       "      <td>1.029649</td>\n",
       "      <td>1.032459</td>\n",
       "      <td>1.032067</td>\n",
       "    </tr>\n",
       "  </tbody>\n",
       "</table>\n",
       "</div>"
      ],
      "text/plain": [
       "                Open      High       Low     Close\n",
       "Date                                              \n",
       "2019-01-03  0.985549  0.995281  0.999797  0.999623\n",
       "2019-01-04  0.979238  1.006014  0.993683  1.020110\n",
       "2019-01-07  1.012338  1.014678  1.024053  1.027501\n",
       "2019-01-08  1.012979  1.012425  1.025949  1.024813\n",
       "2019-01-09  1.015428  1.029649  1.032459  1.032067"
      ]
     },
     "execution_count": 24,
     "metadata": {},
     "output_type": "execute_result"
    }
   ],
   "source": [
    "SH_Index_chag=SH_Index_perc+1\n",
    "SH_Index_cumchag=SH_Index_chag.cumprod()\n",
    "SH_Index_cumchag.head()"
   ]
  },
  {
   "cell_type": "code",
   "execution_count": 26,
   "id": "c9b848b2",
   "metadata": {},
   "outputs": [
    {
     "data": {
      "text/html": [
       "<div>\n",
       "<style scoped>\n",
       "    .dataframe tbody tr th:only-of-type {\n",
       "        vertical-align: middle;\n",
       "    }\n",
       "\n",
       "    .dataframe tbody tr th {\n",
       "        vertical-align: top;\n",
       "    }\n",
       "\n",
       "    .dataframe thead th {\n",
       "        text-align: right;\n",
       "    }\n",
       "</style>\n",
       "<table border=\"1\" class=\"dataframe\">\n",
       "  <thead>\n",
       "    <tr style=\"text-align: right;\">\n",
       "      <th></th>\n",
       "      <th>Open</th>\n",
       "      <th>High</th>\n",
       "      <th>Low</th>\n",
       "      <th>Close</th>\n",
       "    </tr>\n",
       "  </thead>\n",
       "  <tbody>\n",
       "    <tr>\n",
       "      <th>Open</th>\n",
       "      <td>0.000166</td>\n",
       "      <td>0.000102</td>\n",
       "      <td>0.000121</td>\n",
       "      <td>0.000051</td>\n",
       "    </tr>\n",
       "    <tr>\n",
       "      <th>High</th>\n",
       "      <td>0.000102</td>\n",
       "      <td>0.000118</td>\n",
       "      <td>0.000095</td>\n",
       "      <td>0.000096</td>\n",
       "    </tr>\n",
       "    <tr>\n",
       "      <th>Low</th>\n",
       "      <td>0.000121</td>\n",
       "      <td>0.000095</td>\n",
       "      <td>0.000139</td>\n",
       "      <td>0.000093</td>\n",
       "    </tr>\n",
       "    <tr>\n",
       "      <th>Close</th>\n",
       "      <td>0.000051</td>\n",
       "      <td>0.000096</td>\n",
       "      <td>0.000093</td>\n",
       "      <td>0.000150</td>\n",
       "    </tr>\n",
       "  </tbody>\n",
       "</table>\n",
       "</div>"
      ],
      "text/plain": [
       "           Open      High       Low     Close\n",
       "Open   0.000166  0.000102  0.000121  0.000051\n",
       "High   0.000102  0.000118  0.000095  0.000096\n",
       "Low    0.000121  0.000095  0.000139  0.000093\n",
       "Close  0.000051  0.000096  0.000093  0.000150"
      ]
     },
     "execution_count": 26,
     "metadata": {},
     "output_type": "execute_result"
    }
   ],
   "source": [
    "SH_Index_perc.cov()"
   ]
  },
  {
   "cell_type": "code",
   "execution_count": 27,
   "id": "44888dd2",
   "metadata": {},
   "outputs": [
    {
     "data": {
      "text/html": [
       "<div>\n",
       "<style scoped>\n",
       "    .dataframe tbody tr th:only-of-type {\n",
       "        vertical-align: middle;\n",
       "    }\n",
       "\n",
       "    .dataframe tbody tr th {\n",
       "        vertical-align: top;\n",
       "    }\n",
       "\n",
       "    .dataframe thead th {\n",
       "        text-align: right;\n",
       "    }\n",
       "</style>\n",
       "<table border=\"1\" class=\"dataframe\">\n",
       "  <thead>\n",
       "    <tr style=\"text-align: right;\">\n",
       "      <th></th>\n",
       "      <th>Open</th>\n",
       "      <th>High</th>\n",
       "      <th>Low</th>\n",
       "      <th>Close</th>\n",
       "    </tr>\n",
       "  </thead>\n",
       "  <tbody>\n",
       "    <tr>\n",
       "      <th>Open</th>\n",
       "      <td>1.000000</td>\n",
       "      <td>0.725282</td>\n",
       "      <td>0.793240</td>\n",
       "      <td>0.324608</td>\n",
       "    </tr>\n",
       "    <tr>\n",
       "      <th>High</th>\n",
       "      <td>0.725282</td>\n",
       "      <td>1.000000</td>\n",
       "      <td>0.741324</td>\n",
       "      <td>0.718196</td>\n",
       "    </tr>\n",
       "    <tr>\n",
       "      <th>Low</th>\n",
       "      <td>0.793240</td>\n",
       "      <td>0.741324</td>\n",
       "      <td>1.000000</td>\n",
       "      <td>0.645041</td>\n",
       "    </tr>\n",
       "    <tr>\n",
       "      <th>Close</th>\n",
       "      <td>0.324608</td>\n",
       "      <td>0.718196</td>\n",
       "      <td>0.645041</td>\n",
       "      <td>1.000000</td>\n",
       "    </tr>\n",
       "  </tbody>\n",
       "</table>\n",
       "</div>"
      ],
      "text/plain": [
       "           Open      High       Low     Close\n",
       "Open   1.000000  0.725282  0.793240  0.324608\n",
       "High   0.725282  1.000000  0.741324  0.718196\n",
       "Low    0.793240  0.741324  1.000000  0.645041\n",
       "Close  0.324608  0.718196  0.645041  1.000000"
      ]
     },
     "execution_count": 27,
     "metadata": {},
     "output_type": "execute_result"
    }
   ],
   "source": [
    "SH_Index_perc.corr()"
   ]
  },
  {
   "cell_type": "markdown",
   "id": "44ca71e6",
   "metadata": {},
   "source": [
    "# 3.5.2.Rolling window and dynamic statistic functions"
   ]
  },
  {
   "cell_type": "markdown",
   "id": "a250b7e4",
   "metadata": {},
   "source": [
    "## 1.Moving average"
   ]
  },
  {
   "cell_type": "code",
   "execution_count": 29,
   "id": "cc901333",
   "metadata": {},
   "outputs": [
    {
     "data": {
      "text/plain": [
       "<matplotlib.axes._subplots.AxesSubplot at 0x7f48b0500390>"
      ]
     },
     "execution_count": 29,
     "metadata": {},
     "output_type": "execute_result"
    },
    {
     "data": {
      "image/png": "[encoded data removed]",
      "text/plain": [
       "<Figure size 648x432 with 1 Axes>"
      ]
     },
     "metadata": {
      "needs_background": "light"
     },
     "output_type": "display_data"
    }
   ],
   "source": [
    "SH_Index_MA10=SH_Index_new1['Close'].rolling(window=10).mean().to_frame().rename(columns={'Close':'MA10'})\n",
    "SH_Index_close=SH_Index_new1['Close'].to_frame()\n",
    "SH_Index_new5=pd.concat([SH_Index_close,SH_Index_MA10],axis=1)\n",
    "SH_Index_new5.plot(figsize=(9,6),title='2019-2020 SH Index',grid=True,fontsize=13)"
   ]
  },
  {
   "cell_type": "markdown",
   "id": "180abd69",
   "metadata": {},
   "source": [
    "## 2.Moving volatility"
   ]
  },
  {
   "cell_type": "code",
   "execution_count": 30,
   "id": "c037ce55",
   "metadata": {},
   "outputs": [
    {
     "data": {
      "text/plain": [
       "<matplotlib.axes._subplots.AxesSubplot at 0x7f48b0459550>"
      ]
     },
     "execution_count": 30,
     "metadata": {},
     "output_type": "execute_result"
    },
    {
     "data": {
      "image/png": "[encoded data removed]",
      "text/plain": [
       "<Figure size 648x432 with 1 Axes>"
      ]
     },
     "metadata": {
      "needs_background": "light"
     },
     "output_type": "display_data"
    }
   ],
   "source": [
    "SH_Index_rollsd=SH_Index_new1['Close'].rolling(window=30).std().to_frame().rename(columns={'Close':'MV30'})\n",
    "SH_Index_rollsd.plot(figsize=(9,6),title='2019-2020 SH Index Moving Volatility',grid=True,fontsize=12)"
   ]
  },
  {
   "cell_type": "markdown",
   "id": "925398e3",
   "metadata": {},
   "source": [
    "## 3.Moving correlation"
   ]
  },
  {
   "cell_type": "code",
   "execution_count": 31,
   "id": "44b2756b",
   "metadata": {},
   "outputs": [
    {
     "data": {
      "text/html": [
       "<div>\n",
       "<style scoped>\n",
       "    .dataframe tbody tr th:only-of-type {\n",
       "        vertical-align: middle;\n",
       "    }\n",
       "\n",
       "    .dataframe tbody tr th {\n",
       "        vertical-align: top;\n",
       "    }\n",
       "\n",
       "    .dataframe thead th {\n",
       "        text-align: right;\n",
       "    }\n",
       "</style>\n",
       "<table border=\"1\" class=\"dataframe\">\n",
       "  <thead>\n",
       "    <tr style=\"text-align: right;\">\n",
       "      <th></th>\n",
       "      <th></th>\n",
       "      <th>Open</th>\n",
       "      <th>High</th>\n",
       "      <th>Low</th>\n",
       "      <th>Close</th>\n",
       "    </tr>\n",
       "    <tr>\n",
       "      <th>Date</th>\n",
       "      <th></th>\n",
       "      <th></th>\n",
       "      <th></th>\n",
       "      <th></th>\n",
       "      <th></th>\n",
       "    </tr>\n",
       "  </thead>\n",
       "  <tbody>\n",
       "    <tr>\n",
       "      <th rowspan=\"4\" valign=\"top\">2019-04-02</th>\n",
       "      <th>Open</th>\n",
       "      <td>1.000000</td>\n",
       "      <td>0.994834</td>\n",
       "      <td>0.997857</td>\n",
       "      <td>0.989092</td>\n",
       "    </tr>\n",
       "    <tr>\n",
       "      <th>High</th>\n",
       "      <td>0.994834</td>\n",
       "      <td>1.000000</td>\n",
       "      <td>0.996283</td>\n",
       "      <td>0.996274</td>\n",
       "    </tr>\n",
       "    <tr>\n",
       "      <th>Low</th>\n",
       "      <td>0.997857</td>\n",
       "      <td>0.996283</td>\n",
       "      <td>1.000000</td>\n",
       "      <td>0.994036</td>\n",
       "    </tr>\n",
       "    <tr>\n",
       "      <th>Close</th>\n",
       "      <td>0.989092</td>\n",
       "      <td>0.996274</td>\n",
       "      <td>0.994036</td>\n",
       "      <td>1.000000</td>\n",
       "    </tr>\n",
       "    <tr>\n",
       "      <th>2019-04-03</th>\n",
       "      <th>Open</th>\n",
       "      <td>1.000000</td>\n",
       "      <td>0.994885</td>\n",
       "      <td>0.997998</td>\n",
       "      <td>0.989194</td>\n",
       "    </tr>\n",
       "  </tbody>\n",
       "</table>\n",
       "</div>"
      ],
      "text/plain": [
       "                      Open      High       Low     Close\n",
       "Date                                                    \n",
       "2019-04-02 Open   1.000000  0.994834  0.997857  0.989092\n",
       "           High   0.994834  1.000000  0.996283  0.996274\n",
       "           Low    0.997857  0.996283  1.000000  0.994036\n",
       "           Close  0.989092  0.996274  0.994036  1.000000\n",
       "2019-04-03 Open   1.000000  0.994885  0.997998  0.989194"
      ]
     },
     "execution_count": 31,
     "metadata": {},
     "output_type": "execute_result"
    }
   ],
   "source": [
    "SH_Index_rollcorr=SH_Index_new1.rolling(window=60).corr().dropna()\n",
    "SH_Index_rollcorr.head()"
   ]
  },
  {
   "cell_type": "code",
   "execution_count": 32,
   "id": "85d8b109",
   "metadata": {},
   "outputs": [
    {
     "data": {
      "text/html": [
       "<div>\n",
       "<style scoped>\n",
       "    .dataframe tbody tr th:only-of-type {\n",
       "        vertical-align: middle;\n",
       "    }\n",
       "\n",
       "    .dataframe tbody tr th {\n",
       "        vertical-align: top;\n",
       "    }\n",
       "\n",
       "    .dataframe thead th {\n",
       "        text-align: right;\n",
       "    }\n",
       "</style>\n",
       "<table border=\"1\" class=\"dataframe\">\n",
       "  <thead>\n",
       "    <tr style=\"text-align: right;\">\n",
       "      <th></th>\n",
       "      <th></th>\n",
       "      <th>Open</th>\n",
       "      <th>High</th>\n",
       "      <th>Low</th>\n",
       "      <th>Close</th>\n",
       "    </tr>\n",
       "    <tr>\n",
       "      <th>Date</th>\n",
       "      <th></th>\n",
       "      <th></th>\n",
       "      <th></th>\n",
       "      <th></th>\n",
       "      <th></th>\n",
       "    </tr>\n",
       "  </thead>\n",
       "  <tbody>\n",
       "    <tr>\n",
       "      <th>2020-12-30</th>\n",
       "      <th>Close</th>\n",
       "      <td>0.888195</td>\n",
       "      <td>0.954886</td>\n",
       "      <td>0.960627</td>\n",
       "      <td>1.000000</td>\n",
       "    </tr>\n",
       "    <tr>\n",
       "      <th rowspan=\"4\" valign=\"top\">2020-12-31</th>\n",
       "      <th>Open</th>\n",
       "      <td>1.000000</td>\n",
       "      <td>0.952138</td>\n",
       "      <td>0.963207</td>\n",
       "      <td>0.878388</td>\n",
       "    </tr>\n",
       "    <tr>\n",
       "      <th>High</th>\n",
       "      <td>0.952138</td>\n",
       "      <td>1.000000</td>\n",
       "      <td>0.968343</td>\n",
       "      <td>0.953713</td>\n",
       "    </tr>\n",
       "    <tr>\n",
       "      <th>Low</th>\n",
       "      <td>0.963207</td>\n",
       "      <td>0.968343</td>\n",
       "      <td>1.000000</td>\n",
       "      <td>0.956902</td>\n",
       "    </tr>\n",
       "    <tr>\n",
       "      <th>Close</th>\n",
       "      <td>0.878388</td>\n",
       "      <td>0.953713</td>\n",
       "      <td>0.956902</td>\n",
       "      <td>1.000000</td>\n",
       "    </tr>\n",
       "  </tbody>\n",
       "</table>\n",
       "</div>"
      ],
      "text/plain": [
       "                      Open      High       Low     Close\n",
       "Date                                                    \n",
       "2020-12-30 Close  0.888195  0.954886  0.960627  1.000000\n",
       "2020-12-31 Open   1.000000  0.952138  0.963207  0.878388\n",
       "           High   0.952138  1.000000  0.968343  0.953713\n",
       "           Low    0.963207  0.968343  1.000000  0.956902\n",
       "           Close  0.878388  0.953713  0.956902  1.000000"
      ]
     },
     "execution_count": 32,
     "metadata": {},
     "output_type": "execute_result"
    }
   ],
   "source": [
    "SH_Index_rollcorr.tail()"
   ]
  },
  {
   "cell_type": "code",
   "execution_count": null,
   "id": "ff98d8e7",
   "metadata": {},
   "outputs": [],
   "source": []
  }
 ],
 "metadata": {
  "kernelspec": {
   "display_name": "Custom (custom_python)",
   "language": "python",
   "name": "custom_python"
  },
  "language_info": {
   "codemirror_mode": {
    "name": "ipython",
    "version": 3
   },
   "file_extension": ".py",
   "mimetype": "text/x-python",
   "name": "python",
   "nbconvert_exporter": "python",
   "pygments_lexer": "ipython3",
   "version": "3.6.13"
  }
 },
 "nbformat": 4,
 "nbformat_minor": 5
}
