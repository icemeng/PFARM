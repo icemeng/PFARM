{
 "cells": [
  {
   "cell_type": "code",
   "execution_count": 1,
   "id": "8b1b4b07",
   "metadata": {},
   "outputs": [],
   "source": [
    "##########################################################################\n",
    "# Created on Sat Otc 25 22:47:45 2021                                    #\n",
    "# Python for Financial Analysis and Risk Management                      #\n",
    "# @author: Meng Lipeng (FRM, CFA)                                        #\n",
    "##########################################################################"
   ]
  },
  {
   "cell_type": "markdown",
   "id": "a4461170",
   "metadata": {},
   "source": [
    "# 3.1.1.Series"
   ]
  },
  {
   "cell_type": "code",
   "execution_count": null,
   "id": "e00a27d5",
   "metadata": {},
   "outputs": [],
   "source": []
  },
  {
   "cell_type": "markdown",
   "id": "759b1a6a",
   "metadata": {},
   "source": [
    "# 3.1.2.Dataframe"
   ]
  },
  {
   "cell_type": "code",
   "execution_count": null,
   "id": "649248c3",
   "metadata": {},
   "outputs": [],
   "source": []
  },
  {
   "cell_type": "markdown",
   "id": "c643cb53",
   "metadata": {},
   "source": [
    "# 3.1.3.Data import"
   ]
  },
  {
   "cell_type": "code",
   "execution_count": null,
   "id": "dc09045c",
   "metadata": {},
   "outputs": [],
   "source": []
  },
  {
   "cell_type": "markdown",
   "id": "afcc04c3",
   "metadata": {},
   "source": [
    "# 3.1.4.Time array"
   ]
  },
  {
   "cell_type": "code",
   "execution_count": null,
   "id": "d36fe3ee",
   "metadata": {},
   "outputs": [],
   "source": []
  }
 ],
 "metadata": {
  "kernelspec": {
   "display_name": "Custom (custom_python)",
   "language": "python",
   "name": "custom_python"
  },
  "language_info": {
   "codemirror_mode": {
    "name": "ipython",
    "version": 3
   },
   "file_extension": ".py",
   "mimetype": "text/x-python",
   "name": "python",
   "nbconvert_exporter": "python",
   "pygments_lexer": "ipython3",
   "version": "3.6.13"
  }
 },
 "nbformat": 4,
 "nbformat_minor": 5
}
