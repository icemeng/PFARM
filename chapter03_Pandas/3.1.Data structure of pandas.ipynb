{
 "cells": [
  {
   "cell_type": "code",
   "execution_count": 1,
   "id": "870efc5b",
   "metadata": {},
   "outputs": [],
   "source": [
    "##########################################################################\n",
    "# Created on Sat Otc 25 22:47:45 2021                                    #\n",
    "# Python for Financial Analysis and Risk Management                      #\n",
    "# @author: Meng Lipeng (FRM, CFA)                                        #\n",
    "##########################################################################"
   ]
  },
  {
   "cell_type": "markdown",
   "id": "dc4b7799",
   "metadata": {},
   "source": [
    "# 3.1.1.Series"
   ]
  },
  {
   "cell_type": "markdown",
   "id": "e767654b",
   "metadata": {},
   "source": [
    "$\\color{black} {Stock \\ Return \\ 2020/05/25 - 2020/05/29} \\\\\n",
    "\\begin{array}{|c|c|c|c|c|c|}\n",
    "\\hline\n",
    "\\text{Stock} & \\text{2020/05/25} & \\text{2020/05/26} & \\text{2020/05/27} & \\text{2020/05/28} & \\text{2020/05/29}  \\\\\n",
    "\\hline\n",
    "\\tt{CAST} & -3.5099\\% & 1.7230\\% & -0.3450\\% & -2.4551\\% & 3.9368\\%  \\\\\n",
    "\\hline\n",
    "\\tt{CSS}  & -1.3892\\% & 2.4334\\%  & -3.3758\\% & 1.4622\\%  & 0.0128\\%  \\\\\n",
    "\\hline\n",
    "\\tt{BOC}  & 0.5848\\%  & -0.2907\\% & 0.5831\\%  & 0.5797\\%  & -0.5764\\% \\\\\n",
    "\\hline\n",
    "\\tt{SAIC} & 2.1242\\%  & 0.2133\\%  & -2.9803\\% & -0.2743\\% & -1.4301\\% \\\\\n",
    "\\hline\n",
    "\\end{array}$"
   ]
  },
  {
   "cell_type": "code",
   "execution_count": 5,
   "id": "c57d6463",
   "metadata": {},
   "outputs": [
    {
     "data": {
      "text/plain": [
       "'1.1.5'"
      ]
     },
     "execution_count": 5,
     "metadata": {},
     "output_type": "execute_result"
    }
   ],
   "source": [
    "import pandas as pd\n",
    "pd.__version__"
   ]
  },
  {
   "cell_type": "code",
   "execution_count": 3,
   "id": "73bf75c3",
   "metadata": {},
   "outputs": [
    {
     "data": {
      "text/plain": [
       "CAST   -0.035099\n",
       "CSS    -0.013892\n",
       "BOC     0.005848\n",
       "SAIC    0.021242\n",
       "dtype: float64"
      ]
     },
     "execution_count": 3,
     "metadata": {},
     "output_type": "execute_result"
    }
   ],
   "source": [
    "name=['CAST','CSS','BOC','SAIC']\n",
    "list_May25=[-0.035099,-0.013892,0.005848,0.021242]\n",
    "series_May25=pd.Series(data=list_May25,index=name)\n",
    "series_May25"
   ]
  },
  {
   "cell_type": "code",
   "execution_count": 5,
   "id": "e2c4d857",
   "metadata": {},
   "outputs": [],
   "source": [
    "import numpy as np\n",
    "return_array1=np.array([[-0.035099,0.017230,-0.003450,-0.024551,0.039368],\n",
    "                        [-0.013892,0.024334,-0.033758,0.014622,0.000128],\n",
    "                        [0.005848,-0.002907,0.005831,0.005797,-0.005764],\n",
    "                        [0.021242,0.002133,-0.029803,-0.002743,-0.014301]])"
   ]
  },
  {
   "cell_type": "code",
   "execution_count": 6,
   "id": "f68df3ae",
   "metadata": {},
   "outputs": [
    {
     "data": {
      "text/plain": [
       "CAST   -0.003450\n",
       "CSS    -0.033758\n",
       "BOC     0.005831\n",
       "SAIC   -0.029803\n",
       "dtype: float64"
      ]
     },
     "execution_count": 6,
     "metadata": {},
     "output_type": "execute_result"
    }
   ],
   "source": [
    "series_May27=pd.Series(data=return_array1[:,2],index=name)\n",
    "series_May27"
   ]
  },
  {
   "cell_type": "code",
   "execution_count": 8,
   "id": "032c1978",
   "metadata": {},
   "outputs": [
    {
     "data": {
      "text/plain": [
       "2020-05-25    0.005848\n",
       "2020-05-26   -0.002907\n",
       "2020-05-27    0.005831\n",
       "2020-05-28    0.005797\n",
       "2020-05-29   -0.005764\n",
       "dtype: float64"
      ]
     },
     "execution_count": 8,
     "metadata": {},
     "output_type": "execute_result"
    }
   ],
   "source": [
    "date=['2020-05-25','2020-05-26','2020-05-27','2020-05-28','2020-05-29']\n",
    "series_BOC=pd.Series(data=return_array1[2,:],index=date)\n",
    "series_BOC"
   ]
  },
  {
   "cell_type": "markdown",
   "id": "db18e95b",
   "metadata": {},
   "source": [
    "# 3.1.2.Dataframe"
   ]
  },
  {
   "cell_type": "code",
   "execution_count": 9,
   "id": "966815f0",
   "metadata": {},
   "outputs": [
    {
     "data": {
      "text/html": [
       "<div>\n",
       "<style scoped>\n",
       "    .dataframe tbody tr th:only-of-type {\n",
       "        vertical-align: middle;\n",
       "    }\n",
       "\n",
       "    .dataframe tbody tr th {\n",
       "        vertical-align: top;\n",
       "    }\n",
       "\n",
       "    .dataframe thead th {\n",
       "        text-align: right;\n",
       "    }\n",
       "</style>\n",
       "<table border=\"1\" class=\"dataframe\">\n",
       "  <thead>\n",
       "    <tr style=\"text-align: right;\">\n",
       "      <th></th>\n",
       "      <th>CAST</th>\n",
       "      <th>CSS</th>\n",
       "      <th>BOC</th>\n",
       "      <th>SAIC</th>\n",
       "    </tr>\n",
       "  </thead>\n",
       "  <tbody>\n",
       "    <tr>\n",
       "      <th>2020-05-25</th>\n",
       "      <td>-0.035099</td>\n",
       "      <td>-0.013892</td>\n",
       "      <td>0.005848</td>\n",
       "      <td>0.021242</td>\n",
       "    </tr>\n",
       "    <tr>\n",
       "      <th>2020-05-26</th>\n",
       "      <td>0.017230</td>\n",
       "      <td>0.024334</td>\n",
       "      <td>-0.002907</td>\n",
       "      <td>0.002133</td>\n",
       "    </tr>\n",
       "    <tr>\n",
       "      <th>2020-05-27</th>\n",
       "      <td>-0.003450</td>\n",
       "      <td>-0.033758</td>\n",
       "      <td>0.005831</td>\n",
       "      <td>-0.029803</td>\n",
       "    </tr>\n",
       "    <tr>\n",
       "      <th>2020-05-28</th>\n",
       "      <td>-0.024551</td>\n",
       "      <td>0.014622</td>\n",
       "      <td>0.005797</td>\n",
       "      <td>-0.002743</td>\n",
       "    </tr>\n",
       "    <tr>\n",
       "      <th>2020-05-29</th>\n",
       "      <td>0.039368</td>\n",
       "      <td>0.000128</td>\n",
       "      <td>-0.005764</td>\n",
       "      <td>-0.014301</td>\n",
       "    </tr>\n",
       "  </tbody>\n",
       "</table>\n",
       "</div>"
      ],
      "text/plain": [
       "                CAST       CSS       BOC      SAIC\n",
       "2020-05-25 -0.035099 -0.013892  0.005848  0.021242\n",
       "2020-05-26  0.017230  0.024334 -0.002907  0.002133\n",
       "2020-05-27 -0.003450 -0.033758  0.005831 -0.029803\n",
       "2020-05-28 -0.024551  0.014622  0.005797 -0.002743\n",
       "2020-05-29  0.039368  0.000128 -0.005764 -0.014301"
      ]
     },
     "execution_count": 9,
     "metadata": {},
     "output_type": "execute_result"
    }
   ],
   "source": [
    "return_dataframe=pd.DataFrame(data=return_array1.T,index=date,columns=name)\n",
    "return_dataframe"
   ]
  },
  {
   "cell_type": "code",
   "execution_count": 11,
   "id": "a1f2cdb9",
   "metadata": {},
   "outputs": [
    {
     "name": "stdout",
     "output_type": "stream",
     "text": [
      "Collecting package metadata (current_repodata.json): done\n",
      "Solving environment: done\n",
      "\n",
      "\n",
      "==> WARNING: A newer version of conda exists. <==\n",
      "  current version: 4.8.4\n",
      "  latest version: 4.10.3\n",
      "\n",
      "Please update conda by running\n",
      "\n",
      "    $ conda update -n base -c defaults conda\n",
      "\n",
      "\n",
      "\n",
      "## Package Plan ##\n",
      "\n",
      "  environment location: /home/ec2-user/SageMaker/custom-miniconda/miniconda/envs/custom_python\n",
      "\n",
      "  added / updated specs:\n",
      "    - xlwt\n",
      "\n",
      "\n",
      "The following NEW packages will be INSTALLED:\n",
      "\n",
      "  xlwt               conda-forge/noarch::xlwt-1.3.0-py_1\n",
      "\n",
      "\n",
      "Preparing transaction: done\n",
      "Verifying transaction: done\n",
      "Executing transaction: done\n"
     ]
    }
   ],
   "source": [
    "#import sys\n",
    "#!conda install --yes --prefix {sys.prefix} -c conda-forge xlwt"
   ]
  },
  {
   "cell_type": "code",
   "execution_count": 12,
   "id": "ca586aff",
   "metadata": {},
   "outputs": [],
   "source": [
    "return_dataframe.to_excel('DailyReturnOf4Stocks.xls')"
   ]
  },
  {
   "cell_type": "code",
   "execution_count": 13,
   "id": "d9df6367",
   "metadata": {},
   "outputs": [],
   "source": [
    "return_dataframe.to_csv('DailyReturnOf4Stocks.csv')"
   ]
  },
  {
   "cell_type": "code",
   "execution_count": 14,
   "id": "57530774",
   "metadata": {},
   "outputs": [],
   "source": [
    "return_dataframe.to_csv('DailyReturnOf4Stocks.txt')"
   ]
  },
  {
   "cell_type": "markdown",
   "id": "61b39d56",
   "metadata": {},
   "source": [
    "# 3.1.3.Data import"
   ]
  },
  {
   "cell_type": "code",
   "execution_count": 18,
   "id": "6224802c",
   "metadata": {},
   "outputs": [
    {
     "name": "stdout",
     "output_type": "stream",
     "text": [
      "Collecting package metadata (current_repodata.json): done\n",
      "Solving environment: done\n",
      "\n",
      "\n",
      "==> WARNING: A newer version of conda exists. <==\n",
      "  current version: 4.8.4\n",
      "  latest version: 4.10.3\n",
      "\n",
      "Please update conda by running\n",
      "\n",
      "    $ conda update -n base -c defaults conda\n",
      "\n",
      "\n",
      "\n",
      "## Package Plan ##\n",
      "\n",
      "  environment location: /home/ec2-user/SageMaker/custom-miniconda/miniconda/envs/custom_python\n",
      "\n",
      "  added / updated specs:\n",
      "    - openpyxl\n",
      "\n",
      "\n",
      "The following packages will be downloaded:\n",
      "\n",
      "    package                    |            build\n",
      "    ---------------------------|-----------------\n",
      "    openpyxl-3.0.9             |     pyhd8ed1ab_0         153 KB  conda-forge\n",
      "    ------------------------------------------------------------\n",
      "                                           Total:         153 KB\n",
      "\n",
      "The following NEW packages will be INSTALLED:\n",
      "\n",
      "  et_xmlfile         conda-forge/noarch::et_xmlfile-1.0.1-py_1001\n",
      "  openpyxl           conda-forge/noarch::openpyxl-3.0.9-pyhd8ed1ab_0\n",
      "\n",
      "\n",
      "\n",
      "Downloading and Extracting Packages\n",
      "openpyxl-3.0.9       | 153 KB    | ##################################### | 100% \n",
      "Preparing transaction: done\n",
      "Verifying transaction: done\n",
      "Executing transaction: done\n"
     ]
    }
   ],
   "source": [
    "#!conda install --yes --prefix {sys.prefix} -c conda-forge openpyxl"
   ]
  },
  {
   "cell_type": "code",
   "execution_count": 25,
   "id": "8189451e",
   "metadata": {},
   "outputs": [],
   "source": [
    "SH_Index=pd.read_excel('SHIndex_2020.xlsx',engine='openpyxl',sheet_name=\"Sheet1\",header=0,index_col=0)"
   ]
  },
  {
   "cell_type": "code",
   "execution_count": 26,
   "id": "399a5db2",
   "metadata": {},
   "outputs": [
    {
     "data": {
      "text/html": [
       "<div>\n",
       "<style scoped>\n",
       "    .dataframe tbody tr th:only-of-type {\n",
       "        vertical-align: middle;\n",
       "    }\n",
       "\n",
       "    .dataframe tbody tr th {\n",
       "        vertical-align: top;\n",
       "    }\n",
       "\n",
       "    .dataframe thead th {\n",
       "        text-align: right;\n",
       "    }\n",
       "</style>\n",
       "<table border=\"1\" class=\"dataframe\">\n",
       "  <thead>\n",
       "    <tr style=\"text-align: right;\">\n",
       "      <th></th>\n",
       "      <th>开盘价</th>\n",
       "      <th>最高价</th>\n",
       "      <th>最低价</th>\n",
       "      <th>收盘价</th>\n",
       "    </tr>\n",
       "    <tr>\n",
       "      <th>日期</th>\n",
       "      <th></th>\n",
       "      <th></th>\n",
       "      <th></th>\n",
       "      <th></th>\n",
       "    </tr>\n",
       "  </thead>\n",
       "  <tbody>\n",
       "    <tr>\n",
       "      <th>2020-01-02</th>\n",
       "      <td>3066.3357</td>\n",
       "      <td>3098.1001</td>\n",
       "      <td>3066.3357</td>\n",
       "      <td>3085.1976</td>\n",
       "    </tr>\n",
       "    <tr>\n",
       "      <th>2020-01-03</th>\n",
       "      <td>3089.0220</td>\n",
       "      <td>3093.8192</td>\n",
       "      <td>3074.5178</td>\n",
       "      <td>3083.7858</td>\n",
       "    </tr>\n",
       "    <tr>\n",
       "      <th>2020-01-06</th>\n",
       "      <td>3070.9088</td>\n",
       "      <td>3107.2032</td>\n",
       "      <td>3065.3088</td>\n",
       "      <td>3083.4083</td>\n",
       "    </tr>\n",
       "    <tr>\n",
       "      <th>2020-01-07</th>\n",
       "      <td>3085.4882</td>\n",
       "      <td>3105.4507</td>\n",
       "      <td>3084.3290</td>\n",
       "      <td>3104.8015</td>\n",
       "    </tr>\n",
       "    <tr>\n",
       "      <th>2020-01-08</th>\n",
       "      <td>3094.2389</td>\n",
       "      <td>3094.2389</td>\n",
       "      <td>3059.1313</td>\n",
       "      <td>3066.8925</td>\n",
       "    </tr>\n",
       "  </tbody>\n",
       "</table>\n",
       "</div>"
      ],
      "text/plain": [
       "                  开盘价        最高价        最低价        收盘价\n",
       "日期                                                    \n",
       "2020-01-02  3066.3357  3098.1001  3066.3357  3085.1976\n",
       "2020-01-03  3089.0220  3093.8192  3074.5178  3083.7858\n",
       "2020-01-06  3070.9088  3107.2032  3065.3088  3083.4083\n",
       "2020-01-07  3085.4882  3105.4507  3084.3290  3104.8015\n",
       "2020-01-08  3094.2389  3094.2389  3059.1313  3066.8925"
      ]
     },
     "execution_count": 26,
     "metadata": {},
     "output_type": "execute_result"
    }
   ],
   "source": [
    "SH_Index.head()"
   ]
  },
  {
   "cell_type": "code",
   "execution_count": 27,
   "id": "548b5256",
   "metadata": {},
   "outputs": [
    {
     "data": {
      "text/html": [
       "<div>\n",
       "<style scoped>\n",
       "    .dataframe tbody tr th:only-of-type {\n",
       "        vertical-align: middle;\n",
       "    }\n",
       "\n",
       "    .dataframe tbody tr th {\n",
       "        vertical-align: top;\n",
       "    }\n",
       "\n",
       "    .dataframe thead th {\n",
       "        text-align: right;\n",
       "    }\n",
       "</style>\n",
       "<table border=\"1\" class=\"dataframe\">\n",
       "  <thead>\n",
       "    <tr style=\"text-align: right;\">\n",
       "      <th></th>\n",
       "      <th>开盘价</th>\n",
       "      <th>最高价</th>\n",
       "      <th>最低价</th>\n",
       "      <th>收盘价</th>\n",
       "    </tr>\n",
       "    <tr>\n",
       "      <th>日期</th>\n",
       "      <th></th>\n",
       "      <th></th>\n",
       "      <th></th>\n",
       "      <th></th>\n",
       "    </tr>\n",
       "  </thead>\n",
       "  <tbody>\n",
       "    <tr>\n",
       "      <th>2020-12-25</th>\n",
       "      <td>3351.7901</td>\n",
       "      <td>3397.0066</td>\n",
       "      <td>3348.3453</td>\n",
       "      <td>3396.5626</td>\n",
       "    </tr>\n",
       "    <tr>\n",
       "      <th>2020-12-28</th>\n",
       "      <td>3396.3590</td>\n",
       "      <td>3412.5193</td>\n",
       "      <td>3383.6540</td>\n",
       "      <td>3397.2854</td>\n",
       "    </tr>\n",
       "    <tr>\n",
       "      <th>2020-12-29</th>\n",
       "      <td>3399.2939</td>\n",
       "      <td>3407.0884</td>\n",
       "      <td>3376.0876</td>\n",
       "      <td>3379.0362</td>\n",
       "    </tr>\n",
       "    <tr>\n",
       "      <th>2020-12-30</th>\n",
       "      <td>3375.0086</td>\n",
       "      <td>3414.4539</td>\n",
       "      <td>3374.4156</td>\n",
       "      <td>3414.4527</td>\n",
       "    </tr>\n",
       "    <tr>\n",
       "      <th>2020-12-31</th>\n",
       "      <td>3419.7267</td>\n",
       "      <td>3474.9182</td>\n",
       "      <td>3419.7267</td>\n",
       "      <td>3473.0693</td>\n",
       "    </tr>\n",
       "  </tbody>\n",
       "</table>\n",
       "</div>"
      ],
      "text/plain": [
       "                  开盘价        最高价        最低价        收盘价\n",
       "日期                                                    \n",
       "2020-12-25  3351.7901  3397.0066  3348.3453  3396.5626\n",
       "2020-12-28  3396.3590  3412.5193  3383.6540  3397.2854\n",
       "2020-12-29  3399.2939  3407.0884  3376.0876  3379.0362\n",
       "2020-12-30  3375.0086  3414.4539  3374.4156  3414.4527\n",
       "2020-12-31  3419.7267  3474.9182  3419.7267  3473.0693"
      ]
     },
     "execution_count": 27,
     "metadata": {},
     "output_type": "execute_result"
    }
   ],
   "source": [
    "SH_Index.tail()"
   ]
  },
  {
   "cell_type": "markdown",
   "id": "f4b0ed23",
   "metadata": {},
   "source": [
    "# 3.1.4.Time array"
   ]
  },
  {
   "cell_type": "code",
   "execution_count": 7,
   "id": "ecd2ada3",
   "metadata": {},
   "outputs": [
    {
     "data": {
      "text/plain": [
       "DatetimeIndex(['2021-01-01', '2021-01-04', '2021-01-05', '2021-01-06',\n",
       "               '2021-01-07', '2021-01-08', '2021-01-11', '2021-01-12',\n",
       "               '2021-01-13', '2021-01-14',\n",
       "               ...\n",
       "               '2022-12-19', '2022-12-20', '2022-12-21', '2022-12-22',\n",
       "               '2022-12-23', '2022-12-26', '2022-12-27', '2022-12-28',\n",
       "               '2022-12-29', '2022-12-30'],\n",
       "              dtype='datetime64[ns]', length=521, freq='B')"
      ]
     },
     "execution_count": 7,
     "metadata": {},
     "output_type": "execute_result"
    }
   ],
   "source": [
    "time1=pd.date_range(start='2021-01-01',end='2022-12-31',freq='B') #Business date but include public holiday\n",
    "time1"
   ]
  },
  {
   "cell_type": "code",
   "execution_count": 8,
   "id": "9c6c0ee1",
   "metadata": {},
   "outputs": [
    {
     "data": {
      "text/plain": [
       "DatetimeIndex(['2021-01-04 09:30:00', '2021-01-04 09:30:01',\n",
       "               '2021-01-04 09:30:02', '2021-01-04 09:30:03',\n",
       "               '2021-01-04 09:30:04', '2021-01-04 09:30:05',\n",
       "               '2021-01-04 09:30:06', '2021-01-04 09:30:07',\n",
       "               '2021-01-04 09:30:08', '2021-01-04 09:30:09',\n",
       "               ...\n",
       "               '2021-01-04 11:29:50', '2021-01-04 11:29:51',\n",
       "               '2021-01-04 11:29:52', '2021-01-04 11:29:53',\n",
       "               '2021-01-04 11:29:54', '2021-01-04 11:29:55',\n",
       "               '2021-01-04 11:29:56', '2021-01-04 11:29:57',\n",
       "               '2021-01-04 11:29:58', '2021-01-04 11:29:59'],\n",
       "              dtype='datetime64[ns]', length=7200, freq='S')"
      ]
     },
     "execution_count": 8,
     "metadata": {},
     "output_type": "execute_result"
    }
   ],
   "source": [
    "time2=pd.date_range(start='2021-01-04 09:30:00',periods=7200,freq='S')\n",
    "time2"
   ]
  },
  {
   "cell_type": "markdown",
   "id": "cc998f3b",
   "metadata": {},
   "source": [
    "## Appendix install iFinD to env"
   ]
  },
  {
   "cell_type": "code",
   "execution_count": 33,
   "id": "fe3233bd",
   "metadata": {},
   "outputs": [
    {
     "name": "stdout",
     "output_type": "stream",
     "text": [
      "Python is 64 bits\n",
      "/home/ec2-user/SageMaker/PFARM/iFinD/bin64\n",
      "/home/ec2-user/SageMaker/custom-miniconda/miniconda/envs/custom_python/lib/python3.6/site-packages/iFinDPy.pth\n",
      "Installed into\n",
      "/home/ec2-user/SageMaker/custom-miniconda/miniconda/envs/custom_python/lib/python3.6/site-packages\n",
      "OK!\n"
     ]
    }
   ],
   "source": [
    "from distutils.core import setup\n",
    "from distutils.core import Extension\n",
    "import platform\n",
    "import sys\n",
    "import os\n",
    "from distutils.sysconfig import get_python_lib\n",
    "\n",
    "\n",
    "def InstallPython():\n",
    "    \n",
    "    plate = platform.architecture()\n",
    "    strbit= plate[0]\n",
    "    iswin = 'Windows' in platform.system();\n",
    "    version=sys.version  \n",
    "    #print(version);\n",
    "    verss=version.split()[0].split('.');\n",
    "    ver=int(verss[0])+float(verss[1])/10;\n",
    "    bit=int(strbit.split('bit')[0]);\n",
    "\n",
    "    #if(len(sys.argv)<=1):\n",
    "        #print('No iFinDPy path!');\n",
    "        #return;\n",
    "    #print(sys.argv[1:])\n",
    "    \n",
    "    \n",
    "    srcpath=\"/home/ec2-user/SageMaker/PFARM/iFinD/\"    \n",
    "    #sitepath=\".\";\n",
    "    sitepath=get_python_lib();\n",
    "    if(bit==64 ):\n",
    "        print('Python is 64 bits')\n",
    "        srcpath=srcpath+\"bin64\"\n",
    "    else:\n",
    "        print('Python is 32 bits')\n",
    "        srcpath=srcpath+\"bin\"\n",
    "    if(iswin):\n",
    "        filepath=sitepath+\"\\\\iFinDPy.pth\"\n",
    "    else:\n",
    "        filepath=sitepath+\"/iFinDPy.pth\"\n",
    "    if(ver<2.6):\n",
    "        print('Error: Python version must be >=2.6!')\n",
    "        return;\n",
    "\n",
    "    print(srcpath);\n",
    "    print(filepath);\n",
    "    sitefile=open(filepath,'w');\n",
    "    sitefile.writelines(srcpath)\n",
    "    sitefile.close();\n",
    "    print('Installed into'),\n",
    "    print(sitepath),\n",
    "    print('OK!');\n",
    "\n",
    "\n",
    "InstallPython()"
   ]
  },
  {
   "cell_type": "code",
   "execution_count": null,
   "id": "f253b72d",
   "metadata": {},
   "outputs": [],
   "source": [
    "from iFinDPy import *\n",
    "THS_iFinDLogin('XXX','XXX')"
   ]
  }
 ],
 "metadata": {
  "kernelspec": {
   "display_name": "Custom (custom_python)",
   "language": "python",
   "name": "custom_python"
  },
  "language_info": {
   "codemirror_mode": {
    "name": "ipython",
    "version": 3
   },
   "file_extension": ".py",
   "mimetype": "text/x-python",
   "name": "python",
   "nbconvert_exporter": "python",
   "pygments_lexer": "ipython3",
   "version": "3.6.13"
  }
 },
 "nbformat": 4,
 "nbformat_minor": 5
}
