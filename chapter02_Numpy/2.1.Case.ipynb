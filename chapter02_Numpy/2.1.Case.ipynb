{
 "cells": [
  {
   "cell_type": "code",
   "execution_count": 1,
   "id": "666054ae",
   "metadata": {},
   "outputs": [],
   "source": [
    "##########################################################################\n",
    "# Created on Sat Otc 24 15:48:15 2021                                    #\n",
    "# Python for Financial Analysis and Risk Management                      #\n",
    "# @author: Meng Lipeng (FRM, CFA)                                        #\n",
    "##########################################################################"
   ]
  },
  {
   "cell_type": "code",
   "execution_count": 2,
   "id": "6d54b6be",
   "metadata": {},
   "outputs": [],
   "source": [
    "# Case\n",
    "# Calculate portfolio return"
   ]
  },
  {
   "cell_type": "markdown",
   "id": "2f36096d",
   "metadata": {},
   "source": [
    "$\\color{black} {Stock \\ Return \\ 2020/05/25 - 2020/05/29} \\\\\n",
    "\\begin{array}{|c|c|c|c|c|c|c|}\n",
    "\\hline\n",
    "\\text{Stock} & \\text{2020/05/25} & \\text{2020/05/26} & \\text{2020/05/27} & \\text{2020/05/28} & \\text{2020/05/29} & \\text{Weight} \\\\\n",
    "\\hline\n",
    "\\tt{CAST} & -3.5099\\% & 1.7230\\% & -0.3450\\% & -2.4551\\% & 3.9368\\% & 15\\% \\\\\n",
    "\\hline\n",
    "\\tt{CSS}  & -1.3892\\% & 2.4334\\%  & -3.3758\\% & 1.4622\\%  & 0.0128\\%  & 20\\% \\\\\n",
    "\\hline\n",
    "\\tt{BOC}  & 0.5848\\%  & -0.2907\\% & 0.5831\\%  & 0.5797\\%  & -0.5764\\% & 25\\% \\\\\n",
    "\\hline\n",
    "\\tt{SAIC} & 2.1242\\%  & 0.2133\\%  & -2.9803\\% & -0.2743\\% & -1.4301\\% & 40\\% \\\\\n",
    "\\hline\n",
    "\\end{array}$"
   ]
  },
  {
   "cell_type": "code",
   "execution_count": 6,
   "id": "d51a9242",
   "metadata": {},
   "outputs": [],
   "source": [
    "return_May25=[-0.035099,-0.013892,0.005848,0.021242]\n",
    "weight_list=[0.15,0.20,0.25,0.40]\n",
    "n=len(weight_list)"
   ]
  },
  {
   "cell_type": "code",
   "execution_count": 7,
   "id": "fd9c826b",
   "metadata": {},
   "outputs": [
    {
     "name": "stdout",
     "output_type": "stream",
     "text": [
      "Portfolio return of 2020/05/25:  0.001916\n"
     ]
    }
   ],
   "source": [
    "return_weight=[]\n",
    "for i in range(n):\n",
    "    return_weight.append(return_May25[i]*weight_list[i])\n",
    "return_port_May25=sum(return_weight)\n",
    "print('Portfolio return of 2020/05/25: ',round(return_port_May25,6))"
   ]
  },
  {
   "cell_type": "code",
   "execution_count": 8,
   "id": "da71694e",
   "metadata": {},
   "outputs": [
    {
     "data": {
      "text/plain": [
       "'1.19.5'"
      ]
     },
     "execution_count": 8,
     "metadata": {},
     "output_type": "execute_result"
    }
   ],
   "source": [
    "import numpy as np\n",
    "np.__version__"
   ]
  },
  {
   "cell_type": "code",
   "execution_count": null,
   "id": "6d4b228a",
   "metadata": {},
   "outputs": [],
   "source": []
  }
 ],
 "metadata": {
  "kernelspec": {
   "display_name": "Custom (custom_python)",
   "language": "python",
   "name": "custom_python"
  },
  "language_info": {
   "codemirror_mode": {
    "name": "ipython",
    "version": 3
   },
   "file_extension": ".py",
   "mimetype": "text/x-python",
   "name": "python",
   "nbconvert_exporter": "python",
   "pygments_lexer": "ipython3",
   "version": "3.6.13"
  }
 },
 "nbformat": 4,
 "nbformat_minor": 5
}
