{
 "cells": [
  {
   "cell_type": "code",
   "execution_count": 1,
   "id": "740be52a",
   "metadata": {},
   "outputs": [],
   "source": [
    "##########################################################################\n",
    "# Created on Sat Otc 24 16:39:25 2021                                    #\n",
    "# Python for Financial Analysis and Risk Management                      #\n",
    "# @author: Meng Lipeng (FRM, CFA)                                        #\n",
    "##########################################################################"
   ]
  },
  {
   "cell_type": "markdown",
   "id": "73a2558e",
   "metadata": {},
   "source": [
    "# 2.2.1.Structure of array"
   ]
  },
  {
   "cell_type": "markdown",
   "id": "dab8f1bd",
   "metadata": {},
   "source": [
    "## 1.Direct input"
   ]
  },
  {
   "cell_type": "code",
   "execution_count": 3,
   "id": "987124b4",
   "metadata": {},
   "outputs": [
    {
     "data": {
      "text/plain": [
       "numpy.ndarray"
      ]
     },
     "execution_count": 3,
     "metadata": {},
     "output_type": "execute_result"
    }
   ],
   "source": [
    "import numpy as np\n",
    "weight_array1=np.array([0.15, 0.2, 0.25, 0.4])\n",
    "type(weight_array1)"
   ]
  },
  {
   "cell_type": "code",
   "execution_count": 4,
   "id": "4447d638",
   "metadata": {},
   "outputs": [
    {
     "data": {
      "text/plain": [
       "(4,)"
      ]
     },
     "execution_count": 4,
     "metadata": {},
     "output_type": "execute_result"
    }
   ],
   "source": [
    "weight_array1.shape"
   ]
  },
  {
   "cell_type": "code",
   "execution_count": 8,
   "id": "d3fb2ad2",
   "metadata": {},
   "outputs": [],
   "source": [
    "return_array1=np.array([[-0.035099,0.017230,-0.003450,-0.024551,0.039368],\n",
    "                        [-0.013892,0.024334,-0.033758,0.014622,0.000128],\n",
    "                        [0.005848,-0.002907,0.005831,0.005797,-0.005764],\n",
    "                        [0.021242,0.002133,-0.029803,-0.002743,-0.014301]])"
   ]
  },
  {
   "cell_type": "code",
   "execution_count": 9,
   "id": "0e9590b3",
   "metadata": {},
   "outputs": [
    {
     "data": {
      "text/plain": [
       "array([[-0.035099,  0.01723 , -0.00345 , -0.024551,  0.039368],\n",
       "       [-0.013892,  0.024334, -0.033758,  0.014622,  0.000128],\n",
       "       [ 0.005848, -0.002907,  0.005831,  0.005797, -0.005764],\n",
       "       [ 0.021242,  0.002133, -0.029803, -0.002743, -0.014301]])"
      ]
     },
     "execution_count": 9,
     "metadata": {},
     "output_type": "execute_result"
    }
   ],
   "source": [
    "return_array1"
   ]
  },
  {
   "cell_type": "code",
   "execution_count": 7,
   "id": "34375b8a",
   "metadata": {},
   "outputs": [
    {
     "data": {
      "text/plain": [
       "(4, 5)"
      ]
     },
     "execution_count": 7,
     "metadata": {},
     "output_type": "execute_result"
    }
   ],
   "source": [
    "return_array1.shape"
   ]
  },
  {
   "cell_type": "markdown",
   "id": "454979ec",
   "metadata": {},
   "source": [
    "## 2.Transfer from list"
   ]
  },
  {
   "cell_type": "code",
   "execution_count": 10,
   "id": "a6000c04",
   "metadata": {},
   "outputs": [
    {
     "data": {
      "text/plain": [
       "array([0.15, 0.2 , 0.25, 0.4 ])"
      ]
     },
     "execution_count": 10,
     "metadata": {},
     "output_type": "execute_result"
    }
   ],
   "source": [
    "weight_list=[0.15,0.20,0.25,0.40]\n",
    "weight_array2=np.array(weight_list)\n",
    "weight_array2"
   ]
  },
  {
   "cell_type": "code",
   "execution_count": 11,
   "id": "33a94d79",
   "metadata": {},
   "outputs": [],
   "source": [
    "return_list=[-0.035099,0.017230,-0.003450,-0.024551,0.039368,-0.013892,0.024334,-0.033758,0.014622,0.000128,0.005848,-0.002907,0.005831,0.005797,-0.005764,0.021242,0.002133,-0.029803,-0.002743,-0.014301]"
   ]
  },
  {
   "cell_type": "code",
   "execution_count": 12,
   "id": "cdaebaf0",
   "metadata": {},
   "outputs": [
    {
     "data": {
      "text/plain": [
       "array([[-0.035099,  0.01723 , -0.00345 , -0.024551,  0.039368],\n",
       "       [-0.013892,  0.024334, -0.033758,  0.014622,  0.000128],\n",
       "       [ 0.005848, -0.002907,  0.005831,  0.005797, -0.005764],\n",
       "       [ 0.021242,  0.002133, -0.029803, -0.002743, -0.014301]])"
      ]
     },
     "execution_count": 12,
     "metadata": {},
     "output_type": "execute_result"
    }
   ],
   "source": [
    "return_array2=np.array(return_list).reshape(4,5)\n",
    "return_array2"
   ]
  },
  {
   "cell_type": "code",
   "execution_count": 13,
   "id": "f7776efe",
   "metadata": {},
   "outputs": [
    {
     "data": {
      "text/plain": [
       "array([-0.035099,  0.01723 , -0.00345 , -0.024551,  0.039368, -0.013892,\n",
       "        0.024334, -0.033758,  0.014622,  0.000128,  0.005848, -0.002907,\n",
       "        0.005831,  0.005797, -0.005764,  0.021242,  0.002133, -0.029803,\n",
       "       -0.002743, -0.014301])"
      ]
     },
     "execution_count": 13,
     "metadata": {},
     "output_type": "execute_result"
    }
   ],
   "source": [
    "return_array3=return_array2.ravel() #2dim array -> 1dim array\n",
    "return_array3"
   ]
  },
  {
   "cell_type": "markdown",
   "id": "52196ebd",
   "metadata": {},
   "source": [
    "## 3.Attribute"
   ]
  },
  {
   "cell_type": "code",
   "execution_count": 14,
   "id": "9d08e942",
   "metadata": {},
   "outputs": [],
   "source": [
    "# View the dimensions of an array"
   ]
  },
  {
   "cell_type": "code",
   "execution_count": 15,
   "id": "45a4665d",
   "metadata": {},
   "outputs": [
    {
     "data": {
      "text/plain": [
       "1"
      ]
     },
     "execution_count": 15,
     "metadata": {},
     "output_type": "execute_result"
    }
   ],
   "source": [
    "weight_array1.ndim"
   ]
  },
  {
   "cell_type": "code",
   "execution_count": 16,
   "id": "8f2f7ef7",
   "metadata": {},
   "outputs": [
    {
     "data": {
      "text/plain": [
       "2"
      ]
     },
     "execution_count": 16,
     "metadata": {},
     "output_type": "execute_result"
    }
   ],
   "source": [
    "return_array1.ndim"
   ]
  },
  {
   "cell_type": "code",
   "execution_count": 18,
   "id": "71b4789d",
   "metadata": {},
   "outputs": [],
   "source": [
    "# View the number of elements in an array"
   ]
  },
  {
   "cell_type": "code",
   "execution_count": 17,
   "id": "4a035cba",
   "metadata": {},
   "outputs": [
    {
     "data": {
      "text/plain": [
       "4"
      ]
     },
     "execution_count": 17,
     "metadata": {},
     "output_type": "execute_result"
    }
   ],
   "source": [
    "weight_array1.size"
   ]
  },
  {
   "cell_type": "code",
   "execution_count": 19,
   "id": "4a0c9bcc",
   "metadata": {},
   "outputs": [
    {
     "data": {
      "text/plain": [
       "20"
      ]
     },
     "execution_count": 19,
     "metadata": {},
     "output_type": "execute_result"
    }
   ],
   "source": [
    "return_array1.size"
   ]
  },
  {
   "cell_type": "code",
   "execution_count": 22,
   "id": "61e1ad67",
   "metadata": {},
   "outputs": [],
   "source": [
    "# View the type of elements in an array "
   ]
  },
  {
   "cell_type": "code",
   "execution_count": 20,
   "id": "c2d621a4",
   "metadata": {},
   "outputs": [
    {
     "data": {
      "text/plain": [
       "dtype('float64')"
      ]
     },
     "execution_count": 20,
     "metadata": {},
     "output_type": "execute_result"
    }
   ],
   "source": [
    "weight_array1.dtype"
   ]
  },
  {
   "cell_type": "code",
   "execution_count": 21,
   "id": "0c131513",
   "metadata": {},
   "outputs": [
    {
     "data": {
      "text/plain": [
       "dtype('float64')"
      ]
     },
     "execution_count": 21,
     "metadata": {},
     "output_type": "execute_result"
    }
   ],
   "source": [
    "return_array1.dtype"
   ]
  },
  {
   "cell_type": "markdown",
   "id": "75fdab1b",
   "metadata": {},
   "source": [
    "# 2.2.2.Special array"
   ]
  },
  {
   "cell_type": "markdown",
   "id": "c4402f5a",
   "metadata": {},
   "source": [
    "## 1.Integer sequence"
   ]
  },
  {
   "cell_type": "code",
   "execution_count": 24,
   "id": "92e2b205",
   "metadata": {},
   "outputs": [
    {
     "data": {
      "text/plain": [
       "array([0, 1, 2, 3, 4, 5, 6, 7, 8, 9])"
      ]
     },
     "execution_count": 24,
     "metadata": {},
     "output_type": "execute_result"
    }
   ],
   "source": [
    "a=np.arange(10)\n",
    "a"
   ]
  },
  {
   "cell_type": "code",
   "execution_count": 27,
   "id": "bae7b4b3",
   "metadata": {},
   "outputs": [
    {
     "data": {
      "text/plain": [
       "array([ 1,  4,  7, 10, 13, 16])"
      ]
     },
     "execution_count": 27,
     "metadata": {},
     "output_type": "execute_result"
    }
   ],
   "source": [
    "b=np.arange(1,18,3)\n",
    "b"
   ]
  },
  {
   "cell_type": "markdown",
   "id": "43c0eded",
   "metadata": {},
   "source": [
    "## 2.Arithmetic sequence"
   ]
  },
  {
   "cell_type": "code",
   "execution_count": 31,
   "id": "331dc4f7",
   "metadata": {},
   "outputs": [
    {
     "data": {
      "text/plain": [
       "array([  0.,   2.,   4.,   6.,   8.,  10.,  12.,  14.,  16.,  18.,  20.,\n",
       "        22.,  24.,  26.,  28.,  30.,  32.,  34.,  36.,  38.,  40.,  42.,\n",
       "        44.,  46.,  48.,  50.,  52.,  54.,  56.,  58.,  60.,  62.,  64.,\n",
       "        66.,  68.,  70.,  72.,  74.,  76.,  78.,  80.,  82.,  84.,  86.,\n",
       "        88.,  90.,  92.,  94.,  96.,  98., 100.])"
      ]
     },
     "execution_count": 31,
     "metadata": {},
     "output_type": "execute_result"
    }
   ],
   "source": [
    "c=np.linspace(0,100,51)\n",
    "c"
   ]
  },
  {
   "cell_type": "code",
   "execution_count": 32,
   "id": "155d1519",
   "metadata": {},
   "outputs": [
    {
     "data": {
      "text/plain": [
       "51"
      ]
     },
     "execution_count": 32,
     "metadata": {},
     "output_type": "execute_result"
    }
   ],
   "source": [
    "len(c)"
   ]
  },
  {
   "cell_type": "markdown",
   "id": "5742056d",
   "metadata": {},
   "source": [
    "## 3.Zero array"
   ]
  },
  {
   "cell_type": "code",
   "execution_count": 34,
   "id": "249115c4",
   "metadata": {},
   "outputs": [
    {
     "data": {
      "text/plain": [
       "array([0., 0., 0., 0., 0., 0., 0., 0.])"
      ]
     },
     "execution_count": 34,
     "metadata": {},
     "output_type": "execute_result"
    }
   ],
   "source": [
    "zero_array1=np.zeros(8)\n",
    "zero_array1"
   ]
  },
  {
   "cell_type": "code",
   "execution_count": 37,
   "id": "5e198fc5",
   "metadata": {},
   "outputs": [
    {
     "data": {
      "text/plain": [
       "array([[0., 0., 0., 0., 0., 0., 0.],\n",
       "       [0., 0., 0., 0., 0., 0., 0.],\n",
       "       [0., 0., 0., 0., 0., 0., 0.],\n",
       "       [0., 0., 0., 0., 0., 0., 0.],\n",
       "       [0., 0., 0., 0., 0., 0., 0.]])"
      ]
     },
     "execution_count": 37,
     "metadata": {},
     "output_type": "execute_result"
    }
   ],
   "source": [
    "zero_array2=np.zeros((5,7))\n",
    "zero_array2"
   ]
  },
  {
   "cell_type": "code",
   "execution_count": 38,
   "id": "1cbfb490",
   "metadata": {},
   "outputs": [
    {
     "data": {
      "text/plain": [
       "array([0., 0., 0., 0.])"
      ]
     },
     "execution_count": 38,
     "metadata": {},
     "output_type": "execute_result"
    }
   ],
   "source": [
    "zero_weight=np.zeros_like(weight_array1)\n",
    "zero_weight"
   ]
  },
  {
   "cell_type": "code",
   "execution_count": 39,
   "id": "70e2eedb",
   "metadata": {},
   "outputs": [
    {
     "data": {
      "text/plain": [
       "array([[0., 0., 0., 0., 0.],\n",
       "       [0., 0., 0., 0., 0.],\n",
       "       [0., 0., 0., 0., 0.],\n",
       "       [0., 0., 0., 0., 0.]])"
      ]
     },
     "execution_count": 39,
     "metadata": {},
     "output_type": "execute_result"
    }
   ],
   "source": [
    "zero_return=np.zeros_like(return_array1)\n",
    "zero_return"
   ]
  },
  {
   "cell_type": "markdown",
   "id": "c3c449cc",
   "metadata": {},
   "source": [
    "## 4.One array"
   ]
  },
  {
   "cell_type": "code",
   "execution_count": 40,
   "id": "0513c73a",
   "metadata": {},
   "outputs": [
    {
     "data": {
      "text/plain": [
       "array([1., 1., 1., 1.])"
      ]
     },
     "execution_count": 40,
     "metadata": {},
     "output_type": "execute_result"
    }
   ],
   "source": [
    "one_weight=np.ones_like(weight_array1)\n",
    "one_weight"
   ]
  },
  {
   "cell_type": "code",
   "execution_count": 41,
   "id": "00ad5825",
   "metadata": {},
   "outputs": [
    {
     "data": {
      "text/plain": [
       "array([[1., 1., 1., 1., 1.],\n",
       "       [1., 1., 1., 1., 1.],\n",
       "       [1., 1., 1., 1., 1.],\n",
       "       [1., 1., 1., 1., 1.]])"
      ]
     },
     "execution_count": 41,
     "metadata": {},
     "output_type": "execute_result"
    }
   ],
   "source": [
    "one_return=np.ones_like(return_array1)\n",
    "one_return"
   ]
  },
  {
   "cell_type": "markdown",
   "id": "21440b2b",
   "metadata": {},
   "source": [
    "## 5.Identity matrix"
   ]
  },
  {
   "cell_type": "code",
   "execution_count": 42,
   "id": "5d51532c",
   "metadata": {},
   "outputs": [
    {
     "data": {
      "text/plain": [
       "array([[1., 0., 0., 0., 0., 0.],\n",
       "       [0., 1., 0., 0., 0., 0.],\n",
       "       [0., 0., 1., 0., 0., 0.],\n",
       "       [0., 0., 0., 1., 0., 0.],\n",
       "       [0., 0., 0., 0., 1., 0.],\n",
       "       [0., 0., 0., 0., 0., 1.]])"
      ]
     },
     "execution_count": 42,
     "metadata": {},
     "output_type": "execute_result"
    }
   ],
   "source": [
    "d=np.eye(6)\n",
    "d"
   ]
  },
  {
   "cell_type": "code",
   "execution_count": null,
   "id": "3c1536ca",
   "metadata": {},
   "outputs": [],
   "source": []
  }
 ],
 "metadata": {
  "kernelspec": {
   "display_name": "Custom (custom_python)",
   "language": "python",
   "name": "custom_python"
  },
  "language_info": {
   "codemirror_mode": {
    "name": "ipython",
    "version": 3
   },
   "file_extension": ".py",
   "mimetype": "text/x-python",
   "name": "python",
   "nbconvert_exporter": "python",
   "pygments_lexer": "ipython3",
   "version": "3.6.13"
  }
 },
 "nbformat": 4,
 "nbformat_minor": 5
}
