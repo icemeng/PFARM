{
 "cells": [
  {
   "cell_type": "code",
   "execution_count": 1,
   "id": "8e38f22e",
   "metadata": {},
   "outputs": [],
   "source": [
    "##########################################################################\n",
    "# Created on Sat Otc 24 22:12:35 2021                                    #\n",
    "# Python for Financial Analysis and Risk Management                      #\n",
    "# @author: Meng Lipeng (FRM, CFA)                                        #\n",
    "##########################################################################"
   ]
  },
  {
   "cell_type": "markdown",
   "id": "a8a0ef51",
   "metadata": {},
   "source": [
    "# 2.4.1.Intra array operation"
   ]
  },
  {
   "cell_type": "markdown",
   "id": "fb41b195",
   "metadata": {},
   "source": [
    "## 1.Sum"
   ]
  },
  {
   "cell_type": "code",
   "execution_count": 2,
   "id": "95bebd27",
   "metadata": {},
   "outputs": [],
   "source": [
    "import numpy as np\n",
    "return_array1=np.array([[-0.035099,0.017230,-0.003450,-0.024551,0.039368],\n",
    "                        [-0.013892,0.024334,-0.033758,0.014622,0.000128],\n",
    "                        [0.005848,-0.002907,0.005831,0.005797,-0.005764],\n",
    "                        [0.021242,0.002133,-0.029803,-0.002743,-0.014301]])"
   ]
  },
  {
   "cell_type": "code",
   "execution_count": 3,
   "id": "7042ce40",
   "metadata": {},
   "outputs": [
    {
     "data": {
      "text/plain": [
       "array([-0.021901,  0.04079 , -0.06118 , -0.006875,  0.019431])"
      ]
     },
     "execution_count": 3,
     "metadata": {},
     "output_type": "execute_result"
    }
   ],
   "source": [
    "return_array1.sum(axis=0) # sum by column"
   ]
  },
  {
   "cell_type": "code",
   "execution_count": 4,
   "id": "681a0448",
   "metadata": {},
   "outputs": [
    {
     "data": {
      "text/plain": [
       "array([-0.006502, -0.008566,  0.008805, -0.023472])"
      ]
     },
     "execution_count": 4,
     "metadata": {},
     "output_type": "execute_result"
    }
   ],
   "source": [
    "return_array1.sum(axis=1) # sum by row"
   ]
  },
  {
   "cell_type": "code",
   "execution_count": 5,
   "id": "eec254a9",
   "metadata": {},
   "outputs": [
    {
     "data": {
      "text/plain": [
       "-0.029734999999999998"
      ]
     },
     "execution_count": 5,
     "metadata": {},
     "output_type": "execute_result"
    }
   ],
   "source": [
    "return_array1.sum() # sum all elements"
   ]
  },
  {
   "cell_type": "markdown",
   "id": "c5b69379",
   "metadata": {},
   "source": [
    "## 2.Product"
   ]
  },
  {
   "cell_type": "code",
   "execution_count": 6,
   "id": "f0a8e813",
   "metadata": {},
   "outputs": [
    {
     "data": {
      "text/plain": [
       "array([ 6.05706573e-08, -2.59976845e-09, -2.02394557e-08,  5.70827745e-09,\n",
       "        4.15378200e-10])"
      ]
     },
     "execution_count": 6,
     "metadata": {},
     "output_type": "execute_result"
    }
   ],
   "source": [
    "return_array1.prod(axis=0) # prod by column"
   ]
  },
  {
   "cell_type": "code",
   "execution_count": 7,
   "id": "7e61a5d4",
   "metadata": {},
   "outputs": [
    {
     "data": {
      "text/plain": [
       "array([-2.01656235e-09,  2.13585486e-11,  3.31224696e-12, -5.29710348e-11])"
      ]
     },
     "execution_count": 7,
     "metadata": {},
     "output_type": "execute_result"
    }
   ],
   "source": [
    "return_array1.prod(axis=1) # prod by row"
   ]
  },
  {
   "cell_type": "code",
   "execution_count": 8,
   "id": "b4d27242",
   "metadata": {},
   "outputs": [
    {
     "data": {
      "text/plain": [
       "7.556915345169367e-42"
      ]
     },
     "execution_count": 8,
     "metadata": {},
     "output_type": "execute_result"
    }
   ],
   "source": [
    "return_array1.prod() # prod all elements"
   ]
  },
  {
   "cell_type": "markdown",
   "id": "587786d4",
   "metadata": {},
   "source": [
    "## 3.Extremum"
   ]
  },
  {
   "cell_type": "code",
   "execution_count": 9,
   "id": "3b86c4d4",
   "metadata": {},
   "outputs": [
    {
     "data": {
      "text/plain": [
       "array([0.021242, 0.024334, 0.005831, 0.014622, 0.039368])"
      ]
     },
     "execution_count": 9,
     "metadata": {},
     "output_type": "execute_result"
    }
   ],
   "source": [
    "return_array1.max(axis=0) # max by column"
   ]
  },
  {
   "cell_type": "code",
   "execution_count": 11,
   "id": "f86b9656",
   "metadata": {},
   "outputs": [
    {
     "data": {
      "text/plain": [
       "array([0.039368, 0.024334, 0.005848, 0.021242])"
      ]
     },
     "execution_count": 11,
     "metadata": {},
     "output_type": "execute_result"
    }
   ],
   "source": [
    "return_array1.max(axis=1) # max by row"
   ]
  },
  {
   "cell_type": "code",
   "execution_count": 10,
   "id": "89733362",
   "metadata": {},
   "outputs": [
    {
     "data": {
      "text/plain": [
       "0.039368"
      ]
     },
     "execution_count": 10,
     "metadata": {},
     "output_type": "execute_result"
    }
   ],
   "source": [
    "return_array1.max() # max all elements"
   ]
  },
  {
   "cell_type": "code",
   "execution_count": 12,
   "id": "465e2d36",
   "metadata": {},
   "outputs": [
    {
     "data": {
      "text/plain": [
       "array([-0.035099, -0.002907, -0.033758, -0.024551, -0.014301])"
      ]
     },
     "execution_count": 12,
     "metadata": {},
     "output_type": "execute_result"
    }
   ],
   "source": [
    "return_array1.min(axis=0) # min by column"
   ]
  },
  {
   "cell_type": "code",
   "execution_count": 13,
   "id": "15983c88",
   "metadata": {},
   "outputs": [
    {
     "data": {
      "text/plain": [
       "array([-0.035099, -0.033758, -0.005764, -0.029803])"
      ]
     },
     "execution_count": 13,
     "metadata": {},
     "output_type": "execute_result"
    }
   ],
   "source": [
    "return_array1.min(axis=1) # min by row"
   ]
  },
  {
   "cell_type": "code",
   "execution_count": 14,
   "id": "653e6559",
   "metadata": {},
   "outputs": [
    {
     "data": {
      "text/plain": [
       "-0.035099"
      ]
     },
     "execution_count": 14,
     "metadata": {},
     "output_type": "execute_result"
    }
   ],
   "source": [
    "return_array1.min() # min all elements"
   ]
  },
  {
   "cell_type": "markdown",
   "id": "f2e2064e",
   "metadata": {},
   "source": [
    "## 4.Mean"
   ]
  },
  {
   "cell_type": "code",
   "execution_count": 15,
   "id": "7519cb61",
   "metadata": {},
   "outputs": [
    {
     "data": {
      "text/plain": [
       "array([-0.00547525,  0.0101975 , -0.015295  , -0.00171875,  0.00485775])"
      ]
     },
     "execution_count": 15,
     "metadata": {},
     "output_type": "execute_result"
    }
   ],
   "source": [
    "return_array1.mean(axis=0) # mean by column"
   ]
  },
  {
   "cell_type": "code",
   "execution_count": 16,
   "id": "43e4617f",
   "metadata": {},
   "outputs": [
    {
     "data": {
      "text/plain": [
       "array([-0.0013004, -0.0017132,  0.001761 , -0.0046944])"
      ]
     },
     "execution_count": 16,
     "metadata": {},
     "output_type": "execute_result"
    }
   ],
   "source": [
    "return_array1.mean(axis=1) # mean by row"
   ]
  },
  {
   "cell_type": "code",
   "execution_count": 17,
   "id": "a300a44f",
   "metadata": {},
   "outputs": [
    {
     "data": {
      "text/plain": [
       "-0.0014867499999999998"
      ]
     },
     "execution_count": 17,
     "metadata": {},
     "output_type": "execute_result"
    }
   ],
   "source": [
    "return_array1.mean() # mean all elements"
   ]
  },
  {
   "cell_type": "markdown",
   "id": "ca7677e6",
   "metadata": {},
   "source": [
    "## 5.Variance"
   ]
  },
  {
   "cell_type": "code",
   "execution_count": 18,
   "id": "927aca7c",
   "metadata": {},
   "outputs": [
    {
     "data": {
      "text/plain": [
       "array([0.00044761, 0.00012152, 0.00028449, 0.00021147, 0.0004233 ])"
      ]
     },
     "execution_count": 18,
     "metadata": {},
     "output_type": "execute_result"
    }
   ],
   "source": [
    "return_array1.var(axis=0) # var by column"
   ]
  },
  {
   "cell_type": "code",
   "execution_count": 19,
   "id": "b9bfac3c",
   "metadata": {},
   "outputs": [
    {
     "data": {
      "text/plain": [
       "array([7.36970205e-04, 4.24775556e-04, 2.55947228e-05, 2.89169351e-04])"
      ]
     },
     "execution_count": 19,
     "metadata": {},
     "output_type": "execute_result"
    }
   ],
   "source": [
    "return_array1.var(axis=1) # var by row"
   ]
  },
  {
   "cell_type": "code",
   "execution_count": 20,
   "id": "4bd55676",
   "metadata": {},
   "outputs": [
    {
     "data": {
      "text/plain": [
       "0.0003743581848875"
      ]
     },
     "execution_count": 20,
     "metadata": {},
     "output_type": "execute_result"
    }
   ],
   "source": [
    "return_array1.var() # var all elements"
   ]
  },
  {
   "cell_type": "code",
   "execution_count": 21,
   "id": "08989534",
   "metadata": {},
   "outputs": [
    {
     "data": {
      "text/plain": [
       "array([0.02115677, 0.01102339, 0.01686695, 0.0145419 , 0.0205743 ])"
      ]
     },
     "execution_count": 21,
     "metadata": {},
     "output_type": "execute_result"
    }
   ],
   "source": [
    "return_array1.std(axis=0) # std by column"
   ]
  },
  {
   "cell_type": "code",
   "execution_count": 22,
   "id": "71c2e914",
   "metadata": {},
   "outputs": [
    {
     "data": {
      "text/plain": [
       "array([0.0271472 , 0.02061008, 0.00505912, 0.01700498])"
      ]
     },
     "execution_count": 22,
     "metadata": {},
     "output_type": "execute_result"
    }
   ],
   "source": [
    "return_array1.std(axis=1) # std by row"
   ]
  },
  {
   "cell_type": "code",
   "execution_count": 23,
   "id": "72eff8ae",
   "metadata": {},
   "outputs": [
    {
     "data": {
      "text/plain": [
       "0.019348338039415686"
      ]
     },
     "execution_count": 23,
     "metadata": {},
     "output_type": "execute_result"
    }
   ],
   "source": [
    "return_array1.std() # std all elements"
   ]
  },
  {
   "cell_type": "markdown",
   "id": "fadae5be",
   "metadata": {},
   "source": [
    "## 6.Power"
   ]
  },
  {
   "cell_type": "code",
   "execution_count": 24,
   "id": "d12479f0",
   "metadata": {},
   "outputs": [
    {
     "name": "stderr",
     "output_type": "stream",
     "text": [
      "/home/ec2-user/SageMaker/custom-miniconda/miniconda/envs/custom_python/lib/python3.6/site-packages/ipykernel_launcher.py:1: RuntimeWarning: invalid value encountered in sqrt\n",
      "  \"\"\"Entry point for launching an IPython kernel.\n"
     ]
    },
    {
     "data": {
      "text/plain": [
       "array([[       nan, 0.13126309,        nan,        nan, 0.19841371],\n",
       "       [       nan, 0.15599359,        nan, 0.12092146, 0.01131371],\n",
       "       [0.07647222,        nan, 0.07636098, 0.07613803,        nan],\n",
       "       [0.14574636, 0.04618441,        nan,        nan,        nan]])"
      ]
     },
     "execution_count": 24,
     "metadata": {},
     "output_type": "execute_result"
    }
   ],
   "source": [
    "np.sqrt(return_array1) #sqrt every elements"
   ]
  },
  {
   "cell_type": "code",
   "execution_count": 25,
   "id": "3af170da",
   "metadata": {},
   "outputs": [
    {
     "data": {
      "text/plain": [
       "array([[1.23193980e-03, 2.96872900e-04, 1.19025000e-05, 6.02751601e-04,\n",
       "        1.54983942e-03],\n",
       "       [1.92987664e-04, 5.92143556e-04, 1.13960256e-03, 2.13802884e-04,\n",
       "        1.63840000e-08],\n",
       "       [3.41991040e-05, 8.45064900e-06, 3.40005610e-05, 3.36052090e-05,\n",
       "        3.32236960e-05],\n",
       "       [4.51222564e-04, 4.54968900e-06, 8.88218809e-04, 7.52404900e-06,\n",
       "        2.04518601e-04]])"
      ]
     },
     "execution_count": 25,
     "metadata": {},
     "output_type": "execute_result"
    }
   ],
   "source": [
    "np.square(return_array1) #square every elements"
   ]
  },
  {
   "cell_type": "code",
   "execution_count": 26,
   "id": "ce149c1a",
   "metadata": {},
   "outputs": [
    {
     "data": {
      "text/plain": [
       "array([[0.96550983, 1.01737929, 0.99655594, 0.97574792, 1.04015319],\n",
       "       [0.98620405, 1.02463249, 0.96680544, 1.01472942, 1.00012801],\n",
       "       [1.00586513, 0.99709722, 1.00584803, 1.00581384, 0.99425258],\n",
       "       [1.02146922, 1.00213528, 0.97063673, 0.99726076, 0.98580077]])"
      ]
     },
     "execution_count": 26,
     "metadata": {},
     "output_type": "execute_result"
    }
   ],
   "source": [
    "np.exp(return_array1) #exp every elements"
   ]
  },
  {
   "cell_type": "markdown",
   "id": "afcfee0d",
   "metadata": {},
   "source": [
    "## 7.Log"
   ]
  },
  {
   "cell_type": "code",
   "execution_count": 27,
   "id": "36ca5243",
   "metadata": {},
   "outputs": [
    {
     "name": "stderr",
     "output_type": "stream",
     "text": [
      "/home/ec2-user/SageMaker/custom-miniconda/miniconda/envs/custom_python/lib/python3.6/site-packages/ipykernel_launcher.py:1: RuntimeWarning: invalid value encountered in log\n",
      "  \"\"\"Entry point for launching an IPython kernel.\n"
     ]
    },
    {
     "data": {
      "text/plain": [
       "array([[        nan, -4.06110323,         nan,         nan, -3.23480198],\n",
       "       [        nan, -3.71588073,         nan, -4.22522804, -8.96348029],\n",
       "       [-5.14165556,         nan, -5.14456677, -5.15041474,         nan],\n",
       "       [-3.85177493, -6.15022584,         nan,         nan,         nan]])"
      ]
     },
     "execution_count": 27,
     "metadata": {},
     "output_type": "execute_result"
    }
   ],
   "source": [
    "np.log(return_array1) #ln(x)"
   ]
  },
  {
   "cell_type": "code",
   "execution_count": 28,
   "id": "41c61061",
   "metadata": {},
   "outputs": [
    {
     "name": "stderr",
     "output_type": "stream",
     "text": [
      "/home/ec2-user/SageMaker/custom-miniconda/miniconda/envs/custom_python/lib/python3.6/site-packages/ipykernel_launcher.py:1: RuntimeWarning: invalid value encountered in log2\n",
      "  \"\"\"Entry point for launching an IPython kernel.\n"
     ]
    },
    {
     "data": {
      "text/plain": [
       "array([[         nan,  -5.85893349,          nan,          nan,\n",
       "         -4.66683277],\n",
       "       [         nan,  -5.3608827 ,          nan,  -6.09571553,\n",
       "        -12.93156857],\n",
       "       [ -7.41784097,          nan,  -7.42204096,  -7.4304778 ,\n",
       "                 nan],\n",
       "       [ -5.55693658,  -8.87290032,          nan,          nan,\n",
       "                 nan]])"
      ]
     },
     "execution_count": 28,
     "metadata": {},
     "output_type": "execute_result"
    }
   ],
   "source": [
    "np.log2(return_array1) #log2(x)"
   ]
  },
  {
   "cell_type": "code",
   "execution_count": 29,
   "id": "a9ac050f",
   "metadata": {},
   "outputs": [
    {
     "name": "stderr",
     "output_type": "stream",
     "text": [
      "/home/ec2-user/SageMaker/custom-miniconda/miniconda/envs/custom_python/lib/python3.6/site-packages/ipykernel_launcher.py:1: RuntimeWarning: invalid value encountered in log10\n",
      "  \"\"\"Entry point for launching an IPython kernel.\n"
     ]
    },
    {
     "data": {
      "text/plain": [
       "array([[        nan, -1.76371472,         nan,         nan, -1.40485665],\n",
       "       [        nan, -1.6137865 ,         nan, -1.83499322, -3.89279003],\n",
       "       [-2.23299264,         nan, -2.23425696, -2.2367967 ,         nan],\n",
       "       [-1.6728046 , -2.67100914,         nan,         nan,         nan]])"
      ]
     },
     "execution_count": 29,
     "metadata": {},
     "output_type": "execute_result"
    }
   ],
   "source": [
    "np.log10(return_array1) #log10(x)"
   ]
  },
  {
   "cell_type": "code",
   "execution_count": 30,
   "id": "81ae2acb",
   "metadata": {},
   "outputs": [
    {
     "data": {
      "text/plain": [
       "array([[-0.03572977,  0.01708325, -0.00345596, -0.0248574 ,  0.03861284],\n",
       "       [-0.0139894 ,  0.02404265, -0.03434096,  0.01451613,  0.00012799],\n",
       "       [ 0.00583097, -0.00291123,  0.00581407,  0.00578026, -0.00578068],\n",
       "       [ 0.02101953,  0.00213073, -0.03025614, -0.00274677, -0.01440424]])"
      ]
     },
     "execution_count": 30,
     "metadata": {},
     "output_type": "execute_result"
    }
   ],
   "source": [
    "np.log1p(return_array1) #ln(1+x)"
   ]
  },
  {
   "cell_type": "markdown",
   "id": "3333a605",
   "metadata": {},
   "source": [
    "# 2.4.2.Inter array operation"
   ]
  },
  {
   "cell_type": "code",
   "execution_count": 31,
   "id": "ccfcaac1",
   "metadata": {},
   "outputs": [
    {
     "data": {
      "text/plain": [
       "array([[1., 1., 1., 1., 1.],\n",
       "       [1., 1., 1., 1., 1.],\n",
       "       [1., 1., 1., 1., 1.],\n",
       "       [1., 1., 1., 1., 1.]])"
      ]
     },
     "execution_count": 31,
     "metadata": {},
     "output_type": "execute_result"
    }
   ],
   "source": [
    "one_return=np.ones_like(return_array1)\n",
    "one_return"
   ]
  },
  {
   "cell_type": "code",
   "execution_count": 32,
   "id": "ec01bac3",
   "metadata": {},
   "outputs": [
    {
     "data": {
      "text/plain": [
       "array([[0.964901, 1.01723 , 0.99655 , 0.975449, 1.039368],\n",
       "       [0.986108, 1.024334, 0.966242, 1.014622, 1.000128],\n",
       "       [1.005848, 0.997093, 1.005831, 1.005797, 0.994236],\n",
       "       [1.021242, 1.002133, 0.970197, 0.997257, 0.985699]])"
      ]
     },
     "execution_count": 32,
     "metadata": {},
     "output_type": "execute_result"
    }
   ],
   "source": [
    "new_array1=return_array1+one_return #sum 2-dim array\n",
    "new_array1"
   ]
  },
  {
   "cell_type": "code",
   "execution_count": 33,
   "id": "d71c9614",
   "metadata": {},
   "outputs": [
    {
     "data": {
      "text/plain": [
       "array([[-1.035099, -0.98277 , -1.00345 , -1.024551, -0.960632],\n",
       "       [-1.013892, -0.975666, -1.033758, -0.985378, -0.999872],\n",
       "       [-0.994152, -1.002907, -0.994169, -0.994203, -1.005764],\n",
       "       [-0.978758, -0.997867, -1.029803, -1.002743, -1.014301]])"
      ]
     },
     "execution_count": 33,
     "metadata": {},
     "output_type": "execute_result"
    }
   ],
   "source": [
    "new_array2=return_array1-one_return #minus 2-dim array\n",
    "new_array2"
   ]
  },
  {
   "cell_type": "code",
   "execution_count": 34,
   "id": "a87aaf83",
   "metadata": {},
   "outputs": [
    {
     "data": {
      "text/plain": [
       "array([[-0.99876806, -0.99970313, -0.9999881 , -0.99939725, -0.99845016],\n",
       "       [-0.99980701, -0.99940786, -0.9988604 , -0.9997862 , -0.99999998],\n",
       "       [-0.9999658 , -0.99999155, -0.999966  , -0.99996639, -0.99996678],\n",
       "       [-0.99954878, -0.99999545, -0.99911178, -0.99999248, -0.99979548]])"
      ]
     },
     "execution_count": 34,
     "metadata": {},
     "output_type": "execute_result"
    }
   ],
   "source": [
    "new_array3=new_array1*new_array2 #multiple 2-dim array\n",
    "new_array3"
   ]
  },
  {
   "cell_type": "code",
   "execution_count": 35,
   "id": "b9c582fe",
   "metadata": {},
   "outputs": [
    {
     "data": {
      "text/plain": [
       "array([[-0.93218233, -1.03506416, -0.99312372, -0.95207462, -1.08196271],\n",
       "       [-0.97259669, -1.04988182, -0.93468878, -1.02967795, -1.00025603],\n",
       "       [-1.0117648 , -0.99420285, -1.0117304 , -1.0116616 , -0.98853807],\n",
       "       [-1.04340603, -1.00427512, -0.94211903, -0.99452901, -0.97180127]])"
      ]
     },
     "execution_count": 35,
     "metadata": {},
     "output_type": "execute_result"
    }
   ],
   "source": [
    "new_array4=new_array1/new_array2 #divide 2-dim array\n",
    "new_array4"
   ]
  },
  {
   "cell_type": "code",
   "execution_count": 36,
   "id": "901a28a7",
   "metadata": {},
   "outputs": [
    {
     "data": {
      "text/plain": [
       "array([[1.03767627, 0.98335125, 1.00347391, 1.02579475, 0.96358678],\n",
       "       [1.0142848 , 0.9768154 , 1.0361379 , 0.98579794, 0.99987203],\n",
       "       [0.9942199 , 1.00292396, 0.99423651, 0.99426973, 1.00583093],\n",
       "       [0.97963714, 0.99787608, 1.03164835, 1.0027581 , 1.01471749]])"
      ]
     },
     "execution_count": 36,
     "metadata": {},
     "output_type": "execute_result"
    }
   ],
   "source": [
    "new_array5=new_array1**new_array2 #pow 2-dim array\n",
    "new_array5"
   ]
  },
  {
   "cell_type": "code",
   "execution_count": 37,
   "id": "eb2df1ca",
   "metadata": {},
   "outputs": [
    {
     "data": {
      "text/plain": [
       "array([[1.03767627, 0.98335125, 1.00347391, 1.02579475, 0.96358678],\n",
       "       [1.0142848 , 0.9768154 , 1.0361379 , 0.98579794, 0.99987203],\n",
       "       [0.9942199 , 1.00292396, 0.99423651, 0.99426973, 1.00583093],\n",
       "       [0.97963714, 0.99787608, 1.03164835, 1.0027581 , 1.01471749]])"
      ]
     },
     "execution_count": 37,
     "metadata": {},
     "output_type": "execute_result"
    }
   ],
   "source": [
    "new_array6=pow(new_array1,new_array2) #pow 2-dim array using pow function\n",
    "new_array6"
   ]
  },
  {
   "cell_type": "code",
   "execution_count": 38,
   "id": "2cb7f7cc",
   "metadata": {},
   "outputs": [
    {
     "data": {
      "text/plain": [
       "array([[2.03767627, 0.98335125, 2.00347391, 1.02579475, 1.96358678],\n",
       "       [2.0142848 , 0.9768154 , 2.0361379 , 0.98579794, 1.99987203],\n",
       "       [1.9942199 , 1.00292396, 1.99423651, 0.99426973, 2.00583093],\n",
       "       [1.97963714, 0.99787608, 2.03164835, 1.0027581 , 2.01471749]])"
      ]
     },
     "execution_count": 38,
     "metadata": {},
     "output_type": "execute_result"
    }
   ],
   "source": [
    "new_array7=new_array6+np.array([1,0,1,0,1]) #add 2-dim array with 1-dim array\n",
    "new_array7"
   ]
  },
  {
   "cell_type": "code",
   "execution_count": 39,
   "id": "55267077",
   "metadata": {},
   "outputs": [
    {
     "data": {
      "text/plain": [
       "array([[0.964901, 1.01723 , 0.99655 , 0.975449, 1.039368],\n",
       "       [0.986108, 1.024334, 0.966242, 1.014622, 1.000128],\n",
       "       [1.005848, 0.997093, 1.005831, 1.005797, 0.994236],\n",
       "       [1.021242, 1.002133, 0.970197, 0.997257, 0.985699]])"
      ]
     },
     "execution_count": 39,
     "metadata": {},
     "output_type": "execute_result"
    }
   ],
   "source": [
    "new_array8=return_array1+1 #plus 1 with all elements\n",
    "new_array8"
   ]
  },
  {
   "cell_type": "code",
   "execution_count": 40,
   "id": "0283ffad",
   "metadata": {},
   "outputs": [
    {
     "data": {
      "text/plain": [
       "array([[-1.035099, -0.98277 , -1.00345 , -1.024551, -0.960632],\n",
       "       [-1.013892, -0.975666, -1.033758, -0.985378, -0.999872],\n",
       "       [-0.994152, -1.002907, -0.994169, -0.994203, -1.005764],\n",
       "       [-0.978758, -0.997867, -1.029803, -1.002743, -1.014301]])"
      ]
     },
     "execution_count": 40,
     "metadata": {},
     "output_type": "execute_result"
    }
   ],
   "source": [
    "new_array9=return_array1-1 #minus 1 with all elements\n",
    "new_array9"
   ]
  },
  {
   "cell_type": "code",
   "execution_count": 41,
   "id": "c965cbf0",
   "metadata": {},
   "outputs": [
    {
     "data": {
      "text/plain": [
       "array([[-0.070198,  0.03446 , -0.0069  , -0.049102,  0.078736],\n",
       "       [-0.027784,  0.048668, -0.067516,  0.029244,  0.000256],\n",
       "       [ 0.011696, -0.005814,  0.011662,  0.011594, -0.011528],\n",
       "       [ 0.042484,  0.004266, -0.059606, -0.005486, -0.028602]])"
      ]
     },
     "execution_count": 41,
     "metadata": {},
     "output_type": "execute_result"
    }
   ],
   "source": [
    "new_array10=return_array1*2 #multiple 2 with all elements\n",
    "new_array10"
   ]
  },
  {
   "cell_type": "code",
   "execution_count": 42,
   "id": "96d6a64f",
   "metadata": {},
   "outputs": [
    {
     "data": {
      "text/plain": [
       "array([[-1.75495e-02,  8.61500e-03, -1.72500e-03, -1.22755e-02,\n",
       "         1.96840e-02],\n",
       "       [-6.94600e-03,  1.21670e-02, -1.68790e-02,  7.31100e-03,\n",
       "         6.40000e-05],\n",
       "       [ 2.92400e-03, -1.45350e-03,  2.91550e-03,  2.89850e-03,\n",
       "        -2.88200e-03],\n",
       "       [ 1.06210e-02,  1.06650e-03, -1.49015e-02, -1.37150e-03,\n",
       "        -7.15050e-03]])"
      ]
     },
     "execution_count": 42,
     "metadata": {},
     "output_type": "execute_result"
    }
   ],
   "source": [
    "new_array11=return_array1/2 #divide 2 with all elements\n",
    "new_array11"
   ]
  },
  {
   "cell_type": "code",
   "execution_count": 43,
   "id": "7d7df4c0",
   "metadata": {},
   "outputs": [
    {
     "data": {
      "text/plain": [
       "array([[1.23193980e-03, 2.96872900e-04, 1.19025000e-05, 6.02751601e-04,\n",
       "        1.54983942e-03],\n",
       "       [1.92987664e-04, 5.92143556e-04, 1.13960256e-03, 2.13802884e-04,\n",
       "        1.63840000e-08],\n",
       "       [3.41991040e-05, 8.45064900e-06, 3.40005610e-05, 3.36052090e-05,\n",
       "        3.32236960e-05],\n",
       "       [4.51222564e-04, 4.54968900e-06, 8.88218809e-04, 7.52404900e-06,\n",
       "        2.04518601e-04]])"
      ]
     },
     "execution_count": 43,
     "metadata": {},
     "output_type": "execute_result"
    }
   ],
   "source": [
    "new_array12=return_array1**2 #square all elements\n",
    "new_array12"
   ]
  },
  {
   "cell_type": "code",
   "execution_count": 45,
   "id": "b8fe45af",
   "metadata": {},
   "outputs": [
    {
     "data": {
      "text/plain": [
       "array([[1.23193980e-03, 2.96872900e-04, 1.19025000e-05, 6.02751601e-04,\n",
       "        1.54983942e-03],\n",
       "       [1.92987664e-04, 5.92143556e-04, 1.13960256e-03, 2.13802884e-04,\n",
       "        1.63840000e-08],\n",
       "       [3.41991040e-05, 8.45064900e-06, 3.40005610e-05, 3.36052090e-05,\n",
       "        3.32236960e-05],\n",
       "       [4.51222564e-04, 4.54968900e-06, 8.88218809e-04, 7.52404900e-06,\n",
       "        2.04518601e-04]])"
      ]
     },
     "execution_count": 45,
     "metadata": {},
     "output_type": "execute_result"
    }
   ],
   "source": [
    "new_array13=pow(return_array1,2) #square all elements using pow function\n",
    "new_array13"
   ]
  },
  {
   "cell_type": "code",
   "execution_count": 46,
   "id": "e679de1b",
   "metadata": {},
   "outputs": [
    {
     "data": {
      "text/plain": [
       "array([[0., 0., 0., 0., 0.],\n",
       "       [0., 0., 0., 0., 0.],\n",
       "       [0., 0., 0., 0., 0.],\n",
       "       [0., 0., 0., 0., 0.]])"
      ]
     },
     "execution_count": 46,
     "metadata": {},
     "output_type": "execute_result"
    }
   ],
   "source": [
    "zero_return=np.zeros_like(return_array1)\n",
    "zero_return"
   ]
  },
  {
   "cell_type": "code",
   "execution_count": 47,
   "id": "c4fa6e5e",
   "metadata": {},
   "outputs": [
    {
     "data": {
      "text/plain": [
       "array([[0.      , 0.01723 , 0.      , 0.      , 0.039368],\n",
       "       [0.      , 0.024334, 0.      , 0.014622, 0.000128],\n",
       "       [0.005848, 0.      , 0.005831, 0.005797, 0.      ],\n",
       "       [0.021242, 0.002133, 0.      , 0.      , 0.      ]])"
      ]
     },
     "execution_count": 47,
     "metadata": {},
     "output_type": "execute_result"
    }
   ],
   "source": [
    "return_max=np.maximum(return_array1,zero_return)\n",
    "return_max"
   ]
  },
  {
   "cell_type": "code",
   "execution_count": 48,
   "id": "b6a6adae",
   "metadata": {},
   "outputs": [
    {
     "data": {
      "text/plain": [
       "array([[-0.035099,  0.      , -0.00345 , -0.024551,  0.      ],\n",
       "       [-0.013892,  0.      , -0.033758,  0.      ,  0.      ],\n",
       "       [ 0.      , -0.002907,  0.      ,  0.      , -0.005764],\n",
       "       [ 0.      ,  0.      , -0.029803, -0.002743, -0.014301]])"
      ]
     },
     "execution_count": 48,
     "metadata": {},
     "output_type": "execute_result"
    }
   ],
   "source": [
    "return_min=np.minimum(return_array1,zero_return)\n",
    "return_min"
   ]
  },
  {
   "cell_type": "markdown",
   "id": "585e0f6e",
   "metadata": {},
   "source": [
    "# 2.4.3.Matrix"
   ]
  },
  {
   "cell_type": "markdown",
   "id": "01c31704",
   "metadata": {},
   "source": [
    "## 1.Calculate properties of matrix"
   ]
  },
  {
   "cell_type": "code",
   "execution_count": 49,
   "id": "52018f95",
   "metadata": {},
   "outputs": [
    {
     "data": {
      "text/plain": [
       "array([[ 1.        ,  0.235297  , -0.92216137, -0.49050709],\n",
       "       [ 0.235297  ,  1.        , -0.47897595,  0.38847344],\n",
       "       [-0.92216137, -0.47897595,  1.        ,  0.12113241],\n",
       "       [-0.49050709,  0.38847344,  0.12113241,  1.        ]])"
      ]
     },
     "execution_count": 49,
     "metadata": {},
     "output_type": "execute_result"
    }
   ],
   "source": [
    "corr_return=np.corrcoef(return_array1) #calculate correlation coefficient\n",
    "corr_return"
   ]
  },
  {
   "cell_type": "code",
   "execution_count": 50,
   "id": "08cde4eb",
   "metadata": {},
   "outputs": [
    {
     "data": {
      "text/plain": [
       "array([1., 1., 1., 1.])"
      ]
     },
     "execution_count": 50,
     "metadata": {},
     "output_type": "execute_result"
    }
   ],
   "source": [
    "np.diag(corr_return) #diagonal line"
   ]
  },
  {
   "cell_type": "code",
   "execution_count": 51,
   "id": "f870d0e5",
   "metadata": {},
   "outputs": [
    {
     "data": {
      "text/plain": [
       "array([[ 1.        ,  0.235297  , -0.92216137, -0.49050709],\n",
       "       [ 0.        ,  1.        , -0.47897595,  0.38847344],\n",
       "       [ 0.        ,  0.        ,  1.        ,  0.12113241],\n",
       "       [ 0.        ,  0.        ,  0.        ,  1.        ]])"
      ]
     },
     "execution_count": 51,
     "metadata": {},
     "output_type": "execute_result"
    }
   ],
   "source": [
    "np.triu(corr_return) #upper triangular"
   ]
  },
  {
   "cell_type": "code",
   "execution_count": 52,
   "id": "bac7f8dd",
   "metadata": {},
   "outputs": [
    {
     "data": {
      "text/plain": [
       "array([[ 1.        ,  0.        ,  0.        ,  0.        ],\n",
       "       [ 0.235297  ,  1.        ,  0.        ,  0.        ],\n",
       "       [-0.92216137, -0.47897595,  1.        ,  0.        ],\n",
       "       [-0.49050709,  0.38847344,  0.12113241,  1.        ]])"
      ]
     },
     "execution_count": 52,
     "metadata": {},
     "output_type": "execute_result"
    }
   ],
   "source": [
    "np.tril(corr_return) #lower triangular"
   ]
  },
  {
   "cell_type": "code",
   "execution_count": 53,
   "id": "f0ccdf2e",
   "metadata": {},
   "outputs": [
    {
     "data": {
      "text/plain": [
       "4.0"
      ]
     },
     "execution_count": 53,
     "metadata": {},
     "output_type": "execute_result"
    }
   ],
   "source": [
    "np.trace(corr_return) #sum diagonal line"
   ]
  },
  {
   "cell_type": "code",
   "execution_count": 54,
   "id": "73597af6",
   "metadata": {},
   "outputs": [
    {
     "data": {
      "text/plain": [
       "array([[-0.035099, -0.013892,  0.005848,  0.021242],\n",
       "       [ 0.01723 ,  0.024334, -0.002907,  0.002133],\n",
       "       [-0.00345 , -0.033758,  0.005831, -0.029803],\n",
       "       [-0.024551,  0.014622,  0.005797, -0.002743],\n",
       "       [ 0.039368,  0.000128, -0.005764, -0.014301]])"
      ]
     },
     "execution_count": 54,
     "metadata": {},
     "output_type": "execute_result"
    }
   ],
   "source": [
    "np.transpose(return_array1) #transpose"
   ]
  },
  {
   "cell_type": "code",
   "execution_count": 55,
   "id": "45c2cd53",
   "metadata": {},
   "outputs": [
    {
     "data": {
      "text/plain": [
       "array([[-0.035099, -0.013892,  0.005848,  0.021242],\n",
       "       [ 0.01723 ,  0.024334, -0.002907,  0.002133],\n",
       "       [-0.00345 , -0.033758,  0.005831, -0.029803],\n",
       "       [-0.024551,  0.014622,  0.005797, -0.002743],\n",
       "       [ 0.039368,  0.000128, -0.005764, -0.014301]])"
      ]
     },
     "execution_count": 55,
     "metadata": {},
     "output_type": "execute_result"
    }
   ],
   "source": [
    "return_array1.T #transpose"
   ]
  },
  {
   "cell_type": "markdown",
   "id": "5bc6e780",
   "metadata": {},
   "source": [
    "## 2.Operations of matrix"
   ]
  },
  {
   "cell_type": "code",
   "execution_count": 57,
   "id": "177a4cb1",
   "metadata": {},
   "outputs": [],
   "source": [
    "weight_array1=np.array([0.15, 0.2, 0.25, 0.4])"
   ]
  },
  {
   "cell_type": "code",
   "execution_count": 58,
   "id": "a0105583",
   "metadata": {},
   "outputs": [
    {
     "data": {
      "text/plain": [
       "array([ 0.00191555,  0.00757775, -0.01773255, -0.0004062 , -0.0012306 ])"
      ]
     },
     "execution_count": 58,
     "metadata": {},
     "output_type": "execute_result"
    }
   ],
   "source": [
    "# Inner product\n",
    "return_daily=np.dot(weight_array1, return_array1) #Daily return of portfolio\n",
    "return_daily"
   ]
  },
  {
   "cell_type": "code",
   "execution_count": 59,
   "id": "97720b13",
   "metadata": {},
   "outputs": [],
   "source": [
    "import numpy.linalg as la # import sub mudule for linear algebra"
   ]
  },
  {
   "cell_type": "code",
   "execution_count": 60,
   "id": "afb8c69e",
   "metadata": {},
   "outputs": [
    {
     "data": {
      "text/plain": [
       "0.0010443476095574008"
      ]
     },
     "execution_count": 60,
     "metadata": {},
     "output_type": "execute_result"
    }
   ],
   "source": [
    "la.det(corr_return) #determinant of matrix"
   ]
  },
  {
   "cell_type": "code",
   "execution_count": 61,
   "id": "af2fd86c",
   "metadata": {},
   "outputs": [
    {
     "data": {
      "text/plain": [
       "array([[536.14264022,  32.78083187, 486.94315285, 191.26268821],\n",
       "       [ 32.78083187,   3.76405157,  30.71215642,  10.89675899],\n",
       "       [486.94315285,  30.71215642, 443.77493714, 173.16268611],\n",
       "       [191.26268821,  10.89675899, 173.16268611,  69.60699042]])"
      ]
     },
     "execution_count": 61,
     "metadata": {},
     "output_type": "execute_result"
    }
   ],
   "source": [
    "la.inv(corr_return) #inverse matrix"
   ]
  },
  {
   "cell_type": "code",
   "execution_count": 64,
   "id": "4ce411fb",
   "metadata": {},
   "outputs": [
    {
     "data": {
      "text/plain": [
       "array([[ 1.,  0., -0., -0.],\n",
       "       [ 0.,  1., -0., -0.],\n",
       "       [ 0.,  0.,  1., -0.],\n",
       "       [-0.,  0., -0.,  1.]])"
      ]
     },
     "execution_count": 64,
     "metadata": {},
     "output_type": "execute_result"
    }
   ],
   "source": [
    "I=np.dot(la.inv(corr_return),corr_return) #inner product of matrix and its inverse matrix is an identity matrix\n",
    "I.round(4)"
   ]
  },
  {
   "cell_type": "code",
   "execution_count": 65,
   "id": "33cd666f",
   "metadata": {},
   "outputs": [
    {
     "data": {
      "text/plain": [
       "(array([2.20179755e+00, 1.45527819e+00, 9.53086174e-04, 3.41971177e-01]),\n",
       " array([[ 0.65379828,  0.182798  , -0.71463557,  0.16860816],\n",
       "        [ 0.31198733, -0.65501986, -0.0441565 , -0.68677732],\n",
       "        [-0.64934186,  0.12672681, -0.64990211, -0.37406244],\n",
       "        [-0.23144518, -0.7221317 , -0.25489892,  0.5999879 ]]))"
      ]
     },
     "execution_count": 65,
     "metadata": {},
     "output_type": "execute_result"
    }
   ],
   "source": [
    "la.eig(corr_return) #eigenvalue: first array is eigenvalue and second array is eigenvector"
   ]
  },
  {
   "cell_type": "code",
   "execution_count": 66,
   "id": "e7be7533",
   "metadata": {},
   "outputs": [
    {
     "data": {
      "text/plain": [
       "(array([[-0.65379828,  0.182798  ,  0.16860816,  0.71463557],\n",
       "        [-0.31198733, -0.65501986, -0.68677732,  0.0441565 ],\n",
       "        [ 0.64934186,  0.12672681, -0.37406244,  0.64990211],\n",
       "        [ 0.23144518, -0.7221317 ,  0.5999879 ,  0.25489892]]),\n",
       " array([2.20179755e+00, 1.45527819e+00, 3.41971177e-01, 9.53086174e-04]),\n",
       " array([[-0.65379828, -0.31198733,  0.64934186,  0.23144518],\n",
       "        [ 0.182798  , -0.65501986,  0.12672681, -0.7221317 ],\n",
       "        [ 0.16860816, -0.68677732, -0.37406244,  0.5999879 ],\n",
       "        [ 0.71463557,  0.0441565 ,  0.64990211,  0.25489892]]))"
      ]
     },
     "execution_count": 66,
     "metadata": {},
     "output_type": "execute_result"
    }
   ],
   "source": [
    "la.svd(corr_return) #sigular value decomposition: first and third array are unitary matrix, second array is singular value"
   ]
  },
  {
   "cell_type": "code",
   "execution_count": null,
   "id": "bad5365c",
   "metadata": {},
   "outputs": [],
   "source": []
  }
 ],
 "metadata": {
  "kernelspec": {
   "display_name": "Custom (custom_python)",
   "language": "python",
   "name": "custom_python"
  },
  "language_info": {
   "codemirror_mode": {
    "name": "ipython",
    "version": 3
   },
   "file_extension": ".py",
   "mimetype": "text/x-python",
   "name": "python",
   "nbconvert_exporter": "python",
   "pygments_lexer": "ipython3",
   "version": "3.6.13"
  }
 },
 "nbformat": 4,
 "nbformat_minor": 5
}
