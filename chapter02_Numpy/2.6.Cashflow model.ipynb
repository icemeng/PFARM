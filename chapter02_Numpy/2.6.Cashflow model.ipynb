{
 "cells": [
  {
   "cell_type": "code",
   "execution_count": 1,
   "id": "9c16a152",
   "metadata": {},
   "outputs": [],
   "source": [
    "##########################################################################\n",
    "# Created on Sat Otc 25 21:37:45 2021                                    #\n",
    "# Python for Financial Analysis and Risk Management                      #\n",
    "# @author: Meng Lipeng (FRM, CFA)                                        #\n",
    "##########################################################################"
   ]
  },
  {
   "cell_type": "code",
   "execution_count": 2,
   "id": "8a7d0693",
   "metadata": {},
   "outputs": [
    {
     "data": {
      "text/plain": [
       "'1.0.0'"
      ]
     },
     "execution_count": 2,
     "metadata": {},
     "output_type": "execute_result"
    }
   ],
   "source": [
    "import numpy_financial as npf\n",
    "npf.__version__"
   ]
  },
  {
   "cell_type": "markdown",
   "id": "d251d48c",
   "metadata": {},
   "source": [
    "# 2.6.1.Future value"
   ]
  },
  {
   "cell_type": "code",
   "execution_count": 7,
   "id": "467b8a4d",
   "metadata": {},
   "outputs": [],
   "source": [
    "V0=2e7\n",
    "V1=3e6\n",
    "T=5\n",
    "r=0.08"
   ]
  },
  {
   "cell_type": "code",
   "execution_count": 8,
   "id": "d20ab489",
   "metadata": {},
   "outputs": [
    {
     "name": "stdout",
     "output_type": "stream",
     "text": [
      "FV(when payment occurred at the end of year):  46986364.42\n"
     ]
    }
   ],
   "source": [
    "FV1=npf.fv(rate=r,nper=T,pmt=-V1,pv=-V0,when='end')\n",
    "print('FV(when payment occurred at the end of year): ',round(FV1,2))"
   ]
  },
  {
   "cell_type": "code",
   "execution_count": 9,
   "id": "fc3effea",
   "metadata": {},
   "outputs": [
    {
     "name": "stdout",
     "output_type": "stream",
     "text": [
      "FV(when payment occurred at the beginning of year):  48394348.65\n"
     ]
    }
   ],
   "source": [
    "FV2=npf.fv(rate=r,nper=T,pmt=-V1,pv=-V0,when='begin')\n",
    "print('FV(when payment occurred at the beginning of year): ',round(FV2,2))"
   ]
  },
  {
   "cell_type": "code",
   "execution_count": 10,
   "id": "57e2e3ac",
   "metadata": {},
   "outputs": [
    {
     "name": "stdout",
     "output_type": "stream",
     "text": [
      "Difference:  1407984.23\n"
     ]
    }
   ],
   "source": [
    "FV_diff=FV2-FV1\n",
    "print('Difference: ',round(FV_diff,2))"
   ]
  },
  {
   "cell_type": "code",
   "execution_count": 13,
   "id": "7516c16f",
   "metadata": {},
   "outputs": [
    {
     "data": {
      "text/plain": [
       "1407984.2304000016"
      ]
     },
     "execution_count": 13,
     "metadata": {},
     "output_type": "execute_result"
    }
   ],
   "source": [
    "3e6*(1+r)**5-3e6"
   ]
  },
  {
   "cell_type": "markdown",
   "id": "4d765e01",
   "metadata": {},
   "source": [
    "# 2.6.2.Present value"
   ]
  },
  {
   "cell_type": "code",
   "execution_count": 15,
   "id": "db05aafc",
   "metadata": {},
   "outputs": [],
   "source": [
    "V1=2e6\n",
    "Vt=2.5e7\n",
    "T=6\n",
    "r=0.06"
   ]
  },
  {
   "cell_type": "code",
   "execution_count": 17,
   "id": "1e17a21d",
   "metadata": {},
   "outputs": [
    {
     "name": "stdout",
     "output_type": "stream",
     "text": [
      "PV(when payment occurred at the end of year):  -27458662.16\n"
     ]
    }
   ],
   "source": [
    "PV1=npf.pv(rate=r,nper=T,pmt=V1,fv=Vt,when=0)\n",
    "print('PV(when payment occurred at the end of year): ',round(PV1,2))"
   ]
  },
  {
   "cell_type": "code",
   "execution_count": 18,
   "id": "b19fe3c0",
   "metadata": {},
   "outputs": [
    {
     "name": "stdout",
     "output_type": "stream",
     "text": [
      "PV(when payment occurred at the beginning of year):  -28048741.08\n"
     ]
    }
   ],
   "source": [
    "PV2=npf.pv(rate=r,nper=T,pmt=V1,fv=Vt,when=1)\n",
    "print('PV(when payment occurred at the beginning of year): ',round(PV2,2))"
   ]
  },
  {
   "cell_type": "code",
   "execution_count": 19,
   "id": "763cd946",
   "metadata": {},
   "outputs": [
    {
     "name": "stdout",
     "output_type": "stream",
     "text": [
      "Diffenence:  -590078.92\n"
     ]
    }
   ],
   "source": [
    "PV_diff=PV2-PV1\n",
    "print('Diffenence: ',round(PV_diff,2))"
   ]
  },
  {
   "cell_type": "markdown",
   "id": "f32e26a0",
   "metadata": {},
   "source": [
    "# 2.6.3.NPV and IRR"
   ]
  },
  {
   "cell_type": "markdown",
   "id": "902bbfe0",
   "metadata": {},
   "source": [
    "## 1.NPV(Net Present Value)"
   ]
  },
  {
   "cell_type": "code",
   "execution_count": 23,
   "id": "4d64a9f6",
   "metadata": {},
   "outputs": [],
   "source": [
    "import numpy as np\n",
    "R1=0.09 #required return\n",
    "cashflow=np.array([-2.8e7,7e6,8e6,9e6,1e7])"
   ]
  },
  {
   "cell_type": "code",
   "execution_count": 24,
   "id": "ddea9273",
   "metadata": {},
   "outputs": [
    {
     "name": "stdout",
     "output_type": "stream",
     "text": [
      "NPV:  -810638.27\n"
     ]
    }
   ],
   "source": [
    "NPV1=npf.npv(rate=R1,values=cashflow)\n",
    "print('NPV: ',round(NPV1,2))"
   ]
  },
  {
   "cell_type": "code",
   "execution_count": 25,
   "id": "3cd15da2",
   "metadata": {},
   "outputs": [
    {
     "name": "stdout",
     "output_type": "stream",
     "text": [
      "NPV:  1201255.28\n"
     ]
    }
   ],
   "source": [
    "R2=0.06\n",
    "NPV2=npf.npv(rate=R2,values=cashflow)\n",
    "print('NPV: ',round(NPV2,2))"
   ]
  },
  {
   "cell_type": "markdown",
   "id": "80458b1a",
   "metadata": {},
   "source": [
    "## 2.IRR(Internal Rate of Return)"
   ]
  },
  {
   "cell_type": "code",
   "execution_count": 26,
   "id": "1aa89dab",
   "metadata": {},
   "outputs": [
    {
     "name": "stdout",
     "output_type": "stream",
     "text": [
      "IRR:  0.077503\n"
     ]
    }
   ],
   "source": [
    "IRR=npf.irr(values=cashflow)\n",
    "print('IRR: ',round(IRR,6))"
   ]
  },
  {
   "cell_type": "markdown",
   "id": "583220ae",
   "metadata": {},
   "source": [
    "# 2.6.4.Payment of mortgage loan"
   ]
  },
  {
   "cell_type": "code",
   "execution_count": 28,
   "id": "d550592c",
   "metadata": {},
   "outputs": [],
   "source": [
    "prin_loan=5e6\n",
    "tenor_loan=5*12\n",
    "rate_loan=0.06/12"
   ]
  },
  {
   "cell_type": "code",
   "execution_count": 29,
   "id": "e6ce4d0e",
   "metadata": {},
   "outputs": [
    {
     "name": "stdout",
     "output_type": "stream",
     "text": [
      "Monthly payment:  -96664.01\n"
     ]
    }
   ],
   "source": [
    "payment=npf.pmt(rate=rate_loan,nper=tenor_loan,pv=prin_loan,fv=0,when='end')\n",
    "print('Monthly payment: ',round(payment,2))"
   ]
  },
  {
   "cell_type": "code",
   "execution_count": 36,
   "id": "dd6e5611",
   "metadata": {},
   "outputs": [],
   "source": [
    "tenor_list=np.arange(tenor_loan)+1"
   ]
  },
  {
   "cell_type": "code",
   "execution_count": 37,
   "id": "57452126",
   "metadata": {},
   "outputs": [
    {
     "data": {
      "text/plain": [
       "array([-25000.        , -24641.67996176, -24281.56832334, -23919.65612672,\n",
       "       -23555.93436912, -23190.39400273, -22823.0259345 , -22453.82102594,\n",
       "       -22082.77009283, -21709.86390506, -21335.09318635, -20958.44861405,\n",
       "       -20579.92081888, -20199.50038474, -19817.17784843, -19432.94369944,\n",
       "       -19046.7883797 , -18658.70228336, -18268.67575654, -17876.69909709,\n",
       "       -17482.76255434, -17086.85632887, -16688.97057228, -16289.09538691,\n",
       "       -15887.22082561, -15483.3368915 , -15077.43353772, -14669.50066718,\n",
       "       -14259.52813228, -13847.5057347 , -13433.42322514, -13017.27030303,\n",
       "       -12599.03661631, -12178.71176115, -11756.28528172, -11331.7466699 ,\n",
       "       -10905.08536501, -10476.2907536 , -10045.35216913,  -9612.25889174,\n",
       "        -9177.00014797,  -8739.56511047,  -8299.94289779,  -7858.12257404,\n",
       "        -7414.09314867,  -6967.84357618,  -6519.36275583,  -6068.63953137,\n",
       "        -5615.66269079,  -5160.42096601,  -4702.9030326 ,  -4243.09750953,\n",
       "        -3780.99295884,  -3316.5778854 ,  -2849.84073659,  -2380.76990204,\n",
       "        -1909.35371332,  -1435.58044365,   -959.43830763,   -480.91546093])"
      ]
     },
     "execution_count": 37,
     "metadata": {},
     "output_type": "execute_result"
    }
   ],
   "source": [
    "payment_interst=npf.ipmt(rate=rate_loan,per=tenor_list,nper=tenor_loan,pv=prin_loan,fv=0,when='end')\n",
    "payment_interst"
   ]
  },
  {
   "cell_type": "code",
   "execution_count": 38,
   "id": "8a33f09a",
   "metadata": {},
   "outputs": [
    {
     "data": {
      "text/plain": [
       "array([-71664.00764714, -72022.32768538, -72382.4393238 , -72744.35152042,\n",
       "       -73108.07327803, -73473.61364442, -73840.98171264, -74210.1866212 ,\n",
       "       -74581.23755431, -74954.14374208, -75328.91446079, -75705.55903309,\n",
       "       -76084.08682826, -76464.5072624 , -76846.82979871, -77231.0639477 ,\n",
       "       -77617.21926744, -78005.30536378, -78395.3318906 , -78787.30855005,\n",
       "       -79181.2450928 , -79577.15131827, -79975.03707486, -80374.91226023,\n",
       "       -80776.78682153, -81180.67075564, -81586.57410942, -81994.50697997,\n",
       "       -82404.47951487, -82816.50191244, -83230.584422  , -83646.73734411,\n",
       "       -84064.97103083, -84485.29588599, -84907.72236542, -85332.26097724,\n",
       "       -85758.92228213, -86187.71689354, -86618.65547801, -87051.7487554 ,\n",
       "       -87487.00749918, -87924.44253667, -88364.06474935, -88805.8850731 ,\n",
       "       -89249.91449847, -89696.16407096, -90144.64489131, -90595.36811577,\n",
       "       -91048.34495635, -91503.58668113, -91961.10461454, -92420.91013761,\n",
       "       -92883.0146883 , -93347.42976174, -93814.16691055, -94283.2377451 ,\n",
       "       -94754.65393383, -95228.4272035 , -95704.56933951, -96183.09218621])"
      ]
     },
     "execution_count": 38,
     "metadata": {},
     "output_type": "execute_result"
    }
   ],
   "source": [
    "payment_principle=npf.ppmt(rate=rate_loan,per=tenor_list,nper=tenor_loan,pv=prin_loan,fv=0,when='end')\n",
    "payment_principle"
   ]
  },
  {
   "cell_type": "code",
   "execution_count": 39,
   "id": "95a32e85",
   "metadata": {},
   "outputs": [
    {
     "data": {
      "text/plain": [
       "array([-96664.01, -96664.01, -96664.01, -96664.01, -96664.01, -96664.01,\n",
       "       -96664.01, -96664.01, -96664.01, -96664.01, -96664.01, -96664.01,\n",
       "       -96664.01, -96664.01, -96664.01, -96664.01, -96664.01, -96664.01,\n",
       "       -96664.01, -96664.01, -96664.01, -96664.01, -96664.01, -96664.01,\n",
       "       -96664.01, -96664.01, -96664.01, -96664.01, -96664.01, -96664.01,\n",
       "       -96664.01, -96664.01, -96664.01, -96664.01, -96664.01, -96664.01,\n",
       "       -96664.01, -96664.01, -96664.01, -96664.01, -96664.01, -96664.01,\n",
       "       -96664.01, -96664.01, -96664.01, -96664.01, -96664.01, -96664.01,\n",
       "       -96664.01, -96664.01, -96664.01, -96664.01, -96664.01, -96664.01,\n",
       "       -96664.01, -96664.01, -96664.01, -96664.01, -96664.01, -96664.01])"
      ]
     },
     "execution_count": 39,
     "metadata": {},
     "output_type": "execute_result"
    }
   ],
   "source": [
    "(payment_interst+payment_principle).round(2)"
   ]
  },
  {
   "cell_type": "code",
   "execution_count": null,
   "id": "163c3ba1",
   "metadata": {},
   "outputs": [],
   "source": []
  }
 ],
 "metadata": {
  "kernelspec": {
   "display_name": "Custom (custom_python)",
   "language": "python",
   "name": "custom_python"
  },
  "language_info": {
   "codemirror_mode": {
    "name": "ipython",
    "version": 3
   },
   "file_extension": ".py",
   "mimetype": "text/x-python",
   "name": "python",
   "nbconvert_exporter": "python",
   "pygments_lexer": "ipython3",
   "version": "3.6.13"
  }
 },
 "nbformat": 4,
 "nbformat_minor": 5
}
