{
 "cells": [
  {
   "cell_type": "code",
   "execution_count": 1,
   "id": "33f3b385",
   "metadata": {},
   "outputs": [],
   "source": [
    "##########################################################################\n",
    "# Created on Sat Otc 24 20:42:25 2021                                    #\n",
    "# Python for Financial Analysis and Risk Management                      #\n",
    "# @author: Meng Lipeng (FRM, CFA)                                        #\n",
    "##########################################################################"
   ]
  },
  {
   "cell_type": "markdown",
   "id": "8d02e8ea",
   "metadata": {},
   "source": [
    "# 2.3.1.Indexing"
   ]
  },
  {
   "cell_type": "code",
   "execution_count": 3,
   "id": "14dca59c",
   "metadata": {},
   "outputs": [],
   "source": [
    "import numpy as np\n",
    "return_array1=np.array([[-0.035099,0.017230,-0.003450,-0.024551,0.039368],\n",
    "                        [-0.013892,0.024334,-0.033758,0.014622,0.000128],\n",
    "                        [0.005848,-0.002907,0.005831,0.005797,-0.005764],\n",
    "                        [0.021242,0.002133,-0.029803,-0.002743,-0.014301]])"
   ]
  },
  {
   "cell_type": "code",
   "execution_count": 5,
   "id": "0cbd93fc",
   "metadata": {},
   "outputs": [
    {
     "data": {
      "text/plain": [
       "0.014622"
      ]
     },
     "execution_count": 5,
     "metadata": {},
     "output_type": "execute_result"
    }
   ],
   "source": [
    "return_array1[1,3] #row 2,column 4"
   ]
  },
  {
   "cell_type": "code",
   "execution_count": 6,
   "id": "c253e50e",
   "metadata": {},
   "outputs": [
    {
     "data": {
      "text/plain": [
       "(array([0, 0, 1, 1, 3]), array([1, 4, 1, 3, 0]))"
      ]
     },
     "execution_count": 6,
     "metadata": {},
     "output_type": "execute_result"
    }
   ],
   "source": [
    "np.where(return_array1>0.014) #First array is row's index, Second array is column's index"
   ]
  },
  {
   "cell_type": "markdown",
   "id": "3edac6f1",
   "metadata": {},
   "source": [
    "# 2.3.2.Slicing"
   ]
  },
  {
   "cell_type": "code",
   "execution_count": 7,
   "id": "f0fe6dfd",
   "metadata": {},
   "outputs": [
    {
     "data": {
      "text/plain": [
       "array([[ 0.024334, -0.033758,  0.014622],\n",
       "       [-0.002907,  0.005831,  0.005797]])"
      ]
     },
     "execution_count": 7,
     "metadata": {},
     "output_type": "execute_result"
    }
   ],
   "source": [
    "return_array1[1:3, 1:4] #row(2~3)column(2~4)"
   ]
  },
  {
   "cell_type": "code",
   "execution_count": 8,
   "id": "1695dcdd",
   "metadata": {},
   "outputs": [
    {
     "data": {
      "text/plain": [
       "array([-0.013892,  0.024334, -0.033758,  0.014622,  0.000128])"
      ]
     },
     "execution_count": 8,
     "metadata": {},
     "output_type": "execute_result"
    }
   ],
   "source": [
    "return_array1[1] #row(2)"
   ]
  },
  {
   "cell_type": "code",
   "execution_count": 9,
   "id": "b0ce963a",
   "metadata": {},
   "outputs": [
    {
     "data": {
      "text/plain": [
       "array([-0.00345 , -0.033758,  0.005831, -0.029803])"
      ]
     },
     "execution_count": 9,
     "metadata": {},
     "output_type": "execute_result"
    }
   ],
   "source": [
    "return_array1[:,2] #column(3)"
   ]
  },
  {
   "cell_type": "markdown",
   "id": "31e4992b",
   "metadata": {},
   "source": [
    "# 2.3.3.Sorting"
   ]
  },
  {
   "cell_type": "code",
   "execution_count": 10,
   "id": "44fc76d1",
   "metadata": {},
   "outputs": [
    {
     "data": {
      "text/plain": [
       "array([[-0.035099, -0.002907, -0.033758, -0.024551, -0.014301],\n",
       "       [-0.013892,  0.002133, -0.029803, -0.002743, -0.005764],\n",
       "       [ 0.005848,  0.01723 , -0.00345 ,  0.005797,  0.000128],\n",
       "       [ 0.021242,  0.024334,  0.005831,  0.014622,  0.039368]])"
      ]
     },
     "execution_count": 10,
     "metadata": {},
     "output_type": "execute_result"
    }
   ],
   "source": [
    "np.sort(return_array1,axis=0) #order by column"
   ]
  },
  {
   "cell_type": "code",
   "execution_count": 11,
   "id": "2250000c",
   "metadata": {},
   "outputs": [
    {
     "data": {
      "text/plain": [
       "array([[-0.035099, -0.024551, -0.00345 ,  0.01723 ,  0.039368],\n",
       "       [-0.033758, -0.013892,  0.000128,  0.014622,  0.024334],\n",
       "       [-0.005764, -0.002907,  0.005797,  0.005831,  0.005848],\n",
       "       [-0.029803, -0.014301, -0.002743,  0.002133,  0.021242]])"
      ]
     },
     "execution_count": 11,
     "metadata": {},
     "output_type": "execute_result"
    }
   ],
   "source": [
    "np.sort(return_array1,axis=1) #order by row"
   ]
  },
  {
   "cell_type": "code",
   "execution_count": 16,
   "id": "43d7205f",
   "metadata": {},
   "outputs": [
    {
     "data": {
      "text/plain": [
       "array([[-0.035099, -0.024551, -0.00345 ,  0.01723 ,  0.039368],\n",
       "       [-0.033758, -0.013892,  0.000128,  0.014622,  0.024334],\n",
       "       [-0.005764, -0.002907,  0.005797,  0.005831,  0.005848],\n",
       "       [-0.029803, -0.014301, -0.002743,  0.002133,  0.021242]])"
      ]
     },
     "execution_count": 16,
     "metadata": {},
     "output_type": "execute_result"
    }
   ],
   "source": [
    "np.sort(return_array1) #default:axis=1"
   ]
  },
  {
   "cell_type": "markdown",
   "id": "4a25cf75",
   "metadata": {},
   "source": [
    "# 2.3.4.Combining"
   ]
  },
  {
   "cell_type": "markdown",
   "id": "68312c31",
   "metadata": {},
   "source": [
    "### Using append"
   ]
  },
  {
   "cell_type": "code",
   "execution_count": null,
   "id": "11ac285d",
   "metadata": {},
   "outputs": [],
   "source": [
    "# Combine two arrays only"
   ]
  },
  {
   "cell_type": "code",
   "execution_count": 18,
   "id": "b1075cdc",
   "metadata": {},
   "outputs": [
    {
     "data": {
      "text/plain": [
       "array([ 0.005848, -0.002907,  0.005831,  0.005797, -0.005764])"
      ]
     },
     "execution_count": 18,
     "metadata": {},
     "output_type": "execute_result"
    }
   ],
   "source": [
    "return_BOC=return_array1[2]\n",
    "return_BOC"
   ]
  },
  {
   "cell_type": "code",
   "execution_count": 20,
   "id": "b8fa699d",
   "metadata": {},
   "outputs": [
    {
     "data": {
      "text/plain": [
       "array([ 0.021242,  0.002133, -0.029803, -0.002743, -0.014301])"
      ]
     },
     "execution_count": 20,
     "metadata": {},
     "output_type": "execute_result"
    }
   ],
   "source": [
    "return_SAIC=return_array1[3]\n",
    "return_SAIC"
   ]
  },
  {
   "cell_type": "code",
   "execution_count": 21,
   "id": "13826984",
   "metadata": {},
   "outputs": [
    {
     "data": {
      "text/plain": [
       "array([[ 0.005848, -0.002907,  0.005831,  0.005797, -0.005764],\n",
       "       [ 0.021242,  0.002133, -0.029803, -0.002743, -0.014301]])"
      ]
     },
     "execution_count": 21,
     "metadata": {},
     "output_type": "execute_result"
    }
   ],
   "source": [
    "return_2stock=np.append([return_BOC],[return_SAIC],axis=0) # combine by column\n",
    "return_2stock"
   ]
  },
  {
   "cell_type": "code",
   "execution_count": 22,
   "id": "f2667ab9",
   "metadata": {},
   "outputs": [
    {
     "data": {
      "text/plain": [
       "array([[ 0.005848, -0.002907,  0.005831,  0.005797, -0.005764,  0.021242,\n",
       "         0.002133, -0.029803, -0.002743, -0.014301]])"
      ]
     },
     "execution_count": 22,
     "metadata": {},
     "output_type": "execute_result"
    }
   ],
   "source": [
    "return_2stock_new1=np.append([return_BOC],[return_SAIC],axis=1) # combine by row\n",
    "return_2stock_new1"
   ]
  },
  {
   "cell_type": "code",
   "execution_count": 23,
   "id": "5e18ab72",
   "metadata": {},
   "outputs": [
    {
     "data": {
      "text/plain": [
       "array([ 0.005848, -0.002907,  0.005831,  0.005797, -0.005764,  0.021242,\n",
       "        0.002133, -0.029803, -0.002743, -0.014301])"
      ]
     },
     "execution_count": 23,
     "metadata": {},
     "output_type": "execute_result"
    }
   ],
   "source": [
    "return_2stock_new2=np.append([return_BOC],[return_SAIC]) # default:combine by row\n",
    "return_2stock_new2"
   ]
  },
  {
   "cell_type": "markdown",
   "id": "23f37bca",
   "metadata": {},
   "source": [
    "### Using concatenate"
   ]
  },
  {
   "cell_type": "code",
   "execution_count": null,
   "id": "b100b368",
   "metadata": {},
   "outputs": [],
   "source": [
    "# Can be used for 2 arrays above"
   ]
  },
  {
   "cell_type": "code",
   "execution_count": 24,
   "id": "a3c699ad",
   "metadata": {},
   "outputs": [
    {
     "data": {
      "text/plain": [
       "array([-0.035099,  0.01723 , -0.00345 , -0.024551,  0.039368])"
      ]
     },
     "execution_count": 24,
     "metadata": {},
     "output_type": "execute_result"
    }
   ],
   "source": [
    "return_CAST=return_array1[0]\n",
    "return_CAST"
   ]
  },
  {
   "cell_type": "code",
   "execution_count": 25,
   "id": "e160cfad",
   "metadata": {},
   "outputs": [
    {
     "data": {
      "text/plain": [
       "array([-0.013892,  0.024334, -0.033758,  0.014622,  0.000128])"
      ]
     },
     "execution_count": 25,
     "metadata": {},
     "output_type": "execute_result"
    }
   ],
   "source": [
    "return_CSS=return_array1[1]\n",
    "return_CSS"
   ]
  },
  {
   "cell_type": "code",
   "execution_count": 30,
   "id": "41e69e04",
   "metadata": {},
   "outputs": [
    {
     "data": {
      "text/plain": [
       "array([[-0.035099,  0.01723 , -0.00345 , -0.024551,  0.039368],\n",
       "       [-0.013892,  0.024334, -0.033758,  0.014622,  0.000128],\n",
       "       [ 0.005848, -0.002907,  0.005831,  0.005797, -0.005764],\n",
       "       [ 0.021242,  0.002133, -0.029803, -0.002743, -0.014301]])"
      ]
     },
     "execution_count": 30,
     "metadata": {},
     "output_type": "execute_result"
    }
   ],
   "source": [
    "return_4stock=np.concatenate(([return_CAST],[return_CSS],[return_BOC],[return_SAIC]), axis=0) # combine by column\n",
    "return_4stock"
   ]
  },
  {
   "cell_type": "code",
   "execution_count": 27,
   "id": "b4b2cc87",
   "metadata": {},
   "outputs": [
    {
     "data": {
      "text/plain": [
       "array([[-0.035099,  0.01723 , -0.00345 , -0.024551,  0.039368, -0.013892,\n",
       "         0.024334, -0.033758,  0.014622,  0.000128,  0.005848, -0.002907,\n",
       "         0.005831,  0.005797, -0.005764,  0.021242,  0.002133, -0.029803,\n",
       "        -0.002743, -0.014301]])"
      ]
     },
     "execution_count": 27,
     "metadata": {},
     "output_type": "execute_result"
    }
   ],
   "source": [
    "return_4stock_new1=np.concatenate(([return_CAST],[return_CSS],[return_BOC],[return_SAIC]), axis=1) # combine by row\n",
    "return_4stock_new1"
   ]
  },
  {
   "cell_type": "code",
   "execution_count": 28,
   "id": "cb1244c8",
   "metadata": {},
   "outputs": [
    {
     "data": {
      "text/plain": [
       "array([[-0.035099,  0.01723 , -0.00345 , -0.024551,  0.039368],\n",
       "       [-0.013892,  0.024334, -0.033758,  0.014622,  0.000128],\n",
       "       [ 0.005848, -0.002907,  0.005831,  0.005797, -0.005764],\n",
       "       [ 0.021242,  0.002133, -0.029803, -0.002743, -0.014301]])"
      ]
     },
     "execution_count": 28,
     "metadata": {},
     "output_type": "execute_result"
    }
   ],
   "source": [
    "return_4stock_new2=np.concatenate(([return_CAST],[return_CSS],[return_BOC],[return_SAIC])) # default:combine by column\n",
    "return_4stock_new2"
   ]
  },
  {
   "cell_type": "code",
   "execution_count": null,
   "id": "f30434f2",
   "metadata": {},
   "outputs": [],
   "source": []
  }
 ],
 "metadata": {
  "kernelspec": {
   "display_name": "Custom (custom_python)",
   "language": "python",
   "name": "custom_python"
  },
  "language_info": {
   "codemirror_mode": {
    "name": "ipython",
    "version": 3
   },
   "file_extension": ".py",
   "mimetype": "text/x-python",
   "name": "python",
   "nbconvert_exporter": "python",
   "pygments_lexer": "ipython3",
   "version": "3.6.13"
  }
 },
 "nbformat": 4,
 "nbformat_minor": 5
}
