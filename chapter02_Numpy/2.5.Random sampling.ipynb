{
 "cells": [
  {
   "cell_type": "code",
   "execution_count": 1,
   "id": "a0071570",
   "metadata": {},
   "outputs": [],
   "source": [
    "##########################################################################\n",
    "# Created on Sat Otc 24 23:17:45 2021                                    #\n",
    "# Python for Financial Analysis and Risk Management                      #\n",
    "# @author: Meng Lipeng (FRM, CFA)                                        #\n",
    "##########################################################################"
   ]
  },
  {
   "cell_type": "markdown",
   "id": "bfabe13c",
   "metadata": {},
   "source": [
    "# 2.5.3.Examples of random sampling"
   ]
  },
  {
   "cell_type": "code",
   "execution_count": 1,
   "id": "7dfc10a5",
   "metadata": {},
   "outputs": [],
   "source": [
    "import numpy.random as npr"
   ]
  },
  {
   "cell_type": "markdown",
   "id": "0a4e3978",
   "metadata": {},
   "source": [
    "## 1.Normal distribution"
   ]
  },
  {
   "cell_type": "code",
   "execution_count": 3,
   "id": "39179d3e",
   "metadata": {},
   "outputs": [
    {
     "name": "stdout",
     "output_type": "stream",
     "text": [
      "Mean of random sampling from normal distribution:  1.5059958214243745\n",
      "Standard deviation of random sampling from normal distribution:  2.50344233769817\n"
     ]
    }
   ],
   "source": [
    "I=100000\n",
    "mean1=1.5\n",
    "std1=2.5\n",
    "x_norm=npr.normal(loc=mean1,scale=std1,size=I)\n",
    "print('Mean of random sampling from normal distribution: ',x_norm.mean())\n",
    "print('Standard deviation of random sampling from normal distribution: ',x_norm.std())"
   ]
  },
  {
   "cell_type": "code",
   "execution_count": 6,
   "id": "d8ec1114",
   "metadata": {},
   "outputs": [
    {
     "name": "stdout",
     "output_type": "stream",
     "text": [
      "Mean using randn function:  -0.0039347121018376025\n",
      "Std using randn function:  0.9987805726646467\n",
      "Mean using standard_normal function:  0.0003820278709559381\n",
      "Std using standard_normal function:  1.0014195055111315\n",
      "Mean using normal function:  0.0010100331173348543\n",
      "Std using normal function:  0.9986435951129558\n"
     ]
    }
   ],
   "source": [
    "#Standard Normal distribution\n",
    "x_snorm1=npr.randn(I) #using randn function\n",
    "x_snorm2=npr.standard_normal(size=I) #using standard_normal function\n",
    "\n",
    "mean2=0\n",
    "std2=1\n",
    "\n",
    "x_snorm3=npr.normal(loc=mean2,scale=std2,size=I) #using normal function\n",
    "print('Mean using randn function: ',x_snorm1.mean())\n",
    "print('Std using randn function: ',x_snorm1.std())\n",
    "print('Mean using standard_normal function: ',x_snorm2.mean())\n",
    "print('Std using standard_normal function: ',x_snorm2.std())\n",
    "print('Mean using normal function: ',x_snorm3.mean())\n",
    "print('Std using normal function: ',x_snorm3.std())"
   ]
  },
  {
   "cell_type": "markdown",
   "id": "6fcffe9d",
   "metadata": {},
   "source": [
    "## 2.LogNormal distribution"
   ]
  },
  {
   "cell_type": "code",
   "execution_count": 7,
   "id": "5e2fc4df",
   "metadata": {},
   "outputs": [
    {
     "name": "stdout",
     "output_type": "stream",
     "text": [
      "Mean of random sampling from lognormal distribution:  3.0648964727112626\n",
      "Standard deviation of random logsampling from normal distribution:  5.527919400673227\n"
     ]
    }
   ],
   "source": [
    "mean3=0.4\n",
    "std3=1.2\n",
    "x_logn=npr.lognormal(mean=mean3,sigma=std3,size=I)\n",
    "print('Mean of random sampling from lognormal distribution: ',x_logn.mean())\n",
    "print('Standard deviation of random sampling from lognormal distribution: ',x_logn.std())"
   ]
  },
  {
   "cell_type": "markdown",
   "id": "557d026c",
   "metadata": {},
   "source": [
    "## 3.Chi-Squared distribution"
   ]
  },
  {
   "cell_type": "code",
   "execution_count": 8,
   "id": "1395522e",
   "metadata": {},
   "outputs": [
    {
     "name": "stdout",
     "output_type": "stream",
     "text": [
      "Mean of random sampling from Chi-Squared distribution:  6.003302825608284\n",
      "Standard deviation of random sampling from Chi-Squared distribution:  3.4750881138526184\n",
      "Mean of random sampling from Chi-Squared distribution:  98.12827347472746\n",
      "Standard deviation of random sampling from Chi-Squared distribution:  14.03351625963246\n"
     ]
    }
   ],
   "source": [
    "freedom1=6\n",
    "freedom2=98\n",
    "x_chi1=npr.chisquare(df=freedom1,size=I)\n",
    "x_chi2=npr.chisquare(df=freedom2,size=I)\n",
    "print('Mean of random sampling from Chi-Squared distribution: ',x_chi1.mean())\n",
    "print('Standard deviation of random sampling from Chi-Squared distribution: ',x_chi1.std())\n",
    "print('Mean of random sampling from Chi-Squared distribution: ',x_chi2.mean())\n",
    "print('Standard deviation of random sampling from Chi-Squared distribution: ',x_chi2.std())"
   ]
  },
  {
   "cell_type": "markdown",
   "id": "4473ec34",
   "metadata": {},
   "source": [
    "## 4.Students' t distribution"
   ]
  },
  {
   "cell_type": "code",
   "execution_count": 9,
   "id": "1bc8c9c8",
   "metadata": {},
   "outputs": [
    {
     "name": "stdout",
     "output_type": "stream",
     "text": [
      "Mean of random sampling from t distribution:  0.0041315936965192965\n",
      "Standard deviation of random sampling from t distribution:  1.684375668241321\n",
      "Mean of random sampling from t distribution:  0.003270580935751019\n",
      "Standard deviation of random sampling from t distribution:  1.0059820285785843\n"
     ]
    }
   ],
   "source": [
    "freedom3=3\n",
    "freedom4=130 # near standard normal\n",
    "x_t1=npr.standard_t(df=freedom3,size=I)\n",
    "x_t2=npr.standard_t(df=freedom4,size=I)\n",
    "print('Mean of random sampling from t distribution: ',x_t1.mean())\n",
    "print('Standard deviation of random sampling from t distribution: ',x_t1.std())\n",
    "print('Mean of random sampling from t distribution: ',x_t2.mean())\n",
    "print('Standard deviation of random sampling from t distribution: ',x_t2.std())"
   ]
  },
  {
   "cell_type": "markdown",
   "id": "73e49520",
   "metadata": {},
   "source": [
    "## 5.F distribution"
   ]
  },
  {
   "cell_type": "code",
   "execution_count": 10,
   "id": "606f32fc",
   "metadata": {},
   "outputs": [
    {
     "name": "stdout",
     "output_type": "stream",
     "text": [
      "Mean of random sampling from F distribution:  1.2474148540511631\n",
      "Standard deviation of random sampling from F distribution:  1.2359985503560968\n"
     ]
    }
   ],
   "source": [
    "freedom5=4\n",
    "freedom6=10 \n",
    "x_f=npr.f(dfnum=freedom5,dfden=freedom6,size=I)\n",
    "\n",
    "print('Mean of random sampling from F distribution: ',x_f.mean())\n",
    "print('Standard deviation of random sampling from F distribution: ',x_f.std())"
   ]
  },
  {
   "cell_type": "markdown",
   "id": "4ededeea",
   "metadata": {},
   "source": [
    "## 6.Beta distribution"
   ]
  },
  {
   "cell_type": "code",
   "execution_count": 11,
   "id": "e224fb42",
   "metadata": {},
   "outputs": [
    {
     "name": "stdout",
     "output_type": "stream",
     "text": [
      "Mean of random sampling from beta distribution:  0.3004627130078976\n",
      "Standard deviation of random sampling from beta distribution:  0.1387312103568093\n"
     ]
    }
   ],
   "source": [
    "a1=3\n",
    "b1=7 \n",
    "x_beta=npr.beta(a=a1,b=b1,size=I)\n",
    "\n",
    "print('Mean of random sampling from beta distribution: ',x_beta.mean())\n",
    "print('Standard deviation of random sampling from beta distribution: ',x_beta.std())"
   ]
  },
  {
   "cell_type": "markdown",
   "id": "7175bc3f",
   "metadata": {},
   "source": [
    "## 7.Gamma distribution"
   ]
  },
  {
   "cell_type": "code",
   "execution_count": 12,
   "id": "79e3e246",
   "metadata": {},
   "outputs": [
    {
     "name": "stdout",
     "output_type": "stream",
     "text": [
      "Mean of random sampling from gamma distribution:  15.97505515157685\n",
      "Standard deviation of random sampling from gamma distribution:  11.223051702988958\n"
     ]
    }
   ],
   "source": [
    "a2=2\n",
    "b2=8 \n",
    "x_gamma=npr.gamma(shape=a2,scale=b2,size=I)\n",
    "\n",
    "print('Mean of random sampling from gamma distribution: ',x_gamma.mean())\n",
    "print('Standard deviation of random sampling from gamma distribution: ',x_gamma.std())"
   ]
  },
  {
   "cell_type": "code",
   "execution_count": null,
   "id": "10c56a5a",
   "metadata": {},
   "outputs": [],
   "source": []
  }
 ],
 "metadata": {
  "kernelspec": {
   "display_name": "Custom (custom_python)",
   "language": "python",
   "name": "custom_python"
  },
  "language_info": {
   "codemirror_mode": {
    "name": "ipython",
    "version": 3
   },
   "file_extension": ".py",
   "mimetype": "text/x-python",
   "name": "python",
   "nbconvert_exporter": "python",
   "pygments_lexer": "ipython3",
   "version": "3.6.13"
  }
 },
 "nbformat": 4,
 "nbformat_minor": 5
}
