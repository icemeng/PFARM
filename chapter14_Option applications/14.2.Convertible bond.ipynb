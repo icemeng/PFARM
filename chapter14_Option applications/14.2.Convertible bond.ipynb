{
 "cells": [
  {
   "cell_type": "code",
   "execution_count": 1,
   "id": "39f699f0",
   "metadata": {},
   "outputs": [],
   "source": [
    "##########################################################################\n",
    "# Created on Sat Nov 20 17:22:45 2021                                    #\n",
    "# Python for Financial Analysis and Risk Management                      #\n",
    "# @author: Meng Lipeng (FRM, CFA)                                        #\n",
    "##########################################################################"
   ]
  },
  {
   "cell_type": "markdown",
   "id": "433efeeb",
   "metadata": {},
   "source": [
    "# 14.2.1.CB intro"
   ]
  },
  {
   "cell_type": "code",
   "execution_count": 13,
   "id": "2ff563b9",
   "metadata": {},
   "outputs": [
    {
     "name": "stderr",
     "output_type": "stream",
     "text": [
      "/home/ec2-user/SageMaker/custom-miniconda/miniconda/envs/custom_python/lib/python3.6/site-packages/ipykernel_launcher.py:7: MatplotlibDeprecationWarning: Adding an axes using the same arguments as a previous axes currently reuses the earlier instance.  In a future version, a new instance will always be created and returned.  Meanwhile, this warning can be suppressed, and the future behavior ensured, by passing a unique label to each axes instance.\n",
      "  import sys\n"
     ]
    },
    {
     "data": {
      "text/plain": [
       "Text(0, 0.5, 'Quantity or Amount')"
      ]
     },
     "execution_count": 13,
     "metadata": {},
     "output_type": "execute_result"
    },
    {
     "data": {
      "image/png": "[encoded data removed]",
      "text/plain": [
       "<Figure size 648x432 with 2 Axes>"
      ]
     },
     "metadata": {
      "needs_background": "light"
     },
     "output_type": "display_data"
    }
   ],
   "source": [
    "import pandas as pd\n",
    "import matplotlib.pyplot as plt\n",
    "\n",
    "data_CB=pd.read_excel('CB quantity and amount(2010-2020).xlsx',engine='openpyxl',sheet_name=\"Sheet1\",header=0,index_col=0)\n",
    "#data_CB.head()\n",
    "data_CB.plot(kind='bar',subplots=True,layout=(1,2),figsize=(9,6),grid=True,fontsize=13)\n",
    "plt.subplot(1,2,1)\n",
    "plt.ylabel('Quantity or Amount',fontsize=11)"
   ]
  },
  {
   "cell_type": "markdown",
   "id": "7ff8bcaf",
   "metadata": {},
   "source": [
    "# 14.2.2.CB pricing"
   ]
  },
  {
   "cell_type": "markdown",
   "id": "c84cdda2",
   "metadata": {},
   "source": [
    "### Modified binomial tree model"
   ]
  },
  {
   "cell_type": "markdown",
   "id": "7d7a47fc",
   "metadata": {},
   "source": [
    "$$u=e^{\\sqrt{(\\sigma^2-\\lambda)\\Delta t}}\\tag{14-4}$$\n",
    "$$d=\\frac{1}{u}\\tag{14-5}$$\n",
    "$$P_u=\\frac{e^{r\\Delta t}-de^{-\\lambda \\Delta t}}{u-d}\\tag{14-6}$$\n",
    "$$P_d=\\frac{ue^{-\\lambda \\Delta t}-e^{r\\Delta t}}{u-d}\\tag{14-7}$$\n",
    "$$PD=1-P_u-P_d=1-e^{-\\lambda \\Delta t}\\tag{14-8}$$\n",
    "where,\\\n",
    "$\\lambda$:Annualized probability of default(continuous compound)"
   ]
  },
  {
   "cell_type": "markdown",
   "id": "d58ff635",
   "metadata": {},
   "source": [
    "For price on every node of binomial tree,\\\n",
    "$$V=max[min(Q_1,Q_2),Q_3]\\tag{14-9}$$\n",
    "where,\\\n",
    "$Q_1$:Bond price using reverse induction method\\\n",
    "$Q_2$:Callable bond price\\\n",
    "$Q_3$:Converted Stock price "
   ]
  },
  {
   "cell_type": "markdown",
   "id": "e009fe8d",
   "metadata": {},
   "source": [
    "### Implementation"
   ]
  },
  {
   "cell_type": "markdown",
   "id": "a67acc67",
   "metadata": {},
   "source": [
    "Put underlying asset price in an upper triangular matrix\\\n",
    "$$S=\\begin{bmatrix}\n",
    "S_0    & S_0u   & \\ldots & S_0u^{N-1} & S_0u^N \\\\\n",
    "0      & S_0d   & \\ldots & S_0u^{N-2} & S_0u^{N-1}d \\\\\n",
    "\\vdots & \\vdots & \\ddots & \\vdots     & \\vdots \\\\\n",
    "0      & 0      & \\ldots & S_0d^{N-1} & S_0ud^{N-1} \\\\\n",
    "0      & 0      & \\ldots & 0          & S_0d^{N}\n",
    "\\end{bmatrix}\\tag{14-10}$$"
   ]
  },
  {
   "cell_type": "markdown",
   "id": "b63e8970",
   "metadata": {},
   "source": [
    "CB price when expires\\\n",
    "$$C=\\begin{bmatrix}\n",
    "0      & 0      & \\ldots & 0          & max[min(Q_1,Q_2),XS_0u^N] \\\\\n",
    "0      & 0      & \\ldots & 0          & max[min(Q_1,Q_2),XS_0u^{N-1}d] \\\\\n",
    "\\vdots & \\vdots & \\ddots & \\vdots     & \\vdots \\\\\n",
    "0      & 0      & \\ldots & 0          & max[min(Q_1,Q_2),XS_0ud^{N-1}] \\\\\n",
    "0      & 0      & \\ldots & 0          & max[min(Q_1,Q_2),XS_0d^N]\n",
    "\\end{bmatrix}\\tag{14-11}$$\n",
    "where,\\\n",
    "$X$:conversion ratio"
   ]
  },
  {
   "cell_type": "code",
   "execution_count": 14,
   "id": "6e599192",
   "metadata": {},
   "outputs": [],
   "source": [
    "def value_CB(S,sigma,par,X,Lambda,r,R,Q2,T,N):\n",
    "    '''Define a function to calculate CB price using N steps binomial tree. Assuming zero rate bond.\n",
    "    S:underlying price at t0\n",
    "    sigma:volatility of stock return(annualized)\n",
    "    par:par of CB\n",
    "    X:conversion ratio\n",
    "    Lambda:Annualized probability of default(continuous compound)\n",
    "    r:risk free rate(continuous compound)\n",
    "    R:Recovery rate when deault\n",
    "    T:tenor in year\n",
    "    N:number of step in the BTM model'''\n",
    "\n",
    "    import numpy as np\n",
    "    \n",
    "    # Step1:Calculate relevant parameters\n",
    "    t=T/N\n",
    "    u=np.exp(np.sqrt((pow(sigma,2)-Lambda)*t))\n",
    "    d=1/u\n",
    "    Pu=(np.exp(r*t)-d*np.exp(-Lambda*t))/(u-d)\n",
    "    Pd=(u*np.exp(-Lambda*t)-np.exp(r*t))/(u-d)\n",
    "    P_default=1-np.exp(-Lambda*t)\n",
    "    D_value=par*R\n",
    "    CB_matrix=np.zeros((N+1,N+1))\n",
    "    \n",
    "    # Step2:Calculate the stock price and bond value at the CB maturity node\n",
    "    N_list=np.arange(0,N+1)\n",
    "    S_end=S*pow(u,N-N_list)*pow(d,N_list)\n",
    "    Q1=par\n",
    "    Q3=X*S_end\n",
    "    CB_matrix[:,-1]=np.maximum(np.minimum(Q1,Q2),Q3)\n",
    "    \n",
    "    #Step3:Calculate the stock price and bond value at the non maturity node of the option\n",
    "    i_list=list(range(0,N))\n",
    "    i_list.reverse()\n",
    "    for i in i_list:\n",
    "        j_list=np.arange(i+1)\n",
    "        Si=S*pow(u,i-j_list)*pow(d,j_list)\n",
    "        Q1=np.exp(-r*t)*(Pu*CB_matrix[:i+1,i+1]+Pd*CB_matrix[1:i+2,i+1]+P_default*D_value)#No converted,No called\n",
    "        Q3=X*Si #Converted\n",
    "        CB_matrix[:i+1,i]=np.maximum(np.minimum(Q1,Q2),Q3)\n",
    "    V0=CB_matrix[0,0]\n",
    "    \n",
    "    return V0"
   ]
  },
  {
   "cell_type": "code",
   "execution_count": 16,
   "id": "54b8d903",
   "metadata": {},
   "outputs": [
    {
     "name": "stdout",
     "output_type": "stream",
     "text": [
      "CB price using 3-steps binomial tree is  104.2012\n"
     ]
    }
   ],
   "source": [
    "tenor=9/12\n",
    "step1=3\n",
    "\n",
    "S0=50\n",
    "sigma_A=0.2\n",
    "par_CB=100\n",
    "share=2\n",
    "Lambda_A=0.01\n",
    "rate=0.05\n",
    "R_A=0.4\n",
    "Q2_A=110\n",
    "\n",
    "V1_CB=value_CB(S=S0,sigma=sigma_A,par=par_CB,X=share,Lambda=Lambda_A,r=rate,R=R_A,Q2=Q2_A,T=tenor,N=step1)\n",
    "print('CB price using 3-steps binomial tree is ',round(V1_CB,4))"
   ]
  },
  {
   "cell_type": "code",
   "execution_count": 17,
   "id": "460fff4a",
   "metadata": {},
   "outputs": [
    {
     "name": "stdout",
     "output_type": "stream",
     "text": [
      "CB price using 100-steps binomial tree is  103.69\n"
     ]
    }
   ],
   "source": [
    "step2=100\n",
    "V2_CB=value_CB(S=S0,sigma=sigma_A,par=par_CB,X=share,Lambda=Lambda_A,r=rate,R=R_A,Q2=Q2_A,T=tenor,N=step2)\n",
    "print('CB price using 100-steps binomial tree is ',round(V2_CB,4))"
   ]
  },
  {
   "cell_type": "code",
   "execution_count": 18,
   "id": "a1e75f1a",
   "metadata": {},
   "outputs": [
    {
     "name": "stdout",
     "output_type": "stream",
     "text": [
      "CB price using 300-steps binomial tree is  103.5598\n"
     ]
    }
   ],
   "source": [
    "step3=300\n",
    "V3_CB=value_CB(S=S0,sigma=sigma_A,par=par_CB,X=share,Lambda=Lambda_A,r=rate,R=R_A,Q2=Q2_A,T=tenor,N=step3)\n",
    "print('CB price using 300-steps binomial tree is ',round(V3_CB,4))"
   ]
  },
  {
   "cell_type": "code",
   "execution_count": null,
   "id": "db721977",
   "metadata": {},
   "outputs": [],
   "source": []
  }
 ],
 "metadata": {
  "kernelspec": {
   "display_name": "Custom (custom_python)",
   "language": "python",
   "name": "custom_python"
  },
  "language_info": {
   "codemirror_mode": {
    "name": "ipython",
    "version": 3
   },
   "file_extension": ".py",
   "mimetype": "text/x-python",
   "name": "python",
   "nbconvert_exporter": "python",
   "pygments_lexer": "ipython3",
   "version": "3.6.12"
  }
 },
 "nbformat": 4,
 "nbformat_minor": 5
}
