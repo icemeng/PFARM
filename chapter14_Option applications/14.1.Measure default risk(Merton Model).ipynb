{
 "cells": [
  {
   "cell_type": "code",
   "execution_count": 1,
   "id": "30ebbb57",
   "metadata": {},
   "outputs": [],
   "source": [
    "##########################################################################\n",
    "# Created on Sat Nov 20 15:21:45 2021                                    #\n",
    "# Python for Financial Analysis and Risk Management                      #\n",
    "# @author: Meng Lipeng (FRM, CFA)                                        #\n",
    "##########################################################################"
   ]
  },
  {
   "cell_type": "markdown",
   "id": "387ccdd0",
   "metadata": {},
   "source": [
    "# 14.1.2.Merton Model"
   ]
  },
  {
   "cell_type": "markdown",
   "id": "79730777",
   "metadata": {},
   "source": [
    "$V_0$:Enterprise value at $T_0$(Bond initial date)\\\n",
    "$V_T$:Enterprise value at $T$(Bond maturity date)\\\n",
    "$E_0$:Stock value at $T_0$\\\n",
    "$E_T$:Stock value at $T$\\\n",
    "$D$:Par value of zero rate bond\\\n",
    "$\\sigma_V$:Volatiltiy of enterprise value, assumed constant\\\n",
    "$\\sigma_E$:Instantaneous volatiltiy of stock return"
   ]
  },
  {
   "cell_type": "markdown",
   "id": "82e65d8d",
   "metadata": {},
   "source": [
    "$$E_T=max(V_T-D,0)\\tag{14-1}$$\\\n",
    "$$E_0=V_0N(d_1)-De^{-rT}N(d_2)\\tag{14-2}$$\\\n",
    "where,\\\n",
    "$$d_1=\\frac{ln(V_0/D)+(r+\\sigma_V ^2/2)T}{\\sigma_V \\sqrt{T}}$$\n",
    "$$d_2=\\frac{ln(V_0/D)+(r-\\sigma_V ^2/2)T}{\\sigma_V \\sqrt{T}}=d_1-\\sigma_V\\sqrt{T}$$"
   ]
  },
  {
   "cell_type": "markdown",
   "id": "7e335717",
   "metadata": {},
   "source": [
    "$N(d_2)$ is probability of exercise when option expires in risk neutral state, thus probability of non default of risk neutral enterprises at time T is also $N(d_2)$, probability of default of risk neutral enterprises at time T is $1-N(d_2)=N(-d_2)$"
   ]
  },
  {
   "cell_type": "markdown",
   "id": "bf54426a",
   "metadata": {},
   "source": [
    "According to Ito's lemma,\\\n",
    "$$\\sigma_E E_0=N(d_1)\\sigma_V V_0\\tag{14-3}$$"
   ]
  },
  {
   "cell_type": "markdown",
   "id": "1fcdbf1f",
   "metadata": {},
   "source": [
    "Simultaneous equations(14-1) and (14-3), we can get $V_0$ and $\\sigma_V$. Finally, the risk neutral default probability $N(-d_2)$ can be obtained."
   ]
  },
  {
   "cell_type": "markdown",
   "id": "df730735",
   "metadata": {},
   "source": [
    "# 14.1.3.Measure probability of default"
   ]
  },
  {
   "cell_type": "code",
   "execution_count": 2,
   "id": "72accd1c",
   "metadata": {},
   "outputs": [
    {
     "name": "stdout",
     "output_type": "stream",
     "text": [
      "Annualized return voloatility of Sun is  0.4238\n"
     ]
    }
   ],
   "source": [
    "import pandas as pd\n",
    "import numpy as np\n",
    "\n",
    "price_Sun=pd.read_excel('Sun stock price daily(201208-201402).xlsx',engine='openpyxl',sheet_name=\"Sheet1\",header=0,index_col=0)\n",
    "return_Sun=np.log(price_Sun/price_Sun.shift(1))\n",
    "sigma_Sun=np.sqrt(252)*np.std(return_Sun)\n",
    "sigma_Sun=float(sigma_Sun)\n",
    "print('Annualized return voloatility of Sun is ',round(sigma_Sun,4))"
   ]
  },
  {
   "cell_type": "code",
   "execution_count": 3,
   "id": "71432c5d",
   "metadata": {},
   "outputs": [
    {
     "name": "stdout",
     "output_type": "stream",
     "text": [
      "Enterprise value of Sun at 2014/02/19 is  82.6259\n",
      "Volatiltiy of enterprise value is  0.1124\n"
     ]
    }
   ],
   "source": [
    "equity=21.85\n",
    "debt=63.90\n",
    "tenor=1\n",
    "rate=0.050001\n",
    "\n",
    "def f(x):\n",
    "    from numpy import exp,log,sqrt\n",
    "    from scipy.stats import norm\n",
    "    V,sigma_V=x\n",
    "    d1=(log(V/debt)+(rate+pow(sigma_V,2)/2)*tenor)/(sigma_V*sqrt(tenor))\n",
    "    d2=d1-sigma_V*sqrt(tenor)\n",
    "    eq1=V*norm.cdf(d1)-debt*exp(-rate*tenor)*norm.cdf(d2)-equity #equation(14-2)\n",
    "    eq2=sigma_Sun*equity-norm.cdf(d1)*sigma_V*V #equation(14-3)\n",
    "    return(eq1,eq2)\n",
    "\n",
    "import scipy.optimize as sco\n",
    "\n",
    "result=sco.fsolve(func=f,x0=[80,0.5])\n",
    "print('Enterprise value of Sun at 2014/02/19 is ',round(result[0],4))\n",
    "print('Volatiltiy of enterprise value is ',round(result[-1],4))"
   ]
  },
  {
   "cell_type": "code",
   "execution_count": 4,
   "id": "9f225063",
   "metadata": {},
   "outputs": [],
   "source": [
    "def PD_Merton(E,D,V,sigma,r,T):\n",
    "    '''Define a function to calculate default probability of an enterprise.\n",
    "    E:Stock value\n",
    "    D:Par of bond\n",
    "    V:Enterprise value\n",
    "    sigma:Annualized volatility of enterprise value\n",
    "    r:Risk free rate\n",
    "    T:Tenor of bond'''\n",
    "    from numpy import log,sqrt\n",
    "    from scipy.stats import norm\n",
    "    \n",
    "    d1=(log(V/D)+(r+pow(sigma,2)/2)*T)/(sigma*sqrt(T))\n",
    "    d2=d1-sigma*sqrt(T)\n",
    "    PD=norm.cdf(-d2)\n",
    "    return PD"
   ]
  },
  {
   "cell_type": "code",
   "execution_count": 5,
   "id": "c1804ee7",
   "metadata": {},
   "outputs": [
    {
     "name": "stdout",
     "output_type": "stream",
     "text": [
      "Probability of default of Sun at 2014/02/19 is  0.003725\n"
     ]
    }
   ],
   "source": [
    "PD_Sun=PD_Merton(E=equity,D=debt,V=result[0],sigma=result[-1],r=rate,T=tenor)\n",
    "print('Probability of default of Sun at 2014/02/19 is ',round(PD_Sun,6))"
   ]
  },
  {
   "cell_type": "code",
   "execution_count": 6,
   "id": "efdecb96",
   "metadata": {},
   "outputs": [
    {
     "name": "stdout",
     "output_type": "stream",
     "text": [
      "Enterprise value of Sun at 2011/12/30 is  97.3399\n",
      "Volatiltiy of enterprise value is  0.3383\n"
     ]
    }
   ],
   "source": [
    "equity_new=70.75\n",
    "debt_new=28.02\n",
    "rate_new=0.052378\n",
    "sigma_new=0.4654\n",
    "\n",
    "def g(x):\n",
    "    from numpy import exp,log,sqrt\n",
    "    from scipy.stats import norm\n",
    "    V,sigma_V=x\n",
    "    d1=(log(V/debt_new)+(rate_new+pow(sigma_V,2)/2)*tenor)/(sigma_V*sqrt(tenor))\n",
    "    d2=d1-sigma_V*sqrt(tenor)\n",
    "    eq1=V*norm.cdf(d1)-debt_new*exp(-rate_new*tenor)*norm.cdf(d2)-equity_new \n",
    "    eq2=sigma_new*equity_new-norm.cdf(d1)*sigma_V*V\n",
    "    return(eq1,eq2)\n",
    "\n",
    "result_new=sco.fsolve(func=g,x0=[80,0.5])\n",
    "print('Enterprise value of Sun at 2011/12/30 is ',round(result_new[0],4))\n",
    "print('Volatiltiy of enterprise value is ',round(result_new[-1],4))"
   ]
  },
  {
   "cell_type": "code",
   "execution_count": 7,
   "id": "cd387d70",
   "metadata": {},
   "outputs": [
    {
     "name": "stdout",
     "output_type": "stream",
     "text": [
      "Probability of default of Sun at 2011/12/30 is  0.000123\n"
     ]
    }
   ],
   "source": [
    "PD_Sun_new=PD_Merton(E=equity_new,D=debt_new,V=result_new[0],sigma=result_new[-1],r=rate_new,T=tenor)\n",
    "print('Probability of default of Sun at 2011/12/30 is ',round(PD_Sun_new,6))"
   ]
  },
  {
   "cell_type": "code",
   "execution_count": 8,
   "id": "28728d64",
   "metadata": {},
   "outputs": [
    {
     "name": "stdout",
     "output_type": "stream",
     "text": [
      "Probability of default of Sun at 2014/02/19 is  30.35 times that at 2011/12/30\n"
     ]
    }
   ],
   "source": [
    "M=PD_Sun/PD_Sun_new\n",
    "print('Probability of default of Sun at 2014/02/19 is ', round(M,2), 'times that at 2011/12/30')"
   ]
  },
  {
   "cell_type": "code",
   "execution_count": null,
   "id": "c8fc6a49",
   "metadata": {},
   "outputs": [],
   "source": []
  }
 ],
 "metadata": {
  "kernelspec": {
   "display_name": "Custom (custom_python)",
   "language": "python",
   "name": "custom_python"
  },
  "language_info": {
   "codemirror_mode": {
    "name": "ipython",
    "version": 3
   },
   "file_extension": ".py",
   "mimetype": "text/x-python",
   "name": "python",
   "nbconvert_exporter": "python",
   "pygments_lexer": "ipython3",
   "version": "3.6.12"
  }
 },
 "nbformat": 4,
 "nbformat_minor": 5
}
