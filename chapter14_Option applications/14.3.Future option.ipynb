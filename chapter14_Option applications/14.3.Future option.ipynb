{
 "cells": [
  {
   "cell_type": "code",
   "execution_count": 1,
   "id": "22f4b1e1",
   "metadata": {},
   "outputs": [],
   "source": [
    "##########################################################################\n",
    "# Created on Sat Nov 20 19:20:45 2021                                    #\n",
    "# Python for Financial Analysis and Risk Management                      #\n",
    "# @author: Meng Lipeng (FRM, CFA)                                        #\n",
    "##########################################################################"
   ]
  },
  {
   "cell_type": "markdown",
   "id": "6f1040b0",
   "metadata": {},
   "source": [
    "# 14.3.2.Pricing European future option-Black model"
   ]
  },
  {
   "cell_type": "markdown",
   "id": "0e20e7ae",
   "metadata": {},
   "source": [
    "### 1.Mathimatical expression"
   ]
  },
  {
   "cell_type": "markdown",
   "id": "10a10485",
   "metadata": {},
   "source": [
    "Suppose that in a risk neutral world, the underlying futures contract price F follows the following stochastic process:\\\n",
    "$$dF=\\sigma Fdx\\tag{14-12}$$\n",
    "where,\\\n",
    "dx:Wiener process"
   ]
  },
  {
   "cell_type": "markdown",
   "id": "f49f471a",
   "metadata": {},
   "source": [
    "According Black model,\\\n",
    "$$c=e^{-rT}[F_0N(d_1)-KN(d_2)]\\tag{14-13}$$\n",
    "$$p=e^{-rT}[KN(-d2)-F_0N(-d_1)]\\tag{14-14}$$\n",
    "$$d_1=\\frac{ln(F_0/K)+\\sigma ^2T/2}{\\sigma \\sqrt{T}}$$\n",
    "$$d_2=\\frac{ln(F_0/K)-\\sigma ^2T/2}{\\sigma \\sqrt{T}}=d_1-\\sigma\\sqrt{T}$$\n",
    "where,\\\n",
    "$N(\\cdot)$:CDF(Cumulative Distribution Function) of standard normal distribution"
   ]
  },
  {
   "cell_type": "markdown",
   "id": "9d2c214e",
   "metadata": {},
   "source": [
    "### 2.Implementation"
   ]
  },
  {
   "cell_type": "code",
   "execution_count": 12,
   "id": "449e3ee6",
   "metadata": {},
   "outputs": [],
   "source": [
    "def Black_model(F,K,sigma,r,T,typ):\n",
    "    '''Define a function to calculate European future option price using Black model.\n",
    "    F:underlying future's price\n",
    "    K:strike price\n",
    "    sigma:volatility of future's return(annualized)\n",
    "    r:risk free rate(continuous compound)\n",
    "    T:tenor of option in year\n",
    "    typ:option type. 'call'indicates call option, otherwise put option '''\n",
    "    from numpy import log, exp, sqrt\n",
    "    from scipy.stats import norm\n",
    "    \n",
    "    d1=(log(F/K)+pow(sigma,2)*T/2)/(sigma*sqrt(T))\n",
    "    d2=d1-sigma*sqrt(T)\n",
    "    if typ=='call':\n",
    "        price=exp(-r*T)*(F*norm.cdf(d1)-K*norm.cdf(d2))\n",
    "    else:\n",
    "        price=exp(-r*T)*(K*norm.cdf(-d2)-F*norm.cdf(-d1))\n",
    "    return price"
   ]
  },
  {
   "cell_type": "markdown",
   "id": "454c6e41",
   "metadata": {},
   "source": [
    "### 3.Case study"
   ]
  },
  {
   "cell_type": "code",
   "execution_count": 10,
   "id": "0875cae6",
   "metadata": {},
   "outputs": [
    {
     "name": "stdout",
     "output_type": "stream",
     "text": [
      "Annualized volatility of AU2012 is  0.1757\n"
     ]
    }
   ],
   "source": [
    "import pandas as pd\n",
    "import numpy as np\n",
    "\n",
    "price_AU2012=pd.read_excel('AU2012(20191118-20200911).xlsx',engine='openpyxl',sheet_name=\"Sheet1\",header=0,index_col=0)\n",
    "\n",
    "return_AU2012=np.log(price_AU2012/price_AU2012.shift(1))\n",
    "Sigma_AU2012=np.sqrt(252)*np.std(return_AU2012)\n",
    "Sigma_AU2012=float(Sigma_AU2012)\n",
    "print('Annualized volatility of AU2012 is ',round(Sigma_AU2012,4))"
   ]
  },
  {
   "cell_type": "code",
   "execution_count": 13,
   "id": "4cd6f172",
   "metadata": {},
   "outputs": [
    {
     "name": "stdout",
     "output_type": "stream",
     "text": [
      "Price of AU2012 call 380 option is  41.645\n",
      "Price of AU2012 put 380 option is  1.5051\n"
     ]
    }
   ],
   "source": [
    "import datetime as dt\n",
    "\n",
    "t0=dt.datetime(2020,9,11)\n",
    "t1=dt.datetime(2020,11,24)\n",
    "tenor=(t1-t0).days/365\n",
    "\n",
    "strike=380\n",
    "shibor_Sep11=0.02697\n",
    "price_Sep11=420.36\n",
    "\n",
    "price_call=Black_model(F=price_Sep11,K=strike,sigma=Sigma_AU2012,r=shibor_Sep11,T=tenor,typ='call')\n",
    "price_put=Black_model(F=price_Sep11,K=strike,sigma=Sigma_AU2012,r=shibor_Sep11,T=tenor,typ='put')\n",
    "\n",
    "print('Price of AU2012 call 380 option is ',round(price_call,4))\n",
    "print('Price of AU2012 put 380 option is ',round(price_put,4))"
   ]
  },
  {
   "cell_type": "markdown",
   "id": "17a08b3b",
   "metadata": {},
   "source": [
    "# 14.3.3.Pricing American future option-Binomial tree"
   ]
  },
  {
   "cell_type": "markdown",
   "id": "07f619ac",
   "metadata": {},
   "source": [
    "### 1.One step binomial tree"
   ]
  },
  {
   "cell_type": "markdown",
   "id": "40d5fb5a",
   "metadata": {},
   "source": [
    "Risk free portfolio(Covered call)=long h future + short one call option\\\n",
    "Assuming initial margin ratio of future is k\\\n",
    "$$V_0=hkF_0-f\\tag{14-15}$$"
   ]
  },
  {
   "cell_type": "markdown",
   "id": "fb431313",
   "metadata": {},
   "source": [
    "When future option expires,\\\n",
    "  Situation 1：Future price rises to $F_0u$\\\n",
    "$$V_T=hkF_0e^{rT}+h(F_0u-F_0)-f_u\\tag{14-16}$$\n",
    "  Situation 2：Future price drops to $F_0d$\\\n",
    "$$V_T=hkF_0e^{rT}+h(F_0d-F_0)-f_d\\tag{14-17}$$"
   ]
  },
  {
   "cell_type": "markdown",
   "id": "33c344eb",
   "metadata": {},
   "source": [
    "According to the principle of no arbitrage, (14-16) and (14-17) are equivalent, after rearrangement, we can get\n",
    "$$h=\\frac{f_u-f_d}{F_0u-F_0d}\\tag{14-18}$$"
   ]
  },
  {
   "cell_type": "markdown",
   "id": "011b7d33",
   "metadata": {},
   "source": [
    "Using (14-16),\n",
    "$$V_0=V_Te^{-rT}=hkF_0+e^{-rT}[h(F_0u-F_0)-f_u]\\tag{14-19}$$\n",
    "Combine (14-15) and (14-19), we can get\n",
    "$$-f=e^{-rT}[h(F_0u-F_0)-f_u]\\tag{14-20}$$\n",
    "Substitute (14-18) to (14-20) and after rearragement, we can get\n",
    "$$f=e^{-rT}[pf_u+(1-p)f_d]\\tag{14-21}$$\n",
    "where,\\\n",
    "$$p=\\frac{1-d}{u-d}\\tag{14-22}$$\n",
    "$$1-p=\\frac{u-1}{u-d}$$"
   ]
  },
  {
   "cell_type": "markdown",
   "id": "7a9dc4c6",
   "metadata": {},
   "source": [
    "### 2.N-steps binomial tree"
   ]
  },
  {
   "cell_type": "markdown",
   "id": "15b046c8",
   "metadata": {},
   "source": [
    "American call option,\\\n",
    "$$V_{i,j}=max\\left\\{F_0u^jd^{i-j}-K,\\left[pV_{i+1,j+1}+(1-p)V_{i+1,j}\\right]e^{-r\\Delta t}\\right\\}\\tag{14-26}$$\n",
    "American put option,\\\n",
    "$$V_{i,j}=max\\left\\{K-F_0u^jd^{i-j},\\left[pV_{i+1,j+1}+(1-p)V_{i+1,j}\\right]e^{-r\\Delta t}\\right\\}\\tag{14-27}$$"
   ]
  },
  {
   "cell_type": "markdown",
   "id": "6bf45ec8",
   "metadata": {},
   "source": [
    "### 3.Implementation"
   ]
  },
  {
   "cell_type": "code",
   "execution_count": 15,
   "id": "b8b6713b",
   "metadata": {},
   "outputs": [],
   "source": [
    "def FutOption_call_Amer(F,K,sigma,r,T,N):\n",
    "    '''Define a function to calculate American future call option price using N steps binomial tree.\n",
    "    F:underlying future price at t0\n",
    "    K:strike price\n",
    "    sigma:volatility of underlying future's return(annualized)\n",
    "    r:risk free rate(continuous compound)\n",
    "    T:tenor in year\n",
    "    N:number of step in the BTM model'''\n",
    "\n",
    "    import numpy as np\n",
    "    \n",
    "    # Step1:Calculate relevant parameters\n",
    "    t=T/N\n",
    "    u=np.exp(sigma*np.sqrt(t))\n",
    "    d=1/u\n",
    "    p=(1-d)/(u-d)\n",
    "    call_matrix=np.zeros((N+1,N+1))\n",
    "    \n",
    "    # Step2:Calculate the underlying asset price and option value at the option maturity node\n",
    "    N_list=np.arange(0,N+1)\n",
    "    F_end=F*pow(u,N-N_list)*pow(d,N_list)\n",
    "    call_matrix[:,-1]=np.maximum(F_end-K,0)\n",
    "    \n",
    "    #Step3:Calculate the underlying asset price and option value at the non maturity node of the option\n",
    "    i_list=list(range(0,N))\n",
    "    i_list.reverse()\n",
    "    for i in i_list:\n",
    "        j_list=np.arange(i+1)\n",
    "        Fi=F*pow(u,i-j_list)*pow(d,j_list)\n",
    "        call_strike=np.maximum(Fi-K,0)\n",
    "        call_nostrike=(p*call_matrix[:i+1,i+1]+(1-p)*call_matrix[1:i+2,i+1])*np.exp(-r*t)\n",
    "        call_matrix[:i+1,i]=np.maximum(call_strike,call_nostrike)\n",
    "    call_begin=call_matrix[0,0]\n",
    "    \n",
    "    return call_begin"
   ]
  },
  {
   "cell_type": "code",
   "execution_count": 16,
   "id": "fc7062ef",
   "metadata": {},
   "outputs": [],
   "source": [
    "def FutOption_put_Amer(F,K,sigma,r,T,N):\n",
    "    '''Define a function to calculate American future put option price using N steps binomial tree.\n",
    "    F:underlying future price at t0\n",
    "    K:strike price\n",
    "    sigma:volatility of underlying future's return(annualized)\n",
    "    r:risk free rate(continuous compound)\n",
    "    T:tenor in year\n",
    "    N:number of step in the BTM model'''\n",
    "\n",
    "    import numpy as np\n",
    "    \n",
    "    # Step1:Calculate relevant parameters\n",
    "    t=T/N\n",
    "    u=np.exp(sigma*np.sqrt(t))\n",
    "    d=1/u\n",
    "    p=(1-d)/(u-d)\n",
    "    put_matrix=np.zeros((N+1,N+1))\n",
    "    \n",
    "    # Step2:Calculate the underlying asset price and option value at the option maturity node\n",
    "    N_list=np.arange(0,N+1)\n",
    "    F_end=F*pow(u,N-N_list)*pow(d,N_list)\n",
    "    put_matrix[:,-1]=np.maximum(K-F_end,0)\n",
    "    \n",
    "    #Step3:Calculate the underlying asset price and option value at the non maturity node of the option\n",
    "    i_list=list(range(0,N))\n",
    "    i_list.reverse()\n",
    "    for i in i_list:\n",
    "        j_list=np.arange(i+1)\n",
    "        Fi=F*pow(u,i-j_list)*pow(d,j_list)\n",
    "        put_strike=np.maximum(K-Fi,0)\n",
    "        put_nostrike=(p*put_matrix[:i+1,i+1]+(1-p)*put_matrix[1:i+2,i+1])*np.exp(-r*t)\n",
    "        put_matrix[:i+1,i]=np.maximum(put_strike,put_nostrike)\n",
    "    put_begin=put_matrix[0,0]\n",
    "    return put_begin"
   ]
  },
  {
   "cell_type": "markdown",
   "id": "6f2bdb95",
   "metadata": {},
   "source": [
    "### 4.Case study"
   ]
  },
  {
   "cell_type": "code",
   "execution_count": 17,
   "id": "0021cd9d",
   "metadata": {},
   "outputs": [
    {
     "name": "stdout",
     "output_type": "stream",
     "text": [
      "Annualized volatility of M2103 is  0.1285\n"
     ]
    }
   ],
   "source": [
    "price_M2103=pd.read_excel('Soybean meal future 2103(20200316-20201105).xlsx',engine='openpyxl',sheet_name=\"Sheet1\",header=0,index_col=0)\n",
    "\n",
    "return_M2103=np.log(price_M2103/price_M2103.shift(1))\n",
    "Sigma_M2103=np.sqrt(252)*np.std(return_M2103)\n",
    "Sigma_M2103=float(Sigma_M2103)\n",
    "print('Annualized volatility of M2103 is ',round(Sigma_M2103,4))"
   ]
  },
  {
   "cell_type": "code",
   "execution_count": 18,
   "id": "32cce0b1",
   "metadata": {},
   "outputs": [
    {
     "name": "stdout",
     "output_type": "stream",
     "text": [
      "Price of M2103 American call 3000 option is  233.4664\n",
      "Price of M2103 American put 3000 option is  13.5038\n"
     ]
    }
   ],
   "source": [
    "T_3M=3/12\n",
    "strike=3000\n",
    "shibor_Nov5=0.02996\n",
    "price_Nov5=3221\n",
    "step=100\n",
    "\n",
    "value_Amercall=FutOption_call_Amer(F=price_Nov5,K=strike,sigma=Sigma_M2103,r=shibor_Nov5,T=T_3M,N=step)\n",
    "value_Amerput=FutOption_put_Amer(F=price_Nov5,K=strike,sigma=Sigma_M2103,r=shibor_Nov5,T=T_3M,N=step)\n",
    "\n",
    "print('Price of M2103 American call 3000 option is ',round(value_Amercall,4))\n",
    "print('Price of M2103 American put 3000 option is ',round(value_Amerput,4))"
   ]
  },
  {
   "cell_type": "code",
   "execution_count": null,
   "id": "a0b8a6c0",
   "metadata": {},
   "outputs": [],
   "source": []
  }
 ],
 "metadata": {
  "kernelspec": {
   "display_name": "Custom (custom_python)",
   "language": "python",
   "name": "custom_python"
  },
  "language_info": {
   "codemirror_mode": {
    "name": "ipython",
    "version": 3
   },
   "file_extension": ".py",
   "mimetype": "text/x-python",
   "name": "python",
   "nbconvert_exporter": "python",
   "pygments_lexer": "ipython3",
   "version": "3.6.12"
  }
 },
 "nbformat": 4,
 "nbformat_minor": 5
}
