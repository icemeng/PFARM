{
 "cells": [
  {
   "cell_type": "code",
   "execution_count": 1,
   "id": "f6c79775",
   "metadata": {},
   "outputs": [],
   "source": [
    "##########################################################################\n",
    "# Created on Sat Nov 20 21:49:45 2021                                    #\n",
    "# Python for Financial Analysis and Risk Management                      #\n",
    "# @author: Meng Lipeng (FRM, CFA)                                        #\n",
    "##########################################################################"
   ]
  },
  {
   "cell_type": "markdown",
   "id": "45060c61",
   "metadata": {},
   "source": [
    "# 14.4.2.Caplet"
   ]
  },
  {
   "cell_type": "markdown",
   "id": "7dcecbe3",
   "metadata": {},
   "source": [
    "**Mathimatical expression**"
   ]
  },
  {
   "cell_type": "markdown",
   "id": "53dae4f8",
   "metadata": {},
   "source": [
    "Return of interest rate cap at time $t_{i+1}$ is\n",
    "$$L\\tau_i max(R_i-R_K,0)\\tag{14-28}$$\n",
    "where,\\\n",
    "$L$:Notional amount\\\n",
    "$\\tau_i$:$t_{i+1}-t_i$\\\n",
    "$R_i$:Floating rate observed at $t_i$\\\n",
    "$R_K$:Cap rate"
   ]
  },
  {
   "cell_type": "markdown",
   "id": "90f5ccf9",
   "metadata": {},
   "source": [
    "According Black model,\\\n",
    "$$caplet=L\\tau_i e^{-Rt_{i+1}}[F_iN(d_1)-R_KN(d_2)]\\tag{14-29}$$\n",
    "$$d_1=\\frac{ln(F_i/R_K)+{\\sigma_i}^2t_i/2}{\\sigma_i \\sqrt{t_i}}$$\n",
    "$$d_2=\\frac{ln(F_i/R_K)-{\\sigma_i}^2t_i/2}{\\sigma_i \\sqrt{t_i}}=d_1-\\sigma_i\\sqrt{t_i}$$\n",
    "where,\\\n",
    "$N(\\cdot)$:CDF(Cumulative Distribution Function) of standard normal distribution"
   ]
  },
  {
   "cell_type": "markdown",
   "id": "e6e8c9e8",
   "metadata": {},
   "source": [
    "**Implementation**"
   ]
  },
  {
   "cell_type": "code",
   "execution_count": 2,
   "id": "aa9868bc",
   "metadata": {},
   "outputs": [],
   "source": [
    "def caplet(L,R,F,Rk,sigma,t1,t2):\n",
    "    '''Define a function to calculate caplet value using Black model.\n",
    "    L:notional amount\n",
    "    R:risk free rate(continuous compound)\n",
    "    F:Forward interest rate of ti to ti+1 observed at t0\n",
    "    Rk:cap rate(strike price)\n",
    "    sigma:volatility of forward interest rate\n",
    "    t1:time t1 in year\n",
    "    t2:time t2 in year'''\n",
    "    from numpy import log, exp, sqrt\n",
    "    from scipy.stats import norm\n",
    "    \n",
    "    d1=(log(F/Rk)+pow(sigma,2)*t1/2)/(sigma*sqrt(t1))\n",
    "    d2=d1-sigma*sqrt(t1)\n",
    "    tau=t2-t1\n",
    "    value=L*tau*exp(-R*t2)*(F*norm.cdf(d1)-Rk*norm.cdf(d2))\n",
    "    return value"
   ]
  },
  {
   "cell_type": "markdown",
   "id": "5ba8c23e",
   "metadata": {},
   "source": [
    "**Case study**"
   ]
  },
  {
   "cell_type": "code",
   "execution_count": 3,
   "id": "aba3dbc0",
   "metadata": {},
   "outputs": [
    {
     "data": {
      "text/plain": [
       "Index(['SHIBOR(3M)', 'SHIBOR(6M)', 'SHIBOR(9M)', 'SHIBOR(12M)'], dtype='object')"
      ]
     },
     "execution_count": 3,
     "metadata": {},
     "output_type": "execute_result"
    }
   ],
   "source": [
    "import pandas as pd\n",
    "\n",
    "shibor_list=pd.read_excel('Shibor(201901-20200320).xlsx',engine='openpyxl',sheet_name=\"Sheet1\",header=0,index_col=0)\n",
    "shibor_list.columns"
   ]
  },
  {
   "cell_type": "code",
   "execution_count": 4,
   "id": "02aa277b",
   "metadata": {},
   "outputs": [],
   "source": [
    "def Rf(R1,R2,T1,T2):\n",
    "    '''Define a function for calculating forward rate\n",
    "    R1: Zero rate of tenor T1 (Continuous compound)\n",
    "    R2: Zero rate of tenor T2 (Continuous compound)\n",
    "    T1: Tenor1 (year)\n",
    "    T2: Tenor2 (year)'''\n",
    "    forward_rate=R2+(R2-R1)*T1/(T2-T1)\n",
    "    return forward_rate"
   ]
  },
  {
   "cell_type": "code",
   "execution_count": 5,
   "id": "80c896e8",
   "metadata": {},
   "outputs": [
    {
     "name": "stdout",
     "output_type": "stream",
     "text": [
      "Volatility of 3M forward interest rate after 3M is  0.064905\n",
      "Volatility of 3M forward interest rate after 9M is  0.073253\n",
      "Volatility of 3M forward interest rate after 12M is  0.081398\n"
     ]
    }
   ],
   "source": [
    "import numpy as np\n",
    "\n",
    "FR1_list=Rf(R1=shibor_list['SHIBOR(3M)'],R2=shibor_list['SHIBOR(6M)'],T1=3/12,T2=6/12)\n",
    "FR2_list=Rf(R1=shibor_list['SHIBOR(6M)'],R2=shibor_list['SHIBOR(9M)'],T1=6/12,T2=9/12)\n",
    "FR3_list=Rf(R1=shibor_list['SHIBOR(9M)'],R2=shibor_list['SHIBOR(12M)'],T1=9/12,T2=12/12)\n",
    "\n",
    "return_FR1=np.log(FR1_list/FR1_list.shift(1))\n",
    "return_FR2=np.log(FR2_list/FR2_list.shift(1))\n",
    "return_FR3=np.log(FR3_list/FR3_list.shift(1))\n",
    "\n",
    "sigma_FR1=np.sqrt(252)*return_FR1.std()\n",
    "sigma_FR2=np.sqrt(252)*return_FR2.std()\n",
    "sigma_FR3=np.sqrt(252)*return_FR3.std()\n",
    "\n",
    "print('Volatility of 3M forward interest rate after 3M is ',round(sigma_FR1,6))\n",
    "print('Volatility of 3M forward interest rate after 9M is ',round(sigma_FR2,6))\n",
    "print('Volatility of 3M forward interest rate after 12M is ',round(sigma_FR3,6))"
   ]
  },
  {
   "cell_type": "code",
   "execution_count": 6,
   "id": "d0e2104a",
   "metadata": {},
   "outputs": [
    {
     "name": "stdout",
     "output_type": "stream",
     "text": [
      "Value of caplet(floating rate reset after 3M and payment at 6M) is  37081.21\n",
      "Value of caplet(floating rate reset after 6M and payment at 9M) is  96163.37\n",
      "Value of caplet(floating rate reset after 9M and payment at 12M) is  129080.1\n"
     ]
    }
   ],
   "source": [
    "FR1_Mar20=FR1_list[-1]\n",
    "FR2_Mar20=FR2_list[-1]\n",
    "FR3_Mar20=FR3_list[-1]\n",
    "\n",
    "R_6M=0.017049\n",
    "R_9M=0.018499\n",
    "R_12M=0.018682\n",
    "\n",
    "par=1e8\n",
    "cap_rate=0.022\n",
    "\n",
    "caplet1=caplet(L=par,R=R_6M,F=FR1_Mar20,Rk=cap_rate,sigma=sigma_FR1,t1=3/12,t2=6/12)\n",
    "caplet2=caplet(L=par,R=R_9M,F=FR2_Mar20,Rk=cap_rate,sigma=sigma_FR2,t1=6/12,t2=9/12)\n",
    "caplet3=caplet(L=par,R=R_12M,F=FR3_Mar20,Rk=cap_rate,sigma=sigma_FR3,t1=9/12,t2=1)\n",
    "\n",
    "print('Value of caplet(floating rate reset after 3M and payment at 6M) is ',round(caplet1,2))\n",
    "print('Value of caplet(floating rate reset after 6M and payment at 9M) is ',round(caplet2,2))\n",
    "print('Value of caplet(floating rate reset after 9M and payment at 12M) is ',round(caplet3,2))"
   ]
  },
  {
   "cell_type": "code",
   "execution_count": 7,
   "id": "c180469b",
   "metadata": {},
   "outputs": [
    {
     "name": "stdout",
     "output_type": "stream",
     "text": [
      "Value of cap at initial date is  262324.68\n"
     ]
    }
   ],
   "source": [
    "cap=caplet1+caplet2+caplet3\n",
    "print('Value of cap at initial date is ',round(cap,2))"
   ]
  },
  {
   "cell_type": "markdown",
   "id": "05fac7d0",
   "metadata": {},
   "source": [
    "# 14.4.3.Floorlet and collar"
   ]
  },
  {
   "cell_type": "markdown",
   "id": "16ac1ad6",
   "metadata": {},
   "source": [
    "### 1.Floorlet pricing"
   ]
  },
  {
   "cell_type": "markdown",
   "id": "22f1c6fb",
   "metadata": {},
   "source": [
    "Return of interest rate floor at time $t_{i+1}$ is\n",
    "$$L\\tau_i max(R_K-R_i,0)\\tag{14-30}$$\n",
    "where,\\\n",
    "$L$:Notional amount\\\n",
    "$\\tau_i$:$t_{i+1}-t_i$\\\n",
    "$R_i$:Floating rate observed at $t_i$\\\n",
    "$R_K$:Floor rate"
   ]
  },
  {
   "cell_type": "markdown",
   "id": "17c4d893",
   "metadata": {},
   "source": [
    "According Black model,\\\n",
    "$$floorlet=L\\tau_i e^{-Rt_{i+1}}[R_KN(-d_2)-F_iN(-d_1)]\\tag{14-31}$$\n",
    "$$d_1=\\frac{ln(F_i/R_K)+{\\sigma_i}^2t_i/2}{\\sigma_i \\sqrt{t_i}}$$\n",
    "$$d_2=\\frac{ln(F_i/R_K)-{\\sigma_i}^2t_i/2}{\\sigma_i \\sqrt{t_i}}=d_1-\\sigma_i\\sqrt{t_i}$$\n",
    "where,\\\n",
    "$N(\\cdot)$:CDF(Cumulative Distribution Function) of standard normal distribution"
   ]
  },
  {
   "cell_type": "markdown",
   "id": "12ac87af",
   "metadata": {},
   "source": [
    "### 2.Implementation"
   ]
  },
  {
   "cell_type": "code",
   "execution_count": 8,
   "id": "4085b0ba",
   "metadata": {},
   "outputs": [],
   "source": [
    "def floorlet(L,R,F,Rk,sigma,t1,t2):\n",
    "    '''Define a function to calculate floorlet value using Black model.\n",
    "    L:notional amount\n",
    "    R:risk free rate(continuous compound)\n",
    "    F:Forward interest rate of ti to ti+1 observed at t0\n",
    "    Rk:cap rate(strike price)\n",
    "    sigma:volatility of forward interest rate\n",
    "    t1:time t1 in year\n",
    "    t2:time t2 in year'''\n",
    "    from numpy import log, exp, sqrt\n",
    "    from scipy.stats import norm\n",
    "    \n",
    "    d1=(log(F/Rk)+pow(sigma,2)*t1/2)/(sigma*sqrt(t1))\n",
    "    d2=d1-sigma*sqrt(t1)\n",
    "    tau=t2-t1\n",
    "    value=L*tau*exp(-R*t2)*(Rk*norm.cdf(-d2)-F*norm.cdf(-d1))\n",
    "    return value"
   ]
  },
  {
   "cell_type": "markdown",
   "id": "9c219cd5",
   "metadata": {},
   "source": [
    "### 3.Case study"
   ]
  },
  {
   "cell_type": "code",
   "execution_count": 9,
   "id": "753188c1",
   "metadata": {},
   "outputs": [
    {
     "name": "stdout",
     "output_type": "stream",
     "text": [
      "Value of floorlet(floating rate reset after 3M and payment at 6M) is  37634.23\n",
      "Value of floorlet(floating rate reset after 6M and payment at 9M) is  4779.06\n",
      "Value of floorlet(floating rate reset after 9M and payment at 12M) is  2391.65\n"
     ]
    }
   ],
   "source": [
    "floor_rate=0.025\n",
    "\n",
    "floorlet1=floorlet(L=par,R=R_6M,F=FR1_Mar20,Rk=floor_rate,sigma=sigma_FR1,t1=3/12,t2=6/12)\n",
    "floorlet2=floorlet(L=par,R=R_9M,F=FR2_Mar20,Rk=floor_rate,sigma=sigma_FR2,t1=6/12,t2=9/12)\n",
    "floorlet3=floorlet(L=par,R=R_12M,F=FR3_Mar20,Rk=floor_rate,sigma=sigma_FR3,t1=9/12,t2=1)\n",
    "\n",
    "print('Value of floorlet(floating rate reset after 3M and payment at 6M) is ',round(floorlet1,2))\n",
    "print('Value of floorlet(floating rate reset after 6M and payment at 9M) is ',round(floorlet2,2))\n",
    "print('Value of floorlet(floating rate reset after 9M and payment at 12M) is ',round(floorlet3,2))"
   ]
  },
  {
   "cell_type": "code",
   "execution_count": 10,
   "id": "f110a29c",
   "metadata": {},
   "outputs": [
    {
     "name": "stdout",
     "output_type": "stream",
     "text": [
      "Value of floor at initial date is  44804.94\n"
     ]
    }
   ],
   "source": [
    "floor=floorlet1+floorlet2+floorlet3\n",
    "print('Value of floor at initial date is ',round(floor,2))"
   ]
  },
  {
   "cell_type": "markdown",
   "id": "2f71dd22",
   "metadata": {},
   "source": [
    "### 4.Collar"
   ]
  },
  {
   "cell_type": "markdown",
   "id": "d495e5aa",
   "metadata": {},
   "source": [
    "Long collar=long cap + short floor\\\n",
    "Short collar=short cap + long floor"
   ]
  },
  {
   "cell_type": "code",
   "execution_count": 11,
   "id": "80b2e3f6",
   "metadata": {},
   "outputs": [
    {
     "name": "stdout",
     "output_type": "stream",
     "text": [
      "Value of cap at initial date is  52643.84\n",
      "Value of floor at initial date is  31376.4\n",
      "Value of collar is  21267.44\n"
     ]
    }
   ],
   "source": [
    "par_new=1e9\n",
    "cap_rate_new=0.029\n",
    "floor_rate_new=0.023\n",
    "\n",
    "caplet1_new=caplet(L=par_new,R=R_6M,F=FR1_Mar20,Rk=cap_rate_new,sigma=sigma_FR1,t1=3/12,t2=6/12)\n",
    "caplet2_new=caplet(L=par_new,R=R_9M,F=FR2_Mar20,Rk=cap_rate_new,sigma=sigma_FR2,t1=6/12,t2=9/12)\n",
    "caplet3_new=caplet(L=par_new,R=R_12M,F=FR3_Mar20,Rk=cap_rate_new,sigma=sigma_FR3,t1=9/12,t2=1)\n",
    "\n",
    "floorlet1_new=floorlet(L=par_new,R=R_6M,F=FR1_Mar20,Rk=floor_rate_new,sigma=sigma_FR1,t1=3/12,t2=6/12)\n",
    "floorlet2_new=floorlet(L=par_new,R=R_9M,F=FR2_Mar20,Rk=floor_rate_new,sigma=sigma_FR2,t1=6/12,t2=9/12)\n",
    "floorlet3_new=floorlet(L=par_new,R=R_12M,F=FR3_Mar20,Rk=floor_rate_new,sigma=sigma_FR3,t1=9/12,t2=1)\n",
    "\n",
    "cap_new=caplet1_new+caplet2_new+caplet3_new\n",
    "print('Value of cap at initial date is ',round(cap_new,2))\n",
    "floor_new=floorlet1_new+floorlet2_new+floorlet3_new\n",
    "print('Value of floor at initial date is ',round(floor_new,2))\n",
    "collar_long=cap_new-floor_new\n",
    "print('Value of collar is ',round(collar_long,2))"
   ]
  },
  {
   "cell_type": "markdown",
   "id": "8e1284c7",
   "metadata": {},
   "source": [
    "# 14.4.4.Swaption"
   ]
  },
  {
   "cell_type": "markdown",
   "id": "43287c08",
   "metadata": {},
   "source": [
    "### 2.Pricing swaption"
   ]
  },
  {
   "cell_type": "markdown",
   "id": "a96eda3f",
   "metadata": {},
   "source": [
    "**Pay fixed, receive floating swaption**"
   ]
  },
  {
   "cell_type": "markdown",
   "id": "3b2d13b4",
   "metadata": {},
   "source": [
    "$$cashflow=\\frac{L}{m}max(s_t-s_k,0)\\tag{14-32}$$\n",
    "where,\\\n",
    "$L$:Notional amount\\\n",
    "$m$:Payment frequency per year\\\n",
    "$s_t$:Swap rate when swaption expires\\\n",
    "$s_k$:Strike swap rate"
   ]
  },
  {
   "cell_type": "markdown",
   "id": "01f8e024",
   "metadata": {},
   "source": [
    "According Black model,\\\n",
    "$$swaption=\\sum_{i=1}^{mn} e^{-R_i T_i}\\frac{L}{m}[s_fN(d_1)-s_kN(d_2)]\\tag{14-33}$$\n",
    "$$d_1=\\frac{ln(s_f/s_k)+{\\sigma}^2t/2}{\\sigma \\sqrt{t}}$$\n",
    "$$d_2=\\frac{ln(s_f/s_k)-{\\sigma}^2t/2}{\\sigma \\sqrt{t}}=d_1-\\sigma\\sqrt{t}$$\n",
    "where,\\\n",
    "n:Swap tenor in year\\\n",
    "t:Option tenor in year\\\n",
    "$T_i=t+i/m$\\\n",
    "$Ri$:Tenor $T_i$ risk free rate(continuous compound)\\\n",
    "$s_f$:Forward swap rate at option initial date\\\n",
    "$\\sigma$:Volatility of forward swap rate"
   ]
  },
  {
   "cell_type": "markdown",
   "id": "672fd64b",
   "metadata": {},
   "source": [
    "$$s_f=\\frac{(1+s_0/m)^{-mt}-(1+s_{mn}/m)^{-m(t+n)}}{\\sum_{i=1}^{mn}(T_i-T_{i-1})(1+s_i/m)^{-(mt+i)}}\\tag{14-34}$$\n",
    "where,\\\n",
    "$s_0$:Swap rate(tenor=t)observed at time 0\\\n",
    "$s_i$:Swap rate(tenor=$T_i$)oberved at time 0\\\n",
    "$s_{mn}$:Swap rate(tenor=$T_{mn}=t+n$)\\\n",
    "$T_0=t$"
   ]
  },
  {
   "cell_type": "markdown",
   "id": "e03a3e19",
   "metadata": {},
   "source": [
    "Since $T_i=t+i/m$, we can get $T_i-T_{i-1}=1/m$, (14-34) can be simplified as below\n",
    "$$s_f=\\frac{(1+s_0/m)^{-mt}-(1+s_{mn}/m)^{-m(t+n)}}{(1/m)\\times\\sum_{i=1}^{mn}(1+s_i/m)^{-(mt+i)}}\\tag{14-35}$$"
   ]
  },
  {
   "cell_type": "markdown",
   "id": "702753cd",
   "metadata": {},
   "source": [
    "**Pay floating, receive fixed swaption**"
   ]
  },
  {
   "cell_type": "markdown",
   "id": "4d867e0d",
   "metadata": {},
   "source": [
    "$$cashflow=\\frac{L}{m}max(s_k-s_t,0)\\tag{14-36}$$"
   ]
  },
  {
   "cell_type": "markdown",
   "id": "36c0d2b9",
   "metadata": {},
   "source": [
    "According Black model,\\\n",
    "$$swaption=\\sum_{i=1}^{mn} e^{-R_i T_i}\\frac{L}{m}[s_kN(-d_2)-s_fN(-d_1)]\\tag{14-37}$$"
   ]
  },
  {
   "cell_type": "markdown",
   "id": "44a7e294",
   "metadata": {},
   "source": [
    "### 3.Implementation"
   ]
  },
  {
   "cell_type": "code",
   "execution_count": 13,
   "id": "0937aa7b",
   "metadata": {},
   "outputs": [],
   "source": [
    "def swaption(L,Sf,Sk,m,sigma,t,n,R_list,direction):\n",
    "    '''Define a function to calculate swaption value using Black model.\n",
    "    L:notional amount\n",
    "    Sf:forward swap rate\n",
    "    Sk:strike swap rate\n",
    "    m:payment frequency per year(compound frequency)\n",
    "    sigma:volatility of forward swap rate\n",
    "    t:option tenor in year\n",
    "    n:swap tenor in year\n",
    "    R_list:Tenor $T_i$ risk free rate(continuous compound)\n",
    "    direction:'pay'indicated fixed payer, otherwise fixed receiver'''\n",
    "    from numpy import arange,log, exp, sqrt\n",
    "    from scipy.stats import norm\n",
    "    \n",
    "    d1=(log(Sf/Sk)+pow(sigma,2)*t/2)/(sigma*sqrt(t))\n",
    "    d2=d1-sigma*sqrt(t)\n",
    "    T_list=t+arange(1,m*n+1)/m\n",
    "    if direction=='pay':\n",
    "        value=np.sum(exp(-R_list*T_list)*L*(Sf*norm.cdf(d1)-Sk*norm.cdf(d2))/m)\n",
    "    else:\n",
    "        value=np.sum(exp(-R_list*T_list)*L*(Sk*norm.cdf(-d2)-Sf*norm.cdf(-d1))/m)\n",
    "    \n",
    "    return value"
   ]
  },
  {
   "cell_type": "code",
   "execution_count": 18,
   "id": "66b5da2f",
   "metadata": {},
   "outputs": [],
   "source": [
    "def forward_swaprate(S_list,t,n,m):\n",
    "    '''Define a function to calculate forward swap rate.\n",
    "    S_list:different tenor swap rate observed at option initial date\n",
    "    t:tenor of option\n",
    "    n:tenor of swap\n",
    "    m:payment frequency per year(compound frequency)'''\n",
    "    t_list=m*t+np.arange(1,m*n+1)\n",
    "    A=pow(1+S_list[0]/m,-m*t)-pow(1+S_list[-1]/m,-m*(t+n))\n",
    "    B=(1/m)*np.sum(pow(1+S_list[1:]/m,-t_list))\n",
    "    value=A/B\n",
    "    return value"
   ]
  },
  {
   "cell_type": "markdown",
   "id": "e8a1f17f",
   "metadata": {},
   "source": [
    "### 4.Case study"
   ]
  },
  {
   "cell_type": "code",
   "execution_count": 15,
   "id": "73070f85",
   "metadata": {},
   "outputs": [
    {
     "data": {
      "text/plain": [
       "Index(['Shibor Swap rate(6M)', 'Shibor Swap rate(9M)', 'Shibor Swap rate(1Y)'], dtype='object')"
      ]
     },
     "execution_count": 15,
     "metadata": {},
     "output_type": "execute_result"
    }
   ],
   "source": [
    "swaprate_list=pd.read_excel('Shibor swap rate(201901-20200901).xlsx',engine='openpyxl',sheet_name=\"Sheet1\",header=0,index_col=0)\n",
    "swaprate_list.columns"
   ]
  },
  {
   "cell_type": "code",
   "execution_count": 16,
   "id": "f33836c6",
   "metadata": {},
   "outputs": [
    {
     "data": {
      "text/plain": [
       "DatetimeIndex(['2019-01-02', '2019-01-03', '2019-01-04', '2019-01-07',\n",
       "               '2019-01-08', '2019-01-09', '2019-01-10', '2019-01-11',\n",
       "               '2019-01-14', '2019-01-15',\n",
       "               ...\n",
       "               '2020-08-19', '2020-08-20', '2020-08-21', '2020-08-24',\n",
       "               '2020-08-25', '2020-08-26', '2020-08-27', '2020-08-28',\n",
       "               '2020-08-31', '2020-09-01'],\n",
       "              dtype='datetime64[ns]', name='Date', length=416, freq=None)"
      ]
     },
     "execution_count": 16,
     "metadata": {},
     "output_type": "execute_result"
    }
   ],
   "source": [
    "swaprate_list.index"
   ]
  },
  {
   "cell_type": "code",
   "execution_count": 22,
   "id": "066c0d7b",
   "metadata": {},
   "outputs": [
    {
     "data": {
      "text/plain": [
       "Text(0, 0.5, 'Interest rate')"
      ]
     },
     "execution_count": 22,
     "metadata": {},
     "output_type": "execute_result"
    },
    {
     "data": {
      "image/png": "[encoded data removed]",
      "text/plain": [
       "<Figure size 648x432 with 1 Axes>"
      ]
     },
     "metadata": {
      "needs_background": "light"
     },
     "output_type": "display_data"
    }
   ],
   "source": [
    "import matplotlib.pyplot as plt\n",
    "T_swaption=0.5\n",
    "T_swap=0.5\n",
    "M=4\n",
    "\n",
    "forward_list=np.zeros(len(swaprate_list.index))\n",
    "for i in range(len(swaprate_list.index)):\n",
    "    forward_list[i]=forward_swaprate(S_list=swaprate_list.iloc[i],t=T_swaption,n=T_swap,m=M)\n",
    "forward_list=pd.DataFrame(data=forward_list,index=swaprate_list.index,columns=['Forward swap rate'])\n",
    "forward_list.plot(figsize=(9,6),grid=True)\n",
    "plt.ylabel('Interest rate',fontsize=11)"
   ]
  },
  {
   "cell_type": "code",
   "execution_count": 23,
   "id": "1a62cb14",
   "metadata": {},
   "outputs": [
    {
     "name": "stdout",
     "output_type": "stream",
     "text": [
      "Annualized volatility of forward swap rate is  0.40548\n"
     ]
    }
   ],
   "source": [
    "return_forward=np.log(forward_list/forward_list.shift(1))\n",
    "sigma_forward=np.sqrt(252)*return_forward.std()\n",
    "sigma_forward=float(sigma_forward)\n",
    "print('Annualized volatility of forward swap rate is ',round(sigma_forward,6))"
   ]
  },
  {
   "cell_type": "code",
   "execution_count": 24,
   "id": "a2d2f046",
   "metadata": {},
   "outputs": [
    {
     "name": "stdout",
     "output_type": "stream",
     "text": [
      "Foward swap rate at option initial date is  0.03035\n"
     ]
    }
   ],
   "source": [
    "forward_Sep1=float(forward_list.iloc[-1])\n",
    "print('Foward swap rate at option initial date is ',round(forward_Sep1,6))"
   ]
  },
  {
   "cell_type": "code",
   "execution_count": 26,
   "id": "c6b0da63",
   "metadata": {},
   "outputs": [
    {
     "name": "stdout",
     "output_type": "stream",
     "text": [
      "Value of swaption at initial date is  133988.26\n"
     ]
    }
   ],
   "source": [
    "par=1e8\n",
    "rate_fixed=0.029\n",
    "\n",
    "R_norisk=np.array(swaprate_list.iloc[-1]) #Quarterly compound\n",
    "\n",
    "def Rc(Rm,m):\n",
    "    '''Define a function that when Rm and m frequency are known, calculate continuous IR\n",
    "    Rm: IR of m frequency\n",
    "    m: Compound frequency'''\n",
    "    r=m*np.log(1+Rm/m)\n",
    "    return r\n",
    "\n",
    "Rc_norisk=Rc(Rm=R_norisk,m=M)\n",
    "Rc_9M_12M=Rc_norisk[1:]\n",
    "\n",
    "value=swaption(L=par,Sf=forward_Sep1,Sk=rate_fixed,m=M,sigma=sigma_forward,t=T_swaption,n=T_swap,R_list=Rc_9M_12M,direction='receive')\n",
    "print('Value of swaption at initial date is ',round(value,2))"
   ]
  },
  {
   "cell_type": "code",
   "execution_count": null,
   "id": "bb138ae9",
   "metadata": {},
   "outputs": [],
   "source": []
  }
 ],
 "metadata": {
  "kernelspec": {
   "display_name": "Custom (custom_python)",
   "language": "python",
   "name": "custom_python"
  },
  "language_info": {
   "codemirror_mode": {
    "name": "ipython",
    "version": 3
   },
   "file_extension": ".py",
   "mimetype": "text/x-python",
   "name": "python",
   "nbconvert_exporter": "python",
   "pygments_lexer": "ipython3",
   "version": "3.6.12"
  }
 },
 "nbformat": 4,
 "nbformat_minor": 5
}
