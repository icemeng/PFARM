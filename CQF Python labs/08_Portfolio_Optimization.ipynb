{
 "cells": [
  {
   "cell_type": "markdown",
   "metadata": {},
   "source": [
    "\n",
    "<p><img align=\"left\" src=\"https://www.cqf.com/themes/custom/creode/logo.svg\" style=\"vertical-align: top; padding-top: 23px;\" width=\"10%\"/>\n",
    "<img align=\"right\" src=\"https://upload.wikimedia.org/wikipedia/commons/c/c3/Python-logo-notext.svg\" style=\"vertical-align: middle;\" width=\"12%\"/>\n",
    "<font color=\"#306998\"><h1><center>Python Labs</center></h1></font></p>\n",
    "<p></p><h1><center>Portfolio Optimization and Efficient Frontier</center></h1>\n",
    "<center><b>Kannan Singaravelu</b></center>\n",
    "<center>kannan.singaravelu@fitchlearning.com</center>\n"
   ]
  },
  {
   "cell_type": "markdown",
   "metadata": {},
   "source": [
    "\n",
    "<h2 id=\"Modern-Portfolio-Theory\">Modern Portfolio Theory<a class=\"anchor-link\" href=\"#Modern-Portfolio-Theory\">¶</a></h2>\n"
   ]
  },
  {
   "cell_type": "markdown",
   "metadata": {},
   "source": [
    "\n",
    "<p>Modern portfolio theory also popularly called as <strong><code>Mean-Variance Portofolio Theory</code> (MVP)</strong> is a major breakthrough in finance. It is based on the premises that returns are normally distributed and by looking at mean and variance, we can essentialy describe the distribution of end-of-period wealth.</p>\n",
    "<p>The basic idea of this theory is to achieve diversification by constructuing portfolio for a minimal portfolio risk or maximal portfolio returns given a certain level of risk. Accordingly, the <strong>Efficient Frontier</strong> is a set of optimal portfolios in the risk-return spectrum and portfolios located under the Efficient Frontier curve are considered sub-optimal.</p>\n",
    "<p>This means that the portfolios on the frontier offer</p>\n",
    "<ul>\n",
    "<li>Highest expected return for a given level of risk</li>\n",
    "<li>Lowest level of risk for a given level of expected returns</li>\n",
    "</ul>\n",
    "<p>In essence, the investors goal should be to select a level of risk that he/she is comfortable with and then find a portfolio that maximizes returns based on the selected risk level.</p>\n"
   ]
  },
  {
   "cell_type": "markdown",
   "metadata": {},
   "source": [
    "\n",
    "<h3 id=\"Import-libraries\">Import libraries<a class=\"anchor-link\" href=\"#Import-libraries\">¶</a></h3>\n"
   ]
  },
  {
   "cell_type": "code",
   "execution_count": null,
   "metadata": {},
   "outputs": [],
   "source": [
    "\n",
    "import pandas as pd\n",
    "import xlwings as xw\n",
    "\n",
    "import numpy as np\n",
    "from numpy import *\n",
    "from numpy.linalg import multi_dot\n",
    "\n",
    "import matplotlib.pyplot as plt\n",
    "from matplotlib.pyplot import rcParams\n",
    "rcParams['figure.figsize'] = 16, 8\n",
    "\n"
   ]
  },
  {
   "cell_type": "markdown",
   "metadata": {},
   "source": [
    "\n",
    "<p>We will use the FAANG stocks as before to build our portfolio</p>\n"
   ]
  },
  {
   "cell_type": "code",
   "execution_count": null,
   "metadata": {},
   "outputs": [],
   "source": [
    "\n",
    "# FAANG stocks\n",
    "symbols = ['AAPL', 'AMZN', 'FB', 'GOOG', 'NFLX' ]\n",
    "numofasset = len(symbols)\n",
    "numofportfolio = 5000\n",
    "\n"
   ]
  },
  {
   "cell_type": "markdown",
   "metadata": {},
   "source": [
    "\n",
    "<h3 id=\"Retrive-Data\">Retrive Data<a class=\"anchor-link\" href=\"#Retrive-Data\">¶</a></h3>\n"
   ]
  },
  {
   "cell_type": "code",
   "execution_count": null,
   "metadata": {},
   "outputs": [],
   "source": [
    "\n",
    "# Load locally stored data\n",
    "df = pd.read_csv('data/faang_stocks.csv', index_col=0, parse_dates=True)['2013':]\n",
    "\n",
    "# Check first 5 values \n",
    "df.head()\n",
    "\n"
   ]
  },
  {
   "cell_type": "markdown",
   "metadata": {},
   "source": [
    "\n",
    "<h3 id=\"View-Data-in-Excel\">View Data in Excel<a class=\"anchor-link\" href=\"#View-Data-in-Excel\">¶</a></h3>\n"
   ]
  },
  {
   "cell_type": "code",
   "execution_count": null,
   "metadata": {},
   "outputs": [],
   "source": [
    "\n",
    "# View data in Excel\n",
    "xw.view(df)\n",
    "\n"
   ]
  },
  {
   "cell_type": "code",
   "execution_count": null,
   "metadata": {},
   "outputs": [],
   "source": [
    "\n",
    "# Create a new Excel workbook\n",
    "wb = xw.Book(r'data/portfolio.xlsx')     # Book by full name\n",
    "\n"
   ]
  },
  {
   "cell_type": "markdown",
   "metadata": {},
   "source": [
    "\n",
    "<h3 id=\"Descriptive-Statistics\">Descriptive Statistics<a class=\"anchor-link\" href=\"#Descriptive-Statistics\">¶</a></h3>\n"
   ]
  },
  {
   "cell_type": "code",
   "execution_count": null,
   "metadata": {},
   "outputs": [],
   "source": [
    "\n",
    "summary = df.describe().T\n",
    "summary\n",
    "\n"
   ]
  },
  {
   "cell_type": "code",
   "execution_count": null,
   "metadata": {},
   "outputs": [],
   "source": [
    "\n",
    "# Write summary statistics to Excel\n",
    "wb.sheets[1]['A2'].value = summary\n",
    "\n"
   ]
  },
  {
   "cell_type": "markdown",
   "metadata": {},
   "source": [
    "\n",
    "<h3 id=\"Visualize-Data\">Visualize Data<a class=\"anchor-link\" href=\"#Visualize-Data\">¶</a></h3>\n"
   ]
  },
  {
   "cell_type": "code",
   "execution_count": null,
   "metadata": {},
   "outputs": [],
   "source": [
    "\n",
    "# Visualize the data\n",
    "fig = plt.figure(figsize=(16,8))\n",
    "ax = plt.axes()\n",
    "\n",
    "ax.set_title('Normalized Price Plot')\n",
    "ax.plot(df[-252:]/df.iloc[-252] * 100)\n",
    "ax.legend(df.columns, loc='upper left')\n",
    "ax.grid(True)\n",
    "\n"
   ]
  },
  {
   "cell_type": "code",
   "execution_count": null,
   "metadata": {},
   "outputs": [],
   "source": [
    "\n",
    "# Pass to Excel as picture\n",
    "wb.sheets[2].pictures.add(ax.get_figure(),  name = 'Normalized Price Plot', update = True);\n",
    "\n"
   ]
  },
  {
   "cell_type": "markdown",
   "metadata": {},
   "source": [
    "\n",
    "<h3 id=\"Calculate-Returns\">Calculate Returns<a class=\"anchor-link\" href=\"#Calculate-Returns\">¶</a></h3>\n"
   ]
  },
  {
   "cell_type": "code",
   "execution_count": null,
   "metadata": {},
   "outputs": [],
   "source": [
    "\n",
    "# Calculate returns \n",
    "returns = df.pct_change().fillna(0)\n",
    "returns.head()\n",
    "\n"
   ]
  },
  {
   "cell_type": "markdown",
   "metadata": {},
   "source": [
    "\n",
    "<h4 id=\"Annualized-Returns\">Annualized Returns<a class=\"anchor-link\" href=\"#Annualized-Returns\">¶</a></h4><p>In <strong>MVP</strong>, the average returns play an important role as they are used to approximate the expected returns.</p>\n"
   ]
  },
  {
   "cell_type": "code",
   "execution_count": null,
   "metadata": {},
   "outputs": [],
   "source": [
    "\n",
    "# Calculate annual returns\n",
    "annual_returns = (returns.mean() * 252)\n",
    "annual_returns\n",
    "\n"
   ]
  },
  {
   "cell_type": "code",
   "execution_count": null,
   "metadata": {},
   "outputs": [],
   "source": [
    "\n",
    "# Visualize the data\n",
    "fig = plt.figure()\n",
    "ax =plt.axes()\n",
    "\n",
    "ax.bar(annual_returns.index, annual_returns*100, color='royalblue', alpha=0.75)\n",
    "ax.set_title('Annualized Returns (in %)');\n",
    "\n"
   ]
  },
  {
   "cell_type": "markdown",
   "metadata": {},
   "source": [
    "\n",
    "<h3 id=\"Calculate-Volatility\">Calculate Volatility<a class=\"anchor-link\" href=\"#Calculate-Volatility\">¶</a></h3>\n"
   ]
  },
  {
   "cell_type": "code",
   "execution_count": null,
   "metadata": {},
   "outputs": [],
   "source": [
    "\n",
    "vols = returns.std()\n",
    "vols\n",
    "\n"
   ]
  },
  {
   "cell_type": "markdown",
   "metadata": {},
   "source": [
    "\n",
    "<h4 id=\"Annualized-Volatilities\">Annualized Volatilities<a class=\"anchor-link\" href=\"#Annualized-Volatilities\">¶</a></h4>\n"
   ]
  },
  {
   "cell_type": "code",
   "execution_count": null,
   "metadata": {},
   "outputs": [],
   "source": [
    "\n",
    "# Calculate annualized volatilities\n",
    "annual_vols = vols*sqrt(252)\n",
    "annual_vols\n",
    "\n"
   ]
  },
  {
   "cell_type": "code",
   "execution_count": null,
   "metadata": {},
   "outputs": [],
   "source": [
    "\n",
    "# Visualize the data\n",
    "fig = plt.figure()\n",
    "ax = plt.axes()\n",
    "\n",
    "ax.bar(annual_vols.index, annual_vols*100, color='orange', alpha=0.5)\n",
    "ax.set_title('Annualized Volatility (in %)');\n",
    "\n"
   ]
  },
  {
   "cell_type": "markdown",
   "metadata": {},
   "source": [
    "\n",
    "<h2 id=\"Portfolio-Statistics\">Portfolio Statistics<a class=\"anchor-link\" href=\"#Portfolio-Statistics\">¶</a></h2><p>Consider a portfolio fully invested in risky assets. Let $w$ and $\\mu$ be the vector of weights and mean returns of <em>n</em> assets. <br/><br/></p>\n",
    "$$\\ {w=}\\left( \n",
    "\\begin{array}{c}\n",
    "w_1 \\\\\n",
    "w_2 \\\\\n",
    "\\vdots \\\\\n",
    "w_n \\\\ \n",
    "\\end{array}%\n",
    "\\right);\n",
    "\\ \\mathbf{\\mu=}\\left( \n",
    "\\begin{array}{ccc}\n",
    "\\mu_1 \\\\ \n",
    "\\mu_2 \\\\ \n",
    "\\vdots \\\\\n",
    "\\mu_n \\\\ \n",
    "\\end{array}%\n",
    "\\right)$$<p></p>\n",
    "<p>where the $\\sum_{i=1}^{n}w_i=1$</p>\n",
    "<p><strong>Expected Portfolio Return</strong> is then the dot product of the expected returns and their weights. <br/><br/></p>\n",
    "$$\\mu_\\pi = w^T\\cdot\\mu$$<p>which is also equivalent to the $\\Sigma_{i=1}^{n}w_i\\mu_i$</p>\n",
    "<p><strong>Expected Portfolio Variance</strong> is then the multidot product of weights and the covariance matrix. <br/><br/></p>\n",
    "$$\\sigma^2_\\pi = w^T\\cdot\\Sigma\\cdot w $$<p>where, ${\\Sigma}$ is the covariance matrix</p>\n",
    "$${\\Sigma=}\\left( \n",
    "\\begin{array}{ccc}\n",
    "\\Sigma_{1,1} &amp; \\dots &amp; \\Sigma_{1,n} \\\\ \n",
    "\\vdots &amp; \\ddots &amp; \\vdots  \\\\ \n",
    "\\Sigma_{n,1} &amp; \\dots &amp; \\Sigma_{n,n} \\\\ %\n",
    "\\end{array}%\n",
    "\\right)$$\n"
   ]
  },
  {
   "cell_type": "markdown",
   "metadata": {},
   "source": [
    "\n",
    "<h3 id=\"Equal-Weighted-Portfolio\">Equal Weighted Portfolio<a class=\"anchor-link\" href=\"#Equal-Weighted-Portfolio\">¶</a></h3><p>Assume a portoflio composed of all five stocks with equal weighting. We will now calculate the portfolio statistics.</p>\n"
   ]
  },
  {
   "cell_type": "code",
   "execution_count": null,
   "metadata": {},
   "outputs": [],
   "source": [
    "\n",
    "wts = numofasset * [1./numofasset]\n",
    "wts = array(wts)[:,newaxis]\n",
    "wts\n",
    "\n"
   ]
  },
  {
   "cell_type": "code",
   "execution_count": null,
   "metadata": {},
   "outputs": [],
   "source": [
    "\n",
    "wts.shape\n",
    "\n"
   ]
  },
  {
   "cell_type": "markdown",
   "metadata": {},
   "source": [
    "\n",
    "<h3 id=\"Portfolio-Return\">Portfolio Return<a class=\"anchor-link\" href=\"#Portfolio-Return\">¶</a></h3>\n"
   ]
  },
  {
   "cell_type": "code",
   "execution_count": null,
   "metadata": {},
   "outputs": [],
   "source": [
    "\n",
    "array(returns.mean() * 252)[:,newaxis]      \n",
    "\n"
   ]
  },
  {
   "cell_type": "code",
   "execution_count": null,
   "metadata": {},
   "outputs": [],
   "source": [
    "\n",
    "array(returns.mean() * 252)[:,newaxis].shape \n",
    "\n"
   ]
  },
  {
   "cell_type": "code",
   "execution_count": null,
   "metadata": {},
   "outputs": [],
   "source": [
    "\n",
    "# Portfolio returns\n",
    "wts.T @ array(returns.mean() * 252)[:,newaxis]        \n",
    "\n"
   ]
  },
  {
   "cell_type": "markdown",
   "metadata": {},
   "source": [
    "\n",
    "<h3 id=\"Portfolio-Volatility\">Portfolio Volatility<a class=\"anchor-link\" href=\"#Portfolio-Volatility\">¶</a></h3>\n"
   ]
  },
  {
   "cell_type": "code",
   "execution_count": null,
   "metadata": {},
   "outputs": [],
   "source": [
    "\n",
    "# Covariance matrix\n",
    "returns.cov() * 252\n",
    "\n"
   ]
  },
  {
   "cell_type": "code",
   "execution_count": null,
   "metadata": {},
   "outputs": [],
   "source": [
    "\n",
    "# Portfolio variance\n",
    "multi_dot([wts.T,returns.cov()*252,wts])\n",
    "\n"
   ]
  },
  {
   "cell_type": "code",
   "execution_count": null,
   "metadata": {},
   "outputs": [],
   "source": [
    "\n",
    "# Portfolio volatility\n",
    "sqrt(multi_dot([wts.T,returns.cov()*252,wts]))\n",
    "\n"
   ]
  },
  {
   "cell_type": "markdown",
   "metadata": {},
   "source": [
    "\n",
    "<h3 id=\"Portfolio-statistics\">Portfolio statistics<a class=\"anchor-link\" href=\"#Portfolio-statistics\">¶</a></h3><p>Let's subsume key statistics into a function which can be used for optimization exercise.</p>\n"
   ]
  },
  {
   "cell_type": "code",
   "execution_count": null,
   "metadata": {},
   "outputs": [],
   "source": [
    "\n",
    "def portfolio_stats(weights):\n",
    "    \n",
    "    weights = array(weights)[:,newaxis]\n",
    "    port_rets = weights.T @ array(returns.mean() * 252)[:,newaxis]    \n",
    "    port_vols = sqrt(multi_dot([weights.T, returns.cov() * 252, weights])) \n",
    "    \n",
    "    return np.array([port_rets, port_vols, port_rets/port_vols]).flatten()\n",
    "\n"
   ]
  },
  {
   "cell_type": "code",
   "execution_count": null,
   "metadata": {},
   "outputs": [],
   "source": [
    "\n",
    "# import pyfolio as pf\n",
    "# ewp = returns@wts\n",
    "# ewp.columns =['ret']\n",
    "# ewp.cumsum().iloc[-1]\n",
    "# pf.create_simple_tear_sheet(ewp['ret'])\n",
    "# plt.plot((1+ewp['ret']).cumprod())\n",
    "\n"
   ]
  },
  {
   "cell_type": "markdown",
   "metadata": {},
   "source": [
    "\n",
    "<h2 id=\"Portfolio-Simulation\">Portfolio Simulation<a class=\"anchor-link\" href=\"#Portfolio-Simulation\">¶</a></h2><p>Now, we will implement a Monte Carlo simulation to generate random portfolio weights on a larger scale and calculate the expected portfolio return, variance and sharpe ratio for every simulated allocation. We will then identify the portfolio with a highest return for per unit of risk.</p>\n"
   ]
  },
  {
   "cell_type": "code",
   "execution_count": null,
   "metadata": {},
   "outputs": [],
   "source": [
    "\n",
    "w = random.random(numofasset)[:, newaxis]\n",
    "w\n",
    "\n"
   ]
  },
  {
   "cell_type": "code",
   "execution_count": null,
   "metadata": {},
   "outputs": [],
   "source": [
    "\n",
    "w /= sum(w)\n",
    "w\n",
    "\n"
   ]
  },
  {
   "cell_type": "code",
   "execution_count": null,
   "metadata": {},
   "outputs": [],
   "source": [
    "\n",
    "w.shape, sum(w)\n",
    "\n"
   ]
  },
  {
   "cell_type": "code",
   "execution_count": null,
   "metadata": {},
   "outputs": [],
   "source": [
    "\n",
    "w.flatten()\n",
    "\n"
   ]
  },
  {
   "cell_type": "code",
   "execution_count": null,
   "metadata": {},
   "outputs": [],
   "source": [
    "\n",
    "# Initialize the lists\n",
    "rets = []; vols = []; wts = []\n",
    "\n",
    "# Simulate 5,000 portfolios\n",
    "for i in range (5000):\n",
    "    \n",
    "    # Generate random weights\n",
    "    weights = random.random(numofasset)[:, newaxis]\n",
    "    \n",
    "    # Set weights such that sum of weights equals 1\n",
    "    weights /= sum(weights)\n",
    "    \n",
    "    # Portfolio statistics\n",
    "    rets.append(weights.T @ array(returns.mean() * 252)[:, newaxis])        \n",
    "    vols.append(sqrt(multi_dot([weights.T, returns.cov()*252, weights])))\n",
    "    wts.append(weights.flatten())\n",
    "\n",
    "# Record values     \n",
    "port_rets = array(rets).flatten()\n",
    "port_vols = array(vols).flatten()\n",
    "port_wts = array(wts)\n",
    "\n"
   ]
  },
  {
   "cell_type": "code",
   "execution_count": null,
   "metadata": {},
   "outputs": [],
   "source": [
    "\n",
    "port_rets\n",
    "\n"
   ]
  },
  {
   "cell_type": "code",
   "execution_count": null,
   "metadata": {},
   "outputs": [],
   "source": [
    "\n",
    "port_vols\n",
    "\n"
   ]
  },
  {
   "cell_type": "code",
   "execution_count": null,
   "metadata": {},
   "outputs": [],
   "source": [
    "\n",
    "port_wts\n",
    "\n"
   ]
  },
  {
   "cell_type": "code",
   "execution_count": null,
   "metadata": {},
   "outputs": [],
   "source": [
    "\n",
    "port_rets.shape, port_vols.shape, port_wts.shape\n",
    "\n"
   ]
  },
  {
   "cell_type": "code",
   "execution_count": null,
   "metadata": {},
   "outputs": [],
   "source": [
    "\n",
    "# Create a dataframe for analysis\n",
    "mc_df = pd.DataFrame({'returns': port_rets,\n",
    "                      'volatility': port_vols,\n",
    "                      'sharpe_ratio': port_rets/port_vols,\n",
    "                      'weights': list(port_wts)})\n",
    "mc_df.head()\n",
    "\n"
   ]
  },
  {
   "cell_type": "markdown",
   "metadata": {},
   "source": [
    "\n",
    "<h3 id=\"Summary-Statistics\">Summary Statistics<a class=\"anchor-link\" href=\"#Summary-Statistics\">¶</a></h3>\n"
   ]
  },
  {
   "cell_type": "code",
   "execution_count": null,
   "metadata": {},
   "outputs": [],
   "source": [
    "\n",
    "# Summary Statistics\n",
    "mc_df.describe().T\n",
    "\n"
   ]
  },
  {
   "cell_type": "code",
   "execution_count": null,
   "metadata": {},
   "outputs": [],
   "source": [
    "\n",
    "# Write summary Statistics to Excel\n",
    "wb.sheets[1]['A12'].value = mc_df.describe().T\n",
    "\n"
   ]
  },
  {
   "cell_type": "markdown",
   "metadata": {},
   "source": [
    "\n",
    "<h3 id=\"Maximum-Sharpe-Ratio-Portfolio\">Maximum Sharpe Ratio Portfolio<a class=\"anchor-link\" href=\"#Maximum-Sharpe-Ratio-Portfolio\">¶</a></h3>\n"
   ]
  },
  {
   "cell_type": "code",
   "execution_count": null,
   "metadata": {},
   "outputs": [],
   "source": [
    "\n",
    "# Max sharpe ratio portfolio \n",
    "msrp = mc_df.iloc[mc_df['sharpe_ratio'].idxmax()]\n",
    "msrp\n",
    "\n"
   ]
  },
  {
   "cell_type": "code",
   "execution_count": null,
   "metadata": {},
   "outputs": [],
   "source": [
    "\n",
    "# Max sharpe ratio portfolio weights\n",
    "max_sharpe_port_wts = mc_df['weights'][mc_df['sharpe_ratio'].idxmax()]\n",
    "\n",
    "# Allocation to achieve max sharpe ratio portfolio\n",
    "dict(zip(symbols,np.around(max_sharpe_port_wts*100,2)))\n",
    "\n"
   ]
  },
  {
   "cell_type": "markdown",
   "metadata": {},
   "source": [
    "\n",
    "<h3 id=\"Visulaize-Simulated-Portfolio\">Visulaize Simulated Portfolio<a class=\"anchor-link\" href=\"#Visulaize-Simulated-Portfolio\">¶</a></h3>\n"
   ]
  },
  {
   "cell_type": "code",
   "execution_count": null,
   "metadata": {},
   "outputs": [],
   "source": [
    "\n",
    "# Visualize the simulated portfolio for risk and return\n",
    "fig = plt.figure()\n",
    "ax = plt.axes()\n",
    "\n",
    "ax.set_title('Monte Carlo Simulated Allocation')\n",
    "\n",
    "# Simulated portfolios\n",
    "fig.colorbar(ax.scatter(port_vols, port_rets, c=port_rets / port_vols, \n",
    "                        marker='o', cmap='RdYlGn', edgecolors='black'), label='Sharpe Ratio') \n",
    "\n",
    "# Maximum sharpe ratio portfolio\n",
    "ax.scatter(msrp['volatility'], msrp['returns'], c='red', marker='*', s = 300, label='Max Sharpe Ratio')\n",
    "\n",
    "ax.set_xlabel('Expected Volatility')\n",
    "ax.set_ylabel('Expected Return')\n",
    "ax.grid(True)\n",
    "\n"
   ]
  },
  {
   "cell_type": "code",
   "execution_count": null,
   "metadata": {},
   "outputs": [],
   "source": [
    "\n",
    "# Pass to Excel as picture\n",
    "wb.sheets[3].pictures.add(ax.get_figure(),  name = 'Monte Carlo Simulated Allocation', update = True);\n",
    "\n"
   ]
  },
  {
   "cell_type": "markdown",
   "metadata": {},
   "source": [
    "\n",
    "<h2 id=\"Efficient-Frontier\">Efficient Frontier<a class=\"anchor-link\" href=\"#Efficient-Frontier\">¶</a></h2>\n"
   ]
  },
  {
   "cell_type": "markdown",
   "metadata": {},
   "source": [
    "\n",
    "<p>The Efficient Frontier is formed by a set of portfolios offering the highest expected portfolio return for a certain volatility or offering the lowest volatility for a certain level of expected returns.</p>\n",
    "<p><strong>Return objective</strong>:</p>\n",
    "$$\\underset{w_1,w_2,\\dots,w_n}{minimize} \\space\\space \\sigma^2_{p}(w_1,w_2,\\dots,w_n)$$<p>subject to,</p>\n",
    "$$E[R_p] = m$$<p><strong>Risk constraint</strong>:</p>\n",
    "$$\\underset{w_1,w_2,\\dots,w_n}{maximize} \\space\\space E[R_p(w_1,w_2,\\dots,w_n)]$$<p>subject to,</p>\n",
    "$$\\sigma^2_{p}(w_1,w_2,\\dots,w_n)=v^2$$<p>where, $\\sum_{i=1}^{n}w_i=1$ for the above objectives.</p>\n",
    "<p>We can use numerical optimization to achieve this objective. The goal of optimization is to find the optimal value of the objective function by adjusting the target variables operating withing some boundary conditions and constraints.</p>\n"
   ]
  },
  {
   "cell_type": "markdown",
   "metadata": {},
   "source": [
    "\n",
    "<h3 id=\"Constrained-Optimization\">Constrained Optimization<a class=\"anchor-link\" href=\"#Constrained-Optimization\">¶</a></h3><p>Construction of optimal portfolios is a constrained optimization problem where we specify some boundary conditions and constraints. The objective function here is a function returning maximum sharpe ratio, minimum variance (volatility) and the target variables are portfolio weights. We will use the <em><code>minimize</code></em> function from <code>scipy</code> optimization module to achieve our objective.</p>\n",
    "<blockquote><div class=\"highlight\"><pre><span></span><span class=\"n\">sco</span><span class=\"o\">.</span><span class=\"n\">minimize</span><span class=\"p\">(</span><span class=\"n\">fun</span><span class=\"p\">,</span> <span class=\"n\">x0</span><span class=\"p\">,</span> <span class=\"n\">args</span><span class=\"o\">=</span><span class=\"p\">(),</span> <span class=\"n\">method</span><span class=\"o\">=</span><span class=\"kc\">None</span><span class=\"p\">,</span> <span class=\"n\">jac</span><span class=\"o\">=</span><span class=\"kc\">None</span><span class=\"p\">,</span> <span class=\"n\">hess</span><span class=\"o\">=</span><span class=\"kc\">None</span><span class=\"p\">,</span> <span class=\"n\">hessp</span><span class=\"o\">=</span><span class=\"kc\">None</span><span class=\"p\">,</span> \n",
    "             <span class=\"n\">bounds</span><span class=\"o\">=</span><span class=\"kc\">None</span><span class=\"p\">,</span> <span class=\"n\">constraints</span><span class=\"o\">=</span><span class=\"p\">(),</span> <span class=\"n\">tol</span><span class=\"o\">=</span><span class=\"kc\">None</span><span class=\"p\">,</span> <span class=\"n\">callback</span><span class=\"o\">=</span><span class=\"kc\">None</span><span class=\"p\">,</span> <span class=\"n\">options</span><span class=\"o\">=</span><span class=\"kc\">None</span><span class=\"p\">)</span>\n",
    "</pre></div>\n",
    "</blockquote>\n"
   ]
  },
  {
   "cell_type": "code",
   "execution_count": null,
   "metadata": {},
   "outputs": [],
   "source": [
    "\n",
    "# Import optimization module from scipy\n",
    "import scipy.optimize as sco\n",
    "\n"
   ]
  },
  {
   "cell_type": "markdown",
   "metadata": {},
   "source": [
    "\n",
    "<h4 id=\"Maximum-sharpe-ratio-portfolio\">Maximum sharpe ratio portfolio<a class=\"anchor-link\" href=\"#Maximum-sharpe-ratio-portfolio\">¶</a></h4>\n"
   ]
  },
  {
   "cell_type": "code",
   "execution_count": null,
   "metadata": {},
   "outputs": [],
   "source": [
    "\n",
    "# Maximizing sharpe ratio\n",
    "def min_sharpe_ratio(weights):\n",
    "    return -portfolio_stats(weights)[2]\n",
    "\n"
   ]
  },
  {
   "cell_type": "code",
   "execution_count": null,
   "metadata": {},
   "outputs": [],
   "source": [
    "\n",
    "cons = ({'type': 'eq', 'fun': lambda x: np.sum(x) - 1})\n",
    "bnds = tuple((0, 1) for x in range(numofasset))\n",
    "initial_wts = numofasset*[1./numofasset]\n",
    "\n"
   ]
  },
  {
   "cell_type": "code",
   "execution_count": null,
   "metadata": {},
   "outputs": [],
   "source": [
    "\n",
    "# Optimizing for maximum sharpe ratio\n",
    "opt_sharpe = sco.minimize(min_sharpe_ratio, initial_wts, method='SLSQP', bounds=bnds, constraints=cons)\n",
    "\n"
   ]
  },
  {
   "cell_type": "code",
   "execution_count": null,
   "metadata": {},
   "outputs": [],
   "source": [
    "\n",
    "opt_sharpe\n",
    "\n"
   ]
  },
  {
   "cell_type": "code",
   "execution_count": null,
   "metadata": {},
   "outputs": [],
   "source": [
    "\n",
    "# Portfolio weights\n",
    "list(zip(symbols,np.around(opt_sharpe['x']*100,2)))\n",
    "\n"
   ]
  },
  {
   "cell_type": "code",
   "execution_count": null,
   "metadata": {},
   "outputs": [],
   "source": [
    "\n",
    "# Portfolio stats\n",
    "stats = ['Returns', 'Volatility', 'Sharpe Ratio']\n",
    "list(zip(stats,np.around(portfolio_stats(opt_sharpe['x']),4)))\n",
    "\n"
   ]
  },
  {
   "cell_type": "markdown",
   "metadata": {},
   "source": [
    "\n",
    "<h4 id=\"Minumum-variance-portfolio\">Minumum variance portfolio<a class=\"anchor-link\" href=\"#Minumum-variance-portfolio\">¶</a></h4>\n"
   ]
  },
  {
   "cell_type": "code",
   "execution_count": null,
   "metadata": {},
   "outputs": [],
   "source": [
    "\n",
    "# Minimize the variance\n",
    "def min_variance(weights):\n",
    "    return portfolio_stats(weights)[1]**2\n",
    "\n"
   ]
  },
  {
   "cell_type": "code",
   "execution_count": null,
   "metadata": {},
   "outputs": [],
   "source": [
    "\n",
    "# Optimizing for minimum variance\n",
    "opt_var = sco.minimize(min_variance, initial_wts, method='SLSQP', bounds=bnds, constraints=cons)\n",
    "\n"
   ]
  },
  {
   "cell_type": "code",
   "execution_count": null,
   "metadata": {},
   "outputs": [],
   "source": [
    "\n",
    "opt_var\n",
    "\n"
   ]
  },
  {
   "cell_type": "code",
   "execution_count": null,
   "metadata": {},
   "outputs": [],
   "source": [
    "\n",
    "# Portfolio weights\n",
    "list(zip(symbols,np.around(opt_var['x']*100,2)))\n",
    "\n"
   ]
  },
  {
   "cell_type": "code",
   "execution_count": null,
   "metadata": {},
   "outputs": [],
   "source": [
    "\n",
    "# Portfolio stats\n",
    "list(zip(stats,np.around(portfolio_stats(opt_var['x']),4)))\n",
    "\n"
   ]
  },
  {
   "cell_type": "markdown",
   "metadata": {},
   "source": [
    "\n",
    "<h4 id=\"Efficient-Frontier-portfolio\">Efficient Frontier portfolio<a class=\"anchor-link\" href=\"#Efficient-Frontier-portfolio\">¶</a></h4><p>For efficient frontier portfolios, we fix a target return and derive for objective function.</p>\n"
   ]
  },
  {
   "cell_type": "code",
   "execution_count": null,
   "metadata": {},
   "outputs": [],
   "source": [
    "\n",
    "# Minimize the volatility\n",
    "def min_volatility(weights):\n",
    "    return portfolio_stats(weights)[1]\n",
    "\n"
   ]
  },
  {
   "cell_type": "code",
   "execution_count": null,
   "metadata": {},
   "outputs": [],
   "source": [
    "\n",
    "targetrets = linspace(0.22,0.50,100)\n",
    "tvols = []\n",
    "\n",
    "for tr in targetrets:\n",
    "    \n",
    "    ef_cons = ({'type': 'eq', 'fun': lambda x: portfolio_stats(x)[0] - tr},\n",
    "               {'type': 'eq', 'fun': lambda x: np.sum(x) - 1})\n",
    "    \n",
    "    opt_ef = sco.minimize(min_volatility, initial_wts, method='SLSQP', bounds=bnds, constraints=ef_cons)\n",
    "    \n",
    "    tvols.append(opt_ef['fun'])\n",
    "\n",
    "targetvols = array(tvols)\n",
    "\n"
   ]
  },
  {
   "cell_type": "code",
   "execution_count": null,
   "metadata": {},
   "outputs": [],
   "source": [
    "\n",
    "# Visualize the simulated portfolio for risk and return\n",
    "fig = plt.figure()\n",
    "ax = plt.axes()\n",
    "\n",
    "ax.set_title('Efficient Frontier Portfolio')\n",
    "\n",
    "# Efficient Frontier\n",
    "fig.colorbar(ax.scatter(targetvols, targetrets, c=targetrets / targetvols, \n",
    "                        marker='x', cmap='RdYlGn', edgecolors='black'), label='Sharpe Ratio') \n",
    "\n",
    "# Maximum Sharpe Portfolio\n",
    "ax.plot(portfolio_stats(opt_sharpe['x'])[1], portfolio_stats(opt_sharpe['x'])[0], 'r*', markersize =15.0)\n",
    "\n",
    "# Minimum Variance Portfolio\n",
    "ax.plot(portfolio_stats(opt_var['x'])[1], portfolio_stats(opt_var['x'])[0], 'b*', markersize =15.0)\n",
    "\n",
    "ax.set_xlabel('Expected Volatility')\n",
    "ax.set_ylabel('Expected Return')\n",
    "ax.grid(True)\n",
    "\n"
   ]
  },
  {
   "cell_type": "markdown",
   "metadata": {},
   "source": [
    "\n",
    "<h1 id=\"References\">References<a class=\"anchor-link\" href=\"#References\">¶</a></h1><ul>\n",
    "<li><p>Numpy linear algebra documentation <a href=\"https://numpy.org/doc/stable/reference/routines.linalg.html\">https://numpy.org/doc/stable/reference/routines.linalg.html</a></p>\n",
    "</li>\n",
    "<li><p>Scipy optimization function documentation <a href=\"https://docs.scipy.org/doc/scipy/reference/generated/scipy.optimize.minimize.html\">https://docs.scipy.org/doc/scipy/reference/generated/scipy.optimize.minimize.html</a></p>\n",
    "</li>\n",
    "<li><p>Xlwings documentation <a href=\"https://docs.xlwings.org/en/stable/index.html\">https://docs.xlwings.org/en/stable/index.html</a></p>\n",
    "</li>\n",
    "<li><p>Yves Hilpisch (2018), Python For Finance: Analyze Big Financial Data</p>\n",
    "</li>\n",
    "</ul>\n"
   ]
  }
 ],
 "metadata": {
  "kernelspec": {
   "display_name": "Python 3",
   "language": "python",
   "name": "python3"
  },
  "language_info": {
   "codemirror_mode": {
    "name": "ipython",
    "version": 3
   },
   "file_extension": ".py",
   "mimetype": "text/x-python",
   "name": "python",
   "nbconvert_exporter": "python",
   "pygments_lexer": "ipython3",
   "version": "3.7.3"
  }
 },
 "nbformat": 4,
 "nbformat_minor": 1
}
