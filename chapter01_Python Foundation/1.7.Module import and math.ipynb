{
 "cells": [
  {
   "cell_type": "code",
   "execution_count": 1,
   "id": "949734d6",
   "metadata": {},
   "outputs": [],
   "source": [
    "##########################################################################\n",
    "# Created on Sat Otc 24 14:03:05 2021                                    #\n",
    "# Python for Financial Analysis and Risk Management                      #\n",
    "# @author: Meng Lipeng (FRM, CFA)                                        #\n",
    "##########################################################################"
   ]
  },
  {
   "cell_type": "markdown",
   "id": "0e0dd3aa",
   "metadata": {},
   "source": [
    "# 1.7.1.Module import"
   ]
  },
  {
   "cell_type": "code",
   "execution_count": 2,
   "id": "a1fe6739",
   "metadata": {},
   "outputs": [],
   "source": [
    "import math # A method which takes up the memory."
   ]
  },
  {
   "cell_type": "code",
   "execution_count": 3,
   "id": "e5e5b3b6",
   "metadata": {},
   "outputs": [],
   "source": [
    "import matplotlib as mp # Alias"
   ]
  },
  {
   "cell_type": "code",
   "execution_count": 4,
   "id": "da0b46fc",
   "metadata": {},
   "outputs": [],
   "source": [
    "import matplotlib.pyplot as plt # Sub module as alias"
   ]
  },
  {
   "cell_type": "code",
   "execution_count": 5,
   "id": "ad45acdc",
   "metadata": {},
   "outputs": [],
   "source": [
    "from math import exp, log, sqrt # Import functions from module"
   ]
  },
  {
   "cell_type": "code",
   "execution_count": 6,
   "id": "bbddbe63",
   "metadata": {},
   "outputs": [
    {
     "data": {
      "text/plain": [
       "2.995732273553991"
      ]
     },
     "execution_count": 6,
     "metadata": {},
     "output_type": "execute_result"
    }
   ],
   "source": [
    "log(20)"
   ]
  },
  {
   "cell_type": "code",
   "execution_count": 7,
   "id": "cf500d09",
   "metadata": {},
   "outputs": [
    {
     "data": {
      "text/plain": [
       "7.38905609893065"
      ]
     },
     "execution_count": 7,
     "metadata": {},
     "output_type": "execute_result"
    }
   ],
   "source": [
    "exp(2)"
   ]
  },
  {
   "cell_type": "code",
   "execution_count": 8,
   "id": "797a5831",
   "metadata": {},
   "outputs": [],
   "source": [
    "from matplotlib.pyplot import figure, plot # Import functions from sub module"
   ]
  },
  {
   "cell_type": "markdown",
   "id": "1440ffaf",
   "metadata": {},
   "source": [
    "# 1.7.2.Math module"
   ]
  },
  {
   "cell_type": "code",
   "execution_count": 9,
   "id": "a3d7351e",
   "metadata": {},
   "outputs": [
    {
     "data": {
      "text/plain": [
       "['__doc__',\n",
       " '__file__',\n",
       " '__loader__',\n",
       " '__name__',\n",
       " '__package__',\n",
       " '__spec__',\n",
       " 'acos',\n",
       " 'acosh',\n",
       " 'asin',\n",
       " 'asinh',\n",
       " 'atan',\n",
       " 'atan2',\n",
       " 'atanh',\n",
       " 'ceil',\n",
       " 'copysign',\n",
       " 'cos',\n",
       " 'cosh',\n",
       " 'degrees',\n",
       " 'e',\n",
       " 'erf',\n",
       " 'erfc',\n",
       " 'exp',\n",
       " 'expm1',\n",
       " 'fabs',\n",
       " 'factorial',\n",
       " 'floor',\n",
       " 'fmod',\n",
       " 'frexp',\n",
       " 'fsum',\n",
       " 'gamma',\n",
       " 'gcd',\n",
       " 'hypot',\n",
       " 'inf',\n",
       " 'isclose',\n",
       " 'isfinite',\n",
       " 'isinf',\n",
       " 'isnan',\n",
       " 'ldexp',\n",
       " 'lgamma',\n",
       " 'log',\n",
       " 'log10',\n",
       " 'log1p',\n",
       " 'log2',\n",
       " 'modf',\n",
       " 'nan',\n",
       " 'pi',\n",
       " 'pow',\n",
       " 'radians',\n",
       " 'sin',\n",
       " 'sinh',\n",
       " 'sqrt',\n",
       " 'tan',\n",
       " 'tanh',\n",
       " 'tau',\n",
       " 'trunc']"
      ]
     },
     "execution_count": 9,
     "metadata": {},
     "output_type": "execute_result"
    }
   ],
   "source": [
    "dir(math)"
   ]
  },
  {
   "cell_type": "code",
   "execution_count": 11,
   "id": "e14d22ce",
   "metadata": {},
   "outputs": [
    {
     "data": {
      "text/plain": [
       "6"
      ]
     },
     "execution_count": 11,
     "metadata": {},
     "output_type": "execute_result"
    }
   ],
   "source": [
    "x1=5.7\n",
    "math.ceil(x1)"
   ]
  },
  {
   "cell_type": "code",
   "execution_count": 12,
   "id": "c9b343c1",
   "metadata": {},
   "outputs": [
    {
     "data": {
      "text/plain": [
       "0.9933903797222716"
      ]
     },
     "execution_count": 12,
     "metadata": {},
     "output_type": "execute_result"
    }
   ],
   "source": [
    "x2=69\n",
    "math.cos(x2)"
   ]
  },
  {
   "cell_type": "code",
   "execution_count": 13,
   "id": "84c6d713",
   "metadata": {},
   "outputs": [
    {
     "data": {
      "text/plain": [
       "2.718281828459045"
      ]
     },
     "execution_count": 13,
     "metadata": {},
     "output_type": "execute_result"
    }
   ],
   "source": [
    "math.e"
   ]
  },
  {
   "cell_type": "code",
   "execution_count": 14,
   "id": "180eda6d",
   "metadata": {},
   "outputs": [
    {
     "data": {
      "text/plain": [
       "54.598150033144236"
      ]
     },
     "execution_count": 14,
     "metadata": {},
     "output_type": "execute_result"
    }
   ],
   "source": [
    "x3=4\n",
    "math.exp(x3)"
   ]
  },
  {
   "cell_type": "code",
   "execution_count": 15,
   "id": "cfd01bf3",
   "metadata": {},
   "outputs": [
    {
     "data": {
      "text/plain": [
       "54.59815003314423"
      ]
     },
     "execution_count": 15,
     "metadata": {},
     "output_type": "execute_result"
    }
   ],
   "source": [
    "pow(math.e,x3)"
   ]
  },
  {
   "cell_type": "code",
   "execution_count": 16,
   "id": "d8cda312",
   "metadata": {},
   "outputs": [
    {
     "data": {
      "text/plain": [
       "8.8"
      ]
     },
     "execution_count": 16,
     "metadata": {},
     "output_type": "execute_result"
    }
   ],
   "source": [
    "x4=-8.8\n",
    "math.fabs(x4)"
   ]
  },
  {
   "cell_type": "code",
   "execution_count": 17,
   "id": "21506ded",
   "metadata": {},
   "outputs": [
    {
     "data": {
      "text/plain": [
       "8.8"
      ]
     },
     "execution_count": 17,
     "metadata": {},
     "output_type": "execute_result"
    }
   ],
   "source": [
    "abs(x4)"
   ]
  },
  {
   "cell_type": "code",
   "execution_count": 18,
   "id": "cf861950",
   "metadata": {},
   "outputs": [
    {
     "data": {
      "text/plain": [
       "40320"
      ]
     },
     "execution_count": 18,
     "metadata": {},
     "output_type": "execute_result"
    }
   ],
   "source": [
    "x5=8\n",
    "math.factorial(x5)"
   ]
  },
  {
   "cell_type": "code",
   "execution_count": 19,
   "id": "f0494346",
   "metadata": {},
   "outputs": [
    {
     "data": {
      "text/plain": [
       "5"
      ]
     },
     "execution_count": 19,
     "metadata": {},
     "output_type": "execute_result"
    }
   ],
   "source": [
    "x6=5.8\n",
    "math.floor(x6)"
   ]
  },
  {
   "cell_type": "code",
   "execution_count": 20,
   "id": "30af2d84",
   "metadata": {},
   "outputs": [
    {
     "data": {
      "text/plain": [
       "0.0243"
      ]
     },
     "execution_count": 20,
     "metadata": {},
     "output_type": "execute_result"
    }
   ],
   "source": [
    "r_list=[0.0192,-0.0001,0.0060,0.0074,-0.0127,-0.0067,0.0095,-0.0095,0.0112]\n",
    "math.fsum(r_list)"
   ]
  },
  {
   "cell_type": "code",
   "execution_count": 21,
   "id": "0a90ccd4",
   "metadata": {},
   "outputs": [
    {
     "data": {
      "text/plain": [
       "1.5"
      ]
     },
     "execution_count": 21,
     "metadata": {},
     "output_type": "execute_result"
    }
   ],
   "source": [
    "x=8\n",
    "y=4\n",
    "math.log(x,y) #logy(x)"
   ]
  },
  {
   "cell_type": "code",
   "execution_count": 22,
   "id": "d17bba37",
   "metadata": {},
   "outputs": [
    {
     "data": {
      "text/plain": [
       "2.0794415416798357"
      ]
     },
     "execution_count": 22,
     "metadata": {},
     "output_type": "execute_result"
    }
   ],
   "source": [
    "math.log(x) #ln(x)"
   ]
  },
  {
   "cell_type": "code",
   "execution_count": 23,
   "id": "31c372f9",
   "metadata": {},
   "outputs": [
    {
     "data": {
      "text/plain": [
       "3.0"
      ]
     },
     "execution_count": 23,
     "metadata": {},
     "output_type": "execute_result"
    }
   ],
   "source": [
    "x7=1000\n",
    "math.log10(x7)"
   ]
  },
  {
   "cell_type": "code",
   "execution_count": 25,
   "id": "09f060e3",
   "metadata": {},
   "outputs": [
    {
     "data": {
      "text/plain": [
       "0.4054651081081644"
      ]
     },
     "execution_count": 25,
     "metadata": {},
     "output_type": "execute_result"
    }
   ],
   "source": [
    "x8=0.5\n",
    "math.log1p(x8) #ln(1+x)"
   ]
  },
  {
   "cell_type": "code",
   "execution_count": 26,
   "id": "439c1ddd",
   "metadata": {},
   "outputs": [
    {
     "data": {
      "text/plain": [
       "0.4054651081081644"
      ]
     },
     "execution_count": 26,
     "metadata": {},
     "output_type": "execute_result"
    }
   ],
   "source": [
    "math.log(1+x8)"
   ]
  },
  {
   "cell_type": "code",
   "execution_count": 27,
   "id": "acd8076d",
   "metadata": {},
   "outputs": [
    {
     "data": {
      "text/plain": [
       "4.0"
      ]
     },
     "execution_count": 27,
     "metadata": {},
     "output_type": "execute_result"
    }
   ],
   "source": [
    "x9=16\n",
    "math.log2(x9)"
   ]
  },
  {
   "cell_type": "code",
   "execution_count": 28,
   "id": "98a0c9b8",
   "metadata": {},
   "outputs": [
    {
     "data": {
      "text/plain": [
       "3.141592653589793"
      ]
     },
     "execution_count": 28,
     "metadata": {},
     "output_type": "execute_result"
    }
   ],
   "source": [
    "math.pi"
   ]
  },
  {
   "cell_type": "code",
   "execution_count": 29,
   "id": "c2b6d0c1",
   "metadata": {},
   "outputs": [
    {
     "data": {
      "text/plain": [
       "64.0"
      ]
     },
     "execution_count": 29,
     "metadata": {},
     "output_type": "execute_result"
    }
   ],
   "source": [
    "x=2\n",
    "y=6\n",
    "math.pow(x,y)"
   ]
  },
  {
   "cell_type": "code",
   "execution_count": 30,
   "id": "1ae8908d",
   "metadata": {},
   "outputs": [
    {
     "data": {
      "text/plain": [
       "0.9092974268256817"
      ]
     },
     "execution_count": 30,
     "metadata": {},
     "output_type": "execute_result"
    }
   ],
   "source": [
    "x10=2\n",
    "math.sin(x10)"
   ]
  },
  {
   "cell_type": "code",
   "execution_count": 31,
   "id": "ba9ddbb3",
   "metadata": {},
   "outputs": [
    {
     "data": {
      "text/plain": [
       "6.0"
      ]
     },
     "execution_count": 31,
     "metadata": {},
     "output_type": "execute_result"
    }
   ],
   "source": [
    "x11=36\n",
    "math.sqrt(x11)"
   ]
  },
  {
   "cell_type": "code",
   "execution_count": 32,
   "id": "a6d06ded",
   "metadata": {},
   "outputs": [
    {
     "data": {
      "text/plain": [
       "-0.28142960456426525"
      ]
     },
     "execution_count": 32,
     "metadata": {},
     "output_type": "execute_result"
    }
   ],
   "source": [
    "x12=28\n",
    "math.tan(x12)"
   ]
  },
  {
   "cell_type": "code",
   "execution_count": 33,
   "id": "f93e8a07",
   "metadata": {},
   "outputs": [
    {
     "data": {
      "text/plain": [
       "11"
      ]
     },
     "execution_count": 33,
     "metadata": {},
     "output_type": "execute_result"
    }
   ],
   "source": [
    "x13=11.5\n",
    "math.trunc(x13)"
   ]
  },
  {
   "cell_type": "code",
   "execution_count": null,
   "id": "af33c7f3",
   "metadata": {},
   "outputs": [],
   "source": []
  }
 ],
 "metadata": {
  "kernelspec": {
   "display_name": "Custom (custom_python)",
   "language": "python",
   "name": "custom_python"
  },
  "language_info": {
   "codemirror_mode": {
    "name": "ipython",
    "version": 3
   },
   "file_extension": ".py",
   "mimetype": "text/x-python",
   "name": "python",
   "nbconvert_exporter": "python",
   "pygments_lexer": "ipython3",
   "version": "3.6.13"
  }
 },
 "nbformat": 4,
 "nbformat_minor": 5
}
