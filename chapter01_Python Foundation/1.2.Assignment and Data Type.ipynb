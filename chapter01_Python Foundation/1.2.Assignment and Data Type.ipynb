{
 "cells": [
  {
   "cell_type": "code",
   "execution_count": 1,
   "id": "a754a321",
   "metadata": {},
   "outputs": [],
   "source": [
    "##########################################################################\n",
    "# Created on Sat Otc 23 15:21:13 2021                                    #\n",
    "# Python for Financial Analysis and Risk Management                      #\n",
    "# @author: Meng Lipeng (FRM, CFA)                                        #\n",
    "##########################################################################"
   ]
  },
  {
   "cell_type": "markdown",
   "id": "4e64f125",
   "metadata": {},
   "source": [
    "# 1.2.1.Variable Assignment"
   ]
  },
  {
   "cell_type": "code",
   "execution_count": 5,
   "id": "b0a0ebb2",
   "metadata": {},
   "outputs": [],
   "source": [
    "rate=0.06"
   ]
  },
  {
   "cell_type": "code",
   "execution_count": 6,
   "id": "be8c79a1",
   "metadata": {},
   "outputs": [],
   "source": [
    "r=0.06"
   ]
  },
  {
   "cell_type": "code",
   "execution_count": 7,
   "id": "a15b2dff",
   "metadata": {},
   "outputs": [],
   "source": [
    "rate=0.05"
   ]
  },
  {
   "cell_type": "code",
   "execution_count": 8,
   "id": "f91d2d0a",
   "metadata": {},
   "outputs": [
    {
     "data": {
      "text/plain": [
       "0.05"
      ]
     },
     "execution_count": 8,
     "metadata": {},
     "output_type": "execute_result"
    }
   ],
   "source": [
    "rate"
   ]
  },
  {
   "cell_type": "code",
   "execution_count": 9,
   "id": "8fd52fa6",
   "metadata": {},
   "outputs": [],
   "source": [
    "rate=0.04"
   ]
  },
  {
   "cell_type": "code",
   "execution_count": 10,
   "id": "43d94677",
   "metadata": {},
   "outputs": [
    {
     "data": {
      "text/plain": [
       "0.04"
      ]
     },
     "execution_count": 10,
     "metadata": {},
     "output_type": "execute_result"
    }
   ],
   "source": [
    "rate"
   ]
  },
  {
   "cell_type": "markdown",
   "id": "3f549519",
   "metadata": {},
   "source": [
    "# 1.2.2.Integer"
   ]
  },
  {
   "cell_type": "code",
   "execution_count": 11,
   "id": "5f8165ea",
   "metadata": {},
   "outputs": [],
   "source": [
    "share=20000"
   ]
  },
  {
   "cell_type": "code",
   "execution_count": 12,
   "id": "b0b414c8",
   "metadata": {},
   "outputs": [
    {
     "data": {
      "text/plain": [
       "int"
      ]
     },
     "execution_count": 12,
     "metadata": {},
     "output_type": "execute_result"
    }
   ],
   "source": [
    "type(share)"
   ]
  },
  {
   "cell_type": "markdown",
   "id": "a8a4fc22",
   "metadata": {},
   "source": [
    "# 1.2.3.Float"
   ]
  },
  {
   "cell_type": "code",
   "execution_count": 13,
   "id": "902152a2",
   "metadata": {},
   "outputs": [
    {
     "data": {
      "text/plain": [
       "float"
      ]
     },
     "execution_count": 13,
     "metadata": {},
     "output_type": "execute_result"
    }
   ],
   "source": [
    "type(rate)"
   ]
  },
  {
   "cell_type": "code",
   "execution_count": 14,
   "id": "d4167604",
   "metadata": {},
   "outputs": [],
   "source": [
    "share1=20000."
   ]
  },
  {
   "cell_type": "code",
   "execution_count": 15,
   "id": "28b3820f",
   "metadata": {},
   "outputs": [
    {
     "data": {
      "text/plain": [
       "float"
      ]
     },
     "execution_count": 15,
     "metadata": {},
     "output_type": "execute_result"
    }
   ],
   "source": [
    "type(share1)"
   ]
  },
  {
   "cell_type": "code",
   "execution_count": 16,
   "id": "28b42849",
   "metadata": {},
   "outputs": [],
   "source": [
    "share2=2e4"
   ]
  },
  {
   "cell_type": "code",
   "execution_count": 17,
   "id": "4d97bb22",
   "metadata": {},
   "outputs": [
    {
     "data": {
      "text/plain": [
       "float"
      ]
     },
     "execution_count": 17,
     "metadata": {},
     "output_type": "execute_result"
    }
   ],
   "source": [
    "type(share2)"
   ]
  },
  {
   "cell_type": "markdown",
   "id": "30c0172d",
   "metadata": {},
   "source": [
    "# 1.2.4.Complex"
   ]
  },
  {
   "cell_type": "code",
   "execution_count": 18,
   "id": "c113b015",
   "metadata": {},
   "outputs": [],
   "source": [
    "x=2+3j"
   ]
  },
  {
   "cell_type": "code",
   "execution_count": 19,
   "id": "4f5c5e0a",
   "metadata": {},
   "outputs": [
    {
     "data": {
      "text/plain": [
       "complex"
      ]
     },
     "execution_count": 19,
     "metadata": {},
     "output_type": "execute_result"
    }
   ],
   "source": [
    "type(x)"
   ]
  },
  {
   "cell_type": "markdown",
   "id": "2f6dcfba",
   "metadata": {},
   "source": [
    "# 1.2.5.String"
   ]
  },
  {
   "cell_type": "markdown",
   "id": "70bfd44a",
   "metadata": {},
   "source": [
    "## Quote Identifier"
   ]
  },
  {
   "cell_type": "code",
   "execution_count": 20,
   "id": "81e3748b",
   "metadata": {},
   "outputs": [
    {
     "data": {
      "text/plain": [
       "str"
      ]
     },
     "execution_count": 20,
     "metadata": {},
     "output_type": "execute_result"
    }
   ],
   "source": [
    "a='finance'\n",
    "type(a)"
   ]
  },
  {
   "cell_type": "code",
   "execution_count": 21,
   "id": "68c22345",
   "metadata": {},
   "outputs": [
    {
     "data": {
      "text/plain": [
       "str"
      ]
     },
     "execution_count": 21,
     "metadata": {},
     "output_type": "execute_result"
    }
   ],
   "source": [
    "b=\"risk management\"\n",
    "type(b)"
   ]
  },
  {
   "cell_type": "code",
   "execution_count": 22,
   "id": "8fbb10c6",
   "metadata": {},
   "outputs": [
    {
     "data": {
      "text/plain": [
       "str"
      ]
     },
     "execution_count": 22,
     "metadata": {},
     "output_type": "execute_result"
    }
   ],
   "source": [
    "c='金融风险管理'\n",
    "type(c)"
   ]
  },
  {
   "cell_type": "code",
   "execution_count": 23,
   "id": "2aed046e",
   "metadata": {},
   "outputs": [
    {
     "data": {
      "text/plain": [
       "str"
      ]
     },
     "execution_count": 23,
     "metadata": {},
     "output_type": "execute_result"
    }
   ],
   "source": [
    "d='888'\n",
    "type(d)"
   ]
  },
  {
   "cell_type": "code",
   "execution_count": 24,
   "id": "de4ef244",
   "metadata": {},
   "outputs": [
    {
     "data": {
      "text/plain": [
       "str"
      ]
     },
     "execution_count": 24,
     "metadata": {},
     "output_type": "execute_result"
    }
   ],
   "source": [
    "e='1+1'\n",
    "type(e)"
   ]
  },
  {
   "cell_type": "markdown",
   "id": "cd7f2d47",
   "metadata": {},
   "source": [
    "## Indexable"
   ]
  },
  {
   "cell_type": "code",
   "execution_count": 25,
   "id": "2170fe55",
   "metadata": {},
   "outputs": [
    {
     "data": {
      "text/plain": [
       "'f'"
      ]
     },
     "execution_count": 25,
     "metadata": {},
     "output_type": "execute_result"
    }
   ],
   "source": [
    "a[0]"
   ]
  },
  {
   "cell_type": "code",
   "execution_count": 26,
   "id": "3cc14c94",
   "metadata": {},
   "outputs": [
    {
     "data": {
      "text/plain": [
       "'a'"
      ]
     },
     "execution_count": 26,
     "metadata": {},
     "output_type": "execute_result"
    }
   ],
   "source": [
    "a[3]"
   ]
  },
  {
   "cell_type": "code",
   "execution_count": 27,
   "id": "4dfff91f",
   "metadata": {},
   "outputs": [
    {
     "data": {
      "text/plain": [
       "'e'"
      ]
     },
     "execution_count": 27,
     "metadata": {},
     "output_type": "execute_result"
    }
   ],
   "source": [
    "a[-1]"
   ]
  },
  {
   "cell_type": "markdown",
   "id": "31051e33",
   "metadata": {},
   "source": [
    "## Slicable"
   ]
  },
  {
   "cell_type": "code",
   "execution_count": 28,
   "id": "032c57c5",
   "metadata": {},
   "outputs": [],
   "source": [
    "y='I hate risk'"
   ]
  },
  {
   "cell_type": "code",
   "execution_count": 29,
   "id": "dee2ecaf",
   "metadata": {},
   "outputs": [
    {
     "data": {
      "text/plain": [
       "'hate'"
      ]
     },
     "execution_count": 29,
     "metadata": {},
     "output_type": "execute_result"
    }
   ],
   "source": [
    "y[2:6]"
   ]
  },
  {
   "cell_type": "code",
   "execution_count": 30,
   "id": "0a3b4c3c",
   "metadata": {},
   "outputs": [
    {
     "data": {
      "text/plain": [
       "'risk'"
      ]
     },
     "execution_count": 30,
     "metadata": {},
     "output_type": "execute_result"
    }
   ],
   "source": [
    "y[7:]"
   ]
  },
  {
   "cell_type": "code",
   "execution_count": 31,
   "id": "b83438fc",
   "metadata": {},
   "outputs": [
    {
     "data": {
      "text/plain": [
       "'I hate'"
      ]
     },
     "execution_count": 31,
     "metadata": {},
     "output_type": "execute_result"
    }
   ],
   "source": [
    "y[:6]"
   ]
  },
  {
   "cell_type": "code",
   "execution_count": 32,
   "id": "dd5989bd",
   "metadata": {},
   "outputs": [],
   "source": [
    "z='I love risk management'"
   ]
  },
  {
   "cell_type": "code",
   "execution_count": 34,
   "id": "490fad45",
   "metadata": {},
   "outputs": [
    {
     "data": {
      "text/plain": [
       "'lrme'"
      ]
     },
     "execution_count": 34,
     "metadata": {},
     "output_type": "execute_result"
    }
   ],
   "source": [
    "z[2:20:5]"
   ]
  },
  {
   "cell_type": "markdown",
   "id": "2c965c15",
   "metadata": {},
   "source": [
    "## Replacable"
   ]
  },
  {
   "cell_type": "code",
   "execution_count": 35,
   "id": "3e6ee100",
   "metadata": {},
   "outputs": [],
   "source": [
    "w='I love risk'"
   ]
  },
  {
   "cell_type": "code",
   "execution_count": 36,
   "id": "c3395f34",
   "metadata": {},
   "outputs": [
    {
     "data": {
      "text/plain": [
       "'I hate risk'"
      ]
     },
     "execution_count": 36,
     "metadata": {},
     "output_type": "execute_result"
    }
   ],
   "source": [
    "w.replace('love','hate')"
   ]
  },
  {
   "cell_type": "code",
   "execution_count": null,
   "id": "8a575b17",
   "metadata": {},
   "outputs": [],
   "source": []
  }
 ],
 "metadata": {
  "kernelspec": {
   "display_name": "Custom (custom_python)",
   "language": "python",
   "name": "custom_python"
  },
  "language_info": {
   "codemirror_mode": {
    "name": "ipython",
    "version": 3
   },
   "file_extension": ".py",
   "mimetype": "text/x-python",
   "name": "python",
   "nbconvert_exporter": "python",
   "pygments_lexer": "ipython3",
   "version": "3.6.13"
  }
 },
 "nbformat": 4,
 "nbformat_minor": 5
}
