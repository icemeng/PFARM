{
 "cells": [
  {
   "cell_type": "code",
   "execution_count": 1,
   "id": "42b38497",
   "metadata": {},
   "outputs": [],
   "source": [
    "##########################################################################\n",
    "# Created on Sat Otc 23 23:27:05 2021                                    #\n",
    "# Python for Financial Analysis and Risk Management                      #\n",
    "# @author: Meng Lipeng (FRM, CFA)                                        #\n",
    "##########################################################################"
   ]
  },
  {
   "cell_type": "markdown",
   "id": "08ce25f5",
   "metadata": {},
   "source": [
    "# 1.6.1.Condition"
   ]
  },
  {
   "cell_type": "code",
   "execution_count": 1,
   "id": "247c9547",
   "metadata": {},
   "outputs": [
    {
     "name": "stdout",
     "output_type": "stream",
     "text": [
      "Positive return:  0.0197\n"
     ]
    }
   ],
   "source": [
    "r1=0.0197\n",
    "if r1>0:\n",
    "    print('Positive return: ', r1)\n",
    "else:\n",
    "    print('Not positive return: ', r1)"
   ]
  },
  {
   "cell_type": "code",
   "execution_count": 2,
   "id": "1104df3e",
   "metadata": {},
   "outputs": [
    {
     "name": "stdout",
     "output_type": "stream",
     "text": [
      "Negative return:  -0.0133\n"
     ]
    }
   ],
   "source": [
    "r2=-0.0133\n",
    "if r2>0:\n",
    "    print('Positive return: ', r2)\n",
    "elif r2==0:\n",
    "    print('Zero return: ', r2)\n",
    "else:\n",
    "    print('Negative return: ', r2)"
   ]
  },
  {
   "cell_type": "markdown",
   "id": "ade00a16",
   "metadata": {},
   "source": [
    "# 1.6.2.Loop"
   ]
  },
  {
   "cell_type": "markdown",
   "id": "5d231bce",
   "metadata": {},
   "source": [
    "## for"
   ]
  },
  {
   "cell_type": "markdown",
   "id": "30dcf5a2",
   "metadata": {},
   "source": [
    "### Geometric mean"
   ]
  },
  {
   "cell_type": "markdown",
   "id": "f3966951",
   "metadata": {},
   "source": [
    "$\\overline R=\\sqrt[n]{\\prod_{i=1}^n(1+R_{i})}-1$"
   ]
  },
  {
   "cell_type": "code",
   "execution_count": 3,
   "id": "46e7279b",
   "metadata": {},
   "outputs": [],
   "source": [
    "def G_mean(r):\n",
    "    '''A function of geometric mean\n",
    "    r: List of return'''\n",
    "    total=1\n",
    "    n=len(r)\n",
    "    for i in r:\n",
    "        total=total*(1+i)\n",
    "    mean=pow(total,1/n)-1\n",
    "    return mean"
   ]
  },
  {
   "cell_type": "code",
   "execution_count": 4,
   "id": "27fd4c54",
   "metadata": {},
   "outputs": [
    {
     "name": "stdout",
     "output_type": "stream",
     "text": [
      "GMean of daily return 0.000841\n"
     ]
    }
   ],
   "source": [
    "index=[0.005,-0.009,0.006,-0.0019,-0.0106,0.0025,-0.0019,0.0044,0.0133]\n",
    "mean3=G_mean(index)\n",
    "print('GMean of daily return', round(mean3,6))"
   ]
  },
  {
   "cell_type": "markdown",
   "id": "a246d4bf",
   "metadata": {},
   "source": [
    "## while"
   ]
  },
  {
   "cell_type": "code",
   "execution_count": 5,
   "id": "4ab2e785",
   "metadata": {},
   "outputs": [
    {
     "name": "stdout",
     "output_type": "stream",
     "text": [
      "Output number is:  0\n",
      "Output number is:  1\n",
      "Output number is:  2\n",
      "Output number is:  3\n",
      "Output number is:  4\n",
      "Output number is:  5\n",
      "Output number is:  6\n",
      "Output number is:  7\n",
      "Output number is:  8\n",
      "Completed\n"
     ]
    }
   ],
   "source": [
    "n=0\n",
    "while n<=8:\n",
    "    print('Output number is: ', n)\n",
    "    n+=1\n",
    "print('Completed')"
   ]
  },
  {
   "cell_type": "code",
   "execution_count": 6,
   "id": "3cc1b480",
   "metadata": {},
   "outputs": [
    {
     "name": "stdout",
     "output_type": "stream",
     "text": [
      "[0, 1, 2, 3, 4, 5, 6, 7, 8]\n"
     ]
    }
   ],
   "source": [
    "n=0\n",
    "list_range=[]\n",
    "while n<9:\n",
    "    list_range.append(n)\n",
    "    n+=1\n",
    "print(list_range)"
   ]
  },
  {
   "cell_type": "markdown",
   "id": "506ab442",
   "metadata": {},
   "source": [
    "# 1.6.3.Combination"
   ]
  },
  {
   "cell_type": "markdown",
   "id": "815d4bf1",
   "metadata": {},
   "source": [
    "$\\color{black} {Index \\ Return \\ 2020/04/20 - 2020/04/30} \\\\\n",
    "\\begin{array}{c|c}\n",
    "\\text{Date} & \\text{Index Return} \\\\\n",
    "\\hline\n",
    "2020/04/20 & 1.92\\% \\\\\n",
    "\\hline\n",
    "2020/04/21 & -0.01\\% \\\\\n",
    "\\hline\n",
    "2020/04/22 & 0.60\\% \\\\\n",
    "\\hline\n",
    "2020/04/23 & 0.74\\% \\\\\n",
    "\\hline\n",
    "2020/04/24 & -1.27\\% \\\\\n",
    "\\hline\n",
    "2020/04/27 & -0.67\\% \\\\\n",
    "\\hline\n",
    "2020/04/28 & 0.95\\% \\\\\n",
    "\\hline\n",
    "2020/04/29 & -0.95\\% \\\\\n",
    "\\hline\n",
    "2020/04/30 & 1.12\\% \\\\\n",
    "\\hline\n",
    "\\end{array}$"
   ]
  },
  {
   "cell_type": "code",
   "execution_count": 7,
   "id": "2d7d95d8",
   "metadata": {},
   "outputs": [],
   "source": [
    "# Task1:\n",
    "# Access data above one by one\n",
    "# Once negative return > 1%, terminate the process and output data that have been accessed. "
   ]
  },
  {
   "cell_type": "code",
   "execution_count": 9,
   "id": "f141f99d",
   "metadata": {},
   "outputs": [],
   "source": [
    "r_list=[0.0192,-0.0001,0.0060,0.0074,-0.0127,-0.0067,0.0095,-0.0095,0.0112]"
   ]
  },
  {
   "cell_type": "code",
   "execution_count": 10,
   "id": "3fa40ea6",
   "metadata": {},
   "outputs": [
    {
     "name": "stdout",
     "output_type": "stream",
     "text": [
      "Index Return:  0.0192\n",
      "Index Return:  -0.0001\n",
      "Index Return:  0.006\n",
      "Index Return:  0.0074\n"
     ]
    }
   ],
   "source": [
    "for i in r_list:\n",
    "    if i<-0.01:\n",
    "        break\n",
    "    print('Index Return: ', i)"
   ]
  },
  {
   "cell_type": "code",
   "execution_count": 11,
   "id": "65aae381",
   "metadata": {},
   "outputs": [],
   "source": [
    "# Task2:\n",
    "# Access data above one by one\n",
    "# Once negative return > 1%, terminate the process and output data which meets the condition. "
   ]
  },
  {
   "cell_type": "code",
   "execution_count": 12,
   "id": "373ebb67",
   "metadata": {},
   "outputs": [
    {
     "name": "stdout",
     "output_type": "stream",
     "text": [
      "Index Return:  -0.0127\n"
     ]
    }
   ],
   "source": [
    "for i in r_list:\n",
    "    if i<-0.01:\n",
    "        break\n",
    "print('Index Return: ', i)"
   ]
  },
  {
   "cell_type": "code",
   "execution_count": 13,
   "id": "f1ed68b2",
   "metadata": {},
   "outputs": [],
   "source": [
    "# Task3:\n",
    "# Access data above one by one\n",
    "# Once return is positive, exclude it and output data which is negative. "
   ]
  },
  {
   "cell_type": "code",
   "execution_count": 14,
   "id": "a3450d05",
   "metadata": {},
   "outputs": [
    {
     "name": "stdout",
     "output_type": "stream",
     "text": [
      "Negative Return:  -0.0001\n",
      "Negative Return:  -0.0127\n",
      "Negative Return:  -0.0067\n",
      "Negative Return:  -0.0095\n"
     ]
    }
   ],
   "source": [
    "for i in r_list:\n",
    "    if i>0:\n",
    "        continue\n",
    "    print('Negative Return: ', i)"
   ]
  },
  {
   "cell_type": "code",
   "execution_count": 15,
   "id": "57e11c18",
   "metadata": {},
   "outputs": [
    {
     "name": "stdout",
     "output_type": "stream",
     "text": [
      "Negative Return:  -0.0001\n",
      "Negative Return:  -0.0127\n",
      "Negative Return:  -0.0067\n",
      "Negative Return:  -0.0095\n"
     ]
    }
   ],
   "source": [
    "for i in r_list:\n",
    "    if i>0:\n",
    "        pass\n",
    "    else:\n",
    "        print('Negative Return: ', i)"
   ]
  },
  {
   "cell_type": "code",
   "execution_count": 16,
   "id": "e6cc734e",
   "metadata": {},
   "outputs": [],
   "source": [
    "# Task4:\n",
    "# Access data above one by one\n",
    "# 1.List returns > 0.8%\n",
    "# 2.List returns < -0.8%\n",
    "# 3.List returns between -0.8% and 0.8%"
   ]
  },
  {
   "cell_type": "code",
   "execution_count": 17,
   "id": "ef8fc698",
   "metadata": {},
   "outputs": [],
   "source": [
    "r3=[]\n",
    "r4=[]\n",
    "r5=[]"
   ]
  },
  {
   "cell_type": "code",
   "execution_count": 18,
   "id": "a235bab6",
   "metadata": {},
   "outputs": [
    {
     "name": "stdout",
     "output_type": "stream",
     "text": [
      "Returns > 0.8%:  [0.0192, 0.0095, 0.0112]\n",
      "Returns < -0.8%:  [-0.0127, -0.0095]\n",
      "Returns [-0.8%,0.8%]:  [-0.0001, 0.006, 0.0074, -0.0067]\n"
     ]
    }
   ],
   "source": [
    "for i in r_list:\n",
    "    if i>0.008:\n",
    "        r3.append(i)\n",
    "    elif i<-0.008:\n",
    "        r4.append(i)\n",
    "    else:\n",
    "        r5.append(i)\n",
    "print('Returns > 0.8%: ', r3)\n",
    "print('Returns < -0.8%: ', r4)\n",
    "print('Returns [-0.8%,0.8%]: ', r5)"
   ]
  },
  {
   "cell_type": "code",
   "execution_count": null,
   "id": "72b88186",
   "metadata": {},
   "outputs": [],
   "source": []
  }
 ],
 "metadata": {
  "kernelspec": {
   "display_name": "Custom (custom_python)",
   "language": "python",
   "name": "custom_python"
  },
  "language_info": {
   "codemirror_mode": {
    "name": "ipython",
    "version": 3
   },
   "file_extension": ".py",
   "mimetype": "text/x-python",
   "name": "python",
   "nbconvert_exporter": "python",
   "pygments_lexer": "ipython3",
   "version": "3.6.12"
  }
 },
 "nbformat": 4,
 "nbformat_minor": 5
}
