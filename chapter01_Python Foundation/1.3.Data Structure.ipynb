{
 "cells": [
  {
   "cell_type": "code",
   "execution_count": null,
   "id": "2c4acb0d",
   "metadata": {},
   "outputs": [],
   "source": [
    "##########################################################################\n",
    "# Created on Sat Otc 23 16:00:13 2021                                    #\n",
    "# Python for Financial Analysis and Risk Management                      #\n",
    "# @author: Meng Lipeng (FRM, CFA)                                        #\n",
    "##########################################################################"
   ]
  },
  {
   "cell_type": "markdown",
   "id": "fe18190e",
   "metadata": {},
   "source": [
    "# 1.3.1.Tuple"
   ]
  },
  {
   "cell_type": "code",
   "execution_count": 1,
   "id": "2092e335",
   "metadata": {},
   "outputs": [],
   "source": [
    "tupl=()"
   ]
  },
  {
   "cell_type": "code",
   "execution_count": 2,
   "id": "f766e7e3",
   "metadata": {},
   "outputs": [
    {
     "data": {
      "text/plain": [
       "tuple"
      ]
     },
     "execution_count": 2,
     "metadata": {},
     "output_type": "execute_result"
    }
   ],
   "source": [
    "type(tupl)"
   ]
  },
  {
   "cell_type": "code",
   "execution_count": 3,
   "id": "c4d88376",
   "metadata": {},
   "outputs": [],
   "source": [
    "tup2=(3,)"
   ]
  },
  {
   "cell_type": "code",
   "execution_count": 4,
   "id": "d26d3c04",
   "metadata": {},
   "outputs": [
    {
     "data": {
      "text/plain": [
       "tuple"
      ]
     },
     "execution_count": 4,
     "metadata": {},
     "output_type": "execute_result"
    }
   ],
   "source": [
    "type(tup2)"
   ]
  },
  {
   "cell_type": "code",
   "execution_count": 6,
   "id": "8efa9cc8",
   "metadata": {},
   "outputs": [],
   "source": [
    "tup4=('finance','风险管理',2021,88.88)"
   ]
  },
  {
   "cell_type": "code",
   "execution_count": 7,
   "id": "9347d0da",
   "metadata": {},
   "outputs": [
    {
     "data": {
      "text/plain": [
       "tuple"
      ]
     },
     "execution_count": 7,
     "metadata": {},
     "output_type": "execute_result"
    }
   ],
   "source": [
    "type(tup4)"
   ]
  },
  {
   "cell_type": "code",
   "execution_count": 8,
   "id": "5c044054",
   "metadata": {},
   "outputs": [
    {
     "data": {
      "text/plain": [
       "'finance'"
      ]
     },
     "execution_count": 8,
     "metadata": {},
     "output_type": "execute_result"
    }
   ],
   "source": [
    "tup4[0]"
   ]
  },
  {
   "cell_type": "code",
   "execution_count": 9,
   "id": "10344faa",
   "metadata": {},
   "outputs": [
    {
     "data": {
      "text/plain": [
       "88.88"
      ]
     },
     "execution_count": 9,
     "metadata": {},
     "output_type": "execute_result"
    }
   ],
   "source": [
    "tup4[-1]"
   ]
  },
  {
   "cell_type": "code",
   "execution_count": 10,
   "id": "b2c81ad5",
   "metadata": {},
   "outputs": [
    {
     "data": {
      "text/plain": [
       "('风险管理', 2021)"
      ]
     },
     "execution_count": 10,
     "metadata": {},
     "output_type": "execute_result"
    }
   ],
   "source": [
    "tup4[1:3]"
   ]
  },
  {
   "cell_type": "markdown",
   "id": "55820658",
   "metadata": {},
   "source": [
    "# 1.3.2.List"
   ]
  },
  {
   "cell_type": "markdown",
   "id": "b842c5df",
   "metadata": {},
   "source": [
    "## Creation"
   ]
  },
  {
   "cell_type": "code",
   "execution_count": 11,
   "id": "e61b4ade",
   "metadata": {},
   "outputs": [],
   "source": [
    "list1=[]"
   ]
  },
  {
   "cell_type": "code",
   "execution_count": 12,
   "id": "106ff1ed",
   "metadata": {},
   "outputs": [
    {
     "data": {
      "text/plain": [
       "list"
      ]
     },
     "execution_count": 12,
     "metadata": {},
     "output_type": "execute_result"
    }
   ],
   "source": [
    "type(list1)"
   ]
  },
  {
   "cell_type": "code",
   "execution_count": 13,
   "id": "11402e3e",
   "metadata": {},
   "outputs": [],
   "source": [
    "list2=['finance','risk management','金融风险管理',2021,6.66]"
   ]
  },
  {
   "cell_type": "code",
   "execution_count": 14,
   "id": "10a0eaa4",
   "metadata": {},
   "outputs": [
    {
     "data": {
      "text/plain": [
       "list"
      ]
     },
     "execution_count": 14,
     "metadata": {},
     "output_type": "execute_result"
    }
   ],
   "source": [
    "type(list2)"
   ]
  },
  {
   "cell_type": "markdown",
   "id": "d359bad4",
   "metadata": {},
   "source": [
    "## Access and Indexing"
   ]
  },
  {
   "cell_type": "code",
   "execution_count": 16,
   "id": "66b732b7",
   "metadata": {},
   "outputs": [
    {
     "data": {
      "text/plain": [
       "'finance'"
      ]
     },
     "execution_count": 16,
     "metadata": {},
     "output_type": "execute_result"
    }
   ],
   "source": [
    "list2[0]"
   ]
  },
  {
   "cell_type": "code",
   "execution_count": 17,
   "id": "12c57078",
   "metadata": {},
   "outputs": [
    {
     "data": {
      "text/plain": [
       "6.66"
      ]
     },
     "execution_count": 17,
     "metadata": {},
     "output_type": "execute_result"
    }
   ],
   "source": [
    "list2[-1]"
   ]
  },
  {
   "cell_type": "code",
   "execution_count": 18,
   "id": "73821103",
   "metadata": {},
   "outputs": [
    {
     "data": {
      "text/plain": [
       "['金融风险管理', 2021]"
      ]
     },
     "execution_count": 18,
     "metadata": {},
     "output_type": "execute_result"
    }
   ],
   "source": [
    "list2[2:4]"
   ]
  },
  {
   "cell_type": "code",
   "execution_count": 19,
   "id": "42a13b89",
   "metadata": {},
   "outputs": [
    {
     "data": {
      "text/plain": [
       "3"
      ]
     },
     "execution_count": 19,
     "metadata": {},
     "output_type": "execute_result"
    }
   ],
   "source": [
    "list2.index(2021)"
   ]
  },
  {
   "cell_type": "markdown",
   "id": "16e6b1b4",
   "metadata": {},
   "source": [
    "## Addition"
   ]
  },
  {
   "cell_type": "code",
   "execution_count": 20,
   "id": "d2eb76ca",
   "metadata": {},
   "outputs": [],
   "source": [
    "list1.append(0.004953)"
   ]
  },
  {
   "cell_type": "code",
   "execution_count": 21,
   "id": "d9537b9a",
   "metadata": {},
   "outputs": [],
   "source": [
    "list1.append(-0.008953)"
   ]
  },
  {
   "cell_type": "code",
   "execution_count": 22,
   "id": "e1806186",
   "metadata": {},
   "outputs": [],
   "source": [
    "list1.append(0.006002)"
   ]
  },
  {
   "cell_type": "code",
   "execution_count": 23,
   "id": "0df02970",
   "metadata": {},
   "outputs": [],
   "source": [
    "list1.append(-0.001927)"
   ]
  },
  {
   "cell_type": "code",
   "execution_count": 24,
   "id": "acd4ade8",
   "metadata": {},
   "outputs": [],
   "source": [
    "list1.append(-0.010558)"
   ]
  },
  {
   "cell_type": "code",
   "execution_count": 25,
   "id": "cc5ba20c",
   "metadata": {},
   "outputs": [
    {
     "data": {
      "text/plain": [
       "[0.004953, -0.008953, 0.006002, -0.001927, -0.010558]"
      ]
     },
     "execution_count": 25,
     "metadata": {},
     "output_type": "execute_result"
    }
   ],
   "source": [
    "list1"
   ]
  },
  {
   "cell_type": "markdown",
   "id": "c637929d",
   "metadata": {},
   "source": [
    "## Deletion"
   ]
  },
  {
   "cell_type": "code",
   "execution_count": 26,
   "id": "12b9b358",
   "metadata": {},
   "outputs": [],
   "source": [
    "list1.remove(0.006002)\n",
    "list1"
   ]
  },
  {
   "cell_type": "code",
   "execution_count": 28,
   "id": "ce229941",
   "metadata": {},
   "outputs": [],
   "source": [
    "list3=[2,4,6,8,10,2,4,2]"
   ]
  },
  {
   "cell_type": "code",
   "execution_count": 29,
   "id": "0b608a06",
   "metadata": {},
   "outputs": [],
   "source": [
    "list3.remove(2) #Only remove the first element\n",
    "list3"
   ]
  },
  {
   "cell_type": "code",
   "execution_count": 31,
   "id": "d55c26a3",
   "metadata": {},
   "outputs": [],
   "source": [
    "list3.clear()\n",
    "list3"
   ]
  },
  {
   "cell_type": "markdown",
   "id": "95921741",
   "metadata": {},
   "source": [
    "## Insertion"
   ]
  },
  {
   "cell_type": "code",
   "execution_count": 36,
   "id": "d1a527f1",
   "metadata": {},
   "outputs": [],
   "source": [
    "list1.insert(2,0.006002)\n",
    "list1"
   ]
  },
  {
   "cell_type": "markdown",
   "id": "d5b8dc21",
   "metadata": {},
   "source": [
    "## Sorting"
   ]
  },
  {
   "cell_type": "code",
   "execution_count": 41,
   "id": "172037cc",
   "metadata": {},
   "outputs": [
    {
     "data": {
      "text/plain": [
       "[-0.010558, -0.008953, -0.001927, 0.004953, 0.006002]"
      ]
     },
     "execution_count": 41,
     "metadata": {},
     "output_type": "execute_result"
    }
   ],
   "source": [
    "list1.sort()\n",
    "list1"
   ]
  },
  {
   "cell_type": "code",
   "execution_count": 42,
   "id": "ee79a758",
   "metadata": {},
   "outputs": [
    {
     "data": {
      "text/plain": [
       "[0.006002, 0.004953, -0.001927, -0.008953, -0.010558]"
      ]
     },
     "execution_count": 42,
     "metadata": {},
     "output_type": "execute_result"
    }
   ],
   "source": [
    "list1.reverse()\n",
    "list1"
   ]
  },
  {
   "cell_type": "markdown",
   "id": "0e7a245e",
   "metadata": {},
   "source": [
    "## Counting"
   ]
  },
  {
   "cell_type": "code",
   "execution_count": 43,
   "id": "5b50b8e9",
   "metadata": {},
   "outputs": [],
   "source": [
    "list4=['ICBC','CBC','BOC','CAC','BOC','ICBC','CAC','ICBC','BOC','ICBC','CBC']"
   ]
  },
  {
   "cell_type": "code",
   "execution_count": 44,
   "id": "f77c25e6",
   "metadata": {},
   "outputs": [
    {
     "data": {
      "text/plain": [
       "4"
      ]
     },
     "execution_count": 44,
     "metadata": {},
     "output_type": "execute_result"
    }
   ],
   "source": [
    "list4.count('ICBC')"
   ]
  },
  {
   "cell_type": "code",
   "execution_count": 45,
   "id": "50a9b2f8",
   "metadata": {},
   "outputs": [
    {
     "data": {
      "text/plain": [
       "3"
      ]
     },
     "execution_count": 45,
     "metadata": {},
     "output_type": "execute_result"
    }
   ],
   "source": [
    "list4.count('BOC')"
   ]
  },
  {
   "cell_type": "markdown",
   "id": "6ea7ef78",
   "metadata": {},
   "source": [
    "# 1.3.3.Set"
   ]
  },
  {
   "cell_type": "markdown",
   "id": "aaf475cc",
   "metadata": {},
   "source": [
    "## Creation"
   ]
  },
  {
   "cell_type": "code",
   "execution_count": 46,
   "id": "c8b4dcff",
   "metadata": {},
   "outputs": [],
   "source": [
    "set1={'SHCI','SZCI','Hesen','NK225','DowJones'}"
   ]
  },
  {
   "cell_type": "code",
   "execution_count": 47,
   "id": "48bc408c",
   "metadata": {},
   "outputs": [
    {
     "data": {
      "text/plain": [
       "set"
      ]
     },
     "execution_count": 47,
     "metadata": {},
     "output_type": "execute_result"
    }
   ],
   "source": [
    "type(set1)"
   ]
  },
  {
   "cell_type": "code",
   "execution_count": 48,
   "id": "eed58604",
   "metadata": {},
   "outputs": [],
   "source": [
    "set2={'SP500','DowJones','NK225','CAC40','DAX'}"
   ]
  },
  {
   "cell_type": "code",
   "execution_count": 49,
   "id": "7f1887d8",
   "metadata": {},
   "outputs": [
    {
     "data": {
      "text/plain": [
       "set"
      ]
     },
     "execution_count": 49,
     "metadata": {},
     "output_type": "execute_result"
    }
   ],
   "source": [
    "type(set2)"
   ]
  },
  {
   "cell_type": "markdown",
   "id": "79ec7e5a",
   "metadata": {},
   "source": [
    "## Union"
   ]
  },
  {
   "cell_type": "code",
   "execution_count": 50,
   "id": "80e749cc",
   "metadata": {},
   "outputs": [
    {
     "data": {
      "text/plain": [
       "{'CAC40', 'DAX', 'DowJones', 'Hesen', 'NK225', 'SHCI', 'SP500', 'SZCI'}"
      ]
     },
     "execution_count": 50,
     "metadata": {},
     "output_type": "execute_result"
    }
   ],
   "source": [
    "set1|set2"
   ]
  },
  {
   "cell_type": "markdown",
   "id": "e83b6e64",
   "metadata": {},
   "source": [
    "## Intersect"
   ]
  },
  {
   "cell_type": "code",
   "execution_count": 51,
   "id": "a7f255c5",
   "metadata": {},
   "outputs": [
    {
     "data": {
      "text/plain": [
       "{'DowJones', 'NK225'}"
      ]
     },
     "execution_count": 51,
     "metadata": {},
     "output_type": "execute_result"
    }
   ],
   "source": [
    "set1&set2"
   ]
  },
  {
   "cell_type": "code",
   "execution_count": 52,
   "id": "8a50c54c",
   "metadata": {},
   "outputs": [
    {
     "data": {
      "text/plain": [
       "{'DowJones', 'NK225'}"
      ]
     },
     "execution_count": 52,
     "metadata": {},
     "output_type": "execute_result"
    }
   ],
   "source": [
    "set1.intersection(set2)"
   ]
  },
  {
   "cell_type": "markdown",
   "id": "96f42f51",
   "metadata": {},
   "source": [
    "## Except"
   ]
  },
  {
   "cell_type": "code",
   "execution_count": 53,
   "id": "47f2b10f",
   "metadata": {},
   "outputs": [
    {
     "data": {
      "text/plain": [
       "{'Hesen', 'SHCI', 'SZCI'}"
      ]
     },
     "execution_count": 53,
     "metadata": {},
     "output_type": "execute_result"
    }
   ],
   "source": [
    "set1-set2"
   ]
  },
  {
   "cell_type": "code",
   "execution_count": 54,
   "id": "b981052b",
   "metadata": {},
   "outputs": [
    {
     "data": {
      "text/plain": [
       "{'CAC40', 'DAX', 'SP500'}"
      ]
     },
     "execution_count": 54,
     "metadata": {},
     "output_type": "execute_result"
    }
   ],
   "source": [
    "set2-set1"
   ]
  },
  {
   "cell_type": "markdown",
   "id": "df277584",
   "metadata": {},
   "source": [
    "## Addition"
   ]
  },
  {
   "cell_type": "code",
   "execution_count": 55,
   "id": "20ffc0ea",
   "metadata": {},
   "outputs": [
    {
     "data": {
      "text/plain": [
       "{'DAX', 'DowJones', 'Hesen', 'NK225', 'SHCI', 'SZCI'}"
      ]
     },
     "execution_count": 55,
     "metadata": {},
     "output_type": "execute_result"
    }
   ],
   "source": [
    "set1.add('DAX')\n",
    "set1"
   ]
  },
  {
   "cell_type": "markdown",
   "id": "fe49f86d",
   "metadata": {},
   "source": [
    "## Deletion"
   ]
  },
  {
   "cell_type": "code",
   "execution_count": 56,
   "id": "09ff95a8",
   "metadata": {},
   "outputs": [
    {
     "data": {
      "text/plain": [
       "{'CAC40', 'DAX', 'DowJones', 'SP500'}"
      ]
     },
     "execution_count": 56,
     "metadata": {},
     "output_type": "execute_result"
    }
   ],
   "source": [
    "set2.discard('NK225')\n",
    "set2"
   ]
  },
  {
   "cell_type": "markdown",
   "id": "fd09c3df",
   "metadata": {},
   "source": [
    "# 1.3.4.Dictionary"
   ]
  },
  {
   "cell_type": "markdown",
   "id": "2225e907",
   "metadata": {},
   "source": [
    "## Creation"
   ]
  },
  {
   "cell_type": "code",
   "execution_count": 57,
   "id": "977bbf08",
   "metadata": {},
   "outputs": [],
   "source": [
    "dict1={'Index':'HS300','Code':'000300','TradeDate':'2020-03-05','Return':0.0223}"
   ]
  },
  {
   "cell_type": "code",
   "execution_count": 59,
   "id": "3d1d19ad",
   "metadata": {},
   "outputs": [
    {
     "data": {
      "text/plain": [
       "{'Index': 'HS300',\n",
       " 'Code': '000300',\n",
       " 'TradeDate': '2020-03-05',\n",
       " 'Return': 0.0223}"
      ]
     },
     "execution_count": 59,
     "metadata": {},
     "output_type": "execute_result"
    }
   ],
   "source": [
    "dict1"
   ]
  },
  {
   "cell_type": "code",
   "execution_count": 60,
   "id": "0e0633f6",
   "metadata": {},
   "outputs": [
    {
     "data": {
      "text/plain": [
       "dict"
      ]
     },
     "execution_count": 60,
     "metadata": {},
     "output_type": "execute_result"
    }
   ],
   "source": [
    "type(dict1)"
   ]
  },
  {
   "cell_type": "code",
   "execution_count": 61,
   "id": "4eb99adf",
   "metadata": {},
   "outputs": [],
   "source": [
    "dict2={}"
   ]
  },
  {
   "cell_type": "code",
   "execution_count": 62,
   "id": "d5f9a039",
   "metadata": {},
   "outputs": [],
   "source": [
    "dict2['Index']='HS300'\n",
    "dict2['Code']='000300'\n",
    "dict2['TradeDate']='2020-03-05'\n",
    "dict2['Return']='0.0223'"
   ]
  },
  {
   "cell_type": "code",
   "execution_count": 63,
   "id": "429659ae",
   "metadata": {},
   "outputs": [
    {
     "data": {
      "text/plain": [
       "{'Index': 'HS300',\n",
       " 'Code': '000300',\n",
       " 'TradeDate': '2020-03-05',\n",
       " 'Return': '0.0223'}"
      ]
     },
     "execution_count": 63,
     "metadata": {},
     "output_type": "execute_result"
    }
   ],
   "source": [
    "dict2"
   ]
  },
  {
   "cell_type": "code",
   "execution_count": 64,
   "id": "97a2e36e",
   "metadata": {},
   "outputs": [
    {
     "data": {
      "text/plain": [
       "dict"
      ]
     },
     "execution_count": 64,
     "metadata": {},
     "output_type": "execute_result"
    }
   ],
   "source": [
    "type(dict2)"
   ]
  },
  {
   "cell_type": "markdown",
   "id": "c1f17286",
   "metadata": {},
   "source": [
    "## Access"
   ]
  },
  {
   "cell_type": "code",
   "execution_count": 65,
   "id": "fc0b84e6",
   "metadata": {},
   "outputs": [
    {
     "data": {
      "text/plain": [
       "dict_keys(['Index', 'Code', 'TradeDate', 'Return'])"
      ]
     },
     "execution_count": 65,
     "metadata": {},
     "output_type": "execute_result"
    }
   ],
   "source": [
    "dict1.keys()"
   ]
  },
  {
   "cell_type": "code",
   "execution_count": 66,
   "id": "3254054c",
   "metadata": {},
   "outputs": [
    {
     "data": {
      "text/plain": [
       "dict_values(['HS300', '000300', '2020-03-05', 0.0223])"
      ]
     },
     "execution_count": 66,
     "metadata": {},
     "output_type": "execute_result"
    }
   ],
   "source": [
    "dict1.values()"
   ]
  },
  {
   "cell_type": "code",
   "execution_count": 67,
   "id": "8f180300",
   "metadata": {},
   "outputs": [
    {
     "data": {
      "text/plain": [
       "dict_items([('Index', 'HS300'), ('Code', '000300'), ('TradeDate', '2020-03-05'), ('Return', 0.0223)])"
      ]
     },
     "execution_count": 67,
     "metadata": {},
     "output_type": "execute_result"
    }
   ],
   "source": [
    "dict1.items()"
   ]
  },
  {
   "cell_type": "code",
   "execution_count": 68,
   "id": "5ce0ac38",
   "metadata": {},
   "outputs": [
    {
     "data": {
      "text/plain": [
       "0.0223"
      ]
     },
     "execution_count": 68,
     "metadata": {},
     "output_type": "execute_result"
    }
   ],
   "source": [
    "dict1['Return']"
   ]
  },
  {
   "cell_type": "markdown",
   "id": "a9890e8c",
   "metadata": {},
   "source": [
    "## Modify"
   ]
  },
  {
   "cell_type": "code",
   "execution_count": 69,
   "id": "1112e5a3",
   "metadata": {},
   "outputs": [],
   "source": [
    "dict1['TradeDate']='2020-03-06'\n",
    "dict1['Return']=-0.0162"
   ]
  },
  {
   "cell_type": "code",
   "execution_count": 70,
   "id": "16223e6e",
   "metadata": {},
   "outputs": [
    {
     "data": {
      "text/plain": [
       "{'Index': 'HS300',\n",
       " 'Code': '000300',\n",
       " 'TradeDate': '2020-03-06',\n",
       " 'Return': -0.0162}"
      ]
     },
     "execution_count": 70,
     "metadata": {},
     "output_type": "execute_result"
    }
   ],
   "source": [
    "dict1"
   ]
  },
  {
   "cell_type": "code",
   "execution_count": 75,
   "id": "ca5dc4fa",
   "metadata": {},
   "outputs": [],
   "source": [
    "dict1.update({'ClosePrice':4138.51,'Volume(100M Yuan)':2531.69})"
   ]
  },
  {
   "cell_type": "code",
   "execution_count": 76,
   "id": "e4327f14",
   "metadata": {},
   "outputs": [
    {
     "data": {
      "text/plain": [
       "{'Index': 'HS300',\n",
       " 'Code': '000300',\n",
       " 'TradeDate': '2020-03-06',\n",
       " 'Return': -0.0162,\n",
       " 'ClosePrice': 4138.51,\n",
       " 'Volume(100M Yuan)': 2531.69}"
      ]
     },
     "execution_count": 76,
     "metadata": {},
     "output_type": "execute_result"
    }
   ],
   "source": [
    "dict1"
   ]
  },
  {
   "cell_type": "code",
   "execution_count": 77,
   "id": "41d5eb3c",
   "metadata": {},
   "outputs": [],
   "source": [
    "del dict1['Code']"
   ]
  },
  {
   "cell_type": "code",
   "execution_count": 78,
   "id": "dfc2cc61",
   "metadata": {},
   "outputs": [
    {
     "data": {
      "text/plain": [
       "{'Index': 'HS300',\n",
       " 'TradeDate': '2020-03-06',\n",
       " 'Return': -0.0162,\n",
       " 'ClosePrice': 4138.51,\n",
       " 'Volume(100M Yuan)': 2531.69}"
      ]
     },
     "execution_count": 78,
     "metadata": {},
     "output_type": "execute_result"
    }
   ],
   "source": [
    "dict1"
   ]
  },
  {
   "cell_type": "code",
   "execution_count": null,
   "id": "9b626012",
   "metadata": {},
   "outputs": [],
   "source": []
  }
 ],
 "metadata": {
  "kernelspec": {
   "display_name": "Custom (custom_python)",
   "language": "python",
   "name": "custom_python"
  },
  "language_info": {
   "codemirror_mode": {
    "name": "ipython",
    "version": 3
   },
   "file_extension": ".py",
   "mimetype": "text/x-python",
   "name": "python",
   "nbconvert_exporter": "python",
   "pygments_lexer": "ipython3",
   "version": "3.6.13"
  }
 },
 "nbformat": 4,
 "nbformat_minor": 5
}
