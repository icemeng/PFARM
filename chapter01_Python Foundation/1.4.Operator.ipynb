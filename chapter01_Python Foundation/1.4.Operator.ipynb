{
 "cells": [
  {
   "cell_type": "code",
   "execution_count": 1,
   "id": "24fa618a",
   "metadata": {},
   "outputs": [],
   "source": [
    "##########################################################################\n",
    "# Created on Sat Otc 23 21:32:13 2021                                    #\n",
    "# Python for Financial Analysis and Risk Management                      #\n",
    "# @author: Meng Lipeng (FRM, CFA)                                        #\n",
    "##########################################################################"
   ]
  },
  {
   "cell_type": "markdown",
   "id": "29bf98b0",
   "metadata": {},
   "source": [
    "# 1.4.1.Basic arithmetic"
   ]
  },
  {
   "cell_type": "markdown",
   "id": "527b186b",
   "metadata": {},
   "source": [
    "## Add"
   ]
  },
  {
   "cell_type": "code",
   "execution_count": 2,
   "id": "5aa1b84e",
   "metadata": {},
   "outputs": [],
   "source": [
    "a=2"
   ]
  },
  {
   "cell_type": "code",
   "execution_count": 3,
   "id": "3eb59b5b",
   "metadata": {},
   "outputs": [],
   "source": [
    "b=5"
   ]
  },
  {
   "cell_type": "code",
   "execution_count": 4,
   "id": "8a7b780c",
   "metadata": {},
   "outputs": [],
   "source": [
    "c=1."
   ]
  },
  {
   "cell_type": "code",
   "execution_count": 5,
   "id": "2fd1133e",
   "metadata": {},
   "outputs": [],
   "source": [
    "d=3.8"
   ]
  },
  {
   "cell_type": "code",
   "execution_count": 6,
   "id": "f0e63738",
   "metadata": {},
   "outputs": [],
   "source": [
    "e=6.95"
   ]
  },
  {
   "cell_type": "code",
   "execution_count": 7,
   "id": "1f6ba516",
   "metadata": {},
   "outputs": [
    {
     "data": {
      "text/plain": [
       "7"
      ]
     },
     "execution_count": 7,
     "metadata": {},
     "output_type": "execute_result"
    }
   ],
   "source": [
    "a+b"
   ]
  },
  {
   "cell_type": "code",
   "execution_count": 8,
   "id": "b9ec62bc",
   "metadata": {},
   "outputs": [
    {
     "data": {
      "text/plain": [
       "3.0"
      ]
     },
     "execution_count": 8,
     "metadata": {},
     "output_type": "execute_result"
    }
   ],
   "source": [
    "a+c"
   ]
  },
  {
   "cell_type": "code",
   "execution_count": 9,
   "id": "1e0a9091",
   "metadata": {},
   "outputs": [
    {
     "data": {
      "text/plain": [
       "10.75"
      ]
     },
     "execution_count": 9,
     "metadata": {},
     "output_type": "execute_result"
    }
   ],
   "source": [
    "d+e"
   ]
  },
  {
   "cell_type": "markdown",
   "id": "2a5c4530",
   "metadata": {},
   "source": [
    "## Substrate"
   ]
  },
  {
   "cell_type": "code",
   "execution_count": 10,
   "id": "04113a1b",
   "metadata": {},
   "outputs": [
    {
     "data": {
      "text/plain": [
       "-3"
      ]
     },
     "execution_count": 10,
     "metadata": {},
     "output_type": "execute_result"
    }
   ],
   "source": [
    "a-b"
   ]
  },
  {
   "cell_type": "code",
   "execution_count": 11,
   "id": "7b2b77d5",
   "metadata": {},
   "outputs": [
    {
     "data": {
      "text/plain": [
       "1.0"
      ]
     },
     "execution_count": 11,
     "metadata": {},
     "output_type": "execute_result"
    }
   ],
   "source": [
    "a-c"
   ]
  },
  {
   "cell_type": "code",
   "execution_count": 12,
   "id": "a4ac5717",
   "metadata": {},
   "outputs": [
    {
     "data": {
      "text/plain": [
       "-4.95"
      ]
     },
     "execution_count": 12,
     "metadata": {},
     "output_type": "execute_result"
    }
   ],
   "source": [
    "a-e"
   ]
  },
  {
   "cell_type": "code",
   "execution_count": 13,
   "id": "67187ff1",
   "metadata": {},
   "outputs": [
    {
     "data": {
      "text/plain": [
       "-3.1500000000000004"
      ]
     },
     "execution_count": 13,
     "metadata": {},
     "output_type": "execute_result"
    }
   ],
   "source": [
    "d-e"
   ]
  },
  {
   "cell_type": "code",
   "execution_count": 14,
   "id": "6cba86d2",
   "metadata": {},
   "outputs": [
    {
     "data": {
      "text/plain": [
       "-3.15"
      ]
     },
     "execution_count": 14,
     "metadata": {},
     "output_type": "execute_result"
    }
   ],
   "source": [
    "round(d-e,2)"
   ]
  },
  {
   "cell_type": "markdown",
   "id": "fed357d0",
   "metadata": {},
   "source": [
    "## Multiple"
   ]
  },
  {
   "cell_type": "code",
   "execution_count": 15,
   "id": "4b2866ac",
   "metadata": {},
   "outputs": [
    {
     "data": {
      "text/plain": [
       "10"
      ]
     },
     "execution_count": 15,
     "metadata": {},
     "output_type": "execute_result"
    }
   ],
   "source": [
    "a*b"
   ]
  },
  {
   "cell_type": "code",
   "execution_count": 16,
   "id": "b7afa457",
   "metadata": {},
   "outputs": [
    {
     "data": {
      "text/plain": [
       "2.0"
      ]
     },
     "execution_count": 16,
     "metadata": {},
     "output_type": "execute_result"
    }
   ],
   "source": [
    "a*c"
   ]
  },
  {
   "cell_type": "code",
   "execution_count": 17,
   "id": "687635c3",
   "metadata": {},
   "outputs": [
    {
     "data": {
      "text/plain": [
       "26.41"
      ]
     },
     "execution_count": 17,
     "metadata": {},
     "output_type": "execute_result"
    }
   ],
   "source": [
    "d*e"
   ]
  },
  {
   "cell_type": "markdown",
   "id": "02146efc",
   "metadata": {},
   "source": [
    "## Divide"
   ]
  },
  {
   "cell_type": "code",
   "execution_count": 18,
   "id": "9ad08d95",
   "metadata": {},
   "outputs": [],
   "source": [
    "f=4"
   ]
  },
  {
   "cell_type": "code",
   "execution_count": 19,
   "id": "b418d969",
   "metadata": {},
   "outputs": [
    {
     "data": {
      "text/plain": [
       "2.0"
      ]
     },
     "execution_count": 19,
     "metadata": {},
     "output_type": "execute_result"
    }
   ],
   "source": [
    "f/a"
   ]
  },
  {
   "cell_type": "code",
   "execution_count": 20,
   "id": "1d65fa4f",
   "metadata": {},
   "outputs": [
    {
     "data": {
      "text/plain": [
       "2.5"
      ]
     },
     "execution_count": 20,
     "metadata": {},
     "output_type": "execute_result"
    }
   ],
   "source": [
    "b/a"
   ]
  },
  {
   "cell_type": "code",
   "execution_count": 21,
   "id": "4e5e5f18",
   "metadata": {},
   "outputs": [
    {
     "data": {
      "text/plain": [
       "2.0"
      ]
     },
     "execution_count": 21,
     "metadata": {},
     "output_type": "execute_result"
    }
   ],
   "source": [
    "a/c"
   ]
  },
  {
   "cell_type": "code",
   "execution_count": 22,
   "id": "cfc98d83",
   "metadata": {},
   "outputs": [
    {
     "data": {
      "text/plain": [
       "1.8289473684210527"
      ]
     },
     "execution_count": 22,
     "metadata": {},
     "output_type": "execute_result"
    }
   ],
   "source": [
    "e/d"
   ]
  },
  {
   "cell_type": "markdown",
   "id": "618e6adb",
   "metadata": {},
   "source": [
    "## Power"
   ]
  },
  {
   "cell_type": "code",
   "execution_count": 23,
   "id": "a126c61e",
   "metadata": {},
   "outputs": [
    {
     "data": {
      "text/plain": [
       "32"
      ]
     },
     "execution_count": 23,
     "metadata": {},
     "output_type": "execute_result"
    }
   ],
   "source": [
    "a**b"
   ]
  },
  {
   "cell_type": "code",
   "execution_count": 24,
   "id": "6f24703e",
   "metadata": {},
   "outputs": [
    {
     "data": {
      "text/plain": [
       "25"
      ]
     },
     "execution_count": 24,
     "metadata": {},
     "output_type": "execute_result"
    }
   ],
   "source": [
    "b**a"
   ]
  },
  {
   "cell_type": "code",
   "execution_count": 25,
   "id": "7c3e8c16",
   "metadata": {},
   "outputs": [
    {
     "data": {
      "text/plain": [
       "2.0"
      ]
     },
     "execution_count": 25,
     "metadata": {},
     "output_type": "execute_result"
    }
   ],
   "source": [
    "a**c"
   ]
  },
  {
   "cell_type": "code",
   "execution_count": 26,
   "id": "c2b79e52",
   "metadata": {},
   "outputs": [
    {
     "data": {
      "text/plain": [
       "10702.765165970346"
      ]
     },
     "execution_count": 26,
     "metadata": {},
     "output_type": "execute_result"
    }
   ],
   "source": [
    "d**e"
   ]
  },
  {
   "cell_type": "markdown",
   "id": "4c9c55c7",
   "metadata": {},
   "source": [
    "## Mod"
   ]
  },
  {
   "cell_type": "code",
   "execution_count": 27,
   "id": "db781cfa",
   "metadata": {},
   "outputs": [
    {
     "data": {
      "text/plain": [
       "0"
      ]
     },
     "execution_count": 27,
     "metadata": {},
     "output_type": "execute_result"
    }
   ],
   "source": [
    "f%a"
   ]
  },
  {
   "cell_type": "code",
   "execution_count": 28,
   "id": "e479f124",
   "metadata": {},
   "outputs": [
    {
     "data": {
      "text/plain": [
       "1"
      ]
     },
     "execution_count": 28,
     "metadata": {},
     "output_type": "execute_result"
    }
   ],
   "source": [
    "b%a"
   ]
  },
  {
   "cell_type": "code",
   "execution_count": 29,
   "id": "b264edbd",
   "metadata": {},
   "outputs": [
    {
     "data": {
      "text/plain": [
       "1.7999999999999998"
      ]
     },
     "execution_count": 29,
     "metadata": {},
     "output_type": "execute_result"
    }
   ],
   "source": [
    "d%a"
   ]
  },
  {
   "cell_type": "code",
   "execution_count": 30,
   "id": "8805a441",
   "metadata": {},
   "outputs": [
    {
     "data": {
      "text/plain": [
       "3.8"
      ]
     },
     "execution_count": 30,
     "metadata": {},
     "output_type": "execute_result"
    }
   ],
   "source": [
    "d%e"
   ]
  },
  {
   "cell_type": "code",
   "execution_count": 31,
   "id": "4308bf83",
   "metadata": {},
   "outputs": [
    {
     "data": {
      "text/plain": [
       "3.1500000000000004"
      ]
     },
     "execution_count": 31,
     "metadata": {},
     "output_type": "execute_result"
    }
   ],
   "source": [
    "e%d"
   ]
  },
  {
   "cell_type": "markdown",
   "id": "a41e8e8a",
   "metadata": {},
   "source": [
    "## Exactly division"
   ]
  },
  {
   "cell_type": "code",
   "execution_count": 32,
   "id": "0b1ba275",
   "metadata": {},
   "outputs": [
    {
     "data": {
      "text/plain": [
       "2"
      ]
     },
     "execution_count": 32,
     "metadata": {},
     "output_type": "execute_result"
    }
   ],
   "source": [
    "b//a"
   ]
  },
  {
   "cell_type": "code",
   "execution_count": 33,
   "id": "2c636404",
   "metadata": {},
   "outputs": [
    {
     "data": {
      "text/plain": [
       "1.0"
      ]
     },
     "execution_count": 33,
     "metadata": {},
     "output_type": "execute_result"
    }
   ],
   "source": [
    "b//d"
   ]
  },
  {
   "cell_type": "code",
   "execution_count": 34,
   "id": "54ba6d2d",
   "metadata": {},
   "outputs": [
    {
     "data": {
      "text/plain": [
       "3.0"
      ]
     },
     "execution_count": 34,
     "metadata": {},
     "output_type": "execute_result"
    }
   ],
   "source": [
    "e//a"
   ]
  },
  {
   "cell_type": "code",
   "execution_count": 35,
   "id": "1d3bf1a1",
   "metadata": {},
   "outputs": [
    {
     "data": {
      "text/plain": [
       "1.0"
      ]
     },
     "execution_count": 35,
     "metadata": {},
     "output_type": "execute_result"
    }
   ],
   "source": [
    "e//d"
   ]
  },
  {
   "cell_type": "markdown",
   "id": "6115c715",
   "metadata": {},
   "source": [
    "# 1.4.2.Relation"
   ]
  },
  {
   "cell_type": "markdown",
   "id": "6465bbf4",
   "metadata": {},
   "source": [
    "### Equal"
   ]
  },
  {
   "cell_type": "code",
   "execution_count": 36,
   "id": "a8cde2ca",
   "metadata": {},
   "outputs": [
    {
     "data": {
      "text/plain": [
       "True"
      ]
     },
     "execution_count": 36,
     "metadata": {},
     "output_type": "execute_result"
    }
   ],
   "source": [
    "2==2"
   ]
  },
  {
   "cell_type": "code",
   "execution_count": 37,
   "id": "32e39eab",
   "metadata": {},
   "outputs": [
    {
     "data": {
      "text/plain": [
       "False"
      ]
     },
     "execution_count": 37,
     "metadata": {},
     "output_type": "execute_result"
    }
   ],
   "source": [
    "2==3"
   ]
  },
  {
   "cell_type": "markdown",
   "id": "91a18723",
   "metadata": {},
   "source": [
    "### Not equal"
   ]
  },
  {
   "cell_type": "code",
   "execution_count": 38,
   "id": "e8a9ac5d",
   "metadata": {},
   "outputs": [
    {
     "data": {
      "text/plain": [
       "True"
      ]
     },
     "execution_count": 38,
     "metadata": {},
     "output_type": "execute_result"
    }
   ],
   "source": [
    "2!=3"
   ]
  },
  {
   "cell_type": "code",
   "execution_count": 39,
   "id": "8845a766",
   "metadata": {},
   "outputs": [
    {
     "data": {
      "text/plain": [
       "False"
      ]
     },
     "execution_count": 39,
     "metadata": {},
     "output_type": "execute_result"
    }
   ],
   "source": [
    "2!=2"
   ]
  },
  {
   "cell_type": "markdown",
   "id": "4f9dc54b",
   "metadata": {},
   "source": [
    "### Bigger than"
   ]
  },
  {
   "cell_type": "code",
   "execution_count": 40,
   "id": "d1ce7319",
   "metadata": {},
   "outputs": [
    {
     "data": {
      "text/plain": [
       "True"
      ]
     },
     "execution_count": 40,
     "metadata": {},
     "output_type": "execute_result"
    }
   ],
   "source": [
    "2>1"
   ]
  },
  {
   "cell_type": "code",
   "execution_count": 41,
   "id": "4952a3d8",
   "metadata": {},
   "outputs": [
    {
     "data": {
      "text/plain": [
       "False"
      ]
     },
     "execution_count": 41,
     "metadata": {},
     "output_type": "execute_result"
    }
   ],
   "source": [
    "2>3"
   ]
  },
  {
   "cell_type": "markdown",
   "id": "07ef58cb",
   "metadata": {},
   "source": [
    "### Bigger equal"
   ]
  },
  {
   "cell_type": "code",
   "execution_count": 42,
   "id": "12aca4f0",
   "metadata": {},
   "outputs": [
    {
     "data": {
      "text/plain": [
       "True"
      ]
     },
     "execution_count": 42,
     "metadata": {},
     "output_type": "execute_result"
    }
   ],
   "source": [
    "2>=1"
   ]
  },
  {
   "cell_type": "code",
   "execution_count": 43,
   "id": "565e93e0",
   "metadata": {},
   "outputs": [
    {
     "data": {
      "text/plain": [
       "False"
      ]
     },
     "execution_count": 43,
     "metadata": {},
     "output_type": "execute_result"
    }
   ],
   "source": [
    "2>=3"
   ]
  },
  {
   "cell_type": "markdown",
   "id": "2600f0ad",
   "metadata": {},
   "source": [
    "### Smaller than"
   ]
  },
  {
   "cell_type": "code",
   "execution_count": 44,
   "id": "51f00d0e",
   "metadata": {},
   "outputs": [
    {
     "data": {
      "text/plain": [
       "True"
      ]
     },
     "execution_count": 44,
     "metadata": {},
     "output_type": "execute_result"
    }
   ],
   "source": [
    "2<3"
   ]
  },
  {
   "cell_type": "code",
   "execution_count": 45,
   "id": "96195da8",
   "metadata": {},
   "outputs": [
    {
     "data": {
      "text/plain": [
       "False"
      ]
     },
     "execution_count": 45,
     "metadata": {},
     "output_type": "execute_result"
    }
   ],
   "source": [
    "2<1"
   ]
  },
  {
   "cell_type": "markdown",
   "id": "9ee266fe",
   "metadata": {},
   "source": [
    "### Smaller equal"
   ]
  },
  {
   "cell_type": "code",
   "execution_count": 46,
   "id": "c70b3b83",
   "metadata": {},
   "outputs": [
    {
     "data": {
      "text/plain": [
       "True"
      ]
     },
     "execution_count": 46,
     "metadata": {},
     "output_type": "execute_result"
    }
   ],
   "source": [
    "2<=3"
   ]
  },
  {
   "cell_type": "code",
   "execution_count": 47,
   "id": "91be0574",
   "metadata": {},
   "outputs": [
    {
     "data": {
      "text/plain": [
       "False"
      ]
     },
     "execution_count": 47,
     "metadata": {},
     "output_type": "execute_result"
    }
   ],
   "source": [
    "2<=1"
   ]
  },
  {
   "cell_type": "markdown",
   "id": "193c71ce",
   "metadata": {},
   "source": [
    "# 1.4.3.Assignment"
   ]
  },
  {
   "cell_type": "code",
   "execution_count": 48,
   "id": "c3a27c46",
   "metadata": {},
   "outputs": [],
   "source": [
    "x1=3\n",
    "y1=10"
   ]
  },
  {
   "cell_type": "code",
   "execution_count": 49,
   "id": "ccbcc16a",
   "metadata": {},
   "outputs": [
    {
     "data": {
      "text/plain": [
       "13"
      ]
     },
     "execution_count": 49,
     "metadata": {},
     "output_type": "execute_result"
    }
   ],
   "source": [
    "y1+=x1\n",
    "y1"
   ]
  },
  {
   "cell_type": "code",
   "execution_count": 50,
   "id": "d1655bbc",
   "metadata": {},
   "outputs": [],
   "source": [
    "x2=5\n",
    "y2=12"
   ]
  },
  {
   "cell_type": "code",
   "execution_count": 51,
   "id": "14954ce2",
   "metadata": {},
   "outputs": [
    {
     "data": {
      "text/plain": [
       "7"
      ]
     },
     "execution_count": 51,
     "metadata": {},
     "output_type": "execute_result"
    }
   ],
   "source": [
    "y2-=x2\n",
    "y2"
   ]
  },
  {
   "cell_type": "code",
   "execution_count": 52,
   "id": "0e126ec5",
   "metadata": {},
   "outputs": [],
   "source": [
    "x3=4\n",
    "y3=6"
   ]
  },
  {
   "cell_type": "code",
   "execution_count": 53,
   "id": "5ce670ed",
   "metadata": {},
   "outputs": [
    {
     "data": {
      "text/plain": [
       "24"
      ]
     },
     "execution_count": 53,
     "metadata": {},
     "output_type": "execute_result"
    }
   ],
   "source": [
    "y3*=x3\n",
    "y3"
   ]
  },
  {
   "cell_type": "code",
   "execution_count": 54,
   "id": "4c0a278e",
   "metadata": {},
   "outputs": [],
   "source": [
    "x4=8\n",
    "y4=16"
   ]
  },
  {
   "cell_type": "code",
   "execution_count": 55,
   "id": "8f900682",
   "metadata": {},
   "outputs": [
    {
     "data": {
      "text/plain": [
       "2.0"
      ]
     },
     "execution_count": 55,
     "metadata": {},
     "output_type": "execute_result"
    }
   ],
   "source": [
    "y4/=x4\n",
    "y4"
   ]
  },
  {
   "cell_type": "code",
   "execution_count": 56,
   "id": "d1bb1e69",
   "metadata": {},
   "outputs": [],
   "source": [
    "x5=3\n",
    "y5=5"
   ]
  },
  {
   "cell_type": "code",
   "execution_count": 57,
   "id": "27a6248c",
   "metadata": {},
   "outputs": [
    {
     "data": {
      "text/plain": [
       "125"
      ]
     },
     "execution_count": 57,
     "metadata": {},
     "output_type": "execute_result"
    }
   ],
   "source": [
    "y5**=x5\n",
    "y5"
   ]
  },
  {
   "cell_type": "code",
   "execution_count": 58,
   "id": "2a6fa13a",
   "metadata": {},
   "outputs": [],
   "source": [
    "x6=4\n",
    "y6=9"
   ]
  },
  {
   "cell_type": "code",
   "execution_count": 59,
   "id": "b708782f",
   "metadata": {},
   "outputs": [
    {
     "data": {
      "text/plain": [
       "1"
      ]
     },
     "execution_count": 59,
     "metadata": {},
     "output_type": "execute_result"
    }
   ],
   "source": [
    "y6%=x6\n",
    "y6"
   ]
  },
  {
   "cell_type": "code",
   "execution_count": 60,
   "id": "39cf3e7a",
   "metadata": {},
   "outputs": [],
   "source": [
    "x7=4\n",
    "y7=10"
   ]
  },
  {
   "cell_type": "code",
   "execution_count": 61,
   "id": "fe2b0e61",
   "metadata": {},
   "outputs": [
    {
     "data": {
      "text/plain": [
       "2"
      ]
     },
     "execution_count": 61,
     "metadata": {},
     "output_type": "execute_result"
    }
   ],
   "source": [
    "y7//=x7\n",
    "y7"
   ]
  },
  {
   "cell_type": "markdown",
   "id": "13e89b5e",
   "metadata": {},
   "source": [
    "# 1.4.4.Member"
   ]
  },
  {
   "cell_type": "code",
   "execution_count": 62,
   "id": "e7b119d0",
   "metadata": {},
   "outputs": [],
   "source": [
    "index_list=[10223.16,10475.71,10417.37,10470.79,10527.99]"
   ]
  },
  {
   "cell_type": "code",
   "execution_count": 63,
   "id": "b3e693f7",
   "metadata": {},
   "outputs": [],
   "source": [
    "index1=10475.71\n",
    "index2=10470.97"
   ]
  },
  {
   "cell_type": "code",
   "execution_count": 64,
   "id": "059c3559",
   "metadata": {},
   "outputs": [
    {
     "data": {
      "text/plain": [
       "True"
      ]
     },
     "execution_count": 64,
     "metadata": {},
     "output_type": "execute_result"
    }
   ],
   "source": [
    "index1 in index_list"
   ]
  },
  {
   "cell_type": "code",
   "execution_count": 65,
   "id": "f61be38d",
   "metadata": {},
   "outputs": [
    {
     "data": {
      "text/plain": [
       "False"
      ]
     },
     "execution_count": 65,
     "metadata": {},
     "output_type": "execute_result"
    }
   ],
   "source": [
    "index2 in index_list"
   ]
  },
  {
   "cell_type": "code",
   "execution_count": 66,
   "id": "b00427b8",
   "metadata": {},
   "outputs": [],
   "source": [
    "a='Finance'\n",
    "b='Risk Management'\n",
    "c=['finance','Risk Management','Return']"
   ]
  },
  {
   "cell_type": "code",
   "execution_count": 67,
   "id": "5f8ea632",
   "metadata": {},
   "outputs": [
    {
     "data": {
      "text/plain": [
       "False"
      ]
     },
     "execution_count": 67,
     "metadata": {},
     "output_type": "execute_result"
    }
   ],
   "source": [
    "a in c"
   ]
  },
  {
   "cell_type": "code",
   "execution_count": 68,
   "id": "2ff49fcc",
   "metadata": {},
   "outputs": [
    {
     "data": {
      "text/plain": [
       "True"
      ]
     },
     "execution_count": 68,
     "metadata": {},
     "output_type": "execute_result"
    }
   ],
   "source": [
    "b in c"
   ]
  }
 ],
 "metadata": {
  "kernelspec": {
   "display_name": "Custom (custom_python)",
   "language": "python",
   "name": "custom_python"
  },
  "language_info": {
   "codemirror_mode": {
    "name": "ipython",
    "version": 3
   },
   "file_extension": ".py",
   "mimetype": "text/x-python",
   "name": "python",
   "nbconvert_exporter": "python",
   "pygments_lexer": "ipython3",
   "version": "3.6.13"
  }
 },
 "nbformat": 4,
 "nbformat_minor": 5
}
