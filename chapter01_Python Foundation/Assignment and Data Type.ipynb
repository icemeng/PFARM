{
 "cells": [
  {
   "cell_type": "code",
   "execution_count": 1,
   "id": "527f8485",
   "metadata": {},
   "outputs": [],
   "source": [
    "rate=0.06"
   ]
  },
  {
   "cell_type": "code",
   "execution_count": 2,
   "id": "28d3850c",
   "metadata": {},
   "outputs": [],
   "source": [
    "r=0.06"
   ]
  },
  {
   "cell_type": "code",
   "execution_count": 3,
   "id": "14555217",
   "metadata": {},
   "outputs": [],
   "source": [
    "rate=0.05"
   ]
  },
  {
   "cell_type": "code",
   "execution_count": 4,
   "id": "cd5c3ce7",
   "metadata": {},
   "outputs": [
    {
     "data": {
      "text/plain": [
       "0.05"
      ]
     },
     "execution_count": 4,
     "metadata": {},
     "output_type": "execute_result"
    }
   ],
   "source": [
    "rate"
   ]
  },
  {
   "cell_type": "code",
   "execution_count": 5,
   "id": "db7ef662",
   "metadata": {},
   "outputs": [],
   "source": [
    "rate=0.04"
   ]
  },
  {
   "cell_type": "code",
   "execution_count": 6,
   "id": "f0995cb2",
   "metadata": {},
   "outputs": [
    {
     "data": {
      "text/plain": [
       "0.04"
      ]
     },
     "execution_count": 6,
     "metadata": {},
     "output_type": "execute_result"
    }
   ],
   "source": [
    "rate"
   ]
  },
  {
   "cell_type": "code",
   "execution_count": null,
   "id": "91725fb6",
   "metadata": {},
   "outputs": [],
   "source": []
  }
 ],
 "metadata": {
  "kernelspec": {
   "display_name": "conda_python3",
   "language": "python",
   "name": "conda_python3"
  },
  "language_info": {
   "codemirror_mode": {
    "name": "ipython",
    "version": 3
   },
   "file_extension": ".py",
   "mimetype": "text/x-python",
   "name": "python",
   "nbconvert_exporter": "python",
   "pygments_lexer": "ipython3",
   "version": "3.6.13"
  }
 },
 "nbformat": 4,
 "nbformat_minor": 5
}
