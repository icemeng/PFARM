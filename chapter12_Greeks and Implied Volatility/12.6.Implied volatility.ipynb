{
 "cells": [
  {
   "cell_type": "code",
   "execution_count": 1,
   "id": "af54347f",
   "metadata": {},
   "outputs": [],
   "source": [
    "##########################################################################\n",
    "# Created on Sat Nov 16 23:35:45 2021                                    #\n",
    "# Python for Financial Analysis and Risk Management                      #\n",
    "# @author: Meng Lipeng (FRM, CFA)                                        #\n",
    "##########################################################################"
   ]
  },
  {
   "cell_type": "markdown",
   "id": "239bed09",
   "metadata": {},
   "source": [
    "# 12.6.1.Calculate IV using Newton's method"
   ]
  },
  {
   "cell_type": "code",
   "execution_count": 2,
   "id": "bae9e4eb",
   "metadata": {},
   "outputs": [],
   "source": [
    "def impvol_call_Newton(C,S,K,r,T):\n",
    "    '''Define a function to calculate implied volatility of European call option using Newton's method.\n",
    "    C:market option price\n",
    "    S:underlying price\n",
    "    K:strike price\n",
    "    r:risk free rate(continuous compound)\n",
    "    T:time to expire in year'''\n",
    "    import utils\n",
    "    \n",
    "    sigma0=0.2\n",
    "    diff=C-utils.option_BSM(S,K,sigma0,r,T,'call')\n",
    "    i=0.0001\n",
    "    while abs(diff)>0.0001:\n",
    "        diff=C-utils.option_BSM(S,K,sigma0,r,T,'call')\n",
    "        if diff>0:\n",
    "            sigma0+=i\n",
    "        else:sigma0-=i\n",
    "    return sigma0"
   ]
  },
  {
   "cell_type": "code",
   "execution_count": 3,
   "id": "cefe054f",
   "metadata": {},
   "outputs": [],
   "source": [
    "def impvol_put_Newton(P,S,K,r,T):\n",
    "    '''Define a function to calculate implied volatility of European put option using Newton's method.\n",
    "    P:market option price\n",
    "    S:underlying price\n",
    "    K:strike price\n",
    "    r:risk free rate(continuous compound)\n",
    "    T:time to expire in year'''\n",
    "    import utils\n",
    "    \n",
    "    sigma0=0.2\n",
    "    diff=P-utils.option_BSM(S,K,sigma0,r,T,'put')\n",
    "    i=0.0001\n",
    "    while abs(diff)>0.0001:\n",
    "        diff=P-utils.option_BSM(S,K,sigma0,r,T,'put')\n",
    "        if diff>0:\n",
    "            sigma0+=i\n",
    "        else:sigma0-=i\n",
    "    return sigma0"
   ]
  },
  {
   "cell_type": "code",
   "execution_count": 4,
   "id": "9895df43",
   "metadata": {},
   "outputs": [
    {
     "name": "stdout",
     "output_type": "stream",
     "text": [
      "IV(Newton's method) of 50 ETF call option is  0.195\n",
      "IV(Newton's method) of 50 ETF put option is  0.2719\n"
     ]
    }
   ],
   "source": [
    "import datetime as dt\n",
    "\n",
    "T0=dt.datetime(2020,9,1)\n",
    "T1=dt.datetime(2021,3,24)\n",
    "tenor=(T1-T0).days/365\n",
    "\n",
    "price_call=0.2826\n",
    "price_put=0.1975\n",
    "price_50ETF=3.406\n",
    "shibor_6M=0.02847\n",
    "K_50ETF=3.3\n",
    "\n",
    "sigma_call=impvol_call_Newton(C=price_call,S=price_50ETF,K=K_50ETF,r=shibor_6M,T=tenor)\n",
    "sigma_put=impvol_put_Newton(P=price_put,S=price_50ETF,K=K_50ETF,r=shibor_6M,T=tenor)\n",
    "\n",
    "print('IV(Newton\\'s method) of 50 ETF call option is ',round(sigma_call,4))\n",
    "print('IV(Newton\\'s method) of 50 ETF put option is ',round(sigma_put,4))"
   ]
  },
  {
   "cell_type": "markdown",
   "id": "a6f1b36a",
   "metadata": {},
   "source": [
    "# 12.6.2.Calculate IV using binary search method"
   ]
  },
  {
   "cell_type": "code",
   "execution_count": 13,
   "id": "846cec1d",
   "metadata": {},
   "outputs": [],
   "source": [
    "def impvol_call_Binary(C,S,K,r,T):\n",
    "    '''Define a function to calculate implied volatility of European call option using binary search method.\n",
    "    C:market option price\n",
    "    S:underlying price\n",
    "    K:strike price\n",
    "    r:risk free rate(continuous compound)\n",
    "    T:time to expire in year'''\n",
    "    import utils\n",
    "    \n",
    "    sigma_min=0.001\n",
    "    sigma_max=1.000\n",
    "    sigma_mid=(sigma_min+sigma_max)/2\n",
    "    \n",
    "    call_min=utils.option_BSM(S,K,sigma_min,r,T,'call')\n",
    "    call_max=utils.option_BSM(S,K,sigma_max,r,T,'call')\n",
    "    call_mid=utils.option_BSM(S,K,sigma_mid,r,T,'call')\n",
    "    diff=C-call_mid\n",
    "    if C<call_min or C>call_max:\n",
    "        print('Error')\n",
    "        exit\n",
    "\n",
    "    while abs(diff)>1e-6:\n",
    "        diff=C-utils.option_BSM(S,K,sigma_mid,r,T,'call')\n",
    "        sigma_mid=(sigma_min+sigma_max)/2\n",
    "        call_mid=utils.option_BSM(S,K,sigma_mid,r,T,'call')\n",
    "        if C>call_mid:\n",
    "            sigma_min=sigma_mid\n",
    "        else:sigma_max=sigma_mid\n",
    "    return sigma_mid"
   ]
  },
  {
   "cell_type": "code",
   "execution_count": 14,
   "id": "53de6cad",
   "metadata": {},
   "outputs": [],
   "source": [
    "def impvol_put_Binary(P,S,K,r,T):\n",
    "    '''Define a function to calculate implied volatility of European put option using binary search method.\n",
    "    P:market option price\n",
    "    S:underlying price\n",
    "    K:strike price\n",
    "    r:risk free rate(continuous compound)\n",
    "    T:time to expire in year'''\n",
    "    import utils\n",
    "    \n",
    "    sigma_min=0.001\n",
    "    sigma_max=1.000\n",
    "    sigma_mid=(sigma_min+sigma_max)/2\n",
    "    \n",
    "    put_min=utils.option_BSM(S,K,sigma_min,r,T,'put')\n",
    "    put_max=utils.option_BSM(S,K,sigma_max,r,T,'put')\n",
    "    put_mid=utils.option_BSM(S,K,sigma_mid,r,T,'put')\n",
    "    diff=P-put_mid\n",
    "    if P<put_min or P>put_max:\n",
    "        print('Error')\n",
    "        exit\n",
    "\n",
    "    while abs(diff)>1e-6:\n",
    "        diff=P-utils.option_BSM(S,K,sigma_mid,r,T,'put')\n",
    "        sigma_mid=(sigma_min+sigma_max)/2\n",
    "        put_mid=utils.option_BSM(S,K,sigma_mid,r,T,'put')\n",
    "        if P>put_mid:\n",
    "            sigma_min=sigma_mid\n",
    "        else:sigma_max=sigma_mid\n",
    "    return sigma_mid"
   ]
  },
  {
   "cell_type": "code",
   "execution_count": 15,
   "id": "6f1a74af",
   "metadata": {},
   "outputs": [
    {
     "name": "stdout",
     "output_type": "stream",
     "text": [
      "IV(Binary search method) of 50 ETF call option is  0.1951\n",
      "IV(Binary search method) of 50 ETF put option is  0.2718\n"
     ]
    }
   ],
   "source": [
    "sigma_call=impvol_call_Binary(C=price_call,S=price_50ETF,K=K_50ETF,r=shibor_6M,T=tenor)\n",
    "sigma_put=impvol_put_Binary(P=price_put,S=price_50ETF,K=K_50ETF,r=shibor_6M,T=tenor)\n",
    "\n",
    "print('IV(Binary search method) of 50 ETF call option is ',round(sigma_call,4))\n",
    "print('IV(Binary search method) of 50 ETF put option is ',round(sigma_put,4))"
   ]
  },
  {
   "cell_type": "markdown",
   "id": "e373b055",
   "metadata": {},
   "source": [
    "# 12.6.3.Volatility smile"
   ]
  },
  {
   "cell_type": "code",
   "execution_count": 8,
   "id": "948ae47b",
   "metadata": {},
   "outputs": [],
   "source": [
    "import numpy as np\n",
    "\n",
    "S_Dec31=3.635\n",
    "R_Dec31=0.02838\n",
    "\n",
    "T2=dt.datetime(2020,12,31)\n",
    "T3=dt.datetime(2021,6,23)\n",
    "tenor1=(T3-T2).days/365\n",
    "\n",
    "Put_list=np.array([0.0202,0.0306,0.0458,0.0671,0.0951,0.1300,0.1738,0.2253,0.2845,0.3540,0.4236])\n",
    "K_list1=np.array([3.0000,3.1000,3.2000,3.3000,3.4000,3.5000,3.6000,3.7000,3.8000,3.9000,4.0000])\n",
    "\n",
    "n1=len(K_list1)\n",
    "sigma_list1=np.zeros_like(Put_list)\n",
    "\n",
    "for i in np.arange(n1):\n",
    "    sigma_list1[i]=impvol_put_Newton(P=Put_list[i],S=S_Dec31,K=K_list1[i],r=R_Dec31,T=tenor1)"
   ]
  },
  {
   "cell_type": "code",
   "execution_count": 9,
   "id": "a2c67fc0",
   "metadata": {},
   "outputs": [
    {
     "data": {
      "image/png": "[encoded data removed]",
      "text/plain": [
       "<Figure size 648x432 with 1 Axes>"
      ]
     },
     "metadata": {
      "needs_background": "light"
     },
     "output_type": "display_data"
    }
   ],
   "source": [
    "import matplotlib.pyplot as plt\n",
    "\n",
    "plt.figure(figsize=(9,6))\n",
    "plt.plot(K_list1,sigma_list1,'b-',lw=2.5)\n",
    "plt.xlabel('Strike price',fontsize=13)\n",
    "plt.xticks(fontsize=13)\n",
    "plt.ylabel('Implied volatility',fontsize=13)\n",
    "plt.yticks(fontsize=13)\n",
    "plt.title('Option strike price and implied volatility of 50ETF put option',fontsize=13)\n",
    "plt.grid()\n",
    "plt.show()"
   ]
  },
  {
   "cell_type": "markdown",
   "id": "d70e6a36",
   "metadata": {},
   "source": [
    "# 12.6.4.Volatility skew"
   ]
  },
  {
   "cell_type": "code",
   "execution_count": 11,
   "id": "1e8b4522",
   "metadata": {},
   "outputs": [],
   "source": [
    "S_Sep30=4.5848\n",
    "R_Sep30=0.02691\n",
    "\n",
    "T4=dt.datetime(2020,9,30)\n",
    "T5=dt.datetime(2021,3,24)\n",
    "tenor2=(T5-T4).days/365\n",
    "\n",
    "Call_list=np.array([0.4660,0.4068,0.3529,0.3056,0.2657,0.2267,0.1977,0.1707,0.1477,0.1019])\n",
    "K_list2=np.array([4.2000,4.3000,4.4000,4.5000,4.6000,4.7000,4.8000,4.9000,5.0000,5.2500])\n",
    "\n",
    "n2=len(K_list2)\n",
    "sigma_list2=np.zeros_like(Call_list)\n",
    "\n",
    "for i in np.arange(n2):\n",
    "    sigma_list2[i]=impvol_call_Binary(C=Call_list[i],S=S_Sep30,K=K_list2[i],r=R_Sep30,T=tenor2)"
   ]
  },
  {
   "cell_type": "code",
   "execution_count": 12,
   "id": "d1df0754",
   "metadata": {},
   "outputs": [
    {
     "data": {
      "image/png": "[encoded data removed]",
      "text/plain": [
       "<Figure size 648x432 with 1 Axes>"
      ]
     },
     "metadata": {
      "needs_background": "light"
     },
     "output_type": "display_data"
    }
   ],
   "source": [
    "plt.figure(figsize=(9,6))\n",
    "plt.plot(K_list2,sigma_list2,'r-',lw=2.5)\n",
    "plt.xlabel('Strike price',fontsize=13)\n",
    "plt.xticks(fontsize=13)\n",
    "plt.ylabel('Implied volatility',fontsize=13)\n",
    "plt.yticks(fontsize=13)\n",
    "plt.title('Option strike price and implied volatility of 50ETF call option',fontsize=13)\n",
    "plt.grid()\n",
    "plt.show()"
   ]
  },
  {
   "cell_type": "code",
   "execution_count": null,
   "id": "96580ea7",
   "metadata": {},
   "outputs": [],
   "source": []
  }
 ],
 "metadata": {
  "kernelspec": {
   "display_name": "Custom (custom_python)",
   "language": "python",
   "name": "custom_python"
  },
  "language_info": {
   "codemirror_mode": {
    "name": "ipython",
    "version": 3
   },
   "file_extension": ".py",
   "mimetype": "text/x-python",
   "name": "python",
   "nbconvert_exporter": "python",
   "pygments_lexer": "ipython3",
   "version": "3.6.12"
  }
 },
 "nbformat": 4,
 "nbformat_minor": 5
}
