{
 "cells": [
  {
   "cell_type": "code",
   "execution_count": 1,
   "id": "48565984",
   "metadata": {},
   "outputs": [],
   "source": [
    "##########################################################################\n",
    "# Created on Sat Nov 22 16:30:45 2021                                    #\n",
    "# Python for Financial Analysis and Risk Management                      #\n",
    "# @author: Meng Lipeng (FRM, CFA)                                        #\n",
    "##########################################################################"
   ]
  },
  {
   "cell_type": "markdown",
   "id": "cd2b1858",
   "metadata": {},
   "source": [
    "# 9.4.2.Cashflow of CDS"
   ]
  },
  {
   "cell_type": "markdown",
   "id": "8b61bfbe",
   "metadata": {},
   "source": [
    "**Scenario 1(No credit event)**\\\n",
    "For protection buyer,\n",
    "$$f_i=-\\frac{s\\times L}{m}\\tag{9-24}$$\n",
    "For protection seller,\n",
    "$$f_i=\\frac{s\\times L}{m}\\tag{9-25}$$\n",
    "where,\n",
    "$s$:credit spread\\\n",
    "$L$:notional amount\\\n",
    "$m$:payment frequency per year "
   ]
  },
  {
   "cell_type": "markdown",
   "id": "0ee86132",
   "metadata": {},
   "source": [
    "**Scenario 2(Credit event occured)**\\\n",
    "Before credit event, the same as scenario 1($i=1,2,\\cdots,j-1$)\\\n",
    "When credit event occured at $\\tilde{ t }$\\\n",
    "For protection buyer,\n",
    "$$\\tilde{ f }=-s*L*(\\tilde{ t }-t_{j-1})+(1-R)\\times L$$\n",
    "For protection seller,\n",
    "$$\\tilde{ f }=s*L*(\\tilde{ t }-t_{j-1})-(1-R)\\times L$$\n",
    "where,\\\n",
    "$R$:recovery rate"
   ]
  },
  {
   "cell_type": "code",
   "execution_count": 4,
   "id": "81ff1c6f",
   "metadata": {},
   "outputs": [],
   "source": [
    "def CDS_cashflow(S,m,T1,T2,L,recovery,trader,event):\n",
    "    '''Define a function to calculate CDS cashflow.\n",
    "    S:credit spread\n",
    "    m:payment frequency per year(no more than 2)\n",
    "    T1:tenor of contract\n",
    "    T2:from initial to credit event occured.'Na' indicates no credit event\n",
    "    L:notional amount\n",
    "    recovery:recovery rate in case of credit event.'Na' indicates no credit event\n",
    "    trader:trade side.'buyer'indicates protection buyer,otherwise protection seller\n",
    "    event:whether credit event occured or not.'N'indicates no credit event,other credit event occured.'''\n",
    "    import numpy as np\n",
    "    \n",
    "    if event=='N':\n",
    "        n=m*T1\n",
    "        cashflow=S*L*np.ones(n)/m\n",
    "    else:\n",
    "        default_pay=(1-recovery)*L\n",
    "        if m==1:\n",
    "            n=int(T2)*m+1\n",
    "            cashflow=S*L*np.ones(n)/m\n",
    "            spread_end=(T2-int(T2))*S*L\n",
    "            cashflow[-1]=spread_end-default_pay\n",
    "        else:\n",
    "            if T2-int(T2)<0.5:\n",
    "                n=int(T2)*m+1\n",
    "                cashflow=S*L*np.ones(n)/m\n",
    "                spread_end=(T2-int(T2))*S*L\n",
    "                cashflow[-1]=spread_end-default_pay\n",
    "            else:\n",
    "                n=(int(T2)+1)*m\n",
    "                cashflow=S*L*np.ones(n)/m\n",
    "                spread_end=(T2-int(T2)-0.5)*S*L\n",
    "                cashflow[-1]=spread_end-default_pay\n",
    "    \n",
    "    if trader=='buyer':\n",
    "        CF=-cashflow\n",
    "    else:\n",
    "        CF=cashflow\n",
    "    \n",
    "    return CF "
   ]
  },
  {
   "cell_type": "code",
   "execution_count": 5,
   "id": "2a9af86d",
   "metadata": {},
   "outputs": [
    {
     "name": "stdout",
     "output_type": "stream",
     "text": [
      "Cashflow of protection buyer when no event occured is  [-1200000. -1200000. -1200000.]\n",
      "Cashflow of protection seller when no event occured is  [1200000. 1200000. 1200000.]\n"
     ]
    }
   ],
   "source": [
    "spread=0.012\n",
    "M=1\n",
    "tenor=3\n",
    "par=1e8\n",
    "\n",
    "cashflow_buyer1=CDS_cashflow(S=spread,m=M,T1=tenor,T2='Na',L=par,recovery='Na',trader='buyer',event='N')\n",
    "cashflow_seller1=CDS_cashflow(S=spread,m=M,T1=tenor,T2='Na',L=par,recovery='Na',trader='seller',event='N')\n",
    "print('Cashflow of protection buyer when no event occured is ',cashflow_buyer1)\n",
    "print('Cashflow of protection seller when no event occured is ',cashflow_seller1)"
   ]
  },
  {
   "cell_type": "code",
   "execution_count": 6,
   "id": "fe7fc12f",
   "metadata": {},
   "outputs": [
    {
     "name": "stdout",
     "output_type": "stream",
     "text": [
      "Cashflow of protection buyer when event occured is  [-1200000. -1200000. 64600000.]\n",
      "Cashflow of protection seller when event occured is  [  1200000.   1200000. -64600000.]\n"
     ]
    }
   ],
   "source": [
    "T_default=28/12\n",
    "rate=0.35\n",
    "cashflow_buyer2=CDS_cashflow(S=spread,m=M,T1=tenor,T2=T_default,L=par,recovery=rate,trader='buyer',event='Y')\n",
    "cashflow_seller2=CDS_cashflow(S=spread,m=M,T1=tenor,T2=T_default,L=par,recovery=rate,trader='seller',event='Y')\n",
    "print('Cashflow of protection buyer when event occured is ',cashflow_buyer2)\n",
    "print('Cashflow of protection seller when event occured is ',cashflow_seller2)"
   ]
  },
  {
   "cell_type": "code",
   "execution_count": 7,
   "id": "770a167f",
   "metadata": {},
   "outputs": [
    {
     "name": "stdout",
     "output_type": "stream",
     "text": [
      "Cashflow of protection buyer when event occured is  [ -600000.  -600000.  -600000.  -600000.  -600000. 64800000.]\n",
      "Cashflow of protection seller when event occured is  [   600000.    600000.    600000.    600000.    600000. -64800000.]\n"
     ]
    }
   ],
   "source": [
    "M_new=2\n",
    "T_default_new=32/12\n",
    "\n",
    "cashflow_buyer3=CDS_cashflow(S=spread,m=M_new,T1=tenor,T2=T_default_new,L=par,recovery=rate,trader='buyer',event='Y')\n",
    "cashflow_seller3=CDS_cashflow(S=spread,m=M_new,T1=tenor,T2=T_default_new,L=par,recovery=rate,trader='seller',event='Y')\n",
    "print('Cashflow of protection buyer when event occured is ',cashflow_buyer3)\n",
    "print('Cashflow of protection seller when event occured is ',cashflow_seller3)"
   ]
  },
  {
   "cell_type": "markdown",
   "id": "7fff090a",
   "metadata": {},
   "source": [
    "# 9.4.3.Default probability and survival rate"
   ]
  },
  {
   "cell_type": "markdown",
   "id": "1df42421",
   "metadata": {},
   "source": [
    "**Cumulative Default Probability in [0,$t_i$] interval**\n",
    "$$C_i=1-e^{-\\lambda t_i}\\tag{9-26}$$\n",
    "where,\\\n",
    "$\\lambda$:annualized default probabiltiy(continuous compound),also called 'hazard rate' or 'default density'\\\n",
    "**Survival Rate in [0,$t_i$] interval**\n",
    "$$S_i=1-C_i=e^{-\\lambda t_i}\\tag{9-27}$$\n",
    "**Marginal default probability(No default before $t_{i-1}$ but default in [$t_{i-1}$,$t_i$]interval)**\n",
    "$$D_i=S_{i-1}-S_i=e^{-\\lambda t_{i-1}}-e^{-\\lambda t_i}\\tag{9-28}$$\n",
    "$D_i$ also be called 'unconditional default probability'"
   ]
  },
  {
   "cell_type": "code",
   "execution_count": 9,
   "id": "de989cb0",
   "metadata": {},
   "outputs": [
    {
     "data": {
      "text/plain": [
       "array([0.0296, 0.0582, 0.0861, 0.1131, 0.1393])"
      ]
     },
     "execution_count": 9,
     "metadata": {},
     "output_type": "execute_result"
    }
   ],
   "source": [
    "import numpy as np\n",
    "\n",
    "h=0.03 #hazard rate\n",
    "T=5\n",
    "CDP=np.ones(T)\n",
    "\n",
    "for t in range(1,T+1):\n",
    "    CDP[t-1]=1-np.exp(-h*t)\n",
    "CDP.round(4)"
   ]
  },
  {
   "cell_type": "code",
   "execution_count": 10,
   "id": "e301fdb5",
   "metadata": {},
   "outputs": [
    {
     "data": {
      "text/plain": [
       "array([0.9704, 0.9418, 0.9139, 0.8869, 0.8607])"
      ]
     },
     "execution_count": 10,
     "metadata": {},
     "output_type": "execute_result"
    }
   ],
   "source": [
    "SR=1-CDP\n",
    "SR.round(4)"
   ]
  },
  {
   "cell_type": "code",
   "execution_count": 11,
   "id": "394096cb",
   "metadata": {},
   "outputs": [
    {
     "data": {
      "text/plain": [
       "array([0.0296, 0.0287, 0.0278, 0.027 , 0.0262])"
      ]
     },
     "execution_count": 11,
     "metadata": {},
     "output_type": "execute_result"
    }
   ],
   "source": [
    "MDP=np.ones_like(CDP)\n",
    "MDP[0]=CDP[0]\n",
    "for t in range(1,T):\n",
    "    MDP[t]=SR[t-1]-SR[t]\n",
    "MDP.round(4)"
   ]
  },
  {
   "cell_type": "markdown",
   "id": "9061fd42",
   "metadata": {},
   "source": [
    "# 9.4.4.CDS spread"
   ]
  },
  {
   "cell_type": "markdown",
   "id": "55969e13",
   "metadata": {},
   "source": [
    "### 1.Mathematical expression"
   ]
  },
  {
   "cell_type": "markdown",
   "id": "3d38d311",
   "metadata": {},
   "source": [
    "**PV for protection buyer**\n",
    "$$PV=\\frac{s}{m}L\\sum_{i=1}^N S_ie^{-y_i t_i}=\\frac{s}{m}L\\sum_{i=1}^N e^{-(\\lambda+y_i)t_i}\\tag{9-29}$$\n",
    "**PV for protection seller**\n",
    "$$PV=(1-R)L\\sum_{i=1}^N D_ie^{-y_i t_i}=(1-R)L\\sum_{i=1}^N (e^{-\\lambda t_{i-1}}-e^{-\\lambda t_i})e^{-y_i t_i}\\tag{9-30}$$\n",
    "Based on no arbitrage principle,(9-29) should be equal to (9-30), we can get\n",
    "$$s=m(1-R)\\left[\\frac{\\sum_{i=1}^N e^{-\\lambda t_{i-1}-y_i t_i}} {\\sum_{i=1}^N e^{-(\\lambda+y_i)t_i}}-1\\right]\\tag{9-31}$$"
   ]
  },
  {
   "cell_type": "markdown",
   "id": "66ab7729",
   "metadata": {},
   "source": [
    "### 2.Implementation"
   ]
  },
  {
   "cell_type": "code",
   "execution_count": 15,
   "id": "0d6e74c4",
   "metadata": {},
   "outputs": [],
   "source": [
    "def CDS_spread(m,Lambda,T,R,y):\n",
    "    '''Define a function to calculate CDS spread.\n",
    "    m:payment frequency per year\n",
    "    Lambda:hazard rate\n",
    "    T:tenor of contract\n",
    "    R:recovery rate\n",
    "    y:zero rate(continuous compound),input as array'''\n",
    "    from numpy import arange,exp\n",
    "    t_list=arange(m*T+1)/m\n",
    "    A=sum(exp(-Lambda*t_list[:-1]-y*t_list[1:]))\n",
    "    B=sum(exp(-(Lambda+y)*t_list[1:]))\n",
    "    spread=m*(1-R)*(A/B-1)\n",
    "    return spread"
   ]
  },
  {
   "cell_type": "markdown",
   "id": "08471a36",
   "metadata": {},
   "source": [
    "### 3.Case study"
   ]
  },
  {
   "cell_type": "code",
   "execution_count": 16,
   "id": "36bfdb44",
   "metadata": {},
   "outputs": [
    {
     "name": "stdout",
     "output_type": "stream",
     "text": [
      "CDS spread is  0.0183\n"
     ]
    }
   ],
   "source": [
    "zero_rate=np.array([0.021276,0.022853,0.024036,0.025010,0.025976])\n",
    "\n",
    "recovery=0.4\n",
    "M=1\n",
    "tenor=5\n",
    "h=0.03\n",
    "\n",
    "spread=CDS_spread(m=M,Lambda=h,T=tenor,R=recovery,y=zero_rate)\n",
    "print('CDS spread is ',round(spread,4))"
   ]
  },
  {
   "cell_type": "markdown",
   "id": "ec4153bf",
   "metadata": {},
   "source": [
    "### 4.Sensitivity analysis"
   ]
  },
  {
   "cell_type": "code",
   "execution_count": 19,
   "id": "1e03e6bb",
   "metadata": {},
   "outputs": [
    {
     "name": "stderr",
     "output_type": "stream",
     "text": [
      "/home/ec2-user/SageMaker/custom-miniconda/miniconda/envs/custom_python/lib/python3.6/site-packages/ipykernel_launcher.py:23: MatplotlibDeprecationWarning: Adding an axes using the same arguments as a previous axes currently reuses the earlier instance.  In a future version, a new instance will always be created and returned.  Meanwhile, this warning can be suppressed, and the future behavior ensured, by passing a unique label to each axes instance.\n"
     ]
    },
    {
     "data": {
      "image/png": "[encoded data removed]",
      "text/plain": [
       "<Figure size 792x432 with 2 Axes>"
      ]
     },
     "metadata": {
      "needs_background": "light"
     },
     "output_type": "display_data"
    }
   ],
   "source": [
    "h_list=np.linspace(0.01,0.06,200)\n",
    "spread_list1=np.zeros_like(h_list)\n",
    "for i in range(len(h_list)):\n",
    "    spread_list1[i]=CDS_spread(m=M,Lambda=h_list[i],T=tenor,R=recovery,y=zero_rate)\n",
    "    \n",
    "r_list=np.linspace(0.1,0.6,200) #recovery rate\n",
    "spread_list2=np.zeros_like(r_list)\n",
    "for i in range(len(r_list)):\n",
    "    spread_list2[i]=CDS_spread(m=M,Lambda=h,T=tenor,R=r_list[i],y=zero_rate)\n",
    "    \n",
    "import matplotlib.pyplot as plt\n",
    "\n",
    "plt.figure(figsize=(11,6))\n",
    "plt.subplot(1,2,1)\n",
    "plt.plot(h_list,spread_list1,'r-',lw=2.5)\n",
    "plt.xticks(fontsize=13)\n",
    "plt.xlabel('Default probability',fontsize=13)\n",
    "plt.yticks(fontsize=13)\n",
    "plt.ylabel('CDS spread',fontsize=13)\n",
    "plt.title('Relationship between PD and CDS spread',fontsize=14)\n",
    "plt.grid()\n",
    "\n",
    "plt.subplot(1,2,2,sharey=plt.subplot(1,2,1))\n",
    "plt.plot(r_list,spread_list2,'b-',lw=2.5)\n",
    "plt.xticks(fontsize=13)\n",
    "plt.xlabel('Recovery rate',fontsize=13)\n",
    "plt.yticks(fontsize=13)\n",
    "plt.title('Relationship between RR and CDS spread',fontsize=14)\n",
    "plt.grid()\n",
    "plt.show()"
   ]
  },
  {
   "cell_type": "code",
   "execution_count": null,
   "id": "6f2b49a9",
   "metadata": {},
   "outputs": [],
   "source": []
  }
 ],
 "metadata": {
  "kernelspec": {
   "display_name": "Custom (custom_python)",
   "language": "python",
   "name": "custom_python"
  },
  "language_info": {
   "codemirror_mode": {
    "name": "ipython",
    "version": 3
   },
   "file_extension": ".py",
   "mimetype": "text/x-python",
   "name": "python",
   "nbconvert_exporter": "python",
   "pygments_lexer": "ipython3",
   "version": "3.6.12"
  }
 },
 "nbformat": 4,
 "nbformat_minor": 5
}
