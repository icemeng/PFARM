{
 "cells": [
  {
   "cell_type": "code",
   "execution_count": 1,
   "id": "49ecdcdf",
   "metadata": {},
   "outputs": [],
   "source": [
    "##########################################################################\n",
    "# Created on Sat Nov 22 13:13:45 2021                                    #\n",
    "# Python for Financial Analysis and Risk Management                      #\n",
    "# @author: Meng Lipeng (FRM, CFA)                                        #\n",
    "##########################################################################"
   ]
  },
  {
   "cell_type": "markdown",
   "id": "e6731aee",
   "metadata": {},
   "source": [
    "# 9.3.2.Cashflow of fixed-to-fixed ccyswap"
   ]
  },
  {
   "cell_type": "code",
   "execution_count": 2,
   "id": "48dc8798",
   "metadata": {},
   "outputs": [],
   "source": [
    "def CCS_fixed_cashflow(La,Lb,Ra_fix,Rb_fix,m,T,trader,par):\n",
    "    '''Define a function to calculate cashflow of fixed-to-fixed ccyswap.\n",
    "    La:notional amount of currency A\n",
    "    Lb:notional amount of currency B\n",
    "    Ra_fix:fixed rate of currency A\n",
    "    Rb_fix:fixed rate of currency B\n",
    "    m:payment frequency per year\n",
    "    T:tenor of contract\n",
    "    trader:'A' indicates to calculate cashflow of side A, otherwise side B\n",
    "    par:'La' indicates cashflow based on La, otherwise Lb'''\n",
    "    import numpy as np\n",
    "    cashflow=np.zeros(m*T+1)\n",
    "    if par=='La':\n",
    "        cashflow[0]=-La\n",
    "        cashflow[1:-1]=Ra_fix*La/m\n",
    "        cashflow[-1]=(Ra_fix/m+1)*La\n",
    "        if trader=='A':\n",
    "            return cashflow\n",
    "        else:\n",
    "            return -cashflow\n",
    "    else:\n",
    "        cashflow[0]=Lb\n",
    "        cashflow[1:-1]=-Rb_fix*Lb/m\n",
    "        cashflow[-1]=-(Rb_fix/m+1)*Lb\n",
    "        if trader=='A':\n",
    "            return cashflow\n",
    "        else:\n",
    "            return -cashflow"
   ]
  },
  {
   "cell_type": "code",
   "execution_count": 4,
   "id": "76a33df7",
   "metadata": {},
   "outputs": [
    {
     "name": "stdout",
     "output_type": "stream",
     "text": [
      "Cashflow for E bank based on CNY is\n",
      " [-6.400e+08  6.400e+06  6.400e+06  6.400e+06  6.400e+06  6.400e+06\n",
      "  6.400e+06  6.400e+06  6.400e+06  6.400e+06  6.464e+08]\n",
      "Cashflow for E bank based on USD is\n",
      " [ 1.000e+08 -5.000e+05 -5.000e+05 -5.000e+05 -5.000e+05 -5.000e+05\n",
      " -5.000e+05 -5.000e+05 -5.000e+05 -5.000e+05 -1.005e+08]\n"
     ]
    }
   ],
   "source": [
    "par_CNY=6.4e8\n",
    "par_USD=1e8\n",
    "rate_CNY=0.02\n",
    "rate_USD=0.01\n",
    "M=2\n",
    "tenor=5\n",
    "\n",
    "cashflow_Ebank_CNY=CCS_fixed_cashflow(La=par_CNY,Lb=par_USD,Ra_fix=rate_CNY,Rb_fix=rate_USD,m=M,T=tenor,trader='A',par='La')\n",
    "cashflow_Ebank_USD=CCS_fixed_cashflow(La=par_CNY,Lb=par_USD,Ra_fix=rate_CNY,Rb_fix=rate_USD,m=M,T=tenor,trader='A',par='Lb')\n",
    "print('Cashflow for E bank based on CNY is\\n',cashflow_Ebank_CNY)\n",
    "print('Cashflow for E bank based on USD is\\n',cashflow_Ebank_USD)"
   ]
  },
  {
   "cell_type": "code",
   "execution_count": 5,
   "id": "cb76e221",
   "metadata": {},
   "outputs": [
    {
     "name": "stdout",
     "output_type": "stream",
     "text": [
      "Cashflow for F bank based on CNY is\n",
      " [ 6.400e+08 -6.400e+06 -6.400e+06 -6.400e+06 -6.400e+06 -6.400e+06\n",
      " -6.400e+06 -6.400e+06 -6.400e+06 -6.400e+06 -6.464e+08]\n",
      "Cashflow for F bank based on USD is\n",
      " [-1.000e+08  5.000e+05  5.000e+05  5.000e+05  5.000e+05  5.000e+05\n",
      "  5.000e+05  5.000e+05  5.000e+05  5.000e+05  1.005e+08]\n"
     ]
    }
   ],
   "source": [
    "cashflow_Fbank_CNY=CCS_fixed_cashflow(La=par_CNY,Lb=par_USD,Ra_fix=rate_CNY,Rb_fix=rate_USD,m=M,T=tenor,trader='B',par='La')\n",
    "cashflow_Fbank_USD=CCS_fixed_cashflow(La=par_CNY,Lb=par_USD,Ra_fix=rate_CNY,Rb_fix=rate_USD,m=M,T=tenor,trader='B',par='Lb')\n",
    "print('Cashflow for F bank based on CNY is\\n',cashflow_Fbank_CNY)\n",
    "print('Cashflow for F bank based on USD is\\n',cashflow_Fbank_USD)"
   ]
  },
  {
   "cell_type": "markdown",
   "id": "f1d4a780",
   "metadata": {},
   "source": [
    "# 9.3.3.Cashflow of fixed-to-floating ccyswap"
   ]
  },
  {
   "cell_type": "code",
   "execution_count": 8,
   "id": "d5d88c26",
   "metadata": {},
   "outputs": [],
   "source": [
    "def CCS_fixflt_cashflow(La,Lb,Ra_fix,Rb_flt,m,T,trader,par):\n",
    "    '''Define a function to calculate cashflow of fixed-to-floating ccyswap.\n",
    "    La:notional amount of currency A\n",
    "    Lb:notional amount of currency B\n",
    "    Ra_fix:fixed rate of currency A\n",
    "    Rb_flt:floating rate of currency B, input as array\n",
    "    m:payment frequency per year\n",
    "    T:tenor of contract\n",
    "    trader:'A' indicates to calculate cashflow of side A, otherwise side B\n",
    "    par:'La' indicates cashflow based on La, otherwise Lb'''\n",
    "    import numpy as np\n",
    "    cashflow=np.zeros(m*T+1)\n",
    "    if par=='La':\n",
    "        cashflow[0]=-La\n",
    "        cashflow[1:-1]=Ra_fix*La/m\n",
    "        cashflow[-1]=(Ra_fix/m+1)*La\n",
    "        if trader=='A':\n",
    "            return cashflow\n",
    "        else:\n",
    "            return -cashflow\n",
    "    else:\n",
    "        cashflow[0]=Lb\n",
    "        cashflow[1:-1]=-Rb_flt[:-1]*Lb/m\n",
    "        cashflow[-1]=-(Rb_flt[-1]/m+1)*Lb\n",
    "        if trader=='A':\n",
    "            return cashflow\n",
    "        else:\n",
    "            return -cashflow"
   ]
  },
  {
   "cell_type": "markdown",
   "id": "443f324b",
   "metadata": {},
   "source": [
    "# 9.3.4.Cashflow of floating-to-floating ccyswap"
   ]
  },
  {
   "cell_type": "code",
   "execution_count": 14,
   "id": "eb8453db",
   "metadata": {},
   "outputs": [],
   "source": [
    "def CCS_float_cashflow(La,Lb,Ra_flt,Rb_flt,m,T,trader,par):\n",
    "    '''Define a function to calculate cashflow of floating-to-floating ccyswap.\n",
    "    La:notional amount of currency A\n",
    "    Lb:notional amount of currency B\n",
    "    Ra_flt:floating rate of currency A, input as array\n",
    "    Rb_flt:floating rate of currency B, input as array\n",
    "    m:payment frequency per year\n",
    "    T:tenor of contract\n",
    "    trader:'A' indicates to calculate cashflow of side A, otherwise side B\n",
    "    par:'La' indicates cashflow based on La, otherwise Lb'''\n",
    "    import numpy as np\n",
    "    cashflow=np.zeros(m*T+1)\n",
    "    if par=='La':\n",
    "        cashflow[0]=-La\n",
    "        cashflow[1:-1]=Ra_flt[:-1]*La/m\n",
    "        cashflow[-1]=(Ra_flt[-1]/m+1)*La\n",
    "        if trader=='A':\n",
    "            return cashflow\n",
    "        else:\n",
    "            return -cashflow\n",
    "    else:\n",
    "        cashflow[0]=Lb\n",
    "        cashflow[1:-1]=-Rb_flt[:-1]*Lb/m\n",
    "        cashflow[-1]=-(Rb_flt[-1]/m+1)*Lb\n",
    "        if trader=='A':\n",
    "            return cashflow\n",
    "        else:\n",
    "            return -cashflow"
   ]
  },
  {
   "cell_type": "code",
   "execution_count": 10,
   "id": "705039ee",
   "metadata": {},
   "outputs": [
    {
     "name": "stdout",
     "output_type": "stream",
     "text": [
      "Cashflow for G bank based on CNY is\n",
      " [-6.9000e+08  1.0350e+07  1.0350e+07  1.0350e+07  1.0350e+07  1.0350e+07\n",
      "  7.0035e+08]\n",
      "Cashflow for G bank based on USD is\n",
      " [ 1.000000e+08 -6.455000e+05 -7.112000e+05 -8.371500e+05 -1.237200e+06\n",
      " -1.447300e+06 -1.012583e+08]\n"
     ]
    }
   ],
   "source": [
    "import numpy as np\n",
    "\n",
    "par_CNY1=6.9e8\n",
    "par_USD=1e8\n",
    "par_CNY2=1.8e8\n",
    "par_HKD=2e8\n",
    "\n",
    "M1=2\n",
    "M2=1\n",
    "\n",
    "T1=3\n",
    "T2=4\n",
    "\n",
    "rate_fix=0.03\n",
    "Libor=np.array([0.012910,0.014224,0.016743,0.024744,0.028946,0.025166])\n",
    "Shibor=np.array([0.031600,0.046329,0.035270,0.031220])\n",
    "Hibor=np.array([0.013295,0.015057,0.026593,0.023743])\n",
    "\n",
    "cashflow_Gbank_CNY1=CCS_fixflt_cashflow(La=par_CNY1,Lb=par_USD,Ra_fix=rate_fix,Rb_flt=Libor,m=M1,T=T1,trader='A',par='La')\n",
    "cashflow_Gbank_USD=CCS_fixflt_cashflow(La=par_CNY1,Lb=par_USD,Ra_fix=rate_fix,Rb_flt=Libor,m=M1,T=T1,trader='A',par='Lb')\n",
    "print('Cashflow for G bank based on CNY is\\n',cashflow_Gbank_CNY1)\n",
    "print('Cashflow for G bank based on USD is\\n',cashflow_Gbank_USD)"
   ]
  },
  {
   "cell_type": "code",
   "execution_count": 11,
   "id": "063cab4d",
   "metadata": {},
   "outputs": [
    {
     "name": "stdout",
     "output_type": "stream",
     "text": [
      "Cashflow for H bank based on CNY is\n",
      " [ 6.9000e+08 -1.0350e+07 -1.0350e+07 -1.0350e+07 -1.0350e+07 -1.0350e+07\n",
      " -7.0035e+08]\n",
      "Cashflow for H bank based on USD is\n",
      " [ 1.000000e+08 -6.455000e+05 -7.112000e+05 -8.371500e+05 -1.237200e+06\n",
      " -1.447300e+06 -1.012583e+08]\n"
     ]
    }
   ],
   "source": [
    "cashflow_Hbank_CNY1=CCS_fixflt_cashflow(La=par_CNY1,Lb=par_USD,Ra_fix=rate_fix,Rb_flt=Libor,m=M1,T=T1,trader='B',par='La')\n",
    "cashflow_Hbank_USD=CCS_fixflt_cashflow(La=par_CNY1,Lb=par_USD,Ra_fix=rate_fix,Rb_flt=Libor,m=M1,T=T1,trader='B',par='Lb')\n",
    "print('Cashflow for H bank based on CNY is\\n',cashflow_Hbank_CNY1)\n",
    "print('Cashflow for H bank based on USD is\\n',cashflow_Gbank_USD)"
   ]
  },
  {
   "cell_type": "code",
   "execution_count": 15,
   "id": "46c82d9c",
   "metadata": {},
   "outputs": [
    {
     "name": "stdout",
     "output_type": "stream",
     "text": [
      "Cashflow for G bank based on CNY is\n",
      " [-1.800000e+08  5.688000e+06  8.339220e+06  6.348600e+06  1.856196e+08]\n",
      "Cashflow for G bank based on HKD is\n",
      " [ 2.000000e+08 -2.659000e+06 -3.011400e+06 -5.318600e+06 -2.047486e+08]\n"
     ]
    }
   ],
   "source": [
    "cashflow_Gbank_CNY2=CCS_float_cashflow(La=par_CNY2,Lb=par_HKD,Ra_flt=Shibor,Rb_flt=Hibor,m=M2,T=T2,trader='A',par='La')\n",
    "cashflow_Gbank_HKD=CCS_float_cashflow(La=par_CNY2,Lb=par_HKD,Ra_flt=Shibor,Rb_flt=Hibor,m=M2,T=T2,trader='A',par='Lb')\n",
    "print('Cashflow for G bank based on CNY is\\n',cashflow_Gbank_CNY2)\n",
    "print('Cashflow for G bank based on HKD is\\n',cashflow_Gbank_HKD)"
   ]
  },
  {
   "cell_type": "code",
   "execution_count": 16,
   "id": "5791901c",
   "metadata": {},
   "outputs": [
    {
     "name": "stdout",
     "output_type": "stream",
     "text": [
      "Cashflow for I bank based on CNY is\n",
      " [ 1.800000e+08 -5.688000e+06 -8.339220e+06 -6.348600e+06 -1.856196e+08]\n",
      "Cashflow for I bank based on HKD is\n",
      " [-2.000000e+08  2.659000e+06  3.011400e+06  5.318600e+06  2.047486e+08]\n"
     ]
    }
   ],
   "source": [
    "cashflow_Ibank_CNY2=CCS_float_cashflow(La=par_CNY2,Lb=par_HKD,Ra_flt=Shibor,Rb_flt=Hibor,m=M2,T=T2,trader='B',par='La')\n",
    "cashflow_Ibank_HKD=CCS_float_cashflow(La=par_CNY2,Lb=par_HKD,Ra_flt=Shibor,Rb_flt=Hibor,m=M2,T=T2,trader='B',par='Lb')\n",
    "print('Cashflow for I bank based on CNY is\\n',cashflow_Ibank_CNY2)\n",
    "print('Cashflow for I bank based on HKD is\\n',cashflow_Ibank_HKD)"
   ]
  },
  {
   "cell_type": "markdown",
   "id": "011ebe2d",
   "metadata": {},
   "source": [
    "# 9.3.5.Equivalence and valuation"
   ]
  },
  {
   "cell_type": "markdown",
   "id": "1e589ec6",
   "metadata": {},
   "source": [
    "For trade side of A,\n",
    "$$V_{CS}=B_A-B_BE\\tag{9-12}$$\n",
    "For trade side of B\n",
    "$$V_{CS}=B_B-\\frac{B_A}{E}\\tag{9-13}$$\n",
    "where,\\\n",
    "$E$:spot FX rate"
   ]
  },
  {
   "cell_type": "markdown",
   "id": "fa085b4c",
   "metadata": {},
   "source": [
    "**Fixed-to-fixed ccyswap valuation**\n",
    "$$B_{A}=\\left(\\frac{R_A}{m}\\sum_{i=1}^{N}e^{-y_i^A\\tilde{t}_i}+e^{-y_N^A\\tilde{T}}\\right)L_A\\tag{9-14}$$\n",
    "$$B_{B}=\\left(\\frac{R_B}{m}\\sum_{i=1}^{N}e^{-y_i^B\\tilde{t}_i}+e^{-y_N^B\\tilde{T}}\\right)L_B\\tag{9-15}$$\n",
    "where,\\\n",
    "$\\tilde{t}_i$:valuation date to next ith payment date\\\n",
    "$\\tilde{T}$:contract remaining tenor in year\\\n",
    "$y_i^A$:Discount rate of currency A at $t_i$ (continuous compound)\\\n",
    "$y_i^B$:Discount rate of currency B at $t_i$ (continuous compound)"
   ]
  },
  {
   "cell_type": "markdown",
   "id": "27a887c1",
   "metadata": {},
   "source": [
    "Combine (9-12), (9-14) and (9-15), for trade side of A,\n",
    "$$V_{CS}=B_A-B_BE=\\left(\\frac{R_A}{m}\\sum_{i=1}^{N}e^{-y_i^A\\tilde{t}_i}+e^{-y_N^A\\tilde{T}}\\right)L_A-\\left(\\frac{R_B}{m}\\sum_{i=1}^{N}e^{-y_i^B\\tilde{t}_i}+e^{-y_N^B\\tilde{T}}\\right)L_BE\\tag{9-16}$$\n",
    "for trade side of B,\n",
    "$$V_{CS}=B_B-\\frac{B_A}{E}=\\left(\\frac{R_B}{m}\\sum_{i=1}^{N}e^{-y_i^B\\tilde{t}_i}+e^{-y_N^B\\tilde{T}}\\right)L_B-\\left(\\frac{R_A}{m}\\sum_{i=1}^{N}e^{-y_i^A\\tilde{t}_i}+e^{-y_N^A\\tilde{T}}\\right)\\frac{L_A}{E}\\tag{9-17}$$"
   ]
  },
  {
   "cell_type": "markdown",
   "id": "e14009cf",
   "metadata": {},
   "source": [
    "**Fixed-to-floating ccyswap valuation**\n",
    "$$B_{B}=\\left(\\frac{R_{B}}{m}+1\\right)e^{-y_1^B\\tilde{t}_1}L_B\\tag{9-18}$$\n",
    "where,\\\n",
    "$R_B$:next payment floating rate"
   ]
  },
  {
   "cell_type": "markdown",
   "id": "b23c2cdc",
   "metadata": {},
   "source": [
    "Combine (9-12), (9-14) and (9-18), for trade side of A,\n",
    "$$V_{CS}=B_A-B_BE=\\left(\\frac{R_A}{m}\\sum_{i=1}^{N}e^{-y_i^A\\tilde{t}_i}+e^{-y_N^A\\tilde{T}}\\right)L_A-\\left(\\frac{R_{B}}{m}+1\\right)e^{-y_1^B\\tilde{t}_1}L_BE\\tag{9-19}$$\n",
    "for trade side of B,\n",
    "$$V_{CS}=B_B-\\frac{B_A}{E}=\\left(\\frac{R_{B}}{m}+1\\right)e^{-y_1^B\\tilde{t}_1}L_B-\\left(\\frac{R_A}{m}\\sum_{i=1}^{N}e^{-y_i^A\\tilde{t}_i}+e^{-y_N^A\\tilde{T}}\\right)\\frac{L_A}{E}\\tag{9-20}$$"
   ]
  },
  {
   "cell_type": "markdown",
   "id": "c47949f5",
   "metadata": {},
   "source": [
    "**Floating-to-floating ccyswap valuation**\n",
    "for trade side of A,\n",
    "$$V_{CS}=B_A-B_BE=\\left(\\frac{R_{A}}{m}+1\\right)e^{-y_1^A\\tilde{t}_1}L_A-\\left(\\frac{R_{B}}{m}+1\\right)e^{-y_1^B\\tilde{t}_1}L_BE\\tag{9-21}$$\n",
    "for trade side of B,\n",
    "$$V_{CS}=B_B-\\frac{B_A}{E}=\\left(\\frac{R_{B}}{m}+1\\right)e^{-y_1^B\\tilde{t}_1}L_B-\\left(\\frac{R_{A}}{m}+1\\right)e^{-y_1^A\\tilde{t}_1}\\frac{L_A}{E}\\tag{9-22}$$"
   ]
  },
  {
   "cell_type": "markdown",
   "id": "72ee9919",
   "metadata": {},
   "source": [
    "**Pricing fixed rate**\n",
    "$$R=\\frac{m(1-q_N)}{\\sum_{i=1}^Nq_i}\\tag{9-23}$$\n",
    "where,\\\n",
    "$q_i=e^{-y_it_i}$:discount factor at $t_i$"
   ]
  },
  {
   "cell_type": "code",
   "execution_count": 17,
   "id": "3720a3c8",
   "metadata": {},
   "outputs": [],
   "source": [
    "def CCS_value(types,La,Lb,Ra,Rb,ya,yb,E,m,t,trader):\n",
    "    '''Define a function for ccyswap valuation.\n",
    "    types:type of ccyswap. 'fixed-fixed','floating-floating',otherwise fixed-to-floating\n",
    "    La:notional amount for currency A\n",
    "    Lb:notional amount for currency B\n",
    "    Ra:rate of currency A\n",
    "    Rb:rate of currency B\n",
    "    ya:continuous compound zero rate of currency A(discount rate), input as array\n",
    "    yb:continuous compound zero rate of currency B(discount rate), input as array\n",
    "    E:spot FX rate(A/B) at valuation date\n",
    "    m:payment frequency per year\n",
    "    t:valution date to next ith payment date, input as array\n",
    "    trader:'A' indicates to trade side A, otherwise trade side B'''\n",
    "    from numpy import exp\n",
    "    \n",
    "    if types=='fixed-fixed':\n",
    "        Bond_A=(Ra*sum(exp(-ya*t))/m+exp(-ya[-1]*t[-1]))*La\n",
    "        Bond_B=(Rb*sum(exp(-yb*t))/m+exp(-yb[-1]*t[-1]))*Lb\n",
    "    elif types=='floating-floating':\n",
    "        Bond_A=(Ra/m+1)*exp(-ya[0]*t[0])*La\n",
    "        Bond_B=(Rb/m+1)*exp(-yb[0]*t[0])*Lb\n",
    "    else:\n",
    "        Bond_A=(Ra*sum(exp(-ya*t))/m+exp(-ya[-1]*t[-1]))*La\n",
    "        Bond_B=(Rb/m+1)*exp(-yb[0]*t[0])*Lb\n",
    "        \n",
    "    if trader=='A':\n",
    "        swap_value=Bond_A-Bond_B*E\n",
    "    else:\n",
    "        swap_value=Bond_B-Bond_A/E\n",
    "    \n",
    "    return swap_value"
   ]
  },
  {
   "cell_type": "code",
   "execution_count": 18,
   "id": "6960607c",
   "metadata": {},
   "outputs": [
    {
     "name": "stdout",
     "output_type": "stream",
     "text": [
      "Fixed rate of CNY is  0.02\n"
     ]
    }
   ],
   "source": [
    "import utils\n",
    "\n",
    "y_CNY_Apr1=np.array([0.016778,0.019062,0.019821])\n",
    "M=1\n",
    "tenor=3\n",
    "\n",
    "rate_CNY=utils.swap_rate(m=M,y=y_CNY_Apr1,T=tenor)\n",
    "print('Fixed rate of CNY is ',round(rate_CNY,4))"
   ]
  },
  {
   "cell_type": "code",
   "execution_count": 20,
   "id": "ac58b301",
   "metadata": {},
   "outputs": [
    {
     "data": {
      "text/plain": [
       "array([0.78630137, 1.78630137, 2.78630137])"
      ]
     },
     "execution_count": 20,
     "metadata": {},
     "output_type": "execute_result"
    }
   ],
   "source": [
    "import datetime as dt\n",
    "\n",
    "FX_Apr1=7.0771\n",
    "par_USD=1e8\n",
    "par_CNY=par_USD*FX_Apr1\n",
    "\n",
    "Libor_Apr1=0.010024\n",
    "\n",
    "y_CNY_Jun18=np.array([0.021156,0.023294,0.023811])\n",
    "y_USD_Jun18=np.array([0.0019,0.0019,0.0022])\n",
    "FX_Jun18=7.0903\n",
    "\n",
    "y_CNY_Jul20=np.array([0.022540,0.024251,0.025256])\n",
    "y_USD_Jul20=np.array([0.0014,0.0016,0.0018])\n",
    "FX_Jul20=6.9928\n",
    "\n",
    "t0=dt.datetime(2020,4,1)\n",
    "t1=dt.datetime(2020,6,18)\n",
    "t2=dt.datetime(2020,7,20)\n",
    "\n",
    "t1_list=np.arange(1,tenor+1)-(t1-t0).days/365\n",
    "t1_list"
   ]
  },
  {
   "cell_type": "code",
   "execution_count": 21,
   "id": "2227328d",
   "metadata": {},
   "outputs": [
    {
     "data": {
      "text/plain": [
       "array([0.69863014, 1.69863014, 2.69863014])"
      ]
     },
     "execution_count": 21,
     "metadata": {},
     "output_type": "execute_result"
    }
   ],
   "source": [
    "t2_list=np.arange(1,tenor+1)-(t2-t0).days/365\n",
    "t2_list"
   ]
  },
  {
   "cell_type": "code",
   "execution_count": 23,
   "id": "a01c5e7d",
   "metadata": {},
   "outputs": [
    {
     "name": "stdout",
     "output_type": "stream",
     "text": [
      "Ccyswap value(CNY) for Bank J at 2020/06/18 is  -12068317.38\n",
      "Ccyswap value(USD) for Bank K at 2020/06/18 is  1702088.4\n",
      "Ccyswap value(CNY) for Bank J at 2020/07/20 is  -3804108.71\n",
      "Ccyswap value(USD) for Bank K at 2020/07/20 is  544003.65\n"
     ]
    }
   ],
   "source": [
    "value_CNY_Jun18=CCS_value(types='fixed-floating',La=par_CNY,Lb=par_USD,Ra=rate_CNY,Rb=Libor_Apr1,ya=y_CNY_Jun18,yb=y_USD_Jun18,E=FX_Jun18,m=M,t=t1_list,trader='A')\n",
    "value_USD_Jun18=CCS_value(types='fixed-floating',La=par_CNY,Lb=par_USD,Ra=rate_CNY,Rb=Libor_Apr1,ya=y_CNY_Jun18,yb=y_USD_Jun18,E=FX_Jun18,m=M,t=t1_list,trader='B')\n",
    "\n",
    "value_CNY_Jul20=CCS_value(types='fixed-floating',La=par_CNY,Lb=par_USD,Ra=rate_CNY,Rb=Libor_Apr1,ya=y_CNY_Jul20,yb=y_USD_Jul20,E=FX_Jul20,m=M,t=t2_list,trader='A')\n",
    "value_USD_Jul20=CCS_value(types='fixed-floating',La=par_CNY,Lb=par_USD,Ra=rate_CNY,Rb=Libor_Apr1,ya=y_CNY_Jul20,yb=y_USD_Jul20,E=FX_Jul20,m=M,t=t2_list,trader='B')\n",
    "\n",
    "print('Ccyswap value(CNY) for Bank J at 2020/06/18 is ',round(value_CNY_Jun18,2))\n",
    "print('Ccyswap value(USD) for Bank K at 2020/06/18 is ',round(value_USD_Jun18,2))\n",
    "\n",
    "print('Ccyswap value(CNY) for Bank J at 2020/07/20 is ',round(value_CNY_Jul20,2))\n",
    "print('Ccyswap value(USD) for Bank K at 2020/07/20 is ',round(value_USD_Jul20,2))"
   ]
  },
  {
   "cell_type": "code",
   "execution_count": null,
   "id": "36e22c5a",
   "metadata": {},
   "outputs": [],
   "source": []
  }
 ],
 "metadata": {
  "kernelspec": {
   "display_name": "Custom (custom_python)",
   "language": "python",
   "name": "custom_python"
  },
  "language_info": {
   "codemirror_mode": {
    "name": "ipython",
    "version": 3
   },
   "file_extension": ".py",
   "mimetype": "text/x-python",
   "name": "python",
   "nbconvert_exporter": "python",
   "pygments_lexer": "ipython3",
   "version": "3.6.12"
  }
 },
 "nbformat": 4,
 "nbformat_minor": 5
}
