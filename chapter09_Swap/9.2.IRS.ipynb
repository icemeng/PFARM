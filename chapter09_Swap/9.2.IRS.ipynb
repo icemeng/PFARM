{
 "cells": [
  {
   "cell_type": "code",
   "execution_count": 1,
   "id": "76108584",
   "metadata": {},
   "outputs": [],
   "source": [
    "##########################################################################\n",
    "# Created on Sat Nov 21 22:14:45 2021                                    #\n",
    "# Python for Financial Analysis and Risk Management                      #\n",
    "# @author: Meng Lipeng (FRM, CFA)                                        #\n",
    "##########################################################################"
   ]
  },
  {
   "cell_type": "markdown",
   "id": "3deeb6d3",
   "metadata": {},
   "source": [
    "# 9.2.2.Cashflow"
   ]
  },
  {
   "cell_type": "markdown",
   "id": "ccd881b9",
   "metadata": {},
   "source": [
    "**Fixed payer, floating receiver**\n",
    "$$f_i=\\frac{1}{m}(R_{i-1}-R)L\\tag{9-1}$$\n",
    "**Fixed receiver, floating payer**\n",
    "$$f_i=\\frac{1}{m}(R-R_{i-1})L\\tag{9-2}$$\n",
    "where,\\\n",
    "$L$:Notional amount\\\n",
    "$m$:Payment frequency per year\\\n",
    "$R_{i-1}$:Floating rate determined at $t_{i-1}$ and payed at $t_i$\\\n",
    "$R$:Fixed rate which is also called swap rate"
   ]
  },
  {
   "cell_type": "code",
   "execution_count": 2,
   "id": "af4a2662",
   "metadata": {},
   "outputs": [],
   "source": [
    "def IRS_cashflow(R_flt,R_fix,L,m,position):\n",
    "    '''Define a function to calculate cashflow of IRS.\n",
    "    R_flt:floating rate, input as array\n",
    "    R_fix:fixed rate\n",
    "    L:notional amount\n",
    "    m:payment frequency per year\n",
    "    position:'long' indicates fixed payer, otherwise fixed receiver'''\n",
    "    if position=='long':\n",
    "        cashflow=(R_flt-R_fix)*L/m\n",
    "    else:\n",
    "        cashflow=(R_fix-R_flt)*L/m\n",
    "    return cashflow"
   ]
  },
  {
   "cell_type": "code",
   "execution_count": 3,
   "id": "3fe5d654",
   "metadata": {},
   "outputs": [
    {
     "data": {
      "text/plain": [
       "array([ -251500.,  -250000.,  -358850.,  -311450.,   375500.,   504650.,\n",
       "         302000.,  -212500.,  -368500., -1067000.])"
      ]
     },
     "execution_count": 3,
     "metadata": {},
     "output_type": "execute_result"
    }
   ],
   "source": [
    "import numpy as np\n",
    "\n",
    "rate_float=np.array([0.031970,0.032000,0.029823,0.030771,0.044510,0.047093,0.043040,0.032750,0.029630,0.015660])\n",
    "rate_fixed=0.037\n",
    "par=1e8\n",
    "M=2\n",
    "\n",
    "Netpay_A=IRS_cashflow(R_flt=rate_float,R_fix=rate_fixed,L=par,m=M,position='long')\n",
    "Netpay_A"
   ]
  },
  {
   "cell_type": "code",
   "execution_count": 4,
   "id": "507fccbd",
   "metadata": {},
   "outputs": [
    {
     "data": {
      "text/plain": [
       "array([ 251500.,  250000.,  358850.,  311450., -375500., -504650.,\n",
       "       -302000.,  212500.,  368500., 1067000.])"
      ]
     },
     "execution_count": 4,
     "metadata": {},
     "output_type": "execute_result"
    }
   ],
   "source": [
    "Netpay_B=IRS_cashflow(R_flt=rate_float,R_fix=rate_fixed,L=par,m=M,position='short')\n",
    "Netpay_B"
   ]
  },
  {
   "cell_type": "code",
   "execution_count": 5,
   "id": "fe53e676",
   "metadata": {},
   "outputs": [
    {
     "name": "stdout",
     "output_type": "stream",
     "text": [
      "Total amount payed by A is  -1637650.0\n",
      "Total amount payed by B is  1637650.0\n"
     ]
    }
   ],
   "source": [
    "Totalpay_A=np.sum(Netpay_A)\n",
    "Totalpay_B=np.sum(Netpay_B)\n",
    "print('Total amount payed by A is ',round(Totalpay_A,2))\n",
    "print('Total amount payed by B is ',round(Totalpay_B,2))"
   ]
  },
  {
   "cell_type": "markdown",
   "id": "d33c6f2d",
   "metadata": {},
   "source": [
    "# 9.2.3.Equivalence"
   ]
  },
  {
   "cell_type": "markdown",
   "id": "19900773",
   "metadata": {},
   "source": [
    "**Fixed payer, floating receiver**\n",
    "$$V_{IRS}=B_{flt}-B_{fix}\\tag{9-3}$$\n",
    "**Fixed receiver, floating payer**\n",
    "$$V_{IRS}=B_{fix}-B_{flt}\\tag{9-4}$$\n",
    "When contract initial,\n",
    "$$B_{fix}=B_{flt}\\tag{9-5}$$"
   ]
  },
  {
   "cell_type": "markdown",
   "id": "eea216ba",
   "metadata": {},
   "source": [
    "# 9.2.4.Pricing swap rate"
   ]
  },
  {
   "cell_type": "markdown",
   "id": "8b6907d5",
   "metadata": {},
   "source": [
    "$$B_{fix}=\\left(\\frac{R}{m}\\sum_{i=1}^{N}e^{-y_it_i}+e^{-y_NT}\\right)L\\tag{9-6}$$\n",
    "where,\\\n",
    "R:Fixed rate\\\n",
    "m:Payment frequency per year(m>=1)\\\n",
    "L:Notional amount\\\n",
    "$y_i$:Discount rate at $t_i$(continuous compound)\\\n",
    "$t_i$:Time to payment date(i=1,2,....,N)\\\n",
    "$T$:Contract maturity"
   ]
  },
  {
   "cell_type": "markdown",
   "id": "ddf923c5",
   "metadata": {},
   "source": [
    "$$B_{fix}=\\left(\\frac{R}{m}\\sum_{i=1}^{N}q_i+q_N\\right)L\\tag{9-7}$$\n",
    "where,\\\n",
    "$q_i=e^{-y_it_i}$:discount factor at $t_i$"
   ]
  },
  {
   "cell_type": "markdown",
   "id": "9f359b18",
   "metadata": {},
   "source": [
    "$$B_{flt}=L\\tag{9-8}$$"
   ]
  },
  {
   "cell_type": "markdown",
   "id": "3ab04ece",
   "metadata": {},
   "source": [
    "Combine (9-5),(9-7) and (9-8),\n",
    "$$R=\\frac{m(1-q_N)}{\\sum_{i=1}^Nq_i}\\tag{9-9}$$"
   ]
  },
  {
   "cell_type": "code",
   "execution_count": 6,
   "id": "8a741adb",
   "metadata": {},
   "outputs": [],
   "source": [
    "def swap_rate(m,y,T):\n",
    "    '''Define a function to calculate swap rate.\n",
    "    m:payment frequency per year\n",
    "    y:continuous compound zero rate(discount rate), input as array\n",
    "    T:contract tenor in year'''\n",
    "    import numpy as np\n",
    "    n_list=np.arange(1,m*T+1)\n",
    "    t=n_list/m\n",
    "    q=np.exp(-y*t)\n",
    "    rate=m*(1-q[-1])/np.sum(q)\n",
    "    return rate"
   ]
  },
  {
   "cell_type": "code",
   "execution_count": 7,
   "id": "abf0e75c",
   "metadata": {},
   "outputs": [
    {
     "name": "stdout",
     "output_type": "stream",
     "text": [
      "Swap rate of contract is  0.0241\n"
     ]
    }
   ],
   "source": [
    "freq=2\n",
    "tenor=3\n",
    "\n",
    "r_list=np.array([0.020579,0.021276,0.022080,0.022853,0.023527,0.024036])\n",
    "R_July1=swap_rate(m=freq,y=r_list,T=tenor)\n",
    "print('Swap rate of contract is ',round(R_July1,4))"
   ]
  },
  {
   "cell_type": "markdown",
   "id": "5cb1285b",
   "metadata": {},
   "source": [
    "# 9.2.5.Valuation"
   ]
  },
  {
   "cell_type": "markdown",
   "id": "7ac8e02d",
   "metadata": {},
   "source": [
    "$$B_{fix}=\\left(\\frac{R_{fix}}{m}\\sum_{i=1}^{N}e^{-y_i\\tilde{t}_i}+e^{-y_N\\tilde{T}}\\right)L\\tag{9-10}$$\n",
    "where,\\\n",
    "$\\tilde{t}_i$:valuation date to next ith payment date\\\n",
    "$\\tilde{T}$:contract remaining tenor in year"
   ]
  },
  {
   "cell_type": "markdown",
   "id": "3380655f",
   "metadata": {},
   "source": [
    "$$B_{flt}=\\left(\\frac{R_{flt}}{m}+1\\right)Le^{-y_1\\tilde{t}_1}\\tag{9-11}$$"
   ]
  },
  {
   "cell_type": "code",
   "execution_count": 14,
   "id": "fbcc9755",
   "metadata": {},
   "outputs": [],
   "source": [
    "def swap_value(R_fix,R_flt,t,y,m,L,position):\n",
    "    '''Define a function for IRS valuation.\n",
    "    R_fix:swap rate\n",
    "    R_flt:next payment floating rate\n",
    "    t:valution date to next ith payment date, input as array\n",
    "    y:continuous compound zero rate(discount rate), input as array\n",
    "    m:payment frequency per year\n",
    "    L:notional amount\n",
    "    position:'long' indicates fixed payer, otherwise fixed receiver'''\n",
    "    from numpy import exp\n",
    "    B_fix=(R_fix*sum(exp(-y*t))/m+exp(-y[-1]*t[-1]))*L\n",
    "    B_flt=(R_flt/m+1)*L*exp(-y[0]*t[0])\n",
    "    if position=='long':\n",
    "        value=B_flt-B_fix\n",
    "    else:\n",
    "        value=B_fix-B_flt\n",
    "    return value"
   ]
  },
  {
   "cell_type": "code",
   "execution_count": 9,
   "id": "25bcefe2",
   "metadata": {},
   "outputs": [
    {
     "data": {
      "text/plain": [
       "array([0.017219  , 0.017526  , 0.021012  , 0.0211    , 0.021764  ,\n",
       "       0.022165  , 0.0231695 , 0.02504   , 0.02665525, 0.026894  ])"
      ]
     },
     "execution_count": 9,
     "metadata": {},
     "output_type": "execute_result"
    }
   ],
   "source": [
    "import scipy.interpolate as si\n",
    "\n",
    "T=np.array([1/12,2/12,0.25,0.5,0.75,1.0,2.0,3.0])\n",
    "R_July10=np.array([0.017219,0.017526,0.021012,0.021100,0.021764,0.022165,0.025040,0.026894])\n",
    "R_July20=np.array([0.016730,0.018373,0.019934,0.020439,0.021621,0.022540,0.024251,0.025256])\n",
    "\n",
    "func_July10=si.interp1d(x=T,y=R_July10,kind='cubic')\n",
    "func_July20=si.interp1d(x=T,y=R_July20,kind='cubic')\n",
    "\n",
    "T_new=np.array([1/12,2/12,0.25,0.5,0.75,1.0,1.5,2.0,2.5,3.0])\n",
    "\n",
    "R_new_July10=func_July10(T_new)\n",
    "R_new_July10"
   ]
  },
  {
   "cell_type": "code",
   "execution_count": 10,
   "id": "d067507a",
   "metadata": {},
   "outputs": [
    {
     "data": {
      "text/plain": [
       "array([0.01673   , 0.018373  , 0.019934  , 0.020439  , 0.021621  ,\n",
       "       0.02254   , 0.02357906, 0.024251  , 0.02474644, 0.025256  ])"
      ]
     },
     "execution_count": 10,
     "metadata": {},
     "output_type": "execute_result"
    }
   ],
   "source": [
    "R_new_July20=func_July20(T_new)\n",
    "R_new_July20"
   ]
  },
  {
   "cell_type": "code",
   "execution_count": 11,
   "id": "d09abf61",
   "metadata": {},
   "outputs": [
    {
     "data": {
      "text/plain": [
       "array([0.47945205, 0.97945205, 1.47945205, 1.97945205, 2.47945205,\n",
       "       2.97945205])"
      ]
     },
     "execution_count": 11,
     "metadata": {},
     "output_type": "execute_result"
    }
   ],
   "source": [
    "import datetime as dt\n",
    "\n",
    "T1=dt.datetime(2020,7,10)\n",
    "T2=dt.datetime(2020,7,20)\n",
    "T3=dt.datetime(2021,1,1) #next payment date\n",
    "\n",
    "tenor1=(T3-T1).days/365\n",
    "tenor2=(T3-T2).days/365\n",
    "\n",
    "T=3\n",
    "M=2\n",
    "\n",
    "T_list1=np.arange(T*M)/M\n",
    "T_list1=T_list1+tenor1\n",
    "T_list1"
   ]
  },
  {
   "cell_type": "code",
   "execution_count": 12,
   "id": "8a335fc5",
   "metadata": {},
   "outputs": [
    {
     "data": {
      "text/plain": [
       "array([0.45205479, 0.95205479, 1.45205479, 1.95205479, 2.45205479,\n",
       "       2.95205479])"
      ]
     },
     "execution_count": 12,
     "metadata": {},
     "output_type": "execute_result"
    }
   ],
   "source": [
    "T_list2=np.arange(T*M)/M\n",
    "T_list2=T_list2+tenor2\n",
    "T_list2"
   ]
  },
  {
   "cell_type": "code",
   "execution_count": 15,
   "id": "b10d56e2",
   "metadata": {},
   "outputs": [
    {
     "name": "stdout",
     "output_type": "stream",
     "text": [
      "IRS value for long position at 2020/07/10 is  848538.61\n",
      "IRS value for short position at 2020/07/10 is  -848538.61\n"
     ]
    }
   ],
   "source": [
    "yield_July10=np.zeros_like(T_list1)\n",
    "yield_July10[0]=R_new_July10[3]\n",
    "yield_July10[1:]=R_new_July10[5:]\n",
    "\n",
    "yield_July20=np.zeros_like(T_list2)\n",
    "yield_July20[0]=R_new_July20[3]\n",
    "yield_July20[1:]=R_new_July20[5:]\n",
    "\n",
    "rate_fix=0.0241\n",
    "rate_float=0.02178\n",
    "par=1e8\n",
    "\n",
    "value_July10_long=swap_value(R_fix=rate_fix,R_flt=rate_float,t=T_list1,y=yield_July10,m=M,L=par,position='long')\n",
    "value_July10_short=swap_value(R_fix=rate_fix,R_flt=rate_float,t=T_list1,y=yield_July10,m=M,L=par,position='short')\n",
    "print('IRS value for long position at 2020/07/10 is ',round(value_July10_long,2))\n",
    "print('IRS value for short position at 2020/07/10 is ',round(value_July10_short,2))"
   ]
  },
  {
   "cell_type": "code",
   "execution_count": 16,
   "id": "a55196a1",
   "metadata": {},
   "outputs": [
    {
     "name": "stdout",
     "output_type": "stream",
     "text": [
      "IRS value for long position at 2020/07/20 is  404294.41\n",
      "IRS value for short position at 2020/07/20 is  -404294.41\n"
     ]
    }
   ],
   "source": [
    "value_July20_long=swap_value(R_fix=rate_fix,R_flt=rate_float,t=T_list2,y=yield_July20,m=M,L=par,position='long')\n",
    "value_July20_short=swap_value(R_fix=rate_fix,R_flt=rate_float,t=T_list2,y=yield_July20,m=M,L=par,position='short')\n",
    "print('IRS value for long position at 2020/07/20 is ',round(value_July20_long,2))\n",
    "print('IRS value for short position at 2020/07/20 is ',round(value_July20_short,2))"
   ]
  },
  {
   "cell_type": "code",
   "execution_count": null,
   "id": "5c8cecca",
   "metadata": {},
   "outputs": [],
   "source": []
  }
 ],
 "metadata": {
  "kernelspec": {
   "display_name": "Custom (custom_python)",
   "language": "python",
   "name": "custom_python"
  },
  "language_info": {
   "codemirror_mode": {
    "name": "ipython",
    "version": 3
   },
   "file_extension": ".py",
   "mimetype": "text/x-python",
   "name": "python",
   "nbconvert_exporter": "python",
   "pygments_lexer": "ipython3",
   "version": "3.6.12"
  }
 },
 "nbformat": 4,
 "nbformat_minor": 5
}
