{
 "cells": [
  {
   "cell_type": "code",
   "execution_count": 1,
   "id": "be8907a9",
   "metadata": {},
   "outputs": [],
   "source": [
    "##########################################################################\n",
    "# Created on Sat Nov 11 23:20:45 2021                                    #\n",
    "# Python for Financial Analysis and Risk Management                      #\n",
    "# @author: Meng Lipeng (FRM, CFA)                                        #\n",
    "##########################################################################"
   ]
  },
  {
   "cell_type": "markdown",
   "id": "40b78b34",
   "metadata": {},
   "source": [
    "# 10.4.1.Day convention"
   ]
  },
  {
   "cell_type": "code",
   "execution_count": 2,
   "id": "cbf36e83",
   "metadata": {},
   "outputs": [],
   "source": [
    "import datetime as dt\n",
    "\n",
    "def accrued_interest(par,c,m,t1,t2,t3,t4,rule):\n",
    "    '''Define a function to calculate accrued interest based on different day convention\n",
    "    par:par of bond\n",
    "    c:coupon\n",
    "    m:coupon payment frequency per year\n",
    "    t1:beginning of non reference period\n",
    "    t2:ending of non reference period\n",
    "    t3:beginning of reference period\n",
    "    t4:ending of reference period\n",
    "    rule:date convention. 'actual/actual','actual/360',otherwise 'actual/365' '''\n",
    "    d1=(t2-t1).days\n",
    "    if rule=='actual/actual':\n",
    "        d2=(t4-t3).days\n",
    "        interest=(d1/d2)*par*c/m\n",
    "    elif rule=='actual/360':\n",
    "        interest=(d1/360)*par*c\n",
    "    else:\n",
    "        interest=(d1/365)*par*c\n",
    "    return interest"
   ]
  },
  {
   "cell_type": "code",
   "execution_count": 3,
   "id": "1098caa2",
   "metadata": {},
   "outputs": [
    {
     "name": "stdout",
     "output_type": "stream",
     "text": [
      "accrued based on actual/actual day convention is  10268.48\n",
      "accrued based on actual/360 day convention is  10496.67\n",
      "accrued based on actual/365 day convention is  10352.88\n"
     ]
    }
   ],
   "source": [
    "par_TB06=1e6\n",
    "C_TB06=0.0268\n",
    "m_TB06=2\n",
    "\n",
    "t1_TB06=dt.datetime(2020,5,28)\n",
    "t2_TB06=dt.datetime(2020,10,16)\n",
    "t3_TB06=dt.datetime(2020,5,21)\n",
    "t4_TB06=dt.datetime(2020,11,21)\n",
    "\n",
    "R1_TB06=accrued_interest(par=par_TB06,c=C_TB06,m=m_TB06,t1=t1_TB06,t2=t2_TB06,t3=t3_TB06,t4=t4_TB06,rule='actual/actual')\n",
    "R2_TB06=accrued_interest(par=par_TB06,c=C_TB06,m=m_TB06,t1=t1_TB06,t2=t2_TB06,t3=t3_TB06,t4=t4_TB06,rule='actual/360')\n",
    "R3_TB06=accrued_interest(par=par_TB06,c=C_TB06,m=m_TB06,t1=t1_TB06,t2=t2_TB06,t3=t3_TB06,t4=t4_TB06,rule='actual/365')\n",
    "\n",
    "print('accrued based on actual/actual day convention is ',round(R1_TB06,2))\n",
    "print('accrued based on actual/360 day convention is ',round(R2_TB06,2))\n",
    "print('accrued based on actual/365 day convention is ',round(R3_TB06,2))"
   ]
  },
  {
   "cell_type": "markdown",
   "id": "9404de51",
   "metadata": {},
   "source": [
    "# 10.4.2.Quote of Treasury bond"
   ]
  },
  {
   "cell_type": "code",
   "execution_count": 4,
   "id": "646d8f89",
   "metadata": {},
   "outputs": [
    {
     "data": {
      "text/plain": [
       "array([0.29315068, 0.79315068, 1.29315068, 1.79315068, 2.29315068,\n",
       "       2.79315068, 3.29315068, 3.79315068, 4.29315068, 4.79315068,\n",
       "       5.29315068, 5.79315068, 6.29315068, 6.79315068, 7.29315068,\n",
       "       7.79315068, 8.29315068, 8.79315068, 9.29315068, 9.79315068])"
      ]
     },
     "execution_count": 4,
     "metadata": {},
     "output_type": "execute_result"
    }
   ],
   "source": [
    "import numpy as np\n",
    "\n",
    "t_begin=dt.datetime(2020,5,21)\n",
    "t_mature=dt.datetime(2030,5,21)\n",
    "t_pricing=dt.datetime(2020,8,6)\n",
    "t_next1=dt.datetime(2020,11,21)\n",
    "\n",
    "N=((t_mature-t_pricing).days//365+1)*m_TB06#number of coupon payment times\n",
    "tenor=(t_next1-t_pricing).days/365 #time(year) between pricing date and next coupon payment date\n",
    "t_list=np.arange(N)/2+tenor #time(year) between pricing date and every coupon payment date\n",
    "t_list"
   ]
  },
  {
   "cell_type": "code",
   "execution_count": 5,
   "id": "569520d5",
   "metadata": {},
   "outputs": [
    {
     "name": "stdout",
     "output_type": "stream",
     "text": [
      "Dirty price of TB06 is  97.5823\n"
     ]
    }
   ],
   "source": [
    "import utils\n",
    "\n",
    "bond_par=100\n",
    "y_TB06=0.0301 #YTM\n",
    "\n",
    "dirty_price=utils.Bondprice_onediscount(C=C_TB06,M=bond_par,m=m_TB06,y=y_TB06,t=t_list)\n",
    "print('Dirty price of TB06 is ',round(dirty_price,4))"
   ]
  },
  {
   "cell_type": "code",
   "execution_count": 7,
   "id": "b78fd776",
   "metadata": {},
   "outputs": [
    {
     "name": "stdout",
     "output_type": "stream",
     "text": [
      "Accured interest of TB06 is  0.5608\n"
     ]
    }
   ],
   "source": [
    "bond_interest=accrued_interest(par=bond_par,c=C_TB06,m=m_TB06,t1=t_begin,t2=t_pricing,t3=t_begin,t4=t_next1,rule='actual/actual')\n",
    "print('Accured interest of TB06 is ',round(bond_interest,4))"
   ]
  },
  {
   "cell_type": "code",
   "execution_count": 8,
   "id": "99bb2885",
   "metadata": {},
   "outputs": [
    {
     "name": "stdout",
     "output_type": "stream",
     "text": [
      "Clean price of TB06 is  97.0216\n"
     ]
    }
   ],
   "source": [
    "clean_price=dirty_price-bond_interest\n",
    "print('Clean price of TB06 is ',round(clean_price,4))"
   ]
  },
  {
   "cell_type": "markdown",
   "id": "a481d039",
   "metadata": {},
   "source": [
    "# 10.4.3.Invoice price of Treasury bond futures"
   ]
  },
  {
   "cell_type": "markdown",
   "id": "227f54d4",
   "metadata": {},
   "source": [
    "$$\\mathit{Invoice \\ price \\ of \\ futures=Price \\ of \\ futures \\times Conversion \\ factor + Accured \\ interest}$$"
   ]
  },
  {
   "cell_type": "markdown",
   "id": "21e88444",
   "metadata": {},
   "source": [
    "## 1.Conversion factor"
   ]
  },
  {
   "cell_type": "markdown",
   "id": "f725a7f0",
   "metadata": {},
   "source": [
    "$$CF=\\frac{1}{\\left(1+\\frac{r}{m}\\right)^{\\frac{xm}{12}}}\\left[\\frac{c}{m}+\\frac{c}{r}+\\frac{\\left(1-\\frac{c}{r}\\right)}{\\left(1+\\frac{r}{m}\\right)^{n-1}}\\right]-\\frac{c}{m}\\left(1-\\frac{xm}{12}\\right)\\tag{10-17}$$\n",
    "where,\\\n",
    "r:coupon of underlying asset, 3% as an example \\\n",
    "x:The number of months from the delivery month of treasury bond futures to the next interest payment month of deliverable bond\\\n",
    "n:Remaining interest payment times of deliverable bond after the delivery date of treasury bond futures\\\n",
    "c:Coupon of deliverable bond\\\n",
    "m:Coupon payment frequency per year"
   ]
  },
  {
   "cell_type": "code",
   "execution_count": 9,
   "id": "6ea50759",
   "metadata": {},
   "outputs": [],
   "source": [
    "def CF(x,n,c,m):\n",
    "    '''Define a function to calculate conversion factor of deliverable bond\n",
    "    the default coupon of underlying asset is 3%\n",
    "    x:The number of months from the delivery month of treasury bond futures to the next interest payment month of deliverable bond\n",
    "    n:Remaining interest payment times of deliverable bond after the delivery date of treasury bond futures\n",
    "    c:Coupon of deliverable bond\n",
    "    m:Coupon payment frequency per year'''\n",
    "    A=1/pow(1+0.03/m,x*m/12)\n",
    "    B=c/m+c/0.03+(1-c/0.03)/pow(1+0.03/m,n-1)\n",
    "    D=c*(1-x*m/12)/m\n",
    "    value=A*B-D\n",
    "    return value"
   ]
  },
  {
   "cell_type": "code",
   "execution_count": 10,
   "id": "0ccfb826",
   "metadata": {},
   "outputs": [
    {
     "name": "stdout",
     "output_type": "stream",
     "text": [
      "conversion factor of TB06 for T2012 contract is  0.9739\n"
     ]
    }
   ],
   "source": [
    "t_settle1=dt.datetime(2020,12,16)\n",
    "t_next2=dt.datetime(2021,5,21)\n",
    "\n",
    "months=12+(t_next2.month-t_settle1.month)\n",
    "N2=((t_mature-t_settle1).days//365)*m_TB06+1\n",
    "\n",
    "CF_TB06=CF(x=months,n=N2,c=C_TB06,m=m_TB06)\n",
    "print('conversion factor of TB06 for T2012 contract is ',round(CF_TB06,4))"
   ]
  },
  {
   "cell_type": "markdown",
   "id": "974e88e9",
   "metadata": {},
   "source": [
    "## 2.Accured interest"
   ]
  },
  {
   "cell_type": "markdown",
   "id": "7fcbce29",
   "metadata": {},
   "source": [
    "$$Accrued \\ interest=\\frac{coupon \\ of \\ deliverable \\ bond}{coupon \\ payment \\ frequency \\ every \\ year}\\times\n",
    "\\frac{second \\ settlement \\ date \\ of \\ future-Last \\ interest \\ payment \\ date \\ of \\ deliverable \\ bonds}\n",
    "{Actual \\ days \\ of \\ the \\ current \\ interest \\ payment \\ cycle}$$"
   ]
  },
  {
   "cell_type": "code",
   "execution_count": 11,
   "id": "7e71141a",
   "metadata": {},
   "outputs": [
    {
     "name": "stdout",
     "output_type": "stream",
     "text": [
      "accrued interest of TB06 as deliverable bond is  0.1777\n"
     ]
    }
   ],
   "source": [
    "t_settle2=dt.datetime(2020,12,15)\n",
    "bond_interest2=accrued_interest(par=bond_par,c=C_TB06,m=m_TB06,t1=t_next1,t2=t_settle2,t3=t_next1,t4=t_next2,rule='actual/actual')\n",
    "print('accrued interest of TB06 as deliverable bond is ',round(bond_interest2,4))"
   ]
  },
  {
   "cell_type": "markdown",
   "id": "09a39889",
   "metadata": {},
   "source": [
    "# 10.4.4.CTD of Treasury bond futures"
   ]
  },
  {
   "cell_type": "code",
   "execution_count": 12,
   "id": "9ef0e7ba",
   "metadata": {},
   "outputs": [],
   "source": [
    "def CTD_cost(price1,price2,CF,name):\n",
    "    '''Define a function to calculate delivery cost and find the cheapest delivery bond for settlement\n",
    "    price1:Clean price of deliverable bonds in array\n",
    "    price2:Price of Treasury bond future\n",
    "    CF:Conversion factor of deliverable bonds in array\n",
    "    name:Name of deliverable bonds in array'''\n",
    "    import pandas as pd\n",
    "    \n",
    "    cost=price1-price2*CF\n",
    "    cost=pd.DataFrame(data=cost,index=name,columns=['Delivery cost'])\n",
    "    CTD_bond=cost.idxmin()#Return the index at which the minimum value can be obtained\n",
    "    #print(CTD_bond)\n",
    "    CTD_bond=CTD_bond.rename(index={'Delivery cost':'Cheapest deliverable bond'})\n",
    "    return cost,CTD_bond"
   ]
  },
  {
   "cell_type": "code",
   "execution_count": 13,
   "id": "dcc57ae2",
   "metadata": {},
   "outputs": [
    {
     "data": {
      "text/html": [
       "<div>\n",
       "<style scoped>\n",
       "    .dataframe tbody tr th:only-of-type {\n",
       "        vertical-align: middle;\n",
       "    }\n",
       "\n",
       "    .dataframe tbody tr th {\n",
       "        vertical-align: top;\n",
       "    }\n",
       "\n",
       "    .dataframe thead th {\n",
       "        text-align: right;\n",
       "    }\n",
       "</style>\n",
       "<table border=\"1\" class=\"dataframe\">\n",
       "  <thead>\n",
       "    <tr style=\"text-align: right;\">\n",
       "      <th></th>\n",
       "      <th>Delivery cost</th>\n",
       "    </tr>\n",
       "  </thead>\n",
       "  <tbody>\n",
       "    <tr>\n",
       "      <th>TB2006</th>\n",
       "      <td>0.299572</td>\n",
       "    </tr>\n",
       "    <tr>\n",
       "      <th>TB1915</th>\n",
       "      <td>0.488128</td>\n",
       "    </tr>\n",
       "    <tr>\n",
       "      <th>TB2004</th>\n",
       "      <td>0.069710</td>\n",
       "    </tr>\n",
       "  </tbody>\n",
       "</table>\n",
       "</div>"
      ],
      "text/plain": [
       "        Delivery cost\n",
       "TB2006       0.299572\n",
       "TB1915       0.488128\n",
       "TB2004       0.069710"
      ]
     },
     "execution_count": 13,
     "metadata": {},
     "output_type": "execute_result"
    }
   ],
   "source": [
    "price_3bond=np.array([94.9870,98.6951,96.1669])\n",
    "price_T2012=97.225\n",
    "CF_3bond=np.array([0.9739,1.0101,0.9884])\n",
    "name_3bond=np.array(['TB2006','TB1915','TB2004'])\n",
    "\n",
    "result=CTD_cost(price1=price_3bond,price2=price_T2012,CF=CF_3bond,name=name_3bond)\n",
    "result[0]"
   ]
  },
  {
   "cell_type": "code",
   "execution_count": 14,
   "id": "c7463801",
   "metadata": {},
   "outputs": [
    {
     "data": {
      "text/plain": [
       "Cheapest deliverable bond    TB2004\n",
       "dtype: object"
      ]
     },
     "execution_count": 14,
     "metadata": {},
     "output_type": "execute_result"
    }
   ],
   "source": [
    "result[-1]"
   ]
  },
  {
   "cell_type": "markdown",
   "id": "eb266a28",
   "metadata": {},
   "source": [
    "# 10.4.5.Duration based hedge ratio"
   ]
  },
  {
   "cell_type": "markdown",
   "id": "a1b64f1d",
   "metadata": {},
   "source": [
    "$$\\Delta P \\approx -PD_P\\Delta y\\tag{10-18}$$\n",
    "$$\\Delta V_F \\approx -V_F D_F\\Delta y\\tag{10-19}$$\n",
    "where,\\\n",
    "P:Price of bond portfolio\\\n",
    "$D_P$:Macaulay duration of bond portfolio\\\n",
    "$D_F$:Macaulay duration of underlying asset of Treasury bond future\\\n",
    "$V_F$:Price of bond future contract per unit\\\n",
    "$\\Delta y$:Parallel shift of yield curve"
   ]
  },
  {
   "cell_type": "markdown",
   "id": "2530282c",
   "metadata": {},
   "source": [
    "Combine (10-18) and (10-19)\\\n",
    "$$N^*=\\frac{\\Delta P}{\\Delta V_F}=\\frac{PD_P}{V_F D_F}\\tag{10-20}$$"
   ]
  },
  {
   "cell_type": "code",
   "execution_count": 15,
   "id": "571ad256",
   "metadata": {},
   "outputs": [],
   "source": [
    "def N_TBF(Pf,par,value,Df,Dp):\n",
    "    '''Define a function to calculate number of future contracts for hedging\n",
    "    Pf:price of bond future\n",
    "    par:par of underlying asset of future\n",
    "    value:price of bond portfolio\n",
    "    Df:Macaulay duration of underlying asset of Treasury bond future(CTD)\n",
    "    Dp:Macaulay duration of bond portfolio'''\n",
    "    value_TBF=Pf*par/100\n",
    "    N=value*Dp/(value_TBF*Df)\n",
    "    return N"
   ]
  },
  {
   "cell_type": "code",
   "execution_count": 16,
   "id": "ec209fa8",
   "metadata": {},
   "outputs": [
    {
     "name": "stdout",
     "output_type": "stream",
     "text": [
      "Macaulay duration of CTD when future matures is  8.608\n"
     ]
    }
   ],
   "source": [
    "import utils\n",
    "\n",
    "C_TB04=0.0286\n",
    "y_TB04=0.0295\n",
    "m_TB04=2\n",
    "par_TB04=100\n",
    "\n",
    "t_T2009=dt.datetime(2020,9,11)# Maturity of future\n",
    "t1_TB04=dt.datetime(2021,1,16)# Next coupon payment date of CTD\n",
    "t2_TB04=dt.datetime(2030,7,16)# Maturity of CTD\n",
    "\n",
    "N_TB04=((t2_TB04-t_T2009).days//365+1)*m_TB04# Remaining number of payment times after future maturity\n",
    "tenor=(t1_TB04-t_T2009).days/365# The period from the hedging maturity date to the next interest payment date of CTD\n",
    "\n",
    "t_list=np.arange(N_TB04)/m_TB04+tenor# The term array between the hedging maturity date and the CTD residual cash flow payment date\n",
    "\n",
    "D_TB04=utils.Mac_Duration(C=C_TB04,M=par_TB04,m=m_TB04,y=y_TB04,t=t_list)\n",
    "print('Macaulay duration of CTD when future matures is ',round(D_TB04,4))\n"
   ]
  },
  {
   "cell_type": "code",
   "execution_count": 17,
   "id": "1bfab609",
   "metadata": {},
   "outputs": [
    {
     "name": "stdout",
     "output_type": "stream",
     "text": [
      "Number of future contracts used for hedging is  1013.33\n"
     ]
    }
   ],
   "source": [
    "par_T2009=1e6 #par of underlying asset of future \n",
    "price_T2009=99.51\n",
    "value_fund=1e9\n",
    "D_fund=8.68\n",
    "\n",
    "N_T2009=N_TBF(Pf=price_T2009,par=par_T2009,value=value_fund,Df=D_TB04,Dp=D_fund)\n",
    "print('Number of future contracts used for hedging is ',round(N_T2009,2))"
   ]
  },
  {
   "cell_type": "code",
   "execution_count": null,
   "id": "755a2ae9",
   "metadata": {},
   "outputs": [],
   "source": []
  }
 ],
 "metadata": {
  "kernelspec": {
   "display_name": "Custom (custom_python)",
   "language": "python",
   "name": "custom_python"
  },
  "language_info": {
   "codemirror_mode": {
    "name": "ipython",
    "version": 3
   },
   "file_extension": ".py",
   "mimetype": "text/x-python",
   "name": "python",
   "nbconvert_exporter": "python",
   "pygments_lexer": "ipython3",
   "version": "3.6.12"
  }
 },
 "nbformat": 4,
 "nbformat_minor": 5
}
